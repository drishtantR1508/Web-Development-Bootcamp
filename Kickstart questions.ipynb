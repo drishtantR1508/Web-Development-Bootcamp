{
 "cells": [
  {
   "cell_type": "code",
   "execution_count": 7,
   "metadata": {},
   "outputs": [],
   "source": [
    "def high_buildings():\n",
    "#     n = int(input())\n",
    "#     a = int(input())\n",
    "#     b = int(input())\n",
    "#     c = int(input())\n",
    "    n,a,b,c = input().split(\" \")\n",
    "    n = int(n)\n",
    "    a = int(a)\n",
    "    b = int(b)\n",
    "    c = int(c)\n",
    "    if n==1:\n",
    "        if a==1 and c==1 and b==1 :\n",
    "            print(\"1\")\n",
    "        else:\n",
    "            print(\"IMPOSSIBLE\")\n",
    "    elif n==2:\n",
    "        if c==2 and b==2 and a==2 :\n",
    "            print(\"1 1\")\n",
    "        elif a==2 and b==1 and c==1 :\n",
    "            print(\"1 2\")\n",
    "        elif a==1 and b==2 and c==1 :\n",
    "            print(\"2 1\")    \n",
    "        else:\n",
    "            print('IMPOSSIBLE')\n",
    "    else:\n",
    "        overshadowed_buildings = n-((a+b)-c) # this is no of buldings which cannot be seen by any of them.\n",
    "        if overshadowed_buildings < 0:\n",
    "            print(\"IMPOSSIBLE\")\n",
    "\n",
    "        if a-c >0:\n",
    "            for i in range(a-c):\n",
    "                print(\"2 \",end=\"\")\n",
    "                i+=1\n",
    "            for i in range(overshadowed_buildings):\n",
    "                print(\"1 \",end=\"\")\n",
    "                i+=1\n",
    "            for i in range(c):\n",
    "                print(\"3 \",end=\"\")\n",
    "                i+=1\n",
    "            for i in range(b-c):\n",
    "                print(\"2 \",end=\"\")\n",
    "                i+=1\n",
    "\n",
    "        elif b-c>0:\n",
    "            for i in range(a-c):\n",
    "                print(\"2 \",end=\"\")\n",
    "                i+=1\n",
    "            for i in range(c):\n",
    "                print(\"3 \",end=\"\")\n",
    "                i+=1\n",
    "            for i in range(overshadowed_buildings):\n",
    "                print(\"1 \",end=\"\")\n",
    "                i+=1\n",
    "            for i in range(b-c):\n",
    "                print(\"2 \",end=\"\")6\n",
    "                \n",
    "\n",
    "        elif c>=2:\n",
    "            print(\"3 \",end=\"\")\n",
    "            for i in range(overshadowed_buildings):\n",
    "                print(\"1 \",end=\"\")\n",
    "                i+=1\n",
    "            for i in range(c-1):\n",
    "                print(\"3 \",end=\"\")\n",
    "                i+=1\n",
    "        else:\n",
    "            print(\"IMPOSSIBLE\")"
   ]
  },
  {
   "cell_type": "code",
   "execution_count": 3,
   "metadata": {},
   "outputs": [
    {
     "name": "stdout",
     "output_type": "stream",
     "text": [
      "3\n",
      "4 1 3 1\n",
      "4 4 4 3\n",
      "5 3 3 2\n",
      "Case #1: 3 1 2 2 \n",
      "Case #2: IMPOSSIBLE\n",
      "Case #3: 2 1 3 3 2 \n"
     ]
    }
   ],
   "source": [
    "T = 1 \n",
    "testcases=[]\n",
    "T = int(input())\n",
    "for i in range (T):\n",
    "    testcases.append(input().split(\" \"))\n",
    "    \n",
    "for j in range(1,T+1):\n",
    "    n,a,b,c = testcases[j-1]\n",
    "    n = int(n)\n",
    "    a = int(a)\n",
    "    b = int(b)\n",
    "    c = int(c)\n",
    "    print(\"Case #\",end=\"\")\n",
    "    print(j,end=\"\")\n",
    "    print(\": \",end=\"\")\n",
    "    \n",
    "    if n==1:\n",
    "        if a==1 and c==1 and b==1 :\n",
    "            print(1)\n",
    "        else:\n",
    "            print(\"IMPOSSIBLE\")\n",
    "    elif n==2:\n",
    "        if c==2 and b==2 and a==2 :\n",
    "            print(1,\" \",1)\n",
    "        elif a==2 and b==1 and c==1 :\n",
    "            print(1,\" \",2)\n",
    "        elif a==1 and b==2 and c==1 :\n",
    "            print(2,\" \",1)    \n",
    "        else:\n",
    "            print('IMPOSSIBLE')\n",
    "    else:\n",
    "        overshadowed_buildings = n-((a+b)-c) \n",
    "        if overshadowed_buildings < 0:\n",
    "            print(\"IMPOSSIBLE\")\n",
    "\n",
    "        elif a-c >0:\n",
    "            for i in range(a-c):\n",
    "                print(2,end=\" \")\n",
    "                i+=1\n",
    "            for i in range(overshadowed_buildings):\n",
    "                print(1,end=\" \")\n",
    "                i+=1\n",
    "            for i in range(c):\n",
    "                print(3,end=\" \")\n",
    "                i+=1\n",
    "            for i in range(b-c):\n",
    "                print(2,end=\" \")\n",
    "                i+=1\n",
    "            print()\n",
    "\n",
    "        elif b-c>0:\n",
    "            for i in range(a-c):\n",
    "                print(2,end=\" \")\n",
    "                i+=1\n",
    "            for i in range(c):\n",
    "                print(3,end=\" \")\n",
    "                i+=1\n",
    "            for i in range(overshadowed_buildings):\n",
    "                print(1,end=\" \")\n",
    "                i+=1\n",
    "            for i in range(b-c):\n",
    "                print(2,end=\" \")\n",
    "            print()\n",
    "\n",
    "        elif c>=2:\n",
    "            print(3,end=\" \")\n",
    "            for i in range(overshadowed_buildings):\n",
    "                print(1,end=\" \")\n",
    "                i+=1\n",
    "            for i in range(c-1):\n",
    "                print(3,end=\" \")\n",
    "                i+=1\n",
    "            print()\n",
    "        else:\n",
    "            print(\"IMPOSSIBLE\")\n",
    "            "
   ]
  },
  {
   "cell_type": "code",
   "execution_count": 3,
   "metadata": {},
   "outputs": [],
   "source": [
    "r,s = [2,3]"
   ]
  },
  {
   "cell_type": "code",
   "execution_count": 4,
   "metadata": {},
   "outputs": [
    {
     "data": {
      "text/plain": [
       "2"
      ]
     },
     "execution_count": 4,
     "metadata": {},
     "output_type": "execute_result"
    }
   ],
   "source": [
    "r"
   ]
  },
  {
   "cell_type": "code",
   "execution_count": null,
   "metadata": {},
   "outputs": [],
   "source": [
    "Case #1: 4 1 3 2\n",
    "Case #2: IMPOSSIBLE\n",
    "Case #3: 2 1 5 5 3\n",
    "\n",
    "Case #1: 3 1 2 2 \n",
    "Case #2: IMPOSSIBLE\n",
    "Case #3: 2 1 3 3 2 \n"
   ]
  },
  {
   "cell_type": "code",
   "execution_count": 24,
   "metadata": {},
   "outputs": [
    {
     "name": "stdout",
     "output_type": "stream",
     "text": [
      "4\n",
      "7\n",
      "10 7 4 6 8 10 11\n",
      "4\n",
      "9 7 5 3\n",
      "9\n",
      "5 5 4 5 5 5 4 5 6\n",
      "10\n",
      "5 4 3 2 1 2 3 4 5 6\n",
      "Case #1: 4\n",
      "Case #2: 4\n",
      "Case #3: 3\n",
      "Case #4: 6\n"
     ]
    }
   ],
   "source": [
    "def solve(array):\n",
    "    diff_array = []\n",
    "    empty_list = []\n",
    "    for i in range(1,len(array)):\n",
    "        diff_array.append(array[i]-array[i-1])\n",
    "    counter = 0\n",
    "    for i in range(1,len(diff_array)):\n",
    "        if diff_array[i]==diff_array[i-1]:\n",
    "            counter +=1\n",
    "        else:\n",
    "            empty_list.append(counter)\n",
    "            counter = 0\n",
    "    empty_list.append(counter)    \n",
    "    return max(empty_list)+2\n",
    "\n",
    "if __name__ == \"__main__\":\n",
    "    arrays = []\n",
    "    t = int(input())\n",
    "    for i in range(t):\n",
    "        n = int(input())\n",
    "        arrays.append([int(i) for i in input().split(\" \")])\n",
    "    for i in range(1,len(arrays)+1):\n",
    "        print(\"Case #\",end=\"\")\n",
    "        print(i,end=\"\")\n",
    "        print(\":\",solve(arrays[i-1]))\n",
    "        "
   ]
  },
  {
   "cell_type": "code",
   "execution_count": 9,
   "metadata": {},
   "outputs": [],
   "source": [
    "ex = diff([5,5,4,5,5,5,4,5,6])"
   ]
  },
  {
   "cell_type": "code",
   "execution_count": 10,
   "metadata": {},
   "outputs": [
    {
     "data": {
      "text/plain": [
       "[0, -1, 1, 0, 0, -1, 1, 1]"
      ]
     },
     "execution_count": 10,
     "metadata": {},
     "output_type": "execute_result"
    }
   ],
   "source": [
    "ex"
   ]
  },
  {
   "cell_type": "code",
   "execution_count": 11,
   "metadata": {},
   "outputs": [],
   "source": [
    "empty_list = []\n",
    "counter = 0\n",
    "for i in range(1,len(ex)):\n",
    "    if ex[i]==ex[i-1]:\n",
    "        counter +=1\n",
    "    else:\n",
    "        empty_list.append(counter)\n",
    "        counter = 0\n",
    "empty_list.append(counter)"
   ]
  },
  {
   "cell_type": "code",
   "execution_count": 12,
   "metadata": {},
   "outputs": [
    {
     "data": {
      "text/plain": [
       "[0, 0, 0, 1, 0, 1]"
      ]
     },
     "execution_count": 12,
     "metadata": {},
     "output_type": "execute_result"
    }
   ],
   "source": [
    "empty_list"
   ]
  },
  {
   "cell_type": "code",
   "execution_count": 18,
   "metadata": {},
   "outputs": [
    {
     "data": {
      "text/plain": [
       "3"
      ]
     },
     "execution_count": 18,
     "metadata": {},
     "output_type": "execute_result"
    }
   ],
   "source": [
    "solve([5,5,4,5,5,5,4,5,6])"
   ]
  },
  {
   "cell_type": "code",
   "execution_count": 20,
   "metadata": {},
   "outputs": [
    {
     "data": {
      "text/plain": [
       "6"
      ]
     },
     "execution_count": 20,
     "metadata": {},
     "output_type": "execute_result"
    }
   ],
   "source": [
    "solve([5,4,3,2,1,2,3,4,5,6])"
   ]
  },
  {
   "cell_type": "code",
   "execution_count": 21,
   "metadata": {},
   "outputs": [
    {
     "data": {
      "text/plain": [
       "4"
      ]
     },
     "execution_count": 21,
     "metadata": {},
     "output_type": "execute_result"
    }
   ],
   "source": [
    "solve([10,7,4,6,8,10,11])"
   ]
  },
  {
   "cell_type": "code",
   "execution_count": 22,
   "metadata": {},
   "outputs": [
    {
     "data": {
      "text/plain": [
       "4"
      ]
     },
     "execution_count": 22,
     "metadata": {},
     "output_type": "execute_result"
    }
   ],
   "source": [
    "solve([9,7,5,3])"
   ]
  },
  {
   "cell_type": "code",
   "execution_count": 1,
   "metadata": {},
   "outputs": [],
   "source": [
    "def solve():\n",
    "    pass\n",
    "\n",
    "if __name__ == \"__main__\":\n",
    "    pass"
   ]
  },
  {
   "cell_type": "code",
   "execution_count": 1,
   "metadata": {},
   "outputs": [
    {
     "name": "stdout",
     "output_type": "stream",
     "text": [
      "Fer is a red car worth $60000.00.\n",
      "Jump is a blue car worth $10000.00.\n"
     ]
    }
   ],
   "source": [
    "# define the Vehicle class\n",
    "class Vehicle:\n",
    "    name = \"\"\n",
    "    kind = \"car\"\n",
    "    color = \"\"\n",
    "    value = 100.00\n",
    "    def description(self):\n",
    "        desc_str = \"%s is a %s %s worth $%.2f.\" % (self.name, self.color, self.kind, self.value)\n",
    "        return desc_str\n",
    "# your code goes here\n",
    "\n",
    "# test code\n",
    "car1=Vehicle();\n",
    "car2=Vehicle();\n",
    "car1.name=\"Fer\"\n",
    "car2.name=\"Jump\"\n",
    "car1.color=\"red\"\n",
    "car2.color=\"blue\"\n",
    "car1.value=60000.00\n",
    "car2.value=10000.00\n",
    "print(car1.description())\n",
    "print(car2.description())"
   ]
  },
  {
   "cell_type": "code",
   "execution_count": 11,
   "metadata": {},
   "outputs": [],
   "source": [
    "class Vehicle():\n",
    "    def __init__(self,name,kind,color,value): # isi ko construcyor kehte hai python me.\n",
    "        self.name = name\n",
    "        self.kind = kind\n",
    "        self.color = color\n",
    "        self.value = value\n",
    "        \n",
    "    def description(self):\n",
    "        desc_str = f\"{self.name} is a {self.color} {self.kind} worth ${self.value:.2f}\"\n",
    "        return desc_str\n",
    "    \n",
    "    \n",
    "car1 = Vehicle (name=\"Fer\",color=\"Red\",kind=\"Car\",value=60000.000)\n",
    "car2 = Vehicle (name=\"Jump\",color=\"Blue\",kind=\"car\",value=100000.000)\n",
    "\n",
    "print(car1.description())\n",
    "print(car2.description())"
   ]
  },
  {
   "cell_type": "code",
   "execution_count": 12,
   "metadata": {},
   "outputs": [],
   "source": [
    "car1 = Vehicle (name=\"Fer\",color=\"Red\",kind=\"Car\",value=60000.000)\n",
    "car2 = Vehicle (name=\"Jump\",color=\"Blue\",kind=\"car\",value=100000.000)"
   ]
  },
  {
   "cell_type": "code",
   "execution_count": 15,
   "metadata": {},
   "outputs": [
    {
     "name": "stdout",
     "output_type": "stream",
     "text": [
      "Fer is a Red Car worth $60000.00\n",
      "Jump is a Blue car worth $100000.00\n"
     ]
    }
   ],
   "source": [
    "print(car1.description())\n",
    "print(car2.description())"
   ]
  },
  {
   "cell_type": "code",
   "execution_count": 21,
   "metadata": {},
   "outputs": [
    {
     "name": "stdout",
     "output_type": "stream",
     "text": [
      "3\n",
      "AKICKSTARTPROBLEMNAMEDKICKSTART\n",
      "STARTUNLUCKYKICK\n",
      "KICKXKICKXSTARTXKICKXSTART\n",
      "Case #0: 3\n",
      "Case #1: 0\n",
      "Case #2: 5\n"
     ]
    }
   ],
   "source": [
    "# Python to solve Kick_Start Problem by drishtantR1508\n",
    "def solve(string):\n",
    "    empty_list = []\n",
    "    for i in range(len(string)-3):\n",
    "        if string[i:i+4]==\"KICK\":\n",
    "            empty_list.append(i)\n",
    "    kickstart = 0       \n",
    "    for i in empty_list:\n",
    "        kickstart += string[i:].count(\"START\")\n",
    "    return kickstart\n",
    "\n",
    "if __name__ == \"__main__\":\n",
    "    t = int(input())\n",
    "    testcases = [input() for i in range(t)]\n",
    "    for i in range(len(testcases)):\n",
    "        print(\"Case #\",end=\"\")\n",
    "        print(i,end=\"\")\n",
    "        print(\":\",solve(testcases[i]))"
   ]
  },
  {
   "cell_type": "code",
   "execution_count": 16,
   "metadata": {},
   "outputs": [],
   "source": [
    "s = \"AKICKSTARTPROBLEMNAMEDKICKSTART\"\n",
    "a = s.count(\"START\")"
   ]
  },
  {
   "cell_type": "code",
   "execution_count": 17,
   "metadata": {},
   "outputs": [
    {
     "data": {
      "text/plain": [
       "5"
      ]
     },
     "execution_count": 17,
     "metadata": {},
     "output_type": "execute_result"
    }
   ],
   "source": [
    "solve(\"KICKXKICKXSTARTXKICKXSTART\")"
   ]
  },
  {
   "cell_type": "code",
   "execution_count": 6,
   "metadata": {},
   "outputs": [
    {
     "data": {
      "text/plain": [
       "2"
      ]
     },
     "execution_count": 6,
     "metadata": {},
     "output_type": "execute_result"
    }
   ],
   "source": [
    "a"
   ]
  },
  {
   "cell_type": "code",
   "execution_count": 13,
   "metadata": {},
   "outputs": [],
   "source": [
    "def solve(string):\n",
    "    empty_list = []\n",
    "    for i in range(len(string)-3):\n",
    "        if string[i:i+4]==\"KICK\":\n",
    "            empty_list.append(i)\n",
    "#     kickstart = 0       \n",
    "#     for i in empty_list:\n",
    "#         kickstart += string[i:].count(\"START\")\n",
    "    return empty_list"
   ]
  },
  {
   "cell_type": "code",
   "execution_count": 1,
   "metadata": {},
   "outputs": [
    {
     "ename": "SyntaxError",
     "evalue": "invalid syntax (<ipython-input-1-67bf937b8d2d>, line 2)",
     "output_type": "error",
     "traceback": [
      "\u001b[0;36m  File \u001b[0;32m\"<ipython-input-1-67bf937b8d2d>\"\u001b[0;36m, line \u001b[0;32m2\u001b[0m\n\u001b[0;31m    3 1\u001b[0m\n\u001b[0m      ^\u001b[0m\n\u001b[0;31mSyntaxError\u001b[0m\u001b[0;31m:\u001b[0m invalid syntax\n"
     ]
    }
   ],
   "source": [
    "1\n",
    "3 1\n",
    "100 200 230"
   ]
  },
  {
   "cell_type": "code",
   "execution_count": 9,
   "metadata": {},
   "outputs": [
    {
     "name": "stdout",
     "output_type": "stream",
     "text": [
      "1\n",
      "3 1\n",
      "100 200 230\n",
      "Case #1: 50\n"
     ]
    }
   ],
   "source": [
    "from sys import setrecursionlimit as srl\n",
    "srl(10**5)\n",
    "\n",
    "rr = input\n",
    "rri = lambda: int(rr())\n",
    "rrm = lambda: list(map(int, rr().split()))\n",
    "\n",
    "\n",
    "def solve(N, K, A):\n",
    "    def possible(target):\n",
    "        used = 0\n",
    "        for i in range(N - 1):\n",
    "            x = A[i]\n",
    "            y = A[i+1]\n",
    "            d = y - x\n",
    "            q,r = divmod(d, target)\n",
    "            q -= 1\n",
    "            q += (r > 0)\n",
    "            q = max(q, 0)\n",
    "            used += q\n",
    "        return used <= K\n",
    "    lo = 1\n",
    "    hi = A[-1] - A[0]\n",
    "    while lo < hi:\n",
    "        mi = lo+ hi >>1\n",
    "        if possible(mi):\n",
    "            hi = mi\n",
    "        else:\n",
    "            lo = mi + 1\n",
    "    return lo\n",
    "\n",
    "\n",
    "T = rri()\n",
    "for tc in range(1, T + 1):\n",
    "    N,K = rrm()\n",
    "    A = rrm()\n",
    "    ans = solve(N, K, A)\n",
    "    print (\"Case #{}: {}\".format(tc, ans))\n"
   ]
  },
  {
   "cell_type": "code",
   "execution_count": 13,
   "metadata": {},
   "outputs": [
    {
     "name": "stdout",
     "output_type": "stream",
     "text": [
      "3\n",
      "5\n",
      "0 0 0 0 0 \n",
      "0 0 0 0 0 \n",
      "0 0 0 0 0 \n",
      "0.0025634765625\n"
     ]
    }
   ],
   "source": [
    "row=int(input())\n",
    "col=int(input())\n",
    "s_t = t.time();\n",
    "list1d=[0]*col\n",
    "list2d=[list1d]*row\n",
    "for i in range(row):\n",
    "    for j in range(col):\n",
    "        print(list2d[i][j],end=\" \")\n",
    "    print()\n",
    "e_t = t.time()\n",
    "\n",
    "print(e_t-s_t)"
   ]
  },
  {
   "cell_type": "code",
   "execution_count": 5,
   "metadata": {},
   "outputs": [],
   "source": [
    "r='s'*5"
   ]
  },
  {
   "cell_type": "code",
   "execution_count": 6,
   "metadata": {},
   "outputs": [],
   "source": [
    "s = 'sikhar'"
   ]
  },
  {
   "cell_type": "code",
   "execution_count": 14,
   "metadata": {},
   "outputs": [],
   "source": [
    "r = [s]*5"
   ]
  },
  {
   "cell_type": "code",
   "execution_count": 15,
   "metadata": {},
   "outputs": [
    {
     "data": {
      "text/plain": [
       "['sikhar', 'sikhar', 'sikhar', 'sikhar', 'sikhar']"
      ]
     },
     "execution_count": 15,
     "metadata": {},
     "output_type": "execute_result"
    }
   ],
   "source": [
    "r"
   ]
  },
  {
   "cell_type": "code",
   "execution_count": 16,
   "metadata": {},
   "outputs": [],
   "source": [
    "import time as t\n",
    "import numpy as np"
   ]
  },
  {
   "cell_type": "code",
   "execution_count": 19,
   "metadata": {},
   "outputs": [
    {
     "data": {
      "text/plain": [
       "array([ 2,  3,  4,  5,  6,  7,  8,  9, 10])"
      ]
     },
     "execution_count": 19,
     "metadata": {},
     "output_type": "execute_result"
    }
   ],
   "source": [
    "arr=np.arange(2,11)\n",
    "arr"
   ]
  },
  {
   "cell_type": "code",
   "execution_count": 21,
   "metadata": {},
   "outputs": [
    {
     "ename": "AttributeError",
     "evalue": "'numpy.ndarray' object has no attribute 'append'",
     "output_type": "error",
     "traceback": [
      "\u001b[0;31m---------------------------------------------------------------------------\u001b[0m",
      "\u001b[0;31mAttributeError\u001b[0m                            Traceback (most recent call last)",
      "\u001b[0;32m<ipython-input-21-df9337c9935d>\u001b[0m in \u001b[0;36m<module>\u001b[0;34m\u001b[0m\n\u001b[0;32m----> 1\u001b[0;31m \u001b[0marr\u001b[0m\u001b[0;34m.\u001b[0m\u001b[0mappend\u001b[0m\u001b[0;34m(\u001b[0m\u001b[0;34m[\u001b[0m\u001b[0;36m4\u001b[0m\u001b[0;34m]\u001b[0m\u001b[0;34m)\u001b[0m\u001b[0;34m\u001b[0m\u001b[0;34m\u001b[0m\u001b[0m\n\u001b[0m",
      "\u001b[0;31mAttributeError\u001b[0m: 'numpy.ndarray' object has no attribute 'append'"
     ]
    }
   ],
   "source": [
    "arr.append([4])"
   ]
  },
  {
   "cell_type": "code",
   "execution_count": 3,
   "metadata": {},
   "outputs": [
    {
     "name": "stdout",
     "output_type": "stream",
     "text": [
      "1\n",
      "5\n",
      "19 3 78 2 31\n",
      "Case #1: 352.3333333333333\n"
     ]
    }
   ],
   "source": [
    "d={}\n",
    "d[2]=[1,1]\n",
    "def fetch(n):\n",
    "    if n in d:\n",
    "        return d[n]\n",
    "    m = max(d.keys())\n",
    "    for i in range(m+1,n+1):\n",
    "        mul = 1\n",
    "        for j in range(1,i-1):\n",
    "            mul *= j\n",
    "        s = d[i-1]\n",
    "        news=[]\n",
    "        news.append(s[0]*(i-1))\n",
    "        for j in range(i-2):\n",
    "            a,b = j+1,i-1-j-1\n",
    "            news.append(s[j]*a+s[j+1]*b)\n",
    "        news.append(s[-1]*(i-1))\n",
    "        for j in range(i-1):\n",
    "            news[j]+=1\n",
    "        for j in range(1,i):\n",
    "            news[j]+=1\n",
    "            \n",
    "        d[i] = [c/(i-1) for c in news]\n",
    "    return d[n]\n",
    "\n",
    "\n",
    "T = int(input())\n",
    "for x in range(1, T + 1):\n",
    "    n = int(input())\n",
    "    nums = list(map(int,input().split()))\n",
    "    l = fetch(n)\n",
    "    y = sum([l[i]*nums[i] for i in range(len(l))])\n",
    "    print(\"Case #{}: {}\".format(x, y), flush = True)"
   ]
  },
  {
   "cell_type": "code",
   "execution_count": null,
   "metadata": {},
   "outputs": [],
   "source": []
  }
 ],
 "metadata": {
  "kernelspec": {
   "display_name": "Python 3",
   "language": "python",
   "name": "python3"
  },
  "language_info": {
   "codemirror_mode": {
    "name": "ipython",
    "version": 3
   },
   "file_extension": ".py",
   "mimetype": "text/x-python",
   "name": "python",
   "nbconvert_exporter": "python",
   "pygments_lexer": "ipython3",
   "version": "3.8.3"
  }
 },
 "nbformat": 4,
 "nbformat_minor": 4
}
