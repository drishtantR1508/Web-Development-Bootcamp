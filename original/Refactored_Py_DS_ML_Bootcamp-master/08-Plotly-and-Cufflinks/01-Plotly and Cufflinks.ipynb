{
 "cells": [
  {
   "cell_type": "markdown",
   "metadata": {},
   "source": [
    "___\n",
    "\n",
    "<a href='http://www.pieriandata.com'> <img src='../Pierian_Data_Logo.png' /></a>\n",
    "___\n",
    "# Plotly and Cufflinks"
   ]
  },
  {
   "cell_type": "markdown",
   "metadata": {},
   "source": [
    "Plotly is a library that allows you to create interactive plots that you can use in dashboards or websites (you can save them as html files or static images).\n",
    "\n",
    "## Installation\n",
    "\n",
    "In order for this all to work, you'll need to install plotly and cufflinks to call plots directly off of a pandas dataframe. These libraries are not currently available through **conda** but are available through **pip**. Install the libraries at your command line/terminal using:\n",
    "\n",
    "    pip install plotly\n",
    "    pip install cufflinks\n",
    "\n",
    "** NOTE: Make sure you only have one installation of Python on your computer when you do this, otherwise the installation may not work. **\n",
    "\n",
    "## Imports and Set-up"
   ]
  },
  {
   "cell_type": "code",
   "execution_count": 1,
   "metadata": {},
   "outputs": [],
   "source": [
    "import pandas as pd\n",
    "import numpy as np\n",
    "%matplotlib inline"
   ]
  },
  {
   "cell_type": "code",
   "execution_count": 2,
   "metadata": {},
   "outputs": [
    {
     "name": "stdout",
     "output_type": "stream",
     "text": [
      "4.9.0\n"
     ]
    }
   ],
   "source": [
    "from plotly import __version__\n",
    "from plotly.offline import download_plotlyjs, init_notebook_mode, plot, iplot\n",
    "\n",
    "print(__version__) # requires version >= 1.9.0"
   ]
  },
  {
   "cell_type": "code",
   "execution_count": 3,
   "metadata": {},
   "outputs": [],
   "source": [
    "import cufflinks as cf"
   ]
  },
  {
   "cell_type": "code",
   "execution_count": 4,
   "metadata": {},
   "outputs": [
    {
     "data": {
      "text/html": [
       "        <script type=\"text/javascript\">\n",
       "        window.PlotlyConfig = {MathJaxConfig: 'local'};\n",
       "        if (window.MathJax) {MathJax.Hub.Config({SVG: {font: \"STIX-Web\"}});}\n",
       "        if (typeof require !== 'undefined') {\n",
       "        require.undef(\"plotly\");\n",
       "        requirejs.config({\n",
       "            paths: {\n",
       "                'plotly': ['https://cdn.plot.ly/plotly-latest.min']\n",
       "            }\n",
       "        });\n",
       "        require(['plotly'], function(Plotly) {\n",
       "            window._Plotly = Plotly;\n",
       "        });\n",
       "        }\n",
       "        </script>\n",
       "        "
      ]
     },
     "metadata": {},
     "output_type": "display_data"
    }
   ],
   "source": [
    "# For Notebooks\n",
    "init_notebook_mode(connected=True)"
   ]
  },
  {
   "cell_type": "code",
   "execution_count": 5,
   "metadata": {},
   "outputs": [
    {
     "data": {
      "text/html": [
       "        <script type=\"text/javascript\">\n",
       "        window.PlotlyConfig = {MathJaxConfig: 'local'};\n",
       "        if (window.MathJax) {MathJax.Hub.Config({SVG: {font: \"STIX-Web\"}});}\n",
       "        if (typeof require !== 'undefined') {\n",
       "        require.undef(\"plotly\");\n",
       "        requirejs.config({\n",
       "            paths: {\n",
       "                'plotly': ['https://cdn.plot.ly/plotly-latest.min']\n",
       "            }\n",
       "        });\n",
       "        require(['plotly'], function(Plotly) {\n",
       "            window._Plotly = Plotly;\n",
       "        });\n",
       "        }\n",
       "        </script>\n",
       "        "
      ]
     },
     "metadata": {},
     "output_type": "display_data"
    }
   ],
   "source": [
    "# For offline use\n",
    "cf.go_offline()"
   ]
  },
  {
   "cell_type": "markdown",
   "metadata": {},
   "source": [
    "### Fake Data"
   ]
  },
  {
   "cell_type": "code",
   "execution_count": 6,
   "metadata": {},
   "outputs": [],
   "source": [
    "df = pd.DataFrame(np.random.randn(100,4),columns='A B C D'.split())"
   ]
  },
  {
   "cell_type": "code",
   "execution_count": 7,
   "metadata": {},
   "outputs": [
    {
     "data": {
      "text/html": [
       "<div>\n",
       "<style scoped>\n",
       "    .dataframe tbody tr th:only-of-type {\n",
       "        vertical-align: middle;\n",
       "    }\n",
       "\n",
       "    .dataframe tbody tr th {\n",
       "        vertical-align: top;\n",
       "    }\n",
       "\n",
       "    .dataframe thead th {\n",
       "        text-align: right;\n",
       "    }\n",
       "</style>\n",
       "<table border=\"1\" class=\"dataframe\">\n",
       "  <thead>\n",
       "    <tr style=\"text-align: right;\">\n",
       "      <th></th>\n",
       "      <th>A</th>\n",
       "      <th>B</th>\n",
       "      <th>C</th>\n",
       "      <th>D</th>\n",
       "    </tr>\n",
       "  </thead>\n",
       "  <tbody>\n",
       "    <tr>\n",
       "      <th>0</th>\n",
       "      <td>-1.373986</td>\n",
       "      <td>-0.841220</td>\n",
       "      <td>-0.887798</td>\n",
       "      <td>-0.518477</td>\n",
       "    </tr>\n",
       "    <tr>\n",
       "      <th>1</th>\n",
       "      <td>-1.962446</td>\n",
       "      <td>-1.455641</td>\n",
       "      <td>0.442697</td>\n",
       "      <td>-0.451959</td>\n",
       "    </tr>\n",
       "    <tr>\n",
       "      <th>2</th>\n",
       "      <td>0.732775</td>\n",
       "      <td>1.399510</td>\n",
       "      <td>0.803292</td>\n",
       "      <td>0.980501</td>\n",
       "    </tr>\n",
       "    <tr>\n",
       "      <th>3</th>\n",
       "      <td>-0.291957</td>\n",
       "      <td>-0.152249</td>\n",
       "      <td>-0.065506</td>\n",
       "      <td>0.325769</td>\n",
       "    </tr>\n",
       "    <tr>\n",
       "      <th>4</th>\n",
       "      <td>-0.921710</td>\n",
       "      <td>0.526829</td>\n",
       "      <td>1.977065</td>\n",
       "      <td>-0.782663</td>\n",
       "    </tr>\n",
       "  </tbody>\n",
       "</table>\n",
       "</div>"
      ],
      "text/plain": [
       "          A         B         C         D\n",
       "0 -1.373986 -0.841220 -0.887798 -0.518477\n",
       "1 -1.962446 -1.455641  0.442697 -0.451959\n",
       "2  0.732775  1.399510  0.803292  0.980501\n",
       "3 -0.291957 -0.152249 -0.065506  0.325769\n",
       "4 -0.921710  0.526829  1.977065 -0.782663"
      ]
     },
     "execution_count": 7,
     "metadata": {},
     "output_type": "execute_result"
    }
   ],
   "source": [
    "df.head()"
   ]
  },
  {
   "cell_type": "code",
   "execution_count": 8,
   "metadata": {},
   "outputs": [],
   "source": [
    "df2 = pd.DataFrame({'Category':['A','B','C'],'Values':[32,43,50]})"
   ]
  },
  {
   "cell_type": "code",
   "execution_count": 9,
   "metadata": {},
   "outputs": [
    {
     "data": {
      "text/html": [
       "<div>\n",
       "<style scoped>\n",
       "    .dataframe tbody tr th:only-of-type {\n",
       "        vertical-align: middle;\n",
       "    }\n",
       "\n",
       "    .dataframe tbody tr th {\n",
       "        vertical-align: top;\n",
       "    }\n",
       "\n",
       "    .dataframe thead th {\n",
       "        text-align: right;\n",
       "    }\n",
       "</style>\n",
       "<table border=\"1\" class=\"dataframe\">\n",
       "  <thead>\n",
       "    <tr style=\"text-align: right;\">\n",
       "      <th></th>\n",
       "      <th>Category</th>\n",
       "      <th>Values</th>\n",
       "    </tr>\n",
       "  </thead>\n",
       "  <tbody>\n",
       "    <tr>\n",
       "      <th>0</th>\n",
       "      <td>A</td>\n",
       "      <td>32</td>\n",
       "    </tr>\n",
       "    <tr>\n",
       "      <th>1</th>\n",
       "      <td>B</td>\n",
       "      <td>43</td>\n",
       "    </tr>\n",
       "    <tr>\n",
       "      <th>2</th>\n",
       "      <td>C</td>\n",
       "      <td>50</td>\n",
       "    </tr>\n",
       "  </tbody>\n",
       "</table>\n",
       "</div>"
      ],
      "text/plain": [
       "  Category  Values\n",
       "0        A      32\n",
       "1        B      43\n",
       "2        C      50"
      ]
     },
     "execution_count": 9,
     "metadata": {},
     "output_type": "execute_result"
    }
   ],
   "source": [
    "df2.head()"
   ]
  },
  {
   "cell_type": "markdown",
   "metadata": {},
   "source": [
    "## Using Cufflinks and iplot()\n",
    "\n",
    "* scatter\n",
    "* bar\n",
    "* box\n",
    "* spread\n",
    "* ratio\n",
    "* heatmap\n",
    "* surface\n",
    "* histogram\n",
    "* bubble"
   ]
  },
  {
   "cell_type": "markdown",
   "metadata": {},
   "source": [
    "## Scatter"
   ]
  },
  {
   "cell_type": "code",
   "execution_count": 10,
   "metadata": {},
   "outputs": [
    {
     "data": {
      "application/vnd.plotly.v1+json": {
       "config": {
        "linkText": "Export to plot.ly",
        "plotlyServerURL": "https://plot.ly",
        "showLink": true
       },
       "data": [
        {
         "line": {
          "color": "rgba(255, 153, 51, 1.0)",
          "dash": "solid",
          "shape": "linear",
          "width": 1.3
         },
         "marker": {
          "size": 10,
          "symbol": "circle"
         },
         "mode": "markers",
         "name": "B",
         "text": "",
         "type": "scatter",
         "x": [
          -1.3739863479333019,
          -1.9624455010940727,
          0.7327750939620981,
          -0.2919572815622404,
          -0.9217098205202516,
          0.22744759905473583,
          1.9132185334214225,
          1.0655902636822598,
          -0.38928009078930315,
          -0.3452293933838182,
          0.09091648675429946,
          1.2073065192020882,
          -0.08500961714186184,
          -0.5055073853451985,
          0.4687032216385739,
          -1.5978997254543206,
          -0.7666102457951843,
          -0.39398286841197316,
          -1.049186557582861,
          -1.067187592678143,
          0.605592400516392,
          -0.11066233012795543,
          0.39669421943886507,
          -1.0026267178735169,
          -0.8799490270845547,
          -1.2091025025157014,
          0.8592587287529497,
          -1.3059621647376631,
          -0.49409588997722176,
          -0.8561085996940954,
          -0.09542823152230753,
          0.7745566868372872,
          -2.159376269631232,
          -0.6469062031484143,
          -1.30290706575803,
          0.34943224260271455,
          -0.7477458362035658,
          1.3528696394413993,
          -2.920920040636787,
          0.9278268638296904,
          0.5605370533615859,
          -1.3140083470584134,
          1.0275187862240902,
          0.9080776763871582,
          0.6662700296464388,
          -1.2137950590227322,
          1.918957894421482,
          -0.24599141709506822,
          0.4961882856255173,
          0.4168717709122591,
          -0.3085438402018306,
          0.5019814690468661,
          0.3414158925692907,
          -0.4979364024958135,
          0.08142353874951676,
          -1.0996710000315342,
          -1.0795816556751554,
          -0.8642669920964954,
          0.10857557863564289,
          0.46506328690511073,
          0.18367046160415235,
          2.6167268929959393,
          -0.5397623850278019,
          -0.5536167576692237,
          -1.0905694819253666,
          1.0310309500377988,
          2.501625720688344,
          -1.2021524648882707,
          -0.9988665672393777,
          0.978803568142746,
          -0.4633340031417136,
          -0.8957523468579796,
          2.8338315246665746,
          -0.8113723695934447,
          -1.2091331107832572,
          0.8878928228341988,
          -1.3469269674940716,
          0.40613418886213204,
          -0.11187966305446931,
          -1.2332976335109138,
          2.03411678344503,
          1.0654290462761313,
          1.243647276758777,
          0.1807108895321057,
          1.930569055018915,
          -0.8503370519960449,
          1.4729173906717832,
          -0.2620249792221265,
          -0.6941954714857629,
          -1.2676351294769936,
          0.48680861925768976,
          -0.22478898017258253,
          0.3634076839547694,
          0.2521744014414418,
          -0.09182355768504491,
          1.1635669193642673,
          0.33191855536558423,
          1.7942750323792322,
          0.24598050825633014,
          0.31914878297218924
         ],
         "y": [
          -0.8412203013466952,
          -1.4556405330733901,
          1.3995102914205535,
          -0.15224870922471553,
          0.5268294298500653,
          -1.2197859339292123,
          0.009582361726098606,
          0.561181640424792,
          1.0022719552298092,
          0.33531467168808216,
          -0.22980153143524878,
          1.4352720103751597,
          1.0473100007601404,
          0.45551917036101197,
          1.4396428109200372,
          -0.015734081864879224,
          1.052523315873753,
          -0.8211113533264749,
          -1.4797916161039029,
          -0.34685409701304637,
          0.17358881034546442,
          0.5532261070251974,
          -1.5744136598225333,
          1.426930955211073,
          0.6798043730217787,
          -0.9160625006402426,
          -1.032071873670647,
          -0.16932617762288818,
          -1.8629859480850752,
          -0.7176167617588177,
          -1.1642798789015683,
          -0.059885894398827216,
          0.6242492276644211,
          0.13943971879552275,
          -1.0917582640346943,
          1.2454479934476843,
          -0.9313443143979103,
          0.7306909003384003,
          1.0775976473970825,
          -1.3171228686283447,
          0.9308837784936753,
          0.16790069092734883,
          0.39023771995396866,
          -1.7127984009366335,
          -0.4959185062750779,
          0.9426697666768178,
          0.9640121729554312,
          1.3675050740156776,
          -0.6243582176660069,
          -0.105685016760253,
          0.06921731388890891,
          -0.9994001128726471,
          -0.16181921175049505,
          -1.1190026364806576,
          -0.8477201696417082,
          1.4874815839507454,
          1.0284057113622087,
          -0.4640318039069314,
          -0.10749989355395759,
          0.7697046059129748,
          -1.0158229695521284,
          -0.4163946741757112,
          -1.070480661558205,
          -0.3229686699162554,
          -1.6492929812138015,
          0.08543857762430547,
          -0.034751743869310424,
          1.4158954255936758,
          -0.03652253446823537,
          0.8367134058100361,
          1.0711489335208217,
          0.9895363649227079,
          -2.047414734568283,
          -0.19083294704200793,
          -0.38027944263450175,
          -0.7342768940328229,
          -1.4305665974365096,
          2.1275466735535624,
          -1.4045247656173208,
          -0.37816621778742326,
          0.5016845111373116,
          1.3080308562604426,
          0.09978118155517453,
          -0.7266434241839196,
          -0.3793724044571526,
          0.1674729114282793,
          -0.7967869942878729,
          1.6426527830130604,
          0.47546955155749715,
          0.7939767890300558,
          0.24659542512216345,
          -2.701302367636305,
          -0.6137358895332142,
          -0.2566583648373671,
          0.12933164941888436,
          0.45365308999813764,
          0.5485780672948903,
          -1.3704874518501422,
          0.33844212720458716,
          -0.5474695980051565
         ]
        }
       ],
       "layout": {
        "legend": {
         "bgcolor": "#F5F6F9",
         "font": {
          "color": "#4D5663"
         }
        },
        "paper_bgcolor": "#F5F6F9",
        "plot_bgcolor": "#F5F6F9",
        "template": {
         "data": {
          "bar": [
           {
            "error_x": {
             "color": "#2a3f5f"
            },
            "error_y": {
             "color": "#2a3f5f"
            },
            "marker": {
             "line": {
              "color": "#E5ECF6",
              "width": 0.5
             }
            },
            "type": "bar"
           }
          ],
          "barpolar": [
           {
            "marker": {
             "line": {
              "color": "#E5ECF6",
              "width": 0.5
             }
            },
            "type": "barpolar"
           }
          ],
          "carpet": [
           {
            "aaxis": {
             "endlinecolor": "#2a3f5f",
             "gridcolor": "white",
             "linecolor": "white",
             "minorgridcolor": "white",
             "startlinecolor": "#2a3f5f"
            },
            "baxis": {
             "endlinecolor": "#2a3f5f",
             "gridcolor": "white",
             "linecolor": "white",
             "minorgridcolor": "white",
             "startlinecolor": "#2a3f5f"
            },
            "type": "carpet"
           }
          ],
          "choropleth": [
           {
            "colorbar": {
             "outlinewidth": 0,
             "ticks": ""
            },
            "type": "choropleth"
           }
          ],
          "contour": [
           {
            "colorbar": {
             "outlinewidth": 0,
             "ticks": ""
            },
            "colorscale": [
             [
              0,
              "#0d0887"
             ],
             [
              0.1111111111111111,
              "#46039f"
             ],
             [
              0.2222222222222222,
              "#7201a8"
             ],
             [
              0.3333333333333333,
              "#9c179e"
             ],
             [
              0.4444444444444444,
              "#bd3786"
             ],
             [
              0.5555555555555556,
              "#d8576b"
             ],
             [
              0.6666666666666666,
              "#ed7953"
             ],
             [
              0.7777777777777778,
              "#fb9f3a"
             ],
             [
              0.8888888888888888,
              "#fdca26"
             ],
             [
              1,
              "#f0f921"
             ]
            ],
            "type": "contour"
           }
          ],
          "contourcarpet": [
           {
            "colorbar": {
             "outlinewidth": 0,
             "ticks": ""
            },
            "type": "contourcarpet"
           }
          ],
          "heatmap": [
           {
            "colorbar": {
             "outlinewidth": 0,
             "ticks": ""
            },
            "colorscale": [
             [
              0,
              "#0d0887"
             ],
             [
              0.1111111111111111,
              "#46039f"
             ],
             [
              0.2222222222222222,
              "#7201a8"
             ],
             [
              0.3333333333333333,
              "#9c179e"
             ],
             [
              0.4444444444444444,
              "#bd3786"
             ],
             [
              0.5555555555555556,
              "#d8576b"
             ],
             [
              0.6666666666666666,
              "#ed7953"
             ],
             [
              0.7777777777777778,
              "#fb9f3a"
             ],
             [
              0.8888888888888888,
              "#fdca26"
             ],
             [
              1,
              "#f0f921"
             ]
            ],
            "type": "heatmap"
           }
          ],
          "heatmapgl": [
           {
            "colorbar": {
             "outlinewidth": 0,
             "ticks": ""
            },
            "colorscale": [
             [
              0,
              "#0d0887"
             ],
             [
              0.1111111111111111,
              "#46039f"
             ],
             [
              0.2222222222222222,
              "#7201a8"
             ],
             [
              0.3333333333333333,
              "#9c179e"
             ],
             [
              0.4444444444444444,
              "#bd3786"
             ],
             [
              0.5555555555555556,
              "#d8576b"
             ],
             [
              0.6666666666666666,
              "#ed7953"
             ],
             [
              0.7777777777777778,
              "#fb9f3a"
             ],
             [
              0.8888888888888888,
              "#fdca26"
             ],
             [
              1,
              "#f0f921"
             ]
            ],
            "type": "heatmapgl"
           }
          ],
          "histogram": [
           {
            "marker": {
             "colorbar": {
              "outlinewidth": 0,
              "ticks": ""
             }
            },
            "type": "histogram"
           }
          ],
          "histogram2d": [
           {
            "colorbar": {
             "outlinewidth": 0,
             "ticks": ""
            },
            "colorscale": [
             [
              0,
              "#0d0887"
             ],
             [
              0.1111111111111111,
              "#46039f"
             ],
             [
              0.2222222222222222,
              "#7201a8"
             ],
             [
              0.3333333333333333,
              "#9c179e"
             ],
             [
              0.4444444444444444,
              "#bd3786"
             ],
             [
              0.5555555555555556,
              "#d8576b"
             ],
             [
              0.6666666666666666,
              "#ed7953"
             ],
             [
              0.7777777777777778,
              "#fb9f3a"
             ],
             [
              0.8888888888888888,
              "#fdca26"
             ],
             [
              1,
              "#f0f921"
             ]
            ],
            "type": "histogram2d"
           }
          ],
          "histogram2dcontour": [
           {
            "colorbar": {
             "outlinewidth": 0,
             "ticks": ""
            },
            "colorscale": [
             [
              0,
              "#0d0887"
             ],
             [
              0.1111111111111111,
              "#46039f"
             ],
             [
              0.2222222222222222,
              "#7201a8"
             ],
             [
              0.3333333333333333,
              "#9c179e"
             ],
             [
              0.4444444444444444,
              "#bd3786"
             ],
             [
              0.5555555555555556,
              "#d8576b"
             ],
             [
              0.6666666666666666,
              "#ed7953"
             ],
             [
              0.7777777777777778,
              "#fb9f3a"
             ],
             [
              0.8888888888888888,
              "#fdca26"
             ],
             [
              1,
              "#f0f921"
             ]
            ],
            "type": "histogram2dcontour"
           }
          ],
          "mesh3d": [
           {
            "colorbar": {
             "outlinewidth": 0,
             "ticks": ""
            },
            "type": "mesh3d"
           }
          ],
          "parcoords": [
           {
            "line": {
             "colorbar": {
              "outlinewidth": 0,
              "ticks": ""
             }
            },
            "type": "parcoords"
           }
          ],
          "pie": [
           {
            "automargin": true,
            "type": "pie"
           }
          ],
          "scatter": [
           {
            "marker": {
             "colorbar": {
              "outlinewidth": 0,
              "ticks": ""
             }
            },
            "type": "scatter"
           }
          ],
          "scatter3d": [
           {
            "line": {
             "colorbar": {
              "outlinewidth": 0,
              "ticks": ""
             }
            },
            "marker": {
             "colorbar": {
              "outlinewidth": 0,
              "ticks": ""
             }
            },
            "type": "scatter3d"
           }
          ],
          "scattercarpet": [
           {
            "marker": {
             "colorbar": {
              "outlinewidth": 0,
              "ticks": ""
             }
            },
            "type": "scattercarpet"
           }
          ],
          "scattergeo": [
           {
            "marker": {
             "colorbar": {
              "outlinewidth": 0,
              "ticks": ""
             }
            },
            "type": "scattergeo"
           }
          ],
          "scattergl": [
           {
            "marker": {
             "colorbar": {
              "outlinewidth": 0,
              "ticks": ""
             }
            },
            "type": "scattergl"
           }
          ],
          "scattermapbox": [
           {
            "marker": {
             "colorbar": {
              "outlinewidth": 0,
              "ticks": ""
             }
            },
            "type": "scattermapbox"
           }
          ],
          "scatterpolar": [
           {
            "marker": {
             "colorbar": {
              "outlinewidth": 0,
              "ticks": ""
             }
            },
            "type": "scatterpolar"
           }
          ],
          "scatterpolargl": [
           {
            "marker": {
             "colorbar": {
              "outlinewidth": 0,
              "ticks": ""
             }
            },
            "type": "scatterpolargl"
           }
          ],
          "scatterternary": [
           {
            "marker": {
             "colorbar": {
              "outlinewidth": 0,
              "ticks": ""
             }
            },
            "type": "scatterternary"
           }
          ],
          "surface": [
           {
            "colorbar": {
             "outlinewidth": 0,
             "ticks": ""
            },
            "colorscale": [
             [
              0,
              "#0d0887"
             ],
             [
              0.1111111111111111,
              "#46039f"
             ],
             [
              0.2222222222222222,
              "#7201a8"
             ],
             [
              0.3333333333333333,
              "#9c179e"
             ],
             [
              0.4444444444444444,
              "#bd3786"
             ],
             [
              0.5555555555555556,
              "#d8576b"
             ],
             [
              0.6666666666666666,
              "#ed7953"
             ],
             [
              0.7777777777777778,
              "#fb9f3a"
             ],
             [
              0.8888888888888888,
              "#fdca26"
             ],
             [
              1,
              "#f0f921"
             ]
            ],
            "type": "surface"
           }
          ],
          "table": [
           {
            "cells": {
             "fill": {
              "color": "#EBF0F8"
             },
             "line": {
              "color": "white"
             }
            },
            "header": {
             "fill": {
              "color": "#C8D4E3"
             },
             "line": {
              "color": "white"
             }
            },
            "type": "table"
           }
          ]
         },
         "layout": {
          "annotationdefaults": {
           "arrowcolor": "#2a3f5f",
           "arrowhead": 0,
           "arrowwidth": 1
          },
          "coloraxis": {
           "colorbar": {
            "outlinewidth": 0,
            "ticks": ""
           }
          },
          "colorscale": {
           "diverging": [
            [
             0,
             "#8e0152"
            ],
            [
             0.1,
             "#c51b7d"
            ],
            [
             0.2,
             "#de77ae"
            ],
            [
             0.3,
             "#f1b6da"
            ],
            [
             0.4,
             "#fde0ef"
            ],
            [
             0.5,
             "#f7f7f7"
            ],
            [
             0.6,
             "#e6f5d0"
            ],
            [
             0.7,
             "#b8e186"
            ],
            [
             0.8,
             "#7fbc41"
            ],
            [
             0.9,
             "#4d9221"
            ],
            [
             1,
             "#276419"
            ]
           ],
           "sequential": [
            [
             0,
             "#0d0887"
            ],
            [
             0.1111111111111111,
             "#46039f"
            ],
            [
             0.2222222222222222,
             "#7201a8"
            ],
            [
             0.3333333333333333,
             "#9c179e"
            ],
            [
             0.4444444444444444,
             "#bd3786"
            ],
            [
             0.5555555555555556,
             "#d8576b"
            ],
            [
             0.6666666666666666,
             "#ed7953"
            ],
            [
             0.7777777777777778,
             "#fb9f3a"
            ],
            [
             0.8888888888888888,
             "#fdca26"
            ],
            [
             1,
             "#f0f921"
            ]
           ],
           "sequentialminus": [
            [
             0,
             "#0d0887"
            ],
            [
             0.1111111111111111,
             "#46039f"
            ],
            [
             0.2222222222222222,
             "#7201a8"
            ],
            [
             0.3333333333333333,
             "#9c179e"
            ],
            [
             0.4444444444444444,
             "#bd3786"
            ],
            [
             0.5555555555555556,
             "#d8576b"
            ],
            [
             0.6666666666666666,
             "#ed7953"
            ],
            [
             0.7777777777777778,
             "#fb9f3a"
            ],
            [
             0.8888888888888888,
             "#fdca26"
            ],
            [
             1,
             "#f0f921"
            ]
           ]
          },
          "colorway": [
           "#636efa",
           "#EF553B",
           "#00cc96",
           "#ab63fa",
           "#FFA15A",
           "#19d3f3",
           "#FF6692",
           "#B6E880",
           "#FF97FF",
           "#FECB52"
          ],
          "font": {
           "color": "#2a3f5f"
          },
          "geo": {
           "bgcolor": "white",
           "lakecolor": "white",
           "landcolor": "#E5ECF6",
           "showlakes": true,
           "showland": true,
           "subunitcolor": "white"
          },
          "hoverlabel": {
           "align": "left"
          },
          "hovermode": "closest",
          "mapbox": {
           "style": "light"
          },
          "paper_bgcolor": "white",
          "plot_bgcolor": "#E5ECF6",
          "polar": {
           "angularaxis": {
            "gridcolor": "white",
            "linecolor": "white",
            "ticks": ""
           },
           "bgcolor": "#E5ECF6",
           "radialaxis": {
            "gridcolor": "white",
            "linecolor": "white",
            "ticks": ""
           }
          },
          "scene": {
           "xaxis": {
            "backgroundcolor": "#E5ECF6",
            "gridcolor": "white",
            "gridwidth": 2,
            "linecolor": "white",
            "showbackground": true,
            "ticks": "",
            "zerolinecolor": "white"
           },
           "yaxis": {
            "backgroundcolor": "#E5ECF6",
            "gridcolor": "white",
            "gridwidth": 2,
            "linecolor": "white",
            "showbackground": true,
            "ticks": "",
            "zerolinecolor": "white"
           },
           "zaxis": {
            "backgroundcolor": "#E5ECF6",
            "gridcolor": "white",
            "gridwidth": 2,
            "linecolor": "white",
            "showbackground": true,
            "ticks": "",
            "zerolinecolor": "white"
           }
          },
          "shapedefaults": {
           "line": {
            "color": "#2a3f5f"
           }
          },
          "ternary": {
           "aaxis": {
            "gridcolor": "white",
            "linecolor": "white",
            "ticks": ""
           },
           "baxis": {
            "gridcolor": "white",
            "linecolor": "white",
            "ticks": ""
           },
           "bgcolor": "#E5ECF6",
           "caxis": {
            "gridcolor": "white",
            "linecolor": "white",
            "ticks": ""
           }
          },
          "title": {
           "x": 0.05
          },
          "xaxis": {
           "automargin": true,
           "gridcolor": "white",
           "linecolor": "white",
           "ticks": "",
           "title": {
            "standoff": 15
           },
           "zerolinecolor": "white",
           "zerolinewidth": 2
          },
          "yaxis": {
           "automargin": true,
           "gridcolor": "white",
           "linecolor": "white",
           "ticks": "",
           "title": {
            "standoff": 15
           },
           "zerolinecolor": "white",
           "zerolinewidth": 2
          }
         }
        },
        "title": {
         "font": {
          "color": "#4D5663"
         }
        },
        "xaxis": {
         "gridcolor": "#E1E5ED",
         "showgrid": true,
         "tickfont": {
          "color": "#4D5663"
         },
         "title": {
          "font": {
           "color": "#4D5663"
          },
          "text": ""
         },
         "zerolinecolor": "#E1E5ED"
        },
        "yaxis": {
         "gridcolor": "#E1E5ED",
         "showgrid": true,
         "tickfont": {
          "color": "#4D5663"
         },
         "title": {
          "font": {
           "color": "#4D5663"
          },
          "text": ""
         },
         "zerolinecolor": "#E1E5ED"
        }
       }
      },
      "text/html": [
       "<div>\n",
       "        \n",
       "        \n",
       "            <div id=\"ce75a0b1-dc02-4f3d-9c0c-5134eafed655\" class=\"plotly-graph-div\" style=\"height:525px; width:100%;\"></div>\n",
       "            <script type=\"text/javascript\">\n",
       "                require([\"plotly\"], function(Plotly) {\n",
       "                    window.PLOTLYENV=window.PLOTLYENV || {};\n",
       "                    window.PLOTLYENV.BASE_URL='https://plot.ly';\n",
       "                    \n",
       "                if (document.getElementById(\"ce75a0b1-dc02-4f3d-9c0c-5134eafed655\")) {\n",
       "                    Plotly.newPlot(\n",
       "                        'ce75a0b1-dc02-4f3d-9c0c-5134eafed655',\n",
       "                        [{\"line\": {\"color\": \"rgba(255, 153, 51, 1.0)\", \"dash\": \"solid\", \"shape\": \"linear\", \"width\": 1.3}, \"marker\": {\"size\": 10, \"symbol\": \"circle\"}, \"mode\": \"markers\", \"name\": \"B\", \"text\": \"\", \"type\": \"scatter\", \"x\": [-1.3739863479333019, -1.9624455010940727, 0.7327750939620981, -0.2919572815622404, -0.9217098205202516, 0.22744759905473583, 1.9132185334214225, 1.0655902636822598, -0.38928009078930315, -0.3452293933838182, 0.09091648675429946, 1.2073065192020882, -0.08500961714186184, -0.5055073853451985, 0.4687032216385739, -1.5978997254543206, -0.7666102457951843, -0.39398286841197316, -1.049186557582861, -1.067187592678143, 0.605592400516392, -0.11066233012795543, 0.39669421943886507, -1.0026267178735169, -0.8799490270845547, -1.2091025025157014, 0.8592587287529497, -1.3059621647376631, -0.49409588997722176, -0.8561085996940954, -0.09542823152230753, 0.7745566868372872, -2.159376269631232, -0.6469062031484143, -1.30290706575803, 0.34943224260271455, -0.7477458362035658, 1.3528696394413993, -2.920920040636787, 0.9278268638296904, 0.5605370533615859, -1.3140083470584134, 1.0275187862240902, 0.9080776763871582, 0.6662700296464388, -1.2137950590227322, 1.918957894421482, -0.24599141709506822, 0.4961882856255173, 0.4168717709122591, -0.3085438402018306, 0.5019814690468661, 0.3414158925692907, -0.4979364024958135, 0.08142353874951676, -1.0996710000315342, -1.0795816556751554, -0.8642669920964954, 0.10857557863564289, 0.46506328690511073, 0.18367046160415235, 2.6167268929959393, -0.5397623850278019, -0.5536167576692237, -1.0905694819253666, 1.0310309500377988, 2.501625720688344, -1.2021524648882707, -0.9988665672393777, 0.978803568142746, -0.4633340031417136, -0.8957523468579796, 2.8338315246665746, -0.8113723695934447, -1.2091331107832572, 0.8878928228341988, -1.3469269674940716, 0.40613418886213204, -0.11187966305446931, -1.2332976335109138, 2.03411678344503, 1.0654290462761313, 1.243647276758777, 0.1807108895321057, 1.930569055018915, -0.8503370519960449, 1.4729173906717832, -0.2620249792221265, -0.6941954714857629, -1.2676351294769936, 0.48680861925768976, -0.22478898017258253, 0.3634076839547694, 0.2521744014414418, -0.09182355768504491, 1.1635669193642673, 0.33191855536558423, 1.7942750323792322, 0.24598050825633014, 0.31914878297218924], \"y\": [-0.8412203013466952, -1.4556405330733901, 1.3995102914205535, -0.15224870922471553, 0.5268294298500653, -1.2197859339292123, 0.009582361726098606, 0.561181640424792, 1.0022719552298092, 0.33531467168808216, -0.22980153143524878, 1.4352720103751597, 1.0473100007601404, 0.45551917036101197, 1.4396428109200372, -0.015734081864879224, 1.052523315873753, -0.8211113533264749, -1.4797916161039029, -0.34685409701304637, 0.17358881034546442, 0.5532261070251974, -1.5744136598225333, 1.426930955211073, 0.6798043730217787, -0.9160625006402426, -1.032071873670647, -0.16932617762288818, -1.8629859480850752, -0.7176167617588177, -1.1642798789015683, -0.059885894398827216, 0.6242492276644211, 0.13943971879552275, -1.0917582640346943, 1.2454479934476843, -0.9313443143979103, 0.7306909003384003, 1.0775976473970825, -1.3171228686283447, 0.9308837784936753, 0.16790069092734883, 0.39023771995396866, -1.7127984009366335, -0.4959185062750779, 0.9426697666768178, 0.9640121729554312, 1.3675050740156776, -0.6243582176660069, -0.105685016760253, 0.06921731388890891, -0.9994001128726471, -0.16181921175049505, -1.1190026364806576, -0.8477201696417082, 1.4874815839507454, 1.0284057113622087, -0.4640318039069314, -0.10749989355395759, 0.7697046059129748, -1.0158229695521284, -0.4163946741757112, -1.070480661558205, -0.3229686699162554, -1.6492929812138015, 0.08543857762430547, -0.034751743869310424, 1.4158954255936758, -0.03652253446823537, 0.8367134058100361, 1.0711489335208217, 0.9895363649227079, -2.047414734568283, -0.19083294704200793, -0.38027944263450175, -0.7342768940328229, -1.4305665974365096, 2.1275466735535624, -1.4045247656173208, -0.37816621778742326, 0.5016845111373116, 1.3080308562604426, 0.09978118155517453, -0.7266434241839196, -0.3793724044571526, 0.1674729114282793, -0.7967869942878729, 1.6426527830130604, 0.47546955155749715, 0.7939767890300558, 0.24659542512216345, -2.701302367636305, -0.6137358895332142, -0.2566583648373671, 0.12933164941888436, 0.45365308999813764, 0.5485780672948903, -1.3704874518501422, 0.33844212720458716, -0.5474695980051565]}],\n",
       "                        {\"legend\": {\"bgcolor\": \"#F5F6F9\", \"font\": {\"color\": \"#4D5663\"}}, \"paper_bgcolor\": \"#F5F6F9\", \"plot_bgcolor\": \"#F5F6F9\", \"template\": {\"data\": {\"bar\": [{\"error_x\": {\"color\": \"#2a3f5f\"}, \"error_y\": {\"color\": \"#2a3f5f\"}, \"marker\": {\"line\": {\"color\": \"#E5ECF6\", \"width\": 0.5}}, \"type\": \"bar\"}], \"barpolar\": [{\"marker\": {\"line\": {\"color\": \"#E5ECF6\", \"width\": 0.5}}, \"type\": \"barpolar\"}], \"carpet\": [{\"aaxis\": {\"endlinecolor\": \"#2a3f5f\", \"gridcolor\": \"white\", \"linecolor\": \"white\", \"minorgridcolor\": \"white\", \"startlinecolor\": \"#2a3f5f\"}, \"baxis\": {\"endlinecolor\": \"#2a3f5f\", \"gridcolor\": \"white\", \"linecolor\": \"white\", \"minorgridcolor\": \"white\", \"startlinecolor\": \"#2a3f5f\"}, \"type\": \"carpet\"}], \"choropleth\": [{\"colorbar\": {\"outlinewidth\": 0, \"ticks\": \"\"}, \"type\": \"choropleth\"}], \"contour\": [{\"colorbar\": {\"outlinewidth\": 0, \"ticks\": \"\"}, \"colorscale\": [[0.0, \"#0d0887\"], [0.1111111111111111, \"#46039f\"], [0.2222222222222222, \"#7201a8\"], [0.3333333333333333, \"#9c179e\"], [0.4444444444444444, \"#bd3786\"], [0.5555555555555556, \"#d8576b\"], [0.6666666666666666, \"#ed7953\"], [0.7777777777777778, \"#fb9f3a\"], [0.8888888888888888, \"#fdca26\"], [1.0, \"#f0f921\"]], \"type\": \"contour\"}], \"contourcarpet\": [{\"colorbar\": {\"outlinewidth\": 0, \"ticks\": \"\"}, \"type\": \"contourcarpet\"}], \"heatmap\": [{\"colorbar\": {\"outlinewidth\": 0, \"ticks\": \"\"}, \"colorscale\": [[0.0, \"#0d0887\"], [0.1111111111111111, \"#46039f\"], [0.2222222222222222, \"#7201a8\"], [0.3333333333333333, \"#9c179e\"], [0.4444444444444444, \"#bd3786\"], [0.5555555555555556, \"#d8576b\"], [0.6666666666666666, \"#ed7953\"], [0.7777777777777778, \"#fb9f3a\"], [0.8888888888888888, \"#fdca26\"], [1.0, \"#f0f921\"]], \"type\": \"heatmap\"}], \"heatmapgl\": [{\"colorbar\": {\"outlinewidth\": 0, \"ticks\": \"\"}, \"colorscale\": [[0.0, \"#0d0887\"], [0.1111111111111111, \"#46039f\"], [0.2222222222222222, \"#7201a8\"], [0.3333333333333333, \"#9c179e\"], [0.4444444444444444, \"#bd3786\"], [0.5555555555555556, \"#d8576b\"], [0.6666666666666666, \"#ed7953\"], [0.7777777777777778, \"#fb9f3a\"], [0.8888888888888888, \"#fdca26\"], [1.0, \"#f0f921\"]], \"type\": \"heatmapgl\"}], \"histogram\": [{\"marker\": {\"colorbar\": {\"outlinewidth\": 0, \"ticks\": \"\"}}, \"type\": \"histogram\"}], \"histogram2d\": [{\"colorbar\": {\"outlinewidth\": 0, \"ticks\": \"\"}, \"colorscale\": [[0.0, \"#0d0887\"], [0.1111111111111111, \"#46039f\"], [0.2222222222222222, \"#7201a8\"], [0.3333333333333333, \"#9c179e\"], [0.4444444444444444, \"#bd3786\"], [0.5555555555555556, \"#d8576b\"], [0.6666666666666666, \"#ed7953\"], [0.7777777777777778, \"#fb9f3a\"], [0.8888888888888888, \"#fdca26\"], [1.0, \"#f0f921\"]], \"type\": \"histogram2d\"}], \"histogram2dcontour\": [{\"colorbar\": {\"outlinewidth\": 0, \"ticks\": \"\"}, \"colorscale\": [[0.0, \"#0d0887\"], [0.1111111111111111, \"#46039f\"], [0.2222222222222222, \"#7201a8\"], [0.3333333333333333, \"#9c179e\"], [0.4444444444444444, \"#bd3786\"], [0.5555555555555556, \"#d8576b\"], [0.6666666666666666, \"#ed7953\"], [0.7777777777777778, \"#fb9f3a\"], [0.8888888888888888, \"#fdca26\"], [1.0, \"#f0f921\"]], \"type\": \"histogram2dcontour\"}], \"mesh3d\": [{\"colorbar\": {\"outlinewidth\": 0, \"ticks\": \"\"}, \"type\": \"mesh3d\"}], \"parcoords\": [{\"line\": {\"colorbar\": {\"outlinewidth\": 0, \"ticks\": \"\"}}, \"type\": \"parcoords\"}], \"pie\": [{\"automargin\": true, \"type\": \"pie\"}], \"scatter\": [{\"marker\": {\"colorbar\": {\"outlinewidth\": 0, \"ticks\": \"\"}}, \"type\": \"scatter\"}], \"scatter3d\": [{\"line\": {\"colorbar\": {\"outlinewidth\": 0, \"ticks\": \"\"}}, \"marker\": {\"colorbar\": {\"outlinewidth\": 0, \"ticks\": \"\"}}, \"type\": \"scatter3d\"}], \"scattercarpet\": [{\"marker\": {\"colorbar\": {\"outlinewidth\": 0, \"ticks\": \"\"}}, \"type\": \"scattercarpet\"}], \"scattergeo\": [{\"marker\": {\"colorbar\": {\"outlinewidth\": 0, \"ticks\": \"\"}}, \"type\": \"scattergeo\"}], \"scattergl\": [{\"marker\": {\"colorbar\": {\"outlinewidth\": 0, \"ticks\": \"\"}}, \"type\": \"scattergl\"}], \"scattermapbox\": [{\"marker\": {\"colorbar\": {\"outlinewidth\": 0, \"ticks\": \"\"}}, \"type\": \"scattermapbox\"}], \"scatterpolar\": [{\"marker\": {\"colorbar\": {\"outlinewidth\": 0, \"ticks\": \"\"}}, \"type\": \"scatterpolar\"}], \"scatterpolargl\": [{\"marker\": {\"colorbar\": {\"outlinewidth\": 0, \"ticks\": \"\"}}, \"type\": \"scatterpolargl\"}], \"scatterternary\": [{\"marker\": {\"colorbar\": {\"outlinewidth\": 0, \"ticks\": \"\"}}, \"type\": \"scatterternary\"}], \"surface\": [{\"colorbar\": {\"outlinewidth\": 0, \"ticks\": \"\"}, \"colorscale\": [[0.0, \"#0d0887\"], [0.1111111111111111, \"#46039f\"], [0.2222222222222222, \"#7201a8\"], [0.3333333333333333, \"#9c179e\"], [0.4444444444444444, \"#bd3786\"], [0.5555555555555556, \"#d8576b\"], [0.6666666666666666, \"#ed7953\"], [0.7777777777777778, \"#fb9f3a\"], [0.8888888888888888, \"#fdca26\"], [1.0, \"#f0f921\"]], \"type\": \"surface\"}], \"table\": [{\"cells\": {\"fill\": {\"color\": \"#EBF0F8\"}, \"line\": {\"color\": \"white\"}}, \"header\": {\"fill\": {\"color\": \"#C8D4E3\"}, \"line\": {\"color\": \"white\"}}, \"type\": \"table\"}]}, \"layout\": {\"annotationdefaults\": {\"arrowcolor\": \"#2a3f5f\", \"arrowhead\": 0, \"arrowwidth\": 1}, \"coloraxis\": {\"colorbar\": {\"outlinewidth\": 0, \"ticks\": \"\"}}, \"colorscale\": {\"diverging\": [[0, \"#8e0152\"], [0.1, \"#c51b7d\"], [0.2, \"#de77ae\"], [0.3, \"#f1b6da\"], [0.4, \"#fde0ef\"], [0.5, \"#f7f7f7\"], [0.6, \"#e6f5d0\"], [0.7, \"#b8e186\"], [0.8, \"#7fbc41\"], [0.9, \"#4d9221\"], [1, \"#276419\"]], \"sequential\": [[0.0, \"#0d0887\"], [0.1111111111111111, \"#46039f\"], [0.2222222222222222, \"#7201a8\"], [0.3333333333333333, \"#9c179e\"], [0.4444444444444444, \"#bd3786\"], [0.5555555555555556, \"#d8576b\"], [0.6666666666666666, \"#ed7953\"], [0.7777777777777778, \"#fb9f3a\"], [0.8888888888888888, \"#fdca26\"], [1.0, \"#f0f921\"]], \"sequentialminus\": [[0.0, \"#0d0887\"], [0.1111111111111111, \"#46039f\"], [0.2222222222222222, \"#7201a8\"], [0.3333333333333333, \"#9c179e\"], [0.4444444444444444, \"#bd3786\"], [0.5555555555555556, \"#d8576b\"], [0.6666666666666666, \"#ed7953\"], [0.7777777777777778, \"#fb9f3a\"], [0.8888888888888888, \"#fdca26\"], [1.0, \"#f0f921\"]]}, \"colorway\": [\"#636efa\", \"#EF553B\", \"#00cc96\", \"#ab63fa\", \"#FFA15A\", \"#19d3f3\", \"#FF6692\", \"#B6E880\", \"#FF97FF\", \"#FECB52\"], \"font\": {\"color\": \"#2a3f5f\"}, \"geo\": {\"bgcolor\": \"white\", \"lakecolor\": \"white\", \"landcolor\": \"#E5ECF6\", \"showlakes\": true, \"showland\": true, \"subunitcolor\": \"white\"}, \"hoverlabel\": {\"align\": \"left\"}, \"hovermode\": \"closest\", \"mapbox\": {\"style\": \"light\"}, \"paper_bgcolor\": \"white\", \"plot_bgcolor\": \"#E5ECF6\", \"polar\": {\"angularaxis\": {\"gridcolor\": \"white\", \"linecolor\": \"white\", \"ticks\": \"\"}, \"bgcolor\": \"#E5ECF6\", \"radialaxis\": {\"gridcolor\": \"white\", \"linecolor\": \"white\", \"ticks\": \"\"}}, \"scene\": {\"xaxis\": {\"backgroundcolor\": \"#E5ECF6\", \"gridcolor\": \"white\", \"gridwidth\": 2, \"linecolor\": \"white\", \"showbackground\": true, \"ticks\": \"\", \"zerolinecolor\": \"white\"}, \"yaxis\": {\"backgroundcolor\": \"#E5ECF6\", \"gridcolor\": \"white\", \"gridwidth\": 2, \"linecolor\": \"white\", \"showbackground\": true, \"ticks\": \"\", \"zerolinecolor\": \"white\"}, \"zaxis\": {\"backgroundcolor\": \"#E5ECF6\", \"gridcolor\": \"white\", \"gridwidth\": 2, \"linecolor\": \"white\", \"showbackground\": true, \"ticks\": \"\", \"zerolinecolor\": \"white\"}}, \"shapedefaults\": {\"line\": {\"color\": \"#2a3f5f\"}}, \"ternary\": {\"aaxis\": {\"gridcolor\": \"white\", \"linecolor\": \"white\", \"ticks\": \"\"}, \"baxis\": {\"gridcolor\": \"white\", \"linecolor\": \"white\", \"ticks\": \"\"}, \"bgcolor\": \"#E5ECF6\", \"caxis\": {\"gridcolor\": \"white\", \"linecolor\": \"white\", \"ticks\": \"\"}}, \"title\": {\"x\": 0.05}, \"xaxis\": {\"automargin\": true, \"gridcolor\": \"white\", \"linecolor\": \"white\", \"ticks\": \"\", \"title\": {\"standoff\": 15}, \"zerolinecolor\": \"white\", \"zerolinewidth\": 2}, \"yaxis\": {\"automargin\": true, \"gridcolor\": \"white\", \"linecolor\": \"white\", \"ticks\": \"\", \"title\": {\"standoff\": 15}, \"zerolinecolor\": \"white\", \"zerolinewidth\": 2}}}, \"title\": {\"font\": {\"color\": \"#4D5663\"}}, \"xaxis\": {\"gridcolor\": \"#E1E5ED\", \"showgrid\": true, \"tickfont\": {\"color\": \"#4D5663\"}, \"title\": {\"font\": {\"color\": \"#4D5663\"}, \"text\": \"\"}, \"zerolinecolor\": \"#E1E5ED\"}, \"yaxis\": {\"gridcolor\": \"#E1E5ED\", \"showgrid\": true, \"tickfont\": {\"color\": \"#4D5663\"}, \"title\": {\"font\": {\"color\": \"#4D5663\"}, \"text\": \"\"}, \"zerolinecolor\": \"#E1E5ED\"}},\n",
       "                        {\"showLink\": true, \"linkText\": \"Export to plot.ly\", \"plotlyServerURL\": \"https://plot.ly\", \"responsive\": true}\n",
       "                    ).then(function(){\n",
       "                            \n",
       "var gd = document.getElementById('ce75a0b1-dc02-4f3d-9c0c-5134eafed655');\n",
       "var x = new MutationObserver(function (mutations, observer) {{\n",
       "        var display = window.getComputedStyle(gd).display;\n",
       "        if (!display || display === 'none') {{\n",
       "            console.log([gd, 'removed!']);\n",
       "            Plotly.purge(gd);\n",
       "            observer.disconnect();\n",
       "        }}\n",
       "}});\n",
       "\n",
       "// Listen for the removal of the full notebook cells\n",
       "var notebookContainer = gd.closest('#notebook-container');\n",
       "if (notebookContainer) {{\n",
       "    x.observe(notebookContainer, {childList: true});\n",
       "}}\n",
       "\n",
       "// Listen for the clearing of the current output cell\n",
       "var outputEl = gd.closest('.output');\n",
       "if (outputEl) {{\n",
       "    x.observe(outputEl, {childList: true});\n",
       "}}\n",
       "\n",
       "                        })\n",
       "                };\n",
       "                });\n",
       "            </script>\n",
       "        </div>"
      ]
     },
     "metadata": {},
     "output_type": "display_data"
    }
   ],
   "source": [
    "df.iplot(kind='scatter',x='A',y='B',mode='markers',size=10)"
   ]
  },
  {
   "cell_type": "markdown",
   "metadata": {},
   "source": [
    "## Bar Plots"
   ]
  },
  {
   "cell_type": "code",
   "execution_count": 11,
   "metadata": {},
   "outputs": [
    {
     "data": {
      "application/vnd.plotly.v1+json": {
       "config": {
        "linkText": "Export to plot.ly",
        "plotlyServerURL": "https://plot.ly",
        "showLink": true
       },
       "data": [
        {
         "marker": {
          "color": "rgba(255, 153, 51, 0.6)",
          "line": {
           "color": "rgba(255, 153, 51, 1.0)",
           "width": 1
          }
         },
         "name": "Values",
         "orientation": "v",
         "text": "",
         "type": "bar",
         "x": [
          "A",
          "B",
          "C"
         ],
         "y": [
          32,
          43,
          50
         ]
        }
       ],
       "layout": {
        "legend": {
         "bgcolor": "#F5F6F9",
         "font": {
          "color": "#4D5663"
         }
        },
        "paper_bgcolor": "#F5F6F9",
        "plot_bgcolor": "#F5F6F9",
        "template": {
         "data": {
          "bar": [
           {
            "error_x": {
             "color": "#2a3f5f"
            },
            "error_y": {
             "color": "#2a3f5f"
            },
            "marker": {
             "line": {
              "color": "#E5ECF6",
              "width": 0.5
             }
            },
            "type": "bar"
           }
          ],
          "barpolar": [
           {
            "marker": {
             "line": {
              "color": "#E5ECF6",
              "width": 0.5
             }
            },
            "type": "barpolar"
           }
          ],
          "carpet": [
           {
            "aaxis": {
             "endlinecolor": "#2a3f5f",
             "gridcolor": "white",
             "linecolor": "white",
             "minorgridcolor": "white",
             "startlinecolor": "#2a3f5f"
            },
            "baxis": {
             "endlinecolor": "#2a3f5f",
             "gridcolor": "white",
             "linecolor": "white",
             "minorgridcolor": "white",
             "startlinecolor": "#2a3f5f"
            },
            "type": "carpet"
           }
          ],
          "choropleth": [
           {
            "colorbar": {
             "outlinewidth": 0,
             "ticks": ""
            },
            "type": "choropleth"
           }
          ],
          "contour": [
           {
            "colorbar": {
             "outlinewidth": 0,
             "ticks": ""
            },
            "colorscale": [
             [
              0,
              "#0d0887"
             ],
             [
              0.1111111111111111,
              "#46039f"
             ],
             [
              0.2222222222222222,
              "#7201a8"
             ],
             [
              0.3333333333333333,
              "#9c179e"
             ],
             [
              0.4444444444444444,
              "#bd3786"
             ],
             [
              0.5555555555555556,
              "#d8576b"
             ],
             [
              0.6666666666666666,
              "#ed7953"
             ],
             [
              0.7777777777777778,
              "#fb9f3a"
             ],
             [
              0.8888888888888888,
              "#fdca26"
             ],
             [
              1,
              "#f0f921"
             ]
            ],
            "type": "contour"
           }
          ],
          "contourcarpet": [
           {
            "colorbar": {
             "outlinewidth": 0,
             "ticks": ""
            },
            "type": "contourcarpet"
           }
          ],
          "heatmap": [
           {
            "colorbar": {
             "outlinewidth": 0,
             "ticks": ""
            },
            "colorscale": [
             [
              0,
              "#0d0887"
             ],
             [
              0.1111111111111111,
              "#46039f"
             ],
             [
              0.2222222222222222,
              "#7201a8"
             ],
             [
              0.3333333333333333,
              "#9c179e"
             ],
             [
              0.4444444444444444,
              "#bd3786"
             ],
             [
              0.5555555555555556,
              "#d8576b"
             ],
             [
              0.6666666666666666,
              "#ed7953"
             ],
             [
              0.7777777777777778,
              "#fb9f3a"
             ],
             [
              0.8888888888888888,
              "#fdca26"
             ],
             [
              1,
              "#f0f921"
             ]
            ],
            "type": "heatmap"
           }
          ],
          "heatmapgl": [
           {
            "colorbar": {
             "outlinewidth": 0,
             "ticks": ""
            },
            "colorscale": [
             [
              0,
              "#0d0887"
             ],
             [
              0.1111111111111111,
              "#46039f"
             ],
             [
              0.2222222222222222,
              "#7201a8"
             ],
             [
              0.3333333333333333,
              "#9c179e"
             ],
             [
              0.4444444444444444,
              "#bd3786"
             ],
             [
              0.5555555555555556,
              "#d8576b"
             ],
             [
              0.6666666666666666,
              "#ed7953"
             ],
             [
              0.7777777777777778,
              "#fb9f3a"
             ],
             [
              0.8888888888888888,
              "#fdca26"
             ],
             [
              1,
              "#f0f921"
             ]
            ],
            "type": "heatmapgl"
           }
          ],
          "histogram": [
           {
            "marker": {
             "colorbar": {
              "outlinewidth": 0,
              "ticks": ""
             }
            },
            "type": "histogram"
           }
          ],
          "histogram2d": [
           {
            "colorbar": {
             "outlinewidth": 0,
             "ticks": ""
            },
            "colorscale": [
             [
              0,
              "#0d0887"
             ],
             [
              0.1111111111111111,
              "#46039f"
             ],
             [
              0.2222222222222222,
              "#7201a8"
             ],
             [
              0.3333333333333333,
              "#9c179e"
             ],
             [
              0.4444444444444444,
              "#bd3786"
             ],
             [
              0.5555555555555556,
              "#d8576b"
             ],
             [
              0.6666666666666666,
              "#ed7953"
             ],
             [
              0.7777777777777778,
              "#fb9f3a"
             ],
             [
              0.8888888888888888,
              "#fdca26"
             ],
             [
              1,
              "#f0f921"
             ]
            ],
            "type": "histogram2d"
           }
          ],
          "histogram2dcontour": [
           {
            "colorbar": {
             "outlinewidth": 0,
             "ticks": ""
            },
            "colorscale": [
             [
              0,
              "#0d0887"
             ],
             [
              0.1111111111111111,
              "#46039f"
             ],
             [
              0.2222222222222222,
              "#7201a8"
             ],
             [
              0.3333333333333333,
              "#9c179e"
             ],
             [
              0.4444444444444444,
              "#bd3786"
             ],
             [
              0.5555555555555556,
              "#d8576b"
             ],
             [
              0.6666666666666666,
              "#ed7953"
             ],
             [
              0.7777777777777778,
              "#fb9f3a"
             ],
             [
              0.8888888888888888,
              "#fdca26"
             ],
             [
              1,
              "#f0f921"
             ]
            ],
            "type": "histogram2dcontour"
           }
          ],
          "mesh3d": [
           {
            "colorbar": {
             "outlinewidth": 0,
             "ticks": ""
            },
            "type": "mesh3d"
           }
          ],
          "parcoords": [
           {
            "line": {
             "colorbar": {
              "outlinewidth": 0,
              "ticks": ""
             }
            },
            "type": "parcoords"
           }
          ],
          "pie": [
           {
            "automargin": true,
            "type": "pie"
           }
          ],
          "scatter": [
           {
            "marker": {
             "colorbar": {
              "outlinewidth": 0,
              "ticks": ""
             }
            },
            "type": "scatter"
           }
          ],
          "scatter3d": [
           {
            "line": {
             "colorbar": {
              "outlinewidth": 0,
              "ticks": ""
             }
            },
            "marker": {
             "colorbar": {
              "outlinewidth": 0,
              "ticks": ""
             }
            },
            "type": "scatter3d"
           }
          ],
          "scattercarpet": [
           {
            "marker": {
             "colorbar": {
              "outlinewidth": 0,
              "ticks": ""
             }
            },
            "type": "scattercarpet"
           }
          ],
          "scattergeo": [
           {
            "marker": {
             "colorbar": {
              "outlinewidth": 0,
              "ticks": ""
             }
            },
            "type": "scattergeo"
           }
          ],
          "scattergl": [
           {
            "marker": {
             "colorbar": {
              "outlinewidth": 0,
              "ticks": ""
             }
            },
            "type": "scattergl"
           }
          ],
          "scattermapbox": [
           {
            "marker": {
             "colorbar": {
              "outlinewidth": 0,
              "ticks": ""
             }
            },
            "type": "scattermapbox"
           }
          ],
          "scatterpolar": [
           {
            "marker": {
             "colorbar": {
              "outlinewidth": 0,
              "ticks": ""
             }
            },
            "type": "scatterpolar"
           }
          ],
          "scatterpolargl": [
           {
            "marker": {
             "colorbar": {
              "outlinewidth": 0,
              "ticks": ""
             }
            },
            "type": "scatterpolargl"
           }
          ],
          "scatterternary": [
           {
            "marker": {
             "colorbar": {
              "outlinewidth": 0,
              "ticks": ""
             }
            },
            "type": "scatterternary"
           }
          ],
          "surface": [
           {
            "colorbar": {
             "outlinewidth": 0,
             "ticks": ""
            },
            "colorscale": [
             [
              0,
              "#0d0887"
             ],
             [
              0.1111111111111111,
              "#46039f"
             ],
             [
              0.2222222222222222,
              "#7201a8"
             ],
             [
              0.3333333333333333,
              "#9c179e"
             ],
             [
              0.4444444444444444,
              "#bd3786"
             ],
             [
              0.5555555555555556,
              "#d8576b"
             ],
             [
              0.6666666666666666,
              "#ed7953"
             ],
             [
              0.7777777777777778,
              "#fb9f3a"
             ],
             [
              0.8888888888888888,
              "#fdca26"
             ],
             [
              1,
              "#f0f921"
             ]
            ],
            "type": "surface"
           }
          ],
          "table": [
           {
            "cells": {
             "fill": {
              "color": "#EBF0F8"
             },
             "line": {
              "color": "white"
             }
            },
            "header": {
             "fill": {
              "color": "#C8D4E3"
             },
             "line": {
              "color": "white"
             }
            },
            "type": "table"
           }
          ]
         },
         "layout": {
          "annotationdefaults": {
           "arrowcolor": "#2a3f5f",
           "arrowhead": 0,
           "arrowwidth": 1
          },
          "coloraxis": {
           "colorbar": {
            "outlinewidth": 0,
            "ticks": ""
           }
          },
          "colorscale": {
           "diverging": [
            [
             0,
             "#8e0152"
            ],
            [
             0.1,
             "#c51b7d"
            ],
            [
             0.2,
             "#de77ae"
            ],
            [
             0.3,
             "#f1b6da"
            ],
            [
             0.4,
             "#fde0ef"
            ],
            [
             0.5,
             "#f7f7f7"
            ],
            [
             0.6,
             "#e6f5d0"
            ],
            [
             0.7,
             "#b8e186"
            ],
            [
             0.8,
             "#7fbc41"
            ],
            [
             0.9,
             "#4d9221"
            ],
            [
             1,
             "#276419"
            ]
           ],
           "sequential": [
            [
             0,
             "#0d0887"
            ],
            [
             0.1111111111111111,
             "#46039f"
            ],
            [
             0.2222222222222222,
             "#7201a8"
            ],
            [
             0.3333333333333333,
             "#9c179e"
            ],
            [
             0.4444444444444444,
             "#bd3786"
            ],
            [
             0.5555555555555556,
             "#d8576b"
            ],
            [
             0.6666666666666666,
             "#ed7953"
            ],
            [
             0.7777777777777778,
             "#fb9f3a"
            ],
            [
             0.8888888888888888,
             "#fdca26"
            ],
            [
             1,
             "#f0f921"
            ]
           ],
           "sequentialminus": [
            [
             0,
             "#0d0887"
            ],
            [
             0.1111111111111111,
             "#46039f"
            ],
            [
             0.2222222222222222,
             "#7201a8"
            ],
            [
             0.3333333333333333,
             "#9c179e"
            ],
            [
             0.4444444444444444,
             "#bd3786"
            ],
            [
             0.5555555555555556,
             "#d8576b"
            ],
            [
             0.6666666666666666,
             "#ed7953"
            ],
            [
             0.7777777777777778,
             "#fb9f3a"
            ],
            [
             0.8888888888888888,
             "#fdca26"
            ],
            [
             1,
             "#f0f921"
            ]
           ]
          },
          "colorway": [
           "#636efa",
           "#EF553B",
           "#00cc96",
           "#ab63fa",
           "#FFA15A",
           "#19d3f3",
           "#FF6692",
           "#B6E880",
           "#FF97FF",
           "#FECB52"
          ],
          "font": {
           "color": "#2a3f5f"
          },
          "geo": {
           "bgcolor": "white",
           "lakecolor": "white",
           "landcolor": "#E5ECF6",
           "showlakes": true,
           "showland": true,
           "subunitcolor": "white"
          },
          "hoverlabel": {
           "align": "left"
          },
          "hovermode": "closest",
          "mapbox": {
           "style": "light"
          },
          "paper_bgcolor": "white",
          "plot_bgcolor": "#E5ECF6",
          "polar": {
           "angularaxis": {
            "gridcolor": "white",
            "linecolor": "white",
            "ticks": ""
           },
           "bgcolor": "#E5ECF6",
           "radialaxis": {
            "gridcolor": "white",
            "linecolor": "white",
            "ticks": ""
           }
          },
          "scene": {
           "xaxis": {
            "backgroundcolor": "#E5ECF6",
            "gridcolor": "white",
            "gridwidth": 2,
            "linecolor": "white",
            "showbackground": true,
            "ticks": "",
            "zerolinecolor": "white"
           },
           "yaxis": {
            "backgroundcolor": "#E5ECF6",
            "gridcolor": "white",
            "gridwidth": 2,
            "linecolor": "white",
            "showbackground": true,
            "ticks": "",
            "zerolinecolor": "white"
           },
           "zaxis": {
            "backgroundcolor": "#E5ECF6",
            "gridcolor": "white",
            "gridwidth": 2,
            "linecolor": "white",
            "showbackground": true,
            "ticks": "",
            "zerolinecolor": "white"
           }
          },
          "shapedefaults": {
           "line": {
            "color": "#2a3f5f"
           }
          },
          "ternary": {
           "aaxis": {
            "gridcolor": "white",
            "linecolor": "white",
            "ticks": ""
           },
           "baxis": {
            "gridcolor": "white",
            "linecolor": "white",
            "ticks": ""
           },
           "bgcolor": "#E5ECF6",
           "caxis": {
            "gridcolor": "white",
            "linecolor": "white",
            "ticks": ""
           }
          },
          "title": {
           "x": 0.05
          },
          "xaxis": {
           "automargin": true,
           "gridcolor": "white",
           "linecolor": "white",
           "ticks": "",
           "title": {
            "standoff": 15
           },
           "zerolinecolor": "white",
           "zerolinewidth": 2
          },
          "yaxis": {
           "automargin": true,
           "gridcolor": "white",
           "linecolor": "white",
           "ticks": "",
           "title": {
            "standoff": 15
           },
           "zerolinecolor": "white",
           "zerolinewidth": 2
          }
         }
        },
        "title": {
         "font": {
          "color": "#4D5663"
         }
        },
        "xaxis": {
         "gridcolor": "#E1E5ED",
         "showgrid": true,
         "tickfont": {
          "color": "#4D5663"
         },
         "title": {
          "font": {
           "color": "#4D5663"
          },
          "text": ""
         },
         "zerolinecolor": "#E1E5ED"
        },
        "yaxis": {
         "gridcolor": "#E1E5ED",
         "showgrid": true,
         "tickfont": {
          "color": "#4D5663"
         },
         "title": {
          "font": {
           "color": "#4D5663"
          },
          "text": ""
         },
         "zerolinecolor": "#E1E5ED"
        }
       }
      },
      "text/html": [
       "<div>\n",
       "        \n",
       "        \n",
       "            <div id=\"3bb51e45-832b-4fdb-8232-1e541d300efd\" class=\"plotly-graph-div\" style=\"height:525px; width:100%;\"></div>\n",
       "            <script type=\"text/javascript\">\n",
       "                require([\"plotly\"], function(Plotly) {\n",
       "                    window.PLOTLYENV=window.PLOTLYENV || {};\n",
       "                    window.PLOTLYENV.BASE_URL='https://plot.ly';\n",
       "                    \n",
       "                if (document.getElementById(\"3bb51e45-832b-4fdb-8232-1e541d300efd\")) {\n",
       "                    Plotly.newPlot(\n",
       "                        '3bb51e45-832b-4fdb-8232-1e541d300efd',\n",
       "                        [{\"marker\": {\"color\": \"rgba(255, 153, 51, 0.6)\", \"line\": {\"color\": \"rgba(255, 153, 51, 1.0)\", \"width\": 1}}, \"name\": \"Values\", \"orientation\": \"v\", \"text\": \"\", \"type\": \"bar\", \"x\": [\"A\", \"B\", \"C\"], \"y\": [32, 43, 50]}],\n",
       "                        {\"legend\": {\"bgcolor\": \"#F5F6F9\", \"font\": {\"color\": \"#4D5663\"}}, \"paper_bgcolor\": \"#F5F6F9\", \"plot_bgcolor\": \"#F5F6F9\", \"template\": {\"data\": {\"bar\": [{\"error_x\": {\"color\": \"#2a3f5f\"}, \"error_y\": {\"color\": \"#2a3f5f\"}, \"marker\": {\"line\": {\"color\": \"#E5ECF6\", \"width\": 0.5}}, \"type\": \"bar\"}], \"barpolar\": [{\"marker\": {\"line\": {\"color\": \"#E5ECF6\", \"width\": 0.5}}, \"type\": \"barpolar\"}], \"carpet\": [{\"aaxis\": {\"endlinecolor\": \"#2a3f5f\", \"gridcolor\": \"white\", \"linecolor\": \"white\", \"minorgridcolor\": \"white\", \"startlinecolor\": \"#2a3f5f\"}, \"baxis\": {\"endlinecolor\": \"#2a3f5f\", \"gridcolor\": \"white\", \"linecolor\": \"white\", \"minorgridcolor\": \"white\", \"startlinecolor\": \"#2a3f5f\"}, \"type\": \"carpet\"}], \"choropleth\": [{\"colorbar\": {\"outlinewidth\": 0, \"ticks\": \"\"}, \"type\": \"choropleth\"}], \"contour\": [{\"colorbar\": {\"outlinewidth\": 0, \"ticks\": \"\"}, \"colorscale\": [[0.0, \"#0d0887\"], [0.1111111111111111, \"#46039f\"], [0.2222222222222222, \"#7201a8\"], [0.3333333333333333, \"#9c179e\"], [0.4444444444444444, \"#bd3786\"], [0.5555555555555556, \"#d8576b\"], [0.6666666666666666, \"#ed7953\"], [0.7777777777777778, \"#fb9f3a\"], [0.8888888888888888, \"#fdca26\"], [1.0, \"#f0f921\"]], \"type\": \"contour\"}], \"contourcarpet\": [{\"colorbar\": {\"outlinewidth\": 0, \"ticks\": \"\"}, \"type\": \"contourcarpet\"}], \"heatmap\": [{\"colorbar\": {\"outlinewidth\": 0, \"ticks\": \"\"}, \"colorscale\": [[0.0, \"#0d0887\"], [0.1111111111111111, \"#46039f\"], [0.2222222222222222, \"#7201a8\"], [0.3333333333333333, \"#9c179e\"], [0.4444444444444444, \"#bd3786\"], [0.5555555555555556, \"#d8576b\"], [0.6666666666666666, \"#ed7953\"], [0.7777777777777778, \"#fb9f3a\"], [0.8888888888888888, \"#fdca26\"], [1.0, \"#f0f921\"]], \"type\": \"heatmap\"}], \"heatmapgl\": [{\"colorbar\": {\"outlinewidth\": 0, \"ticks\": \"\"}, \"colorscale\": [[0.0, \"#0d0887\"], [0.1111111111111111, \"#46039f\"], [0.2222222222222222, \"#7201a8\"], [0.3333333333333333, \"#9c179e\"], [0.4444444444444444, \"#bd3786\"], [0.5555555555555556, \"#d8576b\"], [0.6666666666666666, \"#ed7953\"], [0.7777777777777778, \"#fb9f3a\"], [0.8888888888888888, \"#fdca26\"], [1.0, \"#f0f921\"]], \"type\": \"heatmapgl\"}], \"histogram\": [{\"marker\": {\"colorbar\": {\"outlinewidth\": 0, \"ticks\": \"\"}}, \"type\": \"histogram\"}], \"histogram2d\": [{\"colorbar\": {\"outlinewidth\": 0, \"ticks\": \"\"}, \"colorscale\": [[0.0, \"#0d0887\"], [0.1111111111111111, \"#46039f\"], [0.2222222222222222, \"#7201a8\"], [0.3333333333333333, \"#9c179e\"], [0.4444444444444444, \"#bd3786\"], [0.5555555555555556, \"#d8576b\"], [0.6666666666666666, \"#ed7953\"], [0.7777777777777778, \"#fb9f3a\"], [0.8888888888888888, \"#fdca26\"], [1.0, \"#f0f921\"]], \"type\": \"histogram2d\"}], \"histogram2dcontour\": [{\"colorbar\": {\"outlinewidth\": 0, \"ticks\": \"\"}, \"colorscale\": [[0.0, \"#0d0887\"], [0.1111111111111111, \"#46039f\"], [0.2222222222222222, \"#7201a8\"], [0.3333333333333333, \"#9c179e\"], [0.4444444444444444, \"#bd3786\"], [0.5555555555555556, \"#d8576b\"], [0.6666666666666666, \"#ed7953\"], [0.7777777777777778, \"#fb9f3a\"], [0.8888888888888888, \"#fdca26\"], [1.0, \"#f0f921\"]], \"type\": \"histogram2dcontour\"}], \"mesh3d\": [{\"colorbar\": {\"outlinewidth\": 0, \"ticks\": \"\"}, \"type\": \"mesh3d\"}], \"parcoords\": [{\"line\": {\"colorbar\": {\"outlinewidth\": 0, \"ticks\": \"\"}}, \"type\": \"parcoords\"}], \"pie\": [{\"automargin\": true, \"type\": \"pie\"}], \"scatter\": [{\"marker\": {\"colorbar\": {\"outlinewidth\": 0, \"ticks\": \"\"}}, \"type\": \"scatter\"}], \"scatter3d\": [{\"line\": {\"colorbar\": {\"outlinewidth\": 0, \"ticks\": \"\"}}, \"marker\": {\"colorbar\": {\"outlinewidth\": 0, \"ticks\": \"\"}}, \"type\": \"scatter3d\"}], \"scattercarpet\": [{\"marker\": {\"colorbar\": {\"outlinewidth\": 0, \"ticks\": \"\"}}, \"type\": \"scattercarpet\"}], \"scattergeo\": [{\"marker\": {\"colorbar\": {\"outlinewidth\": 0, \"ticks\": \"\"}}, \"type\": \"scattergeo\"}], \"scattergl\": [{\"marker\": {\"colorbar\": {\"outlinewidth\": 0, \"ticks\": \"\"}}, \"type\": \"scattergl\"}], \"scattermapbox\": [{\"marker\": {\"colorbar\": {\"outlinewidth\": 0, \"ticks\": \"\"}}, \"type\": \"scattermapbox\"}], \"scatterpolar\": [{\"marker\": {\"colorbar\": {\"outlinewidth\": 0, \"ticks\": \"\"}}, \"type\": \"scatterpolar\"}], \"scatterpolargl\": [{\"marker\": {\"colorbar\": {\"outlinewidth\": 0, \"ticks\": \"\"}}, \"type\": \"scatterpolargl\"}], \"scatterternary\": [{\"marker\": {\"colorbar\": {\"outlinewidth\": 0, \"ticks\": \"\"}}, \"type\": \"scatterternary\"}], \"surface\": [{\"colorbar\": {\"outlinewidth\": 0, \"ticks\": \"\"}, \"colorscale\": [[0.0, \"#0d0887\"], [0.1111111111111111, \"#46039f\"], [0.2222222222222222, \"#7201a8\"], [0.3333333333333333, \"#9c179e\"], [0.4444444444444444, \"#bd3786\"], [0.5555555555555556, \"#d8576b\"], [0.6666666666666666, \"#ed7953\"], [0.7777777777777778, \"#fb9f3a\"], [0.8888888888888888, \"#fdca26\"], [1.0, \"#f0f921\"]], \"type\": \"surface\"}], \"table\": [{\"cells\": {\"fill\": {\"color\": \"#EBF0F8\"}, \"line\": {\"color\": \"white\"}}, \"header\": {\"fill\": {\"color\": \"#C8D4E3\"}, \"line\": {\"color\": \"white\"}}, \"type\": \"table\"}]}, \"layout\": {\"annotationdefaults\": {\"arrowcolor\": \"#2a3f5f\", \"arrowhead\": 0, \"arrowwidth\": 1}, \"coloraxis\": {\"colorbar\": {\"outlinewidth\": 0, \"ticks\": \"\"}}, \"colorscale\": {\"diverging\": [[0, \"#8e0152\"], [0.1, \"#c51b7d\"], [0.2, \"#de77ae\"], [0.3, \"#f1b6da\"], [0.4, \"#fde0ef\"], [0.5, \"#f7f7f7\"], [0.6, \"#e6f5d0\"], [0.7, \"#b8e186\"], [0.8, \"#7fbc41\"], [0.9, \"#4d9221\"], [1, \"#276419\"]], \"sequential\": [[0.0, \"#0d0887\"], [0.1111111111111111, \"#46039f\"], [0.2222222222222222, \"#7201a8\"], [0.3333333333333333, \"#9c179e\"], [0.4444444444444444, \"#bd3786\"], [0.5555555555555556, \"#d8576b\"], [0.6666666666666666, \"#ed7953\"], [0.7777777777777778, \"#fb9f3a\"], [0.8888888888888888, \"#fdca26\"], [1.0, \"#f0f921\"]], \"sequentialminus\": [[0.0, \"#0d0887\"], [0.1111111111111111, \"#46039f\"], [0.2222222222222222, \"#7201a8\"], [0.3333333333333333, \"#9c179e\"], [0.4444444444444444, \"#bd3786\"], [0.5555555555555556, \"#d8576b\"], [0.6666666666666666, \"#ed7953\"], [0.7777777777777778, \"#fb9f3a\"], [0.8888888888888888, \"#fdca26\"], [1.0, \"#f0f921\"]]}, \"colorway\": [\"#636efa\", \"#EF553B\", \"#00cc96\", \"#ab63fa\", \"#FFA15A\", \"#19d3f3\", \"#FF6692\", \"#B6E880\", \"#FF97FF\", \"#FECB52\"], \"font\": {\"color\": \"#2a3f5f\"}, \"geo\": {\"bgcolor\": \"white\", \"lakecolor\": \"white\", \"landcolor\": \"#E5ECF6\", \"showlakes\": true, \"showland\": true, \"subunitcolor\": \"white\"}, \"hoverlabel\": {\"align\": \"left\"}, \"hovermode\": \"closest\", \"mapbox\": {\"style\": \"light\"}, \"paper_bgcolor\": \"white\", \"plot_bgcolor\": \"#E5ECF6\", \"polar\": {\"angularaxis\": {\"gridcolor\": \"white\", \"linecolor\": \"white\", \"ticks\": \"\"}, \"bgcolor\": \"#E5ECF6\", \"radialaxis\": {\"gridcolor\": \"white\", \"linecolor\": \"white\", \"ticks\": \"\"}}, \"scene\": {\"xaxis\": {\"backgroundcolor\": \"#E5ECF6\", \"gridcolor\": \"white\", \"gridwidth\": 2, \"linecolor\": \"white\", \"showbackground\": true, \"ticks\": \"\", \"zerolinecolor\": \"white\"}, \"yaxis\": {\"backgroundcolor\": \"#E5ECF6\", \"gridcolor\": \"white\", \"gridwidth\": 2, \"linecolor\": \"white\", \"showbackground\": true, \"ticks\": \"\", \"zerolinecolor\": \"white\"}, \"zaxis\": {\"backgroundcolor\": \"#E5ECF6\", \"gridcolor\": \"white\", \"gridwidth\": 2, \"linecolor\": \"white\", \"showbackground\": true, \"ticks\": \"\", \"zerolinecolor\": \"white\"}}, \"shapedefaults\": {\"line\": {\"color\": \"#2a3f5f\"}}, \"ternary\": {\"aaxis\": {\"gridcolor\": \"white\", \"linecolor\": \"white\", \"ticks\": \"\"}, \"baxis\": {\"gridcolor\": \"white\", \"linecolor\": \"white\", \"ticks\": \"\"}, \"bgcolor\": \"#E5ECF6\", \"caxis\": {\"gridcolor\": \"white\", \"linecolor\": \"white\", \"ticks\": \"\"}}, \"title\": {\"x\": 0.05}, \"xaxis\": {\"automargin\": true, \"gridcolor\": \"white\", \"linecolor\": \"white\", \"ticks\": \"\", \"title\": {\"standoff\": 15}, \"zerolinecolor\": \"white\", \"zerolinewidth\": 2}, \"yaxis\": {\"automargin\": true, \"gridcolor\": \"white\", \"linecolor\": \"white\", \"ticks\": \"\", \"title\": {\"standoff\": 15}, \"zerolinecolor\": \"white\", \"zerolinewidth\": 2}}}, \"title\": {\"font\": {\"color\": \"#4D5663\"}}, \"xaxis\": {\"gridcolor\": \"#E1E5ED\", \"showgrid\": true, \"tickfont\": {\"color\": \"#4D5663\"}, \"title\": {\"font\": {\"color\": \"#4D5663\"}, \"text\": \"\"}, \"zerolinecolor\": \"#E1E5ED\"}, \"yaxis\": {\"gridcolor\": \"#E1E5ED\", \"showgrid\": true, \"tickfont\": {\"color\": \"#4D5663\"}, \"title\": {\"font\": {\"color\": \"#4D5663\"}, \"text\": \"\"}, \"zerolinecolor\": \"#E1E5ED\"}},\n",
       "                        {\"showLink\": true, \"linkText\": \"Export to plot.ly\", \"plotlyServerURL\": \"https://plot.ly\", \"responsive\": true}\n",
       "                    ).then(function(){\n",
       "                            \n",
       "var gd = document.getElementById('3bb51e45-832b-4fdb-8232-1e541d300efd');\n",
       "var x = new MutationObserver(function (mutations, observer) {{\n",
       "        var display = window.getComputedStyle(gd).display;\n",
       "        if (!display || display === 'none') {{\n",
       "            console.log([gd, 'removed!']);\n",
       "            Plotly.purge(gd);\n",
       "            observer.disconnect();\n",
       "        }}\n",
       "}});\n",
       "\n",
       "// Listen for the removal of the full notebook cells\n",
       "var notebookContainer = gd.closest('#notebook-container');\n",
       "if (notebookContainer) {{\n",
       "    x.observe(notebookContainer, {childList: true});\n",
       "}}\n",
       "\n",
       "// Listen for the clearing of the current output cell\n",
       "var outputEl = gd.closest('.output');\n",
       "if (outputEl) {{\n",
       "    x.observe(outputEl, {childList: true});\n",
       "}}\n",
       "\n",
       "                        })\n",
       "                };\n",
       "                });\n",
       "            </script>\n",
       "        </div>"
      ]
     },
     "metadata": {},
     "output_type": "display_data"
    }
   ],
   "source": [
    "df2.iplot(kind='bar',x='Category',y='Values')"
   ]
  },
  {
   "cell_type": "code",
   "execution_count": 12,
   "metadata": {},
   "outputs": [
    {
     "data": {
      "application/vnd.plotly.v1+json": {
       "config": {
        "linkText": "Export to plot.ly",
        "plotlyServerURL": "https://plot.ly",
        "showLink": true
       },
       "data": [
        {
         "marker": {
          "color": "rgba(255, 153, 51, 0.6)",
          "line": {
           "color": "rgba(255, 153, 51, 1.0)",
           "width": 1
          }
         },
         "name": "None",
         "orientation": "v",
         "text": "",
         "type": "bar",
         "x": [
          "A",
          "B",
          "C",
          "D"
         ],
         "y": [
          100,
          100,
          100,
          100
         ]
        }
       ],
       "layout": {
        "legend": {
         "bgcolor": "#F5F6F9",
         "font": {
          "color": "#4D5663"
         }
        },
        "paper_bgcolor": "#F5F6F9",
        "plot_bgcolor": "#F5F6F9",
        "template": {
         "data": {
          "bar": [
           {
            "error_x": {
             "color": "#2a3f5f"
            },
            "error_y": {
             "color": "#2a3f5f"
            },
            "marker": {
             "line": {
              "color": "#E5ECF6",
              "width": 0.5
             }
            },
            "type": "bar"
           }
          ],
          "barpolar": [
           {
            "marker": {
             "line": {
              "color": "#E5ECF6",
              "width": 0.5
             }
            },
            "type": "barpolar"
           }
          ],
          "carpet": [
           {
            "aaxis": {
             "endlinecolor": "#2a3f5f",
             "gridcolor": "white",
             "linecolor": "white",
             "minorgridcolor": "white",
             "startlinecolor": "#2a3f5f"
            },
            "baxis": {
             "endlinecolor": "#2a3f5f",
             "gridcolor": "white",
             "linecolor": "white",
             "minorgridcolor": "white",
             "startlinecolor": "#2a3f5f"
            },
            "type": "carpet"
           }
          ],
          "choropleth": [
           {
            "colorbar": {
             "outlinewidth": 0,
             "ticks": ""
            },
            "type": "choropleth"
           }
          ],
          "contour": [
           {
            "colorbar": {
             "outlinewidth": 0,
             "ticks": ""
            },
            "colorscale": [
             [
              0,
              "#0d0887"
             ],
             [
              0.1111111111111111,
              "#46039f"
             ],
             [
              0.2222222222222222,
              "#7201a8"
             ],
             [
              0.3333333333333333,
              "#9c179e"
             ],
             [
              0.4444444444444444,
              "#bd3786"
             ],
             [
              0.5555555555555556,
              "#d8576b"
             ],
             [
              0.6666666666666666,
              "#ed7953"
             ],
             [
              0.7777777777777778,
              "#fb9f3a"
             ],
             [
              0.8888888888888888,
              "#fdca26"
             ],
             [
              1,
              "#f0f921"
             ]
            ],
            "type": "contour"
           }
          ],
          "contourcarpet": [
           {
            "colorbar": {
             "outlinewidth": 0,
             "ticks": ""
            },
            "type": "contourcarpet"
           }
          ],
          "heatmap": [
           {
            "colorbar": {
             "outlinewidth": 0,
             "ticks": ""
            },
            "colorscale": [
             [
              0,
              "#0d0887"
             ],
             [
              0.1111111111111111,
              "#46039f"
             ],
             [
              0.2222222222222222,
              "#7201a8"
             ],
             [
              0.3333333333333333,
              "#9c179e"
             ],
             [
              0.4444444444444444,
              "#bd3786"
             ],
             [
              0.5555555555555556,
              "#d8576b"
             ],
             [
              0.6666666666666666,
              "#ed7953"
             ],
             [
              0.7777777777777778,
              "#fb9f3a"
             ],
             [
              0.8888888888888888,
              "#fdca26"
             ],
             [
              1,
              "#f0f921"
             ]
            ],
            "type": "heatmap"
           }
          ],
          "heatmapgl": [
           {
            "colorbar": {
             "outlinewidth": 0,
             "ticks": ""
            },
            "colorscale": [
             [
              0,
              "#0d0887"
             ],
             [
              0.1111111111111111,
              "#46039f"
             ],
             [
              0.2222222222222222,
              "#7201a8"
             ],
             [
              0.3333333333333333,
              "#9c179e"
             ],
             [
              0.4444444444444444,
              "#bd3786"
             ],
             [
              0.5555555555555556,
              "#d8576b"
             ],
             [
              0.6666666666666666,
              "#ed7953"
             ],
             [
              0.7777777777777778,
              "#fb9f3a"
             ],
             [
              0.8888888888888888,
              "#fdca26"
             ],
             [
              1,
              "#f0f921"
             ]
            ],
            "type": "heatmapgl"
           }
          ],
          "histogram": [
           {
            "marker": {
             "colorbar": {
              "outlinewidth": 0,
              "ticks": ""
             }
            },
            "type": "histogram"
           }
          ],
          "histogram2d": [
           {
            "colorbar": {
             "outlinewidth": 0,
             "ticks": ""
            },
            "colorscale": [
             [
              0,
              "#0d0887"
             ],
             [
              0.1111111111111111,
              "#46039f"
             ],
             [
              0.2222222222222222,
              "#7201a8"
             ],
             [
              0.3333333333333333,
              "#9c179e"
             ],
             [
              0.4444444444444444,
              "#bd3786"
             ],
             [
              0.5555555555555556,
              "#d8576b"
             ],
             [
              0.6666666666666666,
              "#ed7953"
             ],
             [
              0.7777777777777778,
              "#fb9f3a"
             ],
             [
              0.8888888888888888,
              "#fdca26"
             ],
             [
              1,
              "#f0f921"
             ]
            ],
            "type": "histogram2d"
           }
          ],
          "histogram2dcontour": [
           {
            "colorbar": {
             "outlinewidth": 0,
             "ticks": ""
            },
            "colorscale": [
             [
              0,
              "#0d0887"
             ],
             [
              0.1111111111111111,
              "#46039f"
             ],
             [
              0.2222222222222222,
              "#7201a8"
             ],
             [
              0.3333333333333333,
              "#9c179e"
             ],
             [
              0.4444444444444444,
              "#bd3786"
             ],
             [
              0.5555555555555556,
              "#d8576b"
             ],
             [
              0.6666666666666666,
              "#ed7953"
             ],
             [
              0.7777777777777778,
              "#fb9f3a"
             ],
             [
              0.8888888888888888,
              "#fdca26"
             ],
             [
              1,
              "#f0f921"
             ]
            ],
            "type": "histogram2dcontour"
           }
          ],
          "mesh3d": [
           {
            "colorbar": {
             "outlinewidth": 0,
             "ticks": ""
            },
            "type": "mesh3d"
           }
          ],
          "parcoords": [
           {
            "line": {
             "colorbar": {
              "outlinewidth": 0,
              "ticks": ""
             }
            },
            "type": "parcoords"
           }
          ],
          "pie": [
           {
            "automargin": true,
            "type": "pie"
           }
          ],
          "scatter": [
           {
            "marker": {
             "colorbar": {
              "outlinewidth": 0,
              "ticks": ""
             }
            },
            "type": "scatter"
           }
          ],
          "scatter3d": [
           {
            "line": {
             "colorbar": {
              "outlinewidth": 0,
              "ticks": ""
             }
            },
            "marker": {
             "colorbar": {
              "outlinewidth": 0,
              "ticks": ""
             }
            },
            "type": "scatter3d"
           }
          ],
          "scattercarpet": [
           {
            "marker": {
             "colorbar": {
              "outlinewidth": 0,
              "ticks": ""
             }
            },
            "type": "scattercarpet"
           }
          ],
          "scattergeo": [
           {
            "marker": {
             "colorbar": {
              "outlinewidth": 0,
              "ticks": ""
             }
            },
            "type": "scattergeo"
           }
          ],
          "scattergl": [
           {
            "marker": {
             "colorbar": {
              "outlinewidth": 0,
              "ticks": ""
             }
            },
            "type": "scattergl"
           }
          ],
          "scattermapbox": [
           {
            "marker": {
             "colorbar": {
              "outlinewidth": 0,
              "ticks": ""
             }
            },
            "type": "scattermapbox"
           }
          ],
          "scatterpolar": [
           {
            "marker": {
             "colorbar": {
              "outlinewidth": 0,
              "ticks": ""
             }
            },
            "type": "scatterpolar"
           }
          ],
          "scatterpolargl": [
           {
            "marker": {
             "colorbar": {
              "outlinewidth": 0,
              "ticks": ""
             }
            },
            "type": "scatterpolargl"
           }
          ],
          "scatterternary": [
           {
            "marker": {
             "colorbar": {
              "outlinewidth": 0,
              "ticks": ""
             }
            },
            "type": "scatterternary"
           }
          ],
          "surface": [
           {
            "colorbar": {
             "outlinewidth": 0,
             "ticks": ""
            },
            "colorscale": [
             [
              0,
              "#0d0887"
             ],
             [
              0.1111111111111111,
              "#46039f"
             ],
             [
              0.2222222222222222,
              "#7201a8"
             ],
             [
              0.3333333333333333,
              "#9c179e"
             ],
             [
              0.4444444444444444,
              "#bd3786"
             ],
             [
              0.5555555555555556,
              "#d8576b"
             ],
             [
              0.6666666666666666,
              "#ed7953"
             ],
             [
              0.7777777777777778,
              "#fb9f3a"
             ],
             [
              0.8888888888888888,
              "#fdca26"
             ],
             [
              1,
              "#f0f921"
             ]
            ],
            "type": "surface"
           }
          ],
          "table": [
           {
            "cells": {
             "fill": {
              "color": "#EBF0F8"
             },
             "line": {
              "color": "white"
             }
            },
            "header": {
             "fill": {
              "color": "#C8D4E3"
             },
             "line": {
              "color": "white"
             }
            },
            "type": "table"
           }
          ]
         },
         "layout": {
          "annotationdefaults": {
           "arrowcolor": "#2a3f5f",
           "arrowhead": 0,
           "arrowwidth": 1
          },
          "coloraxis": {
           "colorbar": {
            "outlinewidth": 0,
            "ticks": ""
           }
          },
          "colorscale": {
           "diverging": [
            [
             0,
             "#8e0152"
            ],
            [
             0.1,
             "#c51b7d"
            ],
            [
             0.2,
             "#de77ae"
            ],
            [
             0.3,
             "#f1b6da"
            ],
            [
             0.4,
             "#fde0ef"
            ],
            [
             0.5,
             "#f7f7f7"
            ],
            [
             0.6,
             "#e6f5d0"
            ],
            [
             0.7,
             "#b8e186"
            ],
            [
             0.8,
             "#7fbc41"
            ],
            [
             0.9,
             "#4d9221"
            ],
            [
             1,
             "#276419"
            ]
           ],
           "sequential": [
            [
             0,
             "#0d0887"
            ],
            [
             0.1111111111111111,
             "#46039f"
            ],
            [
             0.2222222222222222,
             "#7201a8"
            ],
            [
             0.3333333333333333,
             "#9c179e"
            ],
            [
             0.4444444444444444,
             "#bd3786"
            ],
            [
             0.5555555555555556,
             "#d8576b"
            ],
            [
             0.6666666666666666,
             "#ed7953"
            ],
            [
             0.7777777777777778,
             "#fb9f3a"
            ],
            [
             0.8888888888888888,
             "#fdca26"
            ],
            [
             1,
             "#f0f921"
            ]
           ],
           "sequentialminus": [
            [
             0,
             "#0d0887"
            ],
            [
             0.1111111111111111,
             "#46039f"
            ],
            [
             0.2222222222222222,
             "#7201a8"
            ],
            [
             0.3333333333333333,
             "#9c179e"
            ],
            [
             0.4444444444444444,
             "#bd3786"
            ],
            [
             0.5555555555555556,
             "#d8576b"
            ],
            [
             0.6666666666666666,
             "#ed7953"
            ],
            [
             0.7777777777777778,
             "#fb9f3a"
            ],
            [
             0.8888888888888888,
             "#fdca26"
            ],
            [
             1,
             "#f0f921"
            ]
           ]
          },
          "colorway": [
           "#636efa",
           "#EF553B",
           "#00cc96",
           "#ab63fa",
           "#FFA15A",
           "#19d3f3",
           "#FF6692",
           "#B6E880",
           "#FF97FF",
           "#FECB52"
          ],
          "font": {
           "color": "#2a3f5f"
          },
          "geo": {
           "bgcolor": "white",
           "lakecolor": "white",
           "landcolor": "#E5ECF6",
           "showlakes": true,
           "showland": true,
           "subunitcolor": "white"
          },
          "hoverlabel": {
           "align": "left"
          },
          "hovermode": "closest",
          "mapbox": {
           "style": "light"
          },
          "paper_bgcolor": "white",
          "plot_bgcolor": "#E5ECF6",
          "polar": {
           "angularaxis": {
            "gridcolor": "white",
            "linecolor": "white",
            "ticks": ""
           },
           "bgcolor": "#E5ECF6",
           "radialaxis": {
            "gridcolor": "white",
            "linecolor": "white",
            "ticks": ""
           }
          },
          "scene": {
           "xaxis": {
            "backgroundcolor": "#E5ECF6",
            "gridcolor": "white",
            "gridwidth": 2,
            "linecolor": "white",
            "showbackground": true,
            "ticks": "",
            "zerolinecolor": "white"
           },
           "yaxis": {
            "backgroundcolor": "#E5ECF6",
            "gridcolor": "white",
            "gridwidth": 2,
            "linecolor": "white",
            "showbackground": true,
            "ticks": "",
            "zerolinecolor": "white"
           },
           "zaxis": {
            "backgroundcolor": "#E5ECF6",
            "gridcolor": "white",
            "gridwidth": 2,
            "linecolor": "white",
            "showbackground": true,
            "ticks": "",
            "zerolinecolor": "white"
           }
          },
          "shapedefaults": {
           "line": {
            "color": "#2a3f5f"
           }
          },
          "ternary": {
           "aaxis": {
            "gridcolor": "white",
            "linecolor": "white",
            "ticks": ""
           },
           "baxis": {
            "gridcolor": "white",
            "linecolor": "white",
            "ticks": ""
           },
           "bgcolor": "#E5ECF6",
           "caxis": {
            "gridcolor": "white",
            "linecolor": "white",
            "ticks": ""
           }
          },
          "title": {
           "x": 0.05
          },
          "xaxis": {
           "automargin": true,
           "gridcolor": "white",
           "linecolor": "white",
           "ticks": "",
           "title": {
            "standoff": 15
           },
           "zerolinecolor": "white",
           "zerolinewidth": 2
          },
          "yaxis": {
           "automargin": true,
           "gridcolor": "white",
           "linecolor": "white",
           "ticks": "",
           "title": {
            "standoff": 15
           },
           "zerolinecolor": "white",
           "zerolinewidth": 2
          }
         }
        },
        "title": {
         "font": {
          "color": "#4D5663"
         }
        },
        "xaxis": {
         "gridcolor": "#E1E5ED",
         "showgrid": true,
         "tickfont": {
          "color": "#4D5663"
         },
         "title": {
          "font": {
           "color": "#4D5663"
          },
          "text": ""
         },
         "zerolinecolor": "#E1E5ED"
        },
        "yaxis": {
         "gridcolor": "#E1E5ED",
         "showgrid": true,
         "tickfont": {
          "color": "#4D5663"
         },
         "title": {
          "font": {
           "color": "#4D5663"
          },
          "text": ""
         },
         "zerolinecolor": "#E1E5ED"
        }
       }
      },
      "text/html": [
       "<div>\n",
       "        \n",
       "        \n",
       "            <div id=\"a0f2935b-7c55-4eb1-8ce0-9b936186fe31\" class=\"plotly-graph-div\" style=\"height:525px; width:100%;\"></div>\n",
       "            <script type=\"text/javascript\">\n",
       "                require([\"plotly\"], function(Plotly) {\n",
       "                    window.PLOTLYENV=window.PLOTLYENV || {};\n",
       "                    window.PLOTLYENV.BASE_URL='https://plot.ly';\n",
       "                    \n",
       "                if (document.getElementById(\"a0f2935b-7c55-4eb1-8ce0-9b936186fe31\")) {\n",
       "                    Plotly.newPlot(\n",
       "                        'a0f2935b-7c55-4eb1-8ce0-9b936186fe31',\n",
       "                        [{\"marker\": {\"color\": \"rgba(255, 153, 51, 0.6)\", \"line\": {\"color\": \"rgba(255, 153, 51, 1.0)\", \"width\": 1}}, \"name\": \"None\", \"orientation\": \"v\", \"text\": \"\", \"type\": \"bar\", \"x\": [\"A\", \"B\", \"C\", \"D\"], \"y\": [100, 100, 100, 100]}],\n",
       "                        {\"legend\": {\"bgcolor\": \"#F5F6F9\", \"font\": {\"color\": \"#4D5663\"}}, \"paper_bgcolor\": \"#F5F6F9\", \"plot_bgcolor\": \"#F5F6F9\", \"template\": {\"data\": {\"bar\": [{\"error_x\": {\"color\": \"#2a3f5f\"}, \"error_y\": {\"color\": \"#2a3f5f\"}, \"marker\": {\"line\": {\"color\": \"#E5ECF6\", \"width\": 0.5}}, \"type\": \"bar\"}], \"barpolar\": [{\"marker\": {\"line\": {\"color\": \"#E5ECF6\", \"width\": 0.5}}, \"type\": \"barpolar\"}], \"carpet\": [{\"aaxis\": {\"endlinecolor\": \"#2a3f5f\", \"gridcolor\": \"white\", \"linecolor\": \"white\", \"minorgridcolor\": \"white\", \"startlinecolor\": \"#2a3f5f\"}, \"baxis\": {\"endlinecolor\": \"#2a3f5f\", \"gridcolor\": \"white\", \"linecolor\": \"white\", \"minorgridcolor\": \"white\", \"startlinecolor\": \"#2a3f5f\"}, \"type\": \"carpet\"}], \"choropleth\": [{\"colorbar\": {\"outlinewidth\": 0, \"ticks\": \"\"}, \"type\": \"choropleth\"}], \"contour\": [{\"colorbar\": {\"outlinewidth\": 0, \"ticks\": \"\"}, \"colorscale\": [[0.0, \"#0d0887\"], [0.1111111111111111, \"#46039f\"], [0.2222222222222222, \"#7201a8\"], [0.3333333333333333, \"#9c179e\"], [0.4444444444444444, \"#bd3786\"], [0.5555555555555556, \"#d8576b\"], [0.6666666666666666, \"#ed7953\"], [0.7777777777777778, \"#fb9f3a\"], [0.8888888888888888, \"#fdca26\"], [1.0, \"#f0f921\"]], \"type\": \"contour\"}], \"contourcarpet\": [{\"colorbar\": {\"outlinewidth\": 0, \"ticks\": \"\"}, \"type\": \"contourcarpet\"}], \"heatmap\": [{\"colorbar\": {\"outlinewidth\": 0, \"ticks\": \"\"}, \"colorscale\": [[0.0, \"#0d0887\"], [0.1111111111111111, \"#46039f\"], [0.2222222222222222, \"#7201a8\"], [0.3333333333333333, \"#9c179e\"], [0.4444444444444444, \"#bd3786\"], [0.5555555555555556, \"#d8576b\"], [0.6666666666666666, \"#ed7953\"], [0.7777777777777778, \"#fb9f3a\"], [0.8888888888888888, \"#fdca26\"], [1.0, \"#f0f921\"]], \"type\": \"heatmap\"}], \"heatmapgl\": [{\"colorbar\": {\"outlinewidth\": 0, \"ticks\": \"\"}, \"colorscale\": [[0.0, \"#0d0887\"], [0.1111111111111111, \"#46039f\"], [0.2222222222222222, \"#7201a8\"], [0.3333333333333333, \"#9c179e\"], [0.4444444444444444, \"#bd3786\"], [0.5555555555555556, \"#d8576b\"], [0.6666666666666666, \"#ed7953\"], [0.7777777777777778, \"#fb9f3a\"], [0.8888888888888888, \"#fdca26\"], [1.0, \"#f0f921\"]], \"type\": \"heatmapgl\"}], \"histogram\": [{\"marker\": {\"colorbar\": {\"outlinewidth\": 0, \"ticks\": \"\"}}, \"type\": \"histogram\"}], \"histogram2d\": [{\"colorbar\": {\"outlinewidth\": 0, \"ticks\": \"\"}, \"colorscale\": [[0.0, \"#0d0887\"], [0.1111111111111111, \"#46039f\"], [0.2222222222222222, \"#7201a8\"], [0.3333333333333333, \"#9c179e\"], [0.4444444444444444, \"#bd3786\"], [0.5555555555555556, \"#d8576b\"], [0.6666666666666666, \"#ed7953\"], [0.7777777777777778, \"#fb9f3a\"], [0.8888888888888888, \"#fdca26\"], [1.0, \"#f0f921\"]], \"type\": \"histogram2d\"}], \"histogram2dcontour\": [{\"colorbar\": {\"outlinewidth\": 0, \"ticks\": \"\"}, \"colorscale\": [[0.0, \"#0d0887\"], [0.1111111111111111, \"#46039f\"], [0.2222222222222222, \"#7201a8\"], [0.3333333333333333, \"#9c179e\"], [0.4444444444444444, \"#bd3786\"], [0.5555555555555556, \"#d8576b\"], [0.6666666666666666, \"#ed7953\"], [0.7777777777777778, \"#fb9f3a\"], [0.8888888888888888, \"#fdca26\"], [1.0, \"#f0f921\"]], \"type\": \"histogram2dcontour\"}], \"mesh3d\": [{\"colorbar\": {\"outlinewidth\": 0, \"ticks\": \"\"}, \"type\": \"mesh3d\"}], \"parcoords\": [{\"line\": {\"colorbar\": {\"outlinewidth\": 0, \"ticks\": \"\"}}, \"type\": \"parcoords\"}], \"pie\": [{\"automargin\": true, \"type\": \"pie\"}], \"scatter\": [{\"marker\": {\"colorbar\": {\"outlinewidth\": 0, \"ticks\": \"\"}}, \"type\": \"scatter\"}], \"scatter3d\": [{\"line\": {\"colorbar\": {\"outlinewidth\": 0, \"ticks\": \"\"}}, \"marker\": {\"colorbar\": {\"outlinewidth\": 0, \"ticks\": \"\"}}, \"type\": \"scatter3d\"}], \"scattercarpet\": [{\"marker\": {\"colorbar\": {\"outlinewidth\": 0, \"ticks\": \"\"}}, \"type\": \"scattercarpet\"}], \"scattergeo\": [{\"marker\": {\"colorbar\": {\"outlinewidth\": 0, \"ticks\": \"\"}}, \"type\": \"scattergeo\"}], \"scattergl\": [{\"marker\": {\"colorbar\": {\"outlinewidth\": 0, \"ticks\": \"\"}}, \"type\": \"scattergl\"}], \"scattermapbox\": [{\"marker\": {\"colorbar\": {\"outlinewidth\": 0, \"ticks\": \"\"}}, \"type\": \"scattermapbox\"}], \"scatterpolar\": [{\"marker\": {\"colorbar\": {\"outlinewidth\": 0, \"ticks\": \"\"}}, \"type\": \"scatterpolar\"}], \"scatterpolargl\": [{\"marker\": {\"colorbar\": {\"outlinewidth\": 0, \"ticks\": \"\"}}, \"type\": \"scatterpolargl\"}], \"scatterternary\": [{\"marker\": {\"colorbar\": {\"outlinewidth\": 0, \"ticks\": \"\"}}, \"type\": \"scatterternary\"}], \"surface\": [{\"colorbar\": {\"outlinewidth\": 0, \"ticks\": \"\"}, \"colorscale\": [[0.0, \"#0d0887\"], [0.1111111111111111, \"#46039f\"], [0.2222222222222222, \"#7201a8\"], [0.3333333333333333, \"#9c179e\"], [0.4444444444444444, \"#bd3786\"], [0.5555555555555556, \"#d8576b\"], [0.6666666666666666, \"#ed7953\"], [0.7777777777777778, \"#fb9f3a\"], [0.8888888888888888, \"#fdca26\"], [1.0, \"#f0f921\"]], \"type\": \"surface\"}], \"table\": [{\"cells\": {\"fill\": {\"color\": \"#EBF0F8\"}, \"line\": {\"color\": \"white\"}}, \"header\": {\"fill\": {\"color\": \"#C8D4E3\"}, \"line\": {\"color\": \"white\"}}, \"type\": \"table\"}]}, \"layout\": {\"annotationdefaults\": {\"arrowcolor\": \"#2a3f5f\", \"arrowhead\": 0, \"arrowwidth\": 1}, \"coloraxis\": {\"colorbar\": {\"outlinewidth\": 0, \"ticks\": \"\"}}, \"colorscale\": {\"diverging\": [[0, \"#8e0152\"], [0.1, \"#c51b7d\"], [0.2, \"#de77ae\"], [0.3, \"#f1b6da\"], [0.4, \"#fde0ef\"], [0.5, \"#f7f7f7\"], [0.6, \"#e6f5d0\"], [0.7, \"#b8e186\"], [0.8, \"#7fbc41\"], [0.9, \"#4d9221\"], [1, \"#276419\"]], \"sequential\": [[0.0, \"#0d0887\"], [0.1111111111111111, \"#46039f\"], [0.2222222222222222, \"#7201a8\"], [0.3333333333333333, \"#9c179e\"], [0.4444444444444444, \"#bd3786\"], [0.5555555555555556, \"#d8576b\"], [0.6666666666666666, \"#ed7953\"], [0.7777777777777778, \"#fb9f3a\"], [0.8888888888888888, \"#fdca26\"], [1.0, \"#f0f921\"]], \"sequentialminus\": [[0.0, \"#0d0887\"], [0.1111111111111111, \"#46039f\"], [0.2222222222222222, \"#7201a8\"], [0.3333333333333333, \"#9c179e\"], [0.4444444444444444, \"#bd3786\"], [0.5555555555555556, \"#d8576b\"], [0.6666666666666666, \"#ed7953\"], [0.7777777777777778, \"#fb9f3a\"], [0.8888888888888888, \"#fdca26\"], [1.0, \"#f0f921\"]]}, \"colorway\": [\"#636efa\", \"#EF553B\", \"#00cc96\", \"#ab63fa\", \"#FFA15A\", \"#19d3f3\", \"#FF6692\", \"#B6E880\", \"#FF97FF\", \"#FECB52\"], \"font\": {\"color\": \"#2a3f5f\"}, \"geo\": {\"bgcolor\": \"white\", \"lakecolor\": \"white\", \"landcolor\": \"#E5ECF6\", \"showlakes\": true, \"showland\": true, \"subunitcolor\": \"white\"}, \"hoverlabel\": {\"align\": \"left\"}, \"hovermode\": \"closest\", \"mapbox\": {\"style\": \"light\"}, \"paper_bgcolor\": \"white\", \"plot_bgcolor\": \"#E5ECF6\", \"polar\": {\"angularaxis\": {\"gridcolor\": \"white\", \"linecolor\": \"white\", \"ticks\": \"\"}, \"bgcolor\": \"#E5ECF6\", \"radialaxis\": {\"gridcolor\": \"white\", \"linecolor\": \"white\", \"ticks\": \"\"}}, \"scene\": {\"xaxis\": {\"backgroundcolor\": \"#E5ECF6\", \"gridcolor\": \"white\", \"gridwidth\": 2, \"linecolor\": \"white\", \"showbackground\": true, \"ticks\": \"\", \"zerolinecolor\": \"white\"}, \"yaxis\": {\"backgroundcolor\": \"#E5ECF6\", \"gridcolor\": \"white\", \"gridwidth\": 2, \"linecolor\": \"white\", \"showbackground\": true, \"ticks\": \"\", \"zerolinecolor\": \"white\"}, \"zaxis\": {\"backgroundcolor\": \"#E5ECF6\", \"gridcolor\": \"white\", \"gridwidth\": 2, \"linecolor\": \"white\", \"showbackground\": true, \"ticks\": \"\", \"zerolinecolor\": \"white\"}}, \"shapedefaults\": {\"line\": {\"color\": \"#2a3f5f\"}}, \"ternary\": {\"aaxis\": {\"gridcolor\": \"white\", \"linecolor\": \"white\", \"ticks\": \"\"}, \"baxis\": {\"gridcolor\": \"white\", \"linecolor\": \"white\", \"ticks\": \"\"}, \"bgcolor\": \"#E5ECF6\", \"caxis\": {\"gridcolor\": \"white\", \"linecolor\": \"white\", \"ticks\": \"\"}}, \"title\": {\"x\": 0.05}, \"xaxis\": {\"automargin\": true, \"gridcolor\": \"white\", \"linecolor\": \"white\", \"ticks\": \"\", \"title\": {\"standoff\": 15}, \"zerolinecolor\": \"white\", \"zerolinewidth\": 2}, \"yaxis\": {\"automargin\": true, \"gridcolor\": \"white\", \"linecolor\": \"white\", \"ticks\": \"\", \"title\": {\"standoff\": 15}, \"zerolinecolor\": \"white\", \"zerolinewidth\": 2}}}, \"title\": {\"font\": {\"color\": \"#4D5663\"}}, \"xaxis\": {\"gridcolor\": \"#E1E5ED\", \"showgrid\": true, \"tickfont\": {\"color\": \"#4D5663\"}, \"title\": {\"font\": {\"color\": \"#4D5663\"}, \"text\": \"\"}, \"zerolinecolor\": \"#E1E5ED\"}, \"yaxis\": {\"gridcolor\": \"#E1E5ED\", \"showgrid\": true, \"tickfont\": {\"color\": \"#4D5663\"}, \"title\": {\"font\": {\"color\": \"#4D5663\"}, \"text\": \"\"}, \"zerolinecolor\": \"#E1E5ED\"}},\n",
       "                        {\"showLink\": true, \"linkText\": \"Export to plot.ly\", \"plotlyServerURL\": \"https://plot.ly\", \"responsive\": true}\n",
       "                    ).then(function(){\n",
       "                            \n",
       "var gd = document.getElementById('a0f2935b-7c55-4eb1-8ce0-9b936186fe31');\n",
       "var x = new MutationObserver(function (mutations, observer) {{\n",
       "        var display = window.getComputedStyle(gd).display;\n",
       "        if (!display || display === 'none') {{\n",
       "            console.log([gd, 'removed!']);\n",
       "            Plotly.purge(gd);\n",
       "            observer.disconnect();\n",
       "        }}\n",
       "}});\n",
       "\n",
       "// Listen for the removal of the full notebook cells\n",
       "var notebookContainer = gd.closest('#notebook-container');\n",
       "if (notebookContainer) {{\n",
       "    x.observe(notebookContainer, {childList: true});\n",
       "}}\n",
       "\n",
       "// Listen for the clearing of the current output cell\n",
       "var outputEl = gd.closest('.output');\n",
       "if (outputEl) {{\n",
       "    x.observe(outputEl, {childList: true});\n",
       "}}\n",
       "\n",
       "                        })\n",
       "                };\n",
       "                });\n",
       "            </script>\n",
       "        </div>"
      ]
     },
     "metadata": {},
     "output_type": "display_data"
    }
   ],
   "source": [
    "df.count().iplot(kind='bar')"
   ]
  },
  {
   "cell_type": "markdown",
   "metadata": {},
   "source": [
    "## Boxplots"
   ]
  },
  {
   "cell_type": "code",
   "execution_count": 13,
   "metadata": {},
   "outputs": [
    {
     "data": {
      "application/vnd.plotly.v1+json": {
       "config": {
        "linkText": "Export to plot.ly",
        "plotlyServerURL": "https://plot.ly",
        "showLink": true
       },
       "data": [
        {
         "boxpoints": false,
         "line": {
          "width": 1.3
         },
         "marker": {
          "color": "rgba(255, 153, 51, 1.0)"
         },
         "name": "A",
         "orientation": "v",
         "type": "box",
         "y": [
          -1.3739863479333019,
          -1.9624455010940727,
          0.7327750939620981,
          -0.2919572815622404,
          -0.9217098205202516,
          0.22744759905473583,
          1.9132185334214225,
          1.0655902636822598,
          -0.38928009078930315,
          -0.3452293933838182,
          0.09091648675429946,
          1.2073065192020882,
          -0.08500961714186184,
          -0.5055073853451985,
          0.4687032216385739,
          -1.5978997254543206,
          -0.7666102457951843,
          -0.39398286841197316,
          -1.049186557582861,
          -1.067187592678143,
          0.605592400516392,
          -0.11066233012795543,
          0.39669421943886507,
          -1.0026267178735169,
          -0.8799490270845547,
          -1.2091025025157014,
          0.8592587287529497,
          -1.3059621647376631,
          -0.49409588997722176,
          -0.8561085996940954,
          -0.09542823152230753,
          0.7745566868372872,
          -2.159376269631232,
          -0.6469062031484143,
          -1.30290706575803,
          0.34943224260271455,
          -0.7477458362035658,
          1.3528696394413993,
          -2.920920040636787,
          0.9278268638296904,
          0.5605370533615859,
          -1.3140083470584134,
          1.0275187862240902,
          0.9080776763871582,
          0.6662700296464388,
          -1.2137950590227322,
          1.918957894421482,
          -0.24599141709506822,
          0.4961882856255173,
          0.4168717709122591,
          -0.3085438402018306,
          0.5019814690468661,
          0.3414158925692907,
          -0.4979364024958135,
          0.08142353874951676,
          -1.0996710000315342,
          -1.0795816556751554,
          -0.8642669920964954,
          0.10857557863564289,
          0.46506328690511073,
          0.18367046160415235,
          2.6167268929959393,
          -0.5397623850278019,
          -0.5536167576692237,
          -1.0905694819253666,
          1.0310309500377988,
          2.501625720688344,
          -1.2021524648882707,
          -0.9988665672393777,
          0.978803568142746,
          -0.4633340031417136,
          -0.8957523468579796,
          2.8338315246665746,
          -0.8113723695934447,
          -1.2091331107832572,
          0.8878928228341988,
          -1.3469269674940716,
          0.40613418886213204,
          -0.11187966305446931,
          -1.2332976335109138,
          2.03411678344503,
          1.0654290462761313,
          1.243647276758777,
          0.1807108895321057,
          1.930569055018915,
          -0.8503370519960449,
          1.4729173906717832,
          -0.2620249792221265,
          -0.6941954714857629,
          -1.2676351294769936,
          0.48680861925768976,
          -0.22478898017258253,
          0.3634076839547694,
          0.2521744014414418,
          -0.09182355768504491,
          1.1635669193642673,
          0.33191855536558423,
          1.7942750323792322,
          0.24598050825633014,
          0.31914878297218924
         ]
        },
        {
         "boxpoints": false,
         "line": {
          "width": 1.3
         },
         "marker": {
          "color": "rgba(55, 128, 191, 1.0)"
         },
         "name": "B",
         "orientation": "v",
         "type": "box",
         "y": [
          -0.8412203013466952,
          -1.4556405330733901,
          1.3995102914205535,
          -0.15224870922471553,
          0.5268294298500653,
          -1.2197859339292123,
          0.009582361726098606,
          0.561181640424792,
          1.0022719552298092,
          0.33531467168808216,
          -0.22980153143524878,
          1.4352720103751597,
          1.0473100007601404,
          0.45551917036101197,
          1.4396428109200372,
          -0.015734081864879224,
          1.052523315873753,
          -0.8211113533264749,
          -1.4797916161039029,
          -0.34685409701304637,
          0.17358881034546442,
          0.5532261070251974,
          -1.5744136598225333,
          1.426930955211073,
          0.6798043730217787,
          -0.9160625006402426,
          -1.032071873670647,
          -0.16932617762288818,
          -1.8629859480850752,
          -0.7176167617588177,
          -1.1642798789015683,
          -0.059885894398827216,
          0.6242492276644211,
          0.13943971879552275,
          -1.0917582640346943,
          1.2454479934476843,
          -0.9313443143979103,
          0.7306909003384003,
          1.0775976473970825,
          -1.3171228686283447,
          0.9308837784936753,
          0.16790069092734883,
          0.39023771995396866,
          -1.7127984009366335,
          -0.4959185062750779,
          0.9426697666768178,
          0.9640121729554312,
          1.3675050740156776,
          -0.6243582176660069,
          -0.105685016760253,
          0.06921731388890891,
          -0.9994001128726471,
          -0.16181921175049505,
          -1.1190026364806576,
          -0.8477201696417082,
          1.4874815839507454,
          1.0284057113622087,
          -0.4640318039069314,
          -0.10749989355395759,
          0.7697046059129748,
          -1.0158229695521284,
          -0.4163946741757112,
          -1.070480661558205,
          -0.3229686699162554,
          -1.6492929812138015,
          0.08543857762430547,
          -0.034751743869310424,
          1.4158954255936758,
          -0.03652253446823537,
          0.8367134058100361,
          1.0711489335208217,
          0.9895363649227079,
          -2.047414734568283,
          -0.19083294704200793,
          -0.38027944263450175,
          -0.7342768940328229,
          -1.4305665974365096,
          2.1275466735535624,
          -1.4045247656173208,
          -0.37816621778742326,
          0.5016845111373116,
          1.3080308562604426,
          0.09978118155517453,
          -0.7266434241839196,
          -0.3793724044571526,
          0.1674729114282793,
          -0.7967869942878729,
          1.6426527830130604,
          0.47546955155749715,
          0.7939767890300558,
          0.24659542512216345,
          -2.701302367636305,
          -0.6137358895332142,
          -0.2566583648373671,
          0.12933164941888436,
          0.45365308999813764,
          0.5485780672948903,
          -1.3704874518501422,
          0.33844212720458716,
          -0.5474695980051565
         ]
        },
        {
         "boxpoints": false,
         "line": {
          "width": 1.3
         },
         "marker": {
          "color": "rgba(50, 171, 96, 1.0)"
         },
         "name": "C",
         "orientation": "v",
         "type": "box",
         "y": [
          -0.88779839208149,
          0.44269727406680953,
          0.8032921394151222,
          -0.06550560818461346,
          1.9770648053689104,
          1.9771419986445877,
          0.8184485222101127,
          -0.33490656181945094,
          -1.4634989412653792,
          2.4201422517817415,
          -0.38002372968692,
          1.7559259767496518,
          0.1150118306218919,
          -0.8381302615965344,
          -0.5453002844924816,
          -0.2790830822025973,
          -0.37603002708343664,
          -0.3837741053912723,
          0.4298795727025505,
          -0.17041498157261456,
          -0.1847827028861891,
          0.756793613167367,
          -0.036126278819638674,
          0.307044858885912,
          0.3569493475414374,
          -1.1686378538454998,
          -0.41615568526570645,
          0.3658397568198887,
          -0.09792825142901164,
          1.47853611726422,
          0.5397946383405509,
          0.7737316722718195,
          1.1864388304641107,
          -0.311097543323669,
          0.11291741482160102,
          0.9273084322175332,
          0.018691606522851702,
          -0.8213125096348348,
          -1.0718378920453435,
          -0.9479733788052108,
          -0.20755503298956074,
          1.4448364656198451,
          0.5315779775644139,
          0.30372081653078203,
          0.5371827894205107,
          -0.1955712931854566,
          0.0056277898485943695,
          0.4607086600853507,
          0.6490799347113932,
          -2.049748929608746,
          -1.2572140402419405,
          0.006094559928603997,
          2.064088313673123,
          1.8733608387849092,
          -0.6475668356011,
          1.0107721991639098,
          -1.9151055406678532,
          0.07581887532325861,
          -0.6147849525562099,
          0.500206960406309,
          0.833767752607716,
          1.8637848857178432,
          0.35464432993557077,
          1.3178422949322368,
          0.38121309654929314,
          -1.6153070092602555,
          0.5540038242074874,
          1.7841794989652877,
          0.0899140017465534,
          0.46966765187525045,
          -0.4482526127826353,
          -0.32391520382466554,
          1.9670623067755566,
          -0.3221095148492655,
          -0.8770636218208196,
          -0.2629046239565219,
          0.8382824150937563,
          -1.3379691465399735,
          0.5032689901193407,
          -0.2403433632423958,
          1.8473629736154062,
          0.525943443045498,
          1.4649076665660863,
          -0.18170178702912745,
          0.8521374610273675,
          -0.9667686007509567,
          0.2805411071524622,
          0.9441476402891524,
          -1.1246799847241986,
          0.6592849998382959,
          0.6866353543911546,
          -0.9929750772906635,
          -0.9038407848948752,
          -0.5585853704373671,
          0.2879624242189056,
          -1.895429765313769,
          0.8438594162338735,
          -0.37676054226759575,
          -2.2672827651409757,
          -1.444893239611375
         ]
        },
        {
         "boxpoints": false,
         "line": {
          "width": 1.3
         },
         "marker": {
          "color": "rgba(128, 0, 128, 1.0)"
         },
         "name": "D",
         "orientation": "v",
         "type": "box",
         "y": [
          -0.5184772891148443,
          -0.45195871605680127,
          0.9805014564267058,
          0.3257691280908592,
          -0.7826627675841871,
          0.6770781792121421,
          -1.1052651148200576,
          0.21717951761384113,
          0.36681676202669283,
          -0.4732525545369161,
          1.4035729057512265,
          -2.402811267417673,
          0.15494173626051394,
          0.474044086898922,
          -0.612226809529411,
          -0.210886109402751,
          0.8358311863444511,
          -1.174522794025081,
          -0.7293489670376238,
          -0.324180559531859,
          -0.11451713610976523,
          -0.14756715292827366,
          0.044054079614501016,
          2.362105278524613,
          -0.32427069909587436,
          -1.11182186381714,
          0.35028652338641336,
          0.5429196668579732,
          -0.2030410443499303,
          0.7702705537198106,
          0.17048833246444065,
          -0.4161581927877217,
          -0.24818510750683487,
          -1.6239191333393042,
          -0.06650680894358926,
          -0.6629018444870151,
          -0.1604716942138816,
          1.6418254508132357,
          0.6613234659900061,
          0.36555267581830403,
          0.8041475124638096,
          0.7885434236162336,
          1.7182604333671245,
          0.48329937602980266,
          -0.11348695973840284,
          0.5470469549347585,
          0.021812290172518806,
          0.4190406878572417,
          -0.6466730258023208,
          1.902185007811656,
          -0.6946122310414046,
          0.43184430242982025,
          -0.14769244356710606,
          -0.26218478202372275,
          0.24150424033867932,
          1.600858750259185,
          1.236902244890655,
          1.571790161093822,
          0.9963374055009198,
          0.5863242318888595,
          -0.8834692933076573,
          -0.012570112051435057,
          2.0702543415045698,
          -1.3251325105404554,
          0.7985942131433866,
          0.5535777147696139,
          0.41779318155548606,
          -0.18958036005379458,
          0.8020599242343023,
          -1.5551301472784032,
          0.35823842936158595,
          1.0594507659436405,
          0.44032733100620586,
          0.9181795120620478,
          1.6517031975303245,
          1.3566155447945645,
          -0.10161074284651812,
          0.037371410372500476,
          0.40518465030519873,
          -0.5590304204155774,
          0.885802599695302,
          1.4424180239720863,
          0.6894927478334444,
          0.5039884662226771,
          0.8165293917873581,
          -0.21237114103132876,
          -0.102952045294696,
          -0.7105656679105171,
          0.132375960885404,
          -1.4794112218880235,
          1.5251025468544546,
          -0.568948858223419,
          -2.318186077001681,
          -1.392794799423355,
          -1.274059313850665,
          -1.740159635138325,
          -1.0349779850946192,
          1.1512063979261347,
          1.2308723115207083,
          -1.1909266284416384
         ]
        }
       ],
       "layout": {
        "legend": {
         "bgcolor": "#F5F6F9",
         "font": {
          "color": "#4D5663"
         }
        },
        "paper_bgcolor": "#F5F6F9",
        "plot_bgcolor": "#F5F6F9",
        "template": {
         "data": {
          "bar": [
           {
            "error_x": {
             "color": "#2a3f5f"
            },
            "error_y": {
             "color": "#2a3f5f"
            },
            "marker": {
             "line": {
              "color": "#E5ECF6",
              "width": 0.5
             }
            },
            "type": "bar"
           }
          ],
          "barpolar": [
           {
            "marker": {
             "line": {
              "color": "#E5ECF6",
              "width": 0.5
             }
            },
            "type": "barpolar"
           }
          ],
          "carpet": [
           {
            "aaxis": {
             "endlinecolor": "#2a3f5f",
             "gridcolor": "white",
             "linecolor": "white",
             "minorgridcolor": "white",
             "startlinecolor": "#2a3f5f"
            },
            "baxis": {
             "endlinecolor": "#2a3f5f",
             "gridcolor": "white",
             "linecolor": "white",
             "minorgridcolor": "white",
             "startlinecolor": "#2a3f5f"
            },
            "type": "carpet"
           }
          ],
          "choropleth": [
           {
            "colorbar": {
             "outlinewidth": 0,
             "ticks": ""
            },
            "type": "choropleth"
           }
          ],
          "contour": [
           {
            "colorbar": {
             "outlinewidth": 0,
             "ticks": ""
            },
            "colorscale": [
             [
              0,
              "#0d0887"
             ],
             [
              0.1111111111111111,
              "#46039f"
             ],
             [
              0.2222222222222222,
              "#7201a8"
             ],
             [
              0.3333333333333333,
              "#9c179e"
             ],
             [
              0.4444444444444444,
              "#bd3786"
             ],
             [
              0.5555555555555556,
              "#d8576b"
             ],
             [
              0.6666666666666666,
              "#ed7953"
             ],
             [
              0.7777777777777778,
              "#fb9f3a"
             ],
             [
              0.8888888888888888,
              "#fdca26"
             ],
             [
              1,
              "#f0f921"
             ]
            ],
            "type": "contour"
           }
          ],
          "contourcarpet": [
           {
            "colorbar": {
             "outlinewidth": 0,
             "ticks": ""
            },
            "type": "contourcarpet"
           }
          ],
          "heatmap": [
           {
            "colorbar": {
             "outlinewidth": 0,
             "ticks": ""
            },
            "colorscale": [
             [
              0,
              "#0d0887"
             ],
             [
              0.1111111111111111,
              "#46039f"
             ],
             [
              0.2222222222222222,
              "#7201a8"
             ],
             [
              0.3333333333333333,
              "#9c179e"
             ],
             [
              0.4444444444444444,
              "#bd3786"
             ],
             [
              0.5555555555555556,
              "#d8576b"
             ],
             [
              0.6666666666666666,
              "#ed7953"
             ],
             [
              0.7777777777777778,
              "#fb9f3a"
             ],
             [
              0.8888888888888888,
              "#fdca26"
             ],
             [
              1,
              "#f0f921"
             ]
            ],
            "type": "heatmap"
           }
          ],
          "heatmapgl": [
           {
            "colorbar": {
             "outlinewidth": 0,
             "ticks": ""
            },
            "colorscale": [
             [
              0,
              "#0d0887"
             ],
             [
              0.1111111111111111,
              "#46039f"
             ],
             [
              0.2222222222222222,
              "#7201a8"
             ],
             [
              0.3333333333333333,
              "#9c179e"
             ],
             [
              0.4444444444444444,
              "#bd3786"
             ],
             [
              0.5555555555555556,
              "#d8576b"
             ],
             [
              0.6666666666666666,
              "#ed7953"
             ],
             [
              0.7777777777777778,
              "#fb9f3a"
             ],
             [
              0.8888888888888888,
              "#fdca26"
             ],
             [
              1,
              "#f0f921"
             ]
            ],
            "type": "heatmapgl"
           }
          ],
          "histogram": [
           {
            "marker": {
             "colorbar": {
              "outlinewidth": 0,
              "ticks": ""
             }
            },
            "type": "histogram"
           }
          ],
          "histogram2d": [
           {
            "colorbar": {
             "outlinewidth": 0,
             "ticks": ""
            },
            "colorscale": [
             [
              0,
              "#0d0887"
             ],
             [
              0.1111111111111111,
              "#46039f"
             ],
             [
              0.2222222222222222,
              "#7201a8"
             ],
             [
              0.3333333333333333,
              "#9c179e"
             ],
             [
              0.4444444444444444,
              "#bd3786"
             ],
             [
              0.5555555555555556,
              "#d8576b"
             ],
             [
              0.6666666666666666,
              "#ed7953"
             ],
             [
              0.7777777777777778,
              "#fb9f3a"
             ],
             [
              0.8888888888888888,
              "#fdca26"
             ],
             [
              1,
              "#f0f921"
             ]
            ],
            "type": "histogram2d"
           }
          ],
          "histogram2dcontour": [
           {
            "colorbar": {
             "outlinewidth": 0,
             "ticks": ""
            },
            "colorscale": [
             [
              0,
              "#0d0887"
             ],
             [
              0.1111111111111111,
              "#46039f"
             ],
             [
              0.2222222222222222,
              "#7201a8"
             ],
             [
              0.3333333333333333,
              "#9c179e"
             ],
             [
              0.4444444444444444,
              "#bd3786"
             ],
             [
              0.5555555555555556,
              "#d8576b"
             ],
             [
              0.6666666666666666,
              "#ed7953"
             ],
             [
              0.7777777777777778,
              "#fb9f3a"
             ],
             [
              0.8888888888888888,
              "#fdca26"
             ],
             [
              1,
              "#f0f921"
             ]
            ],
            "type": "histogram2dcontour"
           }
          ],
          "mesh3d": [
           {
            "colorbar": {
             "outlinewidth": 0,
             "ticks": ""
            },
            "type": "mesh3d"
           }
          ],
          "parcoords": [
           {
            "line": {
             "colorbar": {
              "outlinewidth": 0,
              "ticks": ""
             }
            },
            "type": "parcoords"
           }
          ],
          "pie": [
           {
            "automargin": true,
            "type": "pie"
           }
          ],
          "scatter": [
           {
            "marker": {
             "colorbar": {
              "outlinewidth": 0,
              "ticks": ""
             }
            },
            "type": "scatter"
           }
          ],
          "scatter3d": [
           {
            "line": {
             "colorbar": {
              "outlinewidth": 0,
              "ticks": ""
             }
            },
            "marker": {
             "colorbar": {
              "outlinewidth": 0,
              "ticks": ""
             }
            },
            "type": "scatter3d"
           }
          ],
          "scattercarpet": [
           {
            "marker": {
             "colorbar": {
              "outlinewidth": 0,
              "ticks": ""
             }
            },
            "type": "scattercarpet"
           }
          ],
          "scattergeo": [
           {
            "marker": {
             "colorbar": {
              "outlinewidth": 0,
              "ticks": ""
             }
            },
            "type": "scattergeo"
           }
          ],
          "scattergl": [
           {
            "marker": {
             "colorbar": {
              "outlinewidth": 0,
              "ticks": ""
             }
            },
            "type": "scattergl"
           }
          ],
          "scattermapbox": [
           {
            "marker": {
             "colorbar": {
              "outlinewidth": 0,
              "ticks": ""
             }
            },
            "type": "scattermapbox"
           }
          ],
          "scatterpolar": [
           {
            "marker": {
             "colorbar": {
              "outlinewidth": 0,
              "ticks": ""
             }
            },
            "type": "scatterpolar"
           }
          ],
          "scatterpolargl": [
           {
            "marker": {
             "colorbar": {
              "outlinewidth": 0,
              "ticks": ""
             }
            },
            "type": "scatterpolargl"
           }
          ],
          "scatterternary": [
           {
            "marker": {
             "colorbar": {
              "outlinewidth": 0,
              "ticks": ""
             }
            },
            "type": "scatterternary"
           }
          ],
          "surface": [
           {
            "colorbar": {
             "outlinewidth": 0,
             "ticks": ""
            },
            "colorscale": [
             [
              0,
              "#0d0887"
             ],
             [
              0.1111111111111111,
              "#46039f"
             ],
             [
              0.2222222222222222,
              "#7201a8"
             ],
             [
              0.3333333333333333,
              "#9c179e"
             ],
             [
              0.4444444444444444,
              "#bd3786"
             ],
             [
              0.5555555555555556,
              "#d8576b"
             ],
             [
              0.6666666666666666,
              "#ed7953"
             ],
             [
              0.7777777777777778,
              "#fb9f3a"
             ],
             [
              0.8888888888888888,
              "#fdca26"
             ],
             [
              1,
              "#f0f921"
             ]
            ],
            "type": "surface"
           }
          ],
          "table": [
           {
            "cells": {
             "fill": {
              "color": "#EBF0F8"
             },
             "line": {
              "color": "white"
             }
            },
            "header": {
             "fill": {
              "color": "#C8D4E3"
             },
             "line": {
              "color": "white"
             }
            },
            "type": "table"
           }
          ]
         },
         "layout": {
          "annotationdefaults": {
           "arrowcolor": "#2a3f5f",
           "arrowhead": 0,
           "arrowwidth": 1
          },
          "coloraxis": {
           "colorbar": {
            "outlinewidth": 0,
            "ticks": ""
           }
          },
          "colorscale": {
           "diverging": [
            [
             0,
             "#8e0152"
            ],
            [
             0.1,
             "#c51b7d"
            ],
            [
             0.2,
             "#de77ae"
            ],
            [
             0.3,
             "#f1b6da"
            ],
            [
             0.4,
             "#fde0ef"
            ],
            [
             0.5,
             "#f7f7f7"
            ],
            [
             0.6,
             "#e6f5d0"
            ],
            [
             0.7,
             "#b8e186"
            ],
            [
             0.8,
             "#7fbc41"
            ],
            [
             0.9,
             "#4d9221"
            ],
            [
             1,
             "#276419"
            ]
           ],
           "sequential": [
            [
             0,
             "#0d0887"
            ],
            [
             0.1111111111111111,
             "#46039f"
            ],
            [
             0.2222222222222222,
             "#7201a8"
            ],
            [
             0.3333333333333333,
             "#9c179e"
            ],
            [
             0.4444444444444444,
             "#bd3786"
            ],
            [
             0.5555555555555556,
             "#d8576b"
            ],
            [
             0.6666666666666666,
             "#ed7953"
            ],
            [
             0.7777777777777778,
             "#fb9f3a"
            ],
            [
             0.8888888888888888,
             "#fdca26"
            ],
            [
             1,
             "#f0f921"
            ]
           ],
           "sequentialminus": [
            [
             0,
             "#0d0887"
            ],
            [
             0.1111111111111111,
             "#46039f"
            ],
            [
             0.2222222222222222,
             "#7201a8"
            ],
            [
             0.3333333333333333,
             "#9c179e"
            ],
            [
             0.4444444444444444,
             "#bd3786"
            ],
            [
             0.5555555555555556,
             "#d8576b"
            ],
            [
             0.6666666666666666,
             "#ed7953"
            ],
            [
             0.7777777777777778,
             "#fb9f3a"
            ],
            [
             0.8888888888888888,
             "#fdca26"
            ],
            [
             1,
             "#f0f921"
            ]
           ]
          },
          "colorway": [
           "#636efa",
           "#EF553B",
           "#00cc96",
           "#ab63fa",
           "#FFA15A",
           "#19d3f3",
           "#FF6692",
           "#B6E880",
           "#FF97FF",
           "#FECB52"
          ],
          "font": {
           "color": "#2a3f5f"
          },
          "geo": {
           "bgcolor": "white",
           "lakecolor": "white",
           "landcolor": "#E5ECF6",
           "showlakes": true,
           "showland": true,
           "subunitcolor": "white"
          },
          "hoverlabel": {
           "align": "left"
          },
          "hovermode": "closest",
          "mapbox": {
           "style": "light"
          },
          "paper_bgcolor": "white",
          "plot_bgcolor": "#E5ECF6",
          "polar": {
           "angularaxis": {
            "gridcolor": "white",
            "linecolor": "white",
            "ticks": ""
           },
           "bgcolor": "#E5ECF6",
           "radialaxis": {
            "gridcolor": "white",
            "linecolor": "white",
            "ticks": ""
           }
          },
          "scene": {
           "xaxis": {
            "backgroundcolor": "#E5ECF6",
            "gridcolor": "white",
            "gridwidth": 2,
            "linecolor": "white",
            "showbackground": true,
            "ticks": "",
            "zerolinecolor": "white"
           },
           "yaxis": {
            "backgroundcolor": "#E5ECF6",
            "gridcolor": "white",
            "gridwidth": 2,
            "linecolor": "white",
            "showbackground": true,
            "ticks": "",
            "zerolinecolor": "white"
           },
           "zaxis": {
            "backgroundcolor": "#E5ECF6",
            "gridcolor": "white",
            "gridwidth": 2,
            "linecolor": "white",
            "showbackground": true,
            "ticks": "",
            "zerolinecolor": "white"
           }
          },
          "shapedefaults": {
           "line": {
            "color": "#2a3f5f"
           }
          },
          "ternary": {
           "aaxis": {
            "gridcolor": "white",
            "linecolor": "white",
            "ticks": ""
           },
           "baxis": {
            "gridcolor": "white",
            "linecolor": "white",
            "ticks": ""
           },
           "bgcolor": "#E5ECF6",
           "caxis": {
            "gridcolor": "white",
            "linecolor": "white",
            "ticks": ""
           }
          },
          "title": {
           "x": 0.05
          },
          "xaxis": {
           "automargin": true,
           "gridcolor": "white",
           "linecolor": "white",
           "ticks": "",
           "title": {
            "standoff": 15
           },
           "zerolinecolor": "white",
           "zerolinewidth": 2
          },
          "yaxis": {
           "automargin": true,
           "gridcolor": "white",
           "linecolor": "white",
           "ticks": "",
           "title": {
            "standoff": 15
           },
           "zerolinecolor": "white",
           "zerolinewidth": 2
          }
         }
        },
        "title": {
         "font": {
          "color": "#4D5663"
         }
        },
        "xaxis": {
         "gridcolor": "#E1E5ED",
         "showgrid": true,
         "tickfont": {
          "color": "#4D5663"
         },
         "title": {
          "font": {
           "color": "#4D5663"
          },
          "text": ""
         },
         "zerolinecolor": "#E1E5ED"
        },
        "yaxis": {
         "gridcolor": "#E1E5ED",
         "showgrid": true,
         "tickfont": {
          "color": "#4D5663"
         },
         "title": {
          "font": {
           "color": "#4D5663"
          },
          "text": ""
         },
         "zerolinecolor": "#E1E5ED"
        }
       }
      },
      "text/html": [
       "<div>\n",
       "        \n",
       "        \n",
       "            <div id=\"56f398f7-4896-471a-a01a-6bfb7a65cf8d\" class=\"plotly-graph-div\" style=\"height:525px; width:100%;\"></div>\n",
       "            <script type=\"text/javascript\">\n",
       "                require([\"plotly\"], function(Plotly) {\n",
       "                    window.PLOTLYENV=window.PLOTLYENV || {};\n",
       "                    window.PLOTLYENV.BASE_URL='https://plot.ly';\n",
       "                    \n",
       "                if (document.getElementById(\"56f398f7-4896-471a-a01a-6bfb7a65cf8d\")) {\n",
       "                    Plotly.newPlot(\n",
       "                        '56f398f7-4896-471a-a01a-6bfb7a65cf8d',\n",
       "                        [{\"boxpoints\": false, \"line\": {\"width\": 1.3}, \"marker\": {\"color\": \"rgba(255, 153, 51, 1.0)\"}, \"name\": \"A\", \"orientation\": \"v\", \"type\": \"box\", \"y\": [-1.3739863479333019, -1.9624455010940727, 0.7327750939620981, -0.2919572815622404, -0.9217098205202516, 0.22744759905473583, 1.9132185334214225, 1.0655902636822598, -0.38928009078930315, -0.3452293933838182, 0.09091648675429946, 1.2073065192020882, -0.08500961714186184, -0.5055073853451985, 0.4687032216385739, -1.5978997254543206, -0.7666102457951843, -0.39398286841197316, -1.049186557582861, -1.067187592678143, 0.605592400516392, -0.11066233012795543, 0.39669421943886507, -1.0026267178735169, -0.8799490270845547, -1.2091025025157014, 0.8592587287529497, -1.3059621647376631, -0.49409588997722176, -0.8561085996940954, -0.09542823152230753, 0.7745566868372872, -2.159376269631232, -0.6469062031484143, -1.30290706575803, 0.34943224260271455, -0.7477458362035658, 1.3528696394413993, -2.920920040636787, 0.9278268638296904, 0.5605370533615859, -1.3140083470584134, 1.0275187862240902, 0.9080776763871582, 0.6662700296464388, -1.2137950590227322, 1.918957894421482, -0.24599141709506822, 0.4961882856255173, 0.4168717709122591, -0.3085438402018306, 0.5019814690468661, 0.3414158925692907, -0.4979364024958135, 0.08142353874951676, -1.0996710000315342, -1.0795816556751554, -0.8642669920964954, 0.10857557863564289, 0.46506328690511073, 0.18367046160415235, 2.6167268929959393, -0.5397623850278019, -0.5536167576692237, -1.0905694819253666, 1.0310309500377988, 2.501625720688344, -1.2021524648882707, -0.9988665672393777, 0.978803568142746, -0.4633340031417136, -0.8957523468579796, 2.8338315246665746, -0.8113723695934447, -1.2091331107832572, 0.8878928228341988, -1.3469269674940716, 0.40613418886213204, -0.11187966305446931, -1.2332976335109138, 2.03411678344503, 1.0654290462761313, 1.243647276758777, 0.1807108895321057, 1.930569055018915, -0.8503370519960449, 1.4729173906717832, -0.2620249792221265, -0.6941954714857629, -1.2676351294769936, 0.48680861925768976, -0.22478898017258253, 0.3634076839547694, 0.2521744014414418, -0.09182355768504491, 1.1635669193642673, 0.33191855536558423, 1.7942750323792322, 0.24598050825633014, 0.31914878297218924]}, {\"boxpoints\": false, \"line\": {\"width\": 1.3}, \"marker\": {\"color\": \"rgba(55, 128, 191, 1.0)\"}, \"name\": \"B\", \"orientation\": \"v\", \"type\": \"box\", \"y\": [-0.8412203013466952, -1.4556405330733901, 1.3995102914205535, -0.15224870922471553, 0.5268294298500653, -1.2197859339292123, 0.009582361726098606, 0.561181640424792, 1.0022719552298092, 0.33531467168808216, -0.22980153143524878, 1.4352720103751597, 1.0473100007601404, 0.45551917036101197, 1.4396428109200372, -0.015734081864879224, 1.052523315873753, -0.8211113533264749, -1.4797916161039029, -0.34685409701304637, 0.17358881034546442, 0.5532261070251974, -1.5744136598225333, 1.426930955211073, 0.6798043730217787, -0.9160625006402426, -1.032071873670647, -0.16932617762288818, -1.8629859480850752, -0.7176167617588177, -1.1642798789015683, -0.059885894398827216, 0.6242492276644211, 0.13943971879552275, -1.0917582640346943, 1.2454479934476843, -0.9313443143979103, 0.7306909003384003, 1.0775976473970825, -1.3171228686283447, 0.9308837784936753, 0.16790069092734883, 0.39023771995396866, -1.7127984009366335, -0.4959185062750779, 0.9426697666768178, 0.9640121729554312, 1.3675050740156776, -0.6243582176660069, -0.105685016760253, 0.06921731388890891, -0.9994001128726471, -0.16181921175049505, -1.1190026364806576, -0.8477201696417082, 1.4874815839507454, 1.0284057113622087, -0.4640318039069314, -0.10749989355395759, 0.7697046059129748, -1.0158229695521284, -0.4163946741757112, -1.070480661558205, -0.3229686699162554, -1.6492929812138015, 0.08543857762430547, -0.034751743869310424, 1.4158954255936758, -0.03652253446823537, 0.8367134058100361, 1.0711489335208217, 0.9895363649227079, -2.047414734568283, -0.19083294704200793, -0.38027944263450175, -0.7342768940328229, -1.4305665974365096, 2.1275466735535624, -1.4045247656173208, -0.37816621778742326, 0.5016845111373116, 1.3080308562604426, 0.09978118155517453, -0.7266434241839196, -0.3793724044571526, 0.1674729114282793, -0.7967869942878729, 1.6426527830130604, 0.47546955155749715, 0.7939767890300558, 0.24659542512216345, -2.701302367636305, -0.6137358895332142, -0.2566583648373671, 0.12933164941888436, 0.45365308999813764, 0.5485780672948903, -1.3704874518501422, 0.33844212720458716, -0.5474695980051565]}, {\"boxpoints\": false, \"line\": {\"width\": 1.3}, \"marker\": {\"color\": \"rgba(50, 171, 96, 1.0)\"}, \"name\": \"C\", \"orientation\": \"v\", \"type\": \"box\", \"y\": [-0.88779839208149, 0.44269727406680953, 0.8032921394151222, -0.06550560818461346, 1.9770648053689104, 1.9771419986445877, 0.8184485222101127, -0.33490656181945094, -1.4634989412653792, 2.4201422517817415, -0.38002372968692, 1.7559259767496518, 0.1150118306218919, -0.8381302615965344, -0.5453002844924816, -0.2790830822025973, -0.37603002708343664, -0.3837741053912723, 0.4298795727025505, -0.17041498157261456, -0.1847827028861891, 0.756793613167367, -0.036126278819638674, 0.307044858885912, 0.3569493475414374, -1.1686378538454998, -0.41615568526570645, 0.3658397568198887, -0.09792825142901164, 1.47853611726422, 0.5397946383405509, 0.7737316722718195, 1.1864388304641107, -0.311097543323669, 0.11291741482160102, 0.9273084322175332, 0.018691606522851702, -0.8213125096348348, -1.0718378920453435, -0.9479733788052108, -0.20755503298956074, 1.4448364656198451, 0.5315779775644139, 0.30372081653078203, 0.5371827894205107, -0.1955712931854566, 0.0056277898485943695, 0.4607086600853507, 0.6490799347113932, -2.049748929608746, -1.2572140402419405, 0.006094559928603997, 2.064088313673123, 1.8733608387849092, -0.6475668356011, 1.0107721991639098, -1.9151055406678532, 0.07581887532325861, -0.6147849525562099, 0.500206960406309, 0.833767752607716, 1.8637848857178432, 0.35464432993557077, 1.3178422949322368, 0.38121309654929314, -1.6153070092602555, 0.5540038242074874, 1.7841794989652877, 0.0899140017465534, 0.46966765187525045, -0.4482526127826353, -0.32391520382466554, 1.9670623067755566, -0.3221095148492655, -0.8770636218208196, -0.2629046239565219, 0.8382824150937563, -1.3379691465399735, 0.5032689901193407, -0.2403433632423958, 1.8473629736154062, 0.525943443045498, 1.4649076665660863, -0.18170178702912745, 0.8521374610273675, -0.9667686007509567, 0.2805411071524622, 0.9441476402891524, -1.1246799847241986, 0.6592849998382959, 0.6866353543911546, -0.9929750772906635, -0.9038407848948752, -0.5585853704373671, 0.2879624242189056, -1.895429765313769, 0.8438594162338735, -0.37676054226759575, -2.2672827651409757, -1.444893239611375]}, {\"boxpoints\": false, \"line\": {\"width\": 1.3}, \"marker\": {\"color\": \"rgba(128, 0, 128, 1.0)\"}, \"name\": \"D\", \"orientation\": \"v\", \"type\": \"box\", \"y\": [-0.5184772891148443, -0.45195871605680127, 0.9805014564267058, 0.3257691280908592, -0.7826627675841871, 0.6770781792121421, -1.1052651148200576, 0.21717951761384113, 0.36681676202669283, -0.4732525545369161, 1.4035729057512265, -2.402811267417673, 0.15494173626051394, 0.474044086898922, -0.612226809529411, -0.210886109402751, 0.8358311863444511, -1.174522794025081, -0.7293489670376238, -0.324180559531859, -0.11451713610976523, -0.14756715292827366, 0.044054079614501016, 2.362105278524613, -0.32427069909587436, -1.11182186381714, 0.35028652338641336, 0.5429196668579732, -0.2030410443499303, 0.7702705537198106, 0.17048833246444065, -0.4161581927877217, -0.24818510750683487, -1.6239191333393042, -0.06650680894358926, -0.6629018444870151, -0.1604716942138816, 1.6418254508132357, 0.6613234659900061, 0.36555267581830403, 0.8041475124638096, 0.7885434236162336, 1.7182604333671245, 0.48329937602980266, -0.11348695973840284, 0.5470469549347585, 0.021812290172518806, 0.4190406878572417, -0.6466730258023208, 1.902185007811656, -0.6946122310414046, 0.43184430242982025, -0.14769244356710606, -0.26218478202372275, 0.24150424033867932, 1.600858750259185, 1.236902244890655, 1.571790161093822, 0.9963374055009198, 0.5863242318888595, -0.8834692933076573, -0.012570112051435057, 2.0702543415045698, -1.3251325105404554, 0.7985942131433866, 0.5535777147696139, 0.41779318155548606, -0.18958036005379458, 0.8020599242343023, -1.5551301472784032, 0.35823842936158595, 1.0594507659436405, 0.44032733100620586, 0.9181795120620478, 1.6517031975303245, 1.3566155447945645, -0.10161074284651812, 0.037371410372500476, 0.40518465030519873, -0.5590304204155774, 0.885802599695302, 1.4424180239720863, 0.6894927478334444, 0.5039884662226771, 0.8165293917873581, -0.21237114103132876, -0.102952045294696, -0.7105656679105171, 0.132375960885404, -1.4794112218880235, 1.5251025468544546, -0.568948858223419, -2.318186077001681, -1.392794799423355, -1.274059313850665, -1.740159635138325, -1.0349779850946192, 1.1512063979261347, 1.2308723115207083, -1.1909266284416384]}],\n",
       "                        {\"legend\": {\"bgcolor\": \"#F5F6F9\", \"font\": {\"color\": \"#4D5663\"}}, \"paper_bgcolor\": \"#F5F6F9\", \"plot_bgcolor\": \"#F5F6F9\", \"template\": {\"data\": {\"bar\": [{\"error_x\": {\"color\": \"#2a3f5f\"}, \"error_y\": {\"color\": \"#2a3f5f\"}, \"marker\": {\"line\": {\"color\": \"#E5ECF6\", \"width\": 0.5}}, \"type\": \"bar\"}], \"barpolar\": [{\"marker\": {\"line\": {\"color\": \"#E5ECF6\", \"width\": 0.5}}, \"type\": \"barpolar\"}], \"carpet\": [{\"aaxis\": {\"endlinecolor\": \"#2a3f5f\", \"gridcolor\": \"white\", \"linecolor\": \"white\", \"minorgridcolor\": \"white\", \"startlinecolor\": \"#2a3f5f\"}, \"baxis\": {\"endlinecolor\": \"#2a3f5f\", \"gridcolor\": \"white\", \"linecolor\": \"white\", \"minorgridcolor\": \"white\", \"startlinecolor\": \"#2a3f5f\"}, \"type\": \"carpet\"}], \"choropleth\": [{\"colorbar\": {\"outlinewidth\": 0, \"ticks\": \"\"}, \"type\": \"choropleth\"}], \"contour\": [{\"colorbar\": {\"outlinewidth\": 0, \"ticks\": \"\"}, \"colorscale\": [[0.0, \"#0d0887\"], [0.1111111111111111, \"#46039f\"], [0.2222222222222222, \"#7201a8\"], [0.3333333333333333, \"#9c179e\"], [0.4444444444444444, \"#bd3786\"], [0.5555555555555556, \"#d8576b\"], [0.6666666666666666, \"#ed7953\"], [0.7777777777777778, \"#fb9f3a\"], [0.8888888888888888, \"#fdca26\"], [1.0, \"#f0f921\"]], \"type\": \"contour\"}], \"contourcarpet\": [{\"colorbar\": {\"outlinewidth\": 0, \"ticks\": \"\"}, \"type\": \"contourcarpet\"}], \"heatmap\": [{\"colorbar\": {\"outlinewidth\": 0, \"ticks\": \"\"}, \"colorscale\": [[0.0, \"#0d0887\"], [0.1111111111111111, \"#46039f\"], [0.2222222222222222, \"#7201a8\"], [0.3333333333333333, \"#9c179e\"], [0.4444444444444444, \"#bd3786\"], [0.5555555555555556, \"#d8576b\"], [0.6666666666666666, \"#ed7953\"], [0.7777777777777778, \"#fb9f3a\"], [0.8888888888888888, \"#fdca26\"], [1.0, \"#f0f921\"]], \"type\": \"heatmap\"}], \"heatmapgl\": [{\"colorbar\": {\"outlinewidth\": 0, \"ticks\": \"\"}, \"colorscale\": [[0.0, \"#0d0887\"], [0.1111111111111111, \"#46039f\"], [0.2222222222222222, \"#7201a8\"], [0.3333333333333333, \"#9c179e\"], [0.4444444444444444, \"#bd3786\"], [0.5555555555555556, \"#d8576b\"], [0.6666666666666666, \"#ed7953\"], [0.7777777777777778, \"#fb9f3a\"], [0.8888888888888888, \"#fdca26\"], [1.0, \"#f0f921\"]], \"type\": \"heatmapgl\"}], \"histogram\": [{\"marker\": {\"colorbar\": {\"outlinewidth\": 0, \"ticks\": \"\"}}, \"type\": \"histogram\"}], \"histogram2d\": [{\"colorbar\": {\"outlinewidth\": 0, \"ticks\": \"\"}, \"colorscale\": [[0.0, \"#0d0887\"], [0.1111111111111111, \"#46039f\"], [0.2222222222222222, \"#7201a8\"], [0.3333333333333333, \"#9c179e\"], [0.4444444444444444, \"#bd3786\"], [0.5555555555555556, \"#d8576b\"], [0.6666666666666666, \"#ed7953\"], [0.7777777777777778, \"#fb9f3a\"], [0.8888888888888888, \"#fdca26\"], [1.0, \"#f0f921\"]], \"type\": \"histogram2d\"}], \"histogram2dcontour\": [{\"colorbar\": {\"outlinewidth\": 0, \"ticks\": \"\"}, \"colorscale\": [[0.0, \"#0d0887\"], [0.1111111111111111, \"#46039f\"], [0.2222222222222222, \"#7201a8\"], [0.3333333333333333, \"#9c179e\"], [0.4444444444444444, \"#bd3786\"], [0.5555555555555556, \"#d8576b\"], [0.6666666666666666, \"#ed7953\"], [0.7777777777777778, \"#fb9f3a\"], [0.8888888888888888, \"#fdca26\"], [1.0, \"#f0f921\"]], \"type\": \"histogram2dcontour\"}], \"mesh3d\": [{\"colorbar\": {\"outlinewidth\": 0, \"ticks\": \"\"}, \"type\": \"mesh3d\"}], \"parcoords\": [{\"line\": {\"colorbar\": {\"outlinewidth\": 0, \"ticks\": \"\"}}, \"type\": \"parcoords\"}], \"pie\": [{\"automargin\": true, \"type\": \"pie\"}], \"scatter\": [{\"marker\": {\"colorbar\": {\"outlinewidth\": 0, \"ticks\": \"\"}}, \"type\": \"scatter\"}], \"scatter3d\": [{\"line\": {\"colorbar\": {\"outlinewidth\": 0, \"ticks\": \"\"}}, \"marker\": {\"colorbar\": {\"outlinewidth\": 0, \"ticks\": \"\"}}, \"type\": \"scatter3d\"}], \"scattercarpet\": [{\"marker\": {\"colorbar\": {\"outlinewidth\": 0, \"ticks\": \"\"}}, \"type\": \"scattercarpet\"}], \"scattergeo\": [{\"marker\": {\"colorbar\": {\"outlinewidth\": 0, \"ticks\": \"\"}}, \"type\": \"scattergeo\"}], \"scattergl\": [{\"marker\": {\"colorbar\": {\"outlinewidth\": 0, \"ticks\": \"\"}}, \"type\": \"scattergl\"}], \"scattermapbox\": [{\"marker\": {\"colorbar\": {\"outlinewidth\": 0, \"ticks\": \"\"}}, \"type\": \"scattermapbox\"}], \"scatterpolar\": [{\"marker\": {\"colorbar\": {\"outlinewidth\": 0, \"ticks\": \"\"}}, \"type\": \"scatterpolar\"}], \"scatterpolargl\": [{\"marker\": {\"colorbar\": {\"outlinewidth\": 0, \"ticks\": \"\"}}, \"type\": \"scatterpolargl\"}], \"scatterternary\": [{\"marker\": {\"colorbar\": {\"outlinewidth\": 0, \"ticks\": \"\"}}, \"type\": \"scatterternary\"}], \"surface\": [{\"colorbar\": {\"outlinewidth\": 0, \"ticks\": \"\"}, \"colorscale\": [[0.0, \"#0d0887\"], [0.1111111111111111, \"#46039f\"], [0.2222222222222222, \"#7201a8\"], [0.3333333333333333, \"#9c179e\"], [0.4444444444444444, \"#bd3786\"], [0.5555555555555556, \"#d8576b\"], [0.6666666666666666, \"#ed7953\"], [0.7777777777777778, \"#fb9f3a\"], [0.8888888888888888, \"#fdca26\"], [1.0, \"#f0f921\"]], \"type\": \"surface\"}], \"table\": [{\"cells\": {\"fill\": {\"color\": \"#EBF0F8\"}, \"line\": {\"color\": \"white\"}}, \"header\": {\"fill\": {\"color\": \"#C8D4E3\"}, \"line\": {\"color\": \"white\"}}, \"type\": \"table\"}]}, \"layout\": {\"annotationdefaults\": {\"arrowcolor\": \"#2a3f5f\", \"arrowhead\": 0, \"arrowwidth\": 1}, \"coloraxis\": {\"colorbar\": {\"outlinewidth\": 0, \"ticks\": \"\"}}, \"colorscale\": {\"diverging\": [[0, \"#8e0152\"], [0.1, \"#c51b7d\"], [0.2, \"#de77ae\"], [0.3, \"#f1b6da\"], [0.4, \"#fde0ef\"], [0.5, \"#f7f7f7\"], [0.6, \"#e6f5d0\"], [0.7, \"#b8e186\"], [0.8, \"#7fbc41\"], [0.9, \"#4d9221\"], [1, \"#276419\"]], \"sequential\": [[0.0, \"#0d0887\"], [0.1111111111111111, \"#46039f\"], [0.2222222222222222, \"#7201a8\"], [0.3333333333333333, \"#9c179e\"], [0.4444444444444444, \"#bd3786\"], [0.5555555555555556, \"#d8576b\"], [0.6666666666666666, \"#ed7953\"], [0.7777777777777778, \"#fb9f3a\"], [0.8888888888888888, \"#fdca26\"], [1.0, \"#f0f921\"]], \"sequentialminus\": [[0.0, \"#0d0887\"], [0.1111111111111111, \"#46039f\"], [0.2222222222222222, \"#7201a8\"], [0.3333333333333333, \"#9c179e\"], [0.4444444444444444, \"#bd3786\"], [0.5555555555555556, \"#d8576b\"], [0.6666666666666666, \"#ed7953\"], [0.7777777777777778, \"#fb9f3a\"], [0.8888888888888888, \"#fdca26\"], [1.0, \"#f0f921\"]]}, \"colorway\": [\"#636efa\", \"#EF553B\", \"#00cc96\", \"#ab63fa\", \"#FFA15A\", \"#19d3f3\", \"#FF6692\", \"#B6E880\", \"#FF97FF\", \"#FECB52\"], \"font\": {\"color\": \"#2a3f5f\"}, \"geo\": {\"bgcolor\": \"white\", \"lakecolor\": \"white\", \"landcolor\": \"#E5ECF6\", \"showlakes\": true, \"showland\": true, \"subunitcolor\": \"white\"}, \"hoverlabel\": {\"align\": \"left\"}, \"hovermode\": \"closest\", \"mapbox\": {\"style\": \"light\"}, \"paper_bgcolor\": \"white\", \"plot_bgcolor\": \"#E5ECF6\", \"polar\": {\"angularaxis\": {\"gridcolor\": \"white\", \"linecolor\": \"white\", \"ticks\": \"\"}, \"bgcolor\": \"#E5ECF6\", \"radialaxis\": {\"gridcolor\": \"white\", \"linecolor\": \"white\", \"ticks\": \"\"}}, \"scene\": {\"xaxis\": {\"backgroundcolor\": \"#E5ECF6\", \"gridcolor\": \"white\", \"gridwidth\": 2, \"linecolor\": \"white\", \"showbackground\": true, \"ticks\": \"\", \"zerolinecolor\": \"white\"}, \"yaxis\": {\"backgroundcolor\": \"#E5ECF6\", \"gridcolor\": \"white\", \"gridwidth\": 2, \"linecolor\": \"white\", \"showbackground\": true, \"ticks\": \"\", \"zerolinecolor\": \"white\"}, \"zaxis\": {\"backgroundcolor\": \"#E5ECF6\", \"gridcolor\": \"white\", \"gridwidth\": 2, \"linecolor\": \"white\", \"showbackground\": true, \"ticks\": \"\", \"zerolinecolor\": \"white\"}}, \"shapedefaults\": {\"line\": {\"color\": \"#2a3f5f\"}}, \"ternary\": {\"aaxis\": {\"gridcolor\": \"white\", \"linecolor\": \"white\", \"ticks\": \"\"}, \"baxis\": {\"gridcolor\": \"white\", \"linecolor\": \"white\", \"ticks\": \"\"}, \"bgcolor\": \"#E5ECF6\", \"caxis\": {\"gridcolor\": \"white\", \"linecolor\": \"white\", \"ticks\": \"\"}}, \"title\": {\"x\": 0.05}, \"xaxis\": {\"automargin\": true, \"gridcolor\": \"white\", \"linecolor\": \"white\", \"ticks\": \"\", \"title\": {\"standoff\": 15}, \"zerolinecolor\": \"white\", \"zerolinewidth\": 2}, \"yaxis\": {\"automargin\": true, \"gridcolor\": \"white\", \"linecolor\": \"white\", \"ticks\": \"\", \"title\": {\"standoff\": 15}, \"zerolinecolor\": \"white\", \"zerolinewidth\": 2}}}, \"title\": {\"font\": {\"color\": \"#4D5663\"}}, \"xaxis\": {\"gridcolor\": \"#E1E5ED\", \"showgrid\": true, \"tickfont\": {\"color\": \"#4D5663\"}, \"title\": {\"font\": {\"color\": \"#4D5663\"}, \"text\": \"\"}, \"zerolinecolor\": \"#E1E5ED\"}, \"yaxis\": {\"gridcolor\": \"#E1E5ED\", \"showgrid\": true, \"tickfont\": {\"color\": \"#4D5663\"}, \"title\": {\"font\": {\"color\": \"#4D5663\"}, \"text\": \"\"}, \"zerolinecolor\": \"#E1E5ED\"}},\n",
       "                        {\"showLink\": true, \"linkText\": \"Export to plot.ly\", \"plotlyServerURL\": \"https://plot.ly\", \"responsive\": true}\n",
       "                    ).then(function(){\n",
       "                            \n",
       "var gd = document.getElementById('56f398f7-4896-471a-a01a-6bfb7a65cf8d');\n",
       "var x = new MutationObserver(function (mutations, observer) {{\n",
       "        var display = window.getComputedStyle(gd).display;\n",
       "        if (!display || display === 'none') {{\n",
       "            console.log([gd, 'removed!']);\n",
       "            Plotly.purge(gd);\n",
       "            observer.disconnect();\n",
       "        }}\n",
       "}});\n",
       "\n",
       "// Listen for the removal of the full notebook cells\n",
       "var notebookContainer = gd.closest('#notebook-container');\n",
       "if (notebookContainer) {{\n",
       "    x.observe(notebookContainer, {childList: true});\n",
       "}}\n",
       "\n",
       "// Listen for the clearing of the current output cell\n",
       "var outputEl = gd.closest('.output');\n",
       "if (outputEl) {{\n",
       "    x.observe(outputEl, {childList: true});\n",
       "}}\n",
       "\n",
       "                        })\n",
       "                };\n",
       "                });\n",
       "            </script>\n",
       "        </div>"
      ]
     },
     "metadata": {},
     "output_type": "display_data"
    }
   ],
   "source": [
    "df.iplot(kind='box')"
   ]
  },
  {
   "cell_type": "markdown",
   "metadata": {},
   "source": [
    "## 3d Surface"
   ]
  },
  {
   "cell_type": "code",
   "execution_count": 14,
   "metadata": {},
   "outputs": [
    {
     "data": {
      "application/vnd.plotly.v1+json": {
       "config": {
        "linkText": "Export to plot.ly",
        "plotlyServerURL": "https://plot.ly",
        "showLink": true
       },
       "data": [
        {
         "colorscale": [
          [
           0,
           "rgb(165,0,38)"
          ],
          [
           0.1,
           "rgb(215,48,39)"
          ],
          [
           0.2,
           "rgb(244,109,67)"
          ],
          [
           0.3,
           "rgb(253,174,97)"
          ],
          [
           0.4,
           "rgb(254,224,144)"
          ],
          [
           0.5,
           "rgb(255,255,191)"
          ],
          [
           0.6,
           "rgb(224,243,248)"
          ],
          [
           0.7,
           "rgb(171,217,233)"
          ],
          [
           0.8,
           "rgb(116,173,209)"
          ],
          [
           0.9,
           "rgb(69,117,180)"
          ],
          [
           1,
           "rgb(49,54,149)"
          ]
         ],
         "type": "surface",
         "x": [
          0,
          1,
          2,
          3,
          4
         ],
         "y": [
          "x",
          "y",
          "z"
         ],
         "z": [
          [
           1,
           2,
           3,
           4,
           5
          ],
          [
           10,
           20,
           30,
           20,
           10
          ],
          [
           5,
           4,
           3,
           2,
           1
          ]
         ]
        }
       ],
       "layout": {
        "legend": {
         "bgcolor": "#F5F6F9",
         "font": {
          "color": "#4D5663"
         }
        },
        "paper_bgcolor": "#F5F6F9",
        "plot_bgcolor": "#F5F6F9",
        "template": {
         "data": {
          "bar": [
           {
            "error_x": {
             "color": "#2a3f5f"
            },
            "error_y": {
             "color": "#2a3f5f"
            },
            "marker": {
             "line": {
              "color": "#E5ECF6",
              "width": 0.5
             }
            },
            "type": "bar"
           }
          ],
          "barpolar": [
           {
            "marker": {
             "line": {
              "color": "#E5ECF6",
              "width": 0.5
             }
            },
            "type": "barpolar"
           }
          ],
          "carpet": [
           {
            "aaxis": {
             "endlinecolor": "#2a3f5f",
             "gridcolor": "white",
             "linecolor": "white",
             "minorgridcolor": "white",
             "startlinecolor": "#2a3f5f"
            },
            "baxis": {
             "endlinecolor": "#2a3f5f",
             "gridcolor": "white",
             "linecolor": "white",
             "minorgridcolor": "white",
             "startlinecolor": "#2a3f5f"
            },
            "type": "carpet"
           }
          ],
          "choropleth": [
           {
            "colorbar": {
             "outlinewidth": 0,
             "ticks": ""
            },
            "type": "choropleth"
           }
          ],
          "contour": [
           {
            "colorbar": {
             "outlinewidth": 0,
             "ticks": ""
            },
            "colorscale": [
             [
              0,
              "#0d0887"
             ],
             [
              0.1111111111111111,
              "#46039f"
             ],
             [
              0.2222222222222222,
              "#7201a8"
             ],
             [
              0.3333333333333333,
              "#9c179e"
             ],
             [
              0.4444444444444444,
              "#bd3786"
             ],
             [
              0.5555555555555556,
              "#d8576b"
             ],
             [
              0.6666666666666666,
              "#ed7953"
             ],
             [
              0.7777777777777778,
              "#fb9f3a"
             ],
             [
              0.8888888888888888,
              "#fdca26"
             ],
             [
              1,
              "#f0f921"
             ]
            ],
            "type": "contour"
           }
          ],
          "contourcarpet": [
           {
            "colorbar": {
             "outlinewidth": 0,
             "ticks": ""
            },
            "type": "contourcarpet"
           }
          ],
          "heatmap": [
           {
            "colorbar": {
             "outlinewidth": 0,
             "ticks": ""
            },
            "colorscale": [
             [
              0,
              "#0d0887"
             ],
             [
              0.1111111111111111,
              "#46039f"
             ],
             [
              0.2222222222222222,
              "#7201a8"
             ],
             [
              0.3333333333333333,
              "#9c179e"
             ],
             [
              0.4444444444444444,
              "#bd3786"
             ],
             [
              0.5555555555555556,
              "#d8576b"
             ],
             [
              0.6666666666666666,
              "#ed7953"
             ],
             [
              0.7777777777777778,
              "#fb9f3a"
             ],
             [
              0.8888888888888888,
              "#fdca26"
             ],
             [
              1,
              "#f0f921"
             ]
            ],
            "type": "heatmap"
           }
          ],
          "heatmapgl": [
           {
            "colorbar": {
             "outlinewidth": 0,
             "ticks": ""
            },
            "colorscale": [
             [
              0,
              "#0d0887"
             ],
             [
              0.1111111111111111,
              "#46039f"
             ],
             [
              0.2222222222222222,
              "#7201a8"
             ],
             [
              0.3333333333333333,
              "#9c179e"
             ],
             [
              0.4444444444444444,
              "#bd3786"
             ],
             [
              0.5555555555555556,
              "#d8576b"
             ],
             [
              0.6666666666666666,
              "#ed7953"
             ],
             [
              0.7777777777777778,
              "#fb9f3a"
             ],
             [
              0.8888888888888888,
              "#fdca26"
             ],
             [
              1,
              "#f0f921"
             ]
            ],
            "type": "heatmapgl"
           }
          ],
          "histogram": [
           {
            "marker": {
             "colorbar": {
              "outlinewidth": 0,
              "ticks": ""
             }
            },
            "type": "histogram"
           }
          ],
          "histogram2d": [
           {
            "colorbar": {
             "outlinewidth": 0,
             "ticks": ""
            },
            "colorscale": [
             [
              0,
              "#0d0887"
             ],
             [
              0.1111111111111111,
              "#46039f"
             ],
             [
              0.2222222222222222,
              "#7201a8"
             ],
             [
              0.3333333333333333,
              "#9c179e"
             ],
             [
              0.4444444444444444,
              "#bd3786"
             ],
             [
              0.5555555555555556,
              "#d8576b"
             ],
             [
              0.6666666666666666,
              "#ed7953"
             ],
             [
              0.7777777777777778,
              "#fb9f3a"
             ],
             [
              0.8888888888888888,
              "#fdca26"
             ],
             [
              1,
              "#f0f921"
             ]
            ],
            "type": "histogram2d"
           }
          ],
          "histogram2dcontour": [
           {
            "colorbar": {
             "outlinewidth": 0,
             "ticks": ""
            },
            "colorscale": [
             [
              0,
              "#0d0887"
             ],
             [
              0.1111111111111111,
              "#46039f"
             ],
             [
              0.2222222222222222,
              "#7201a8"
             ],
             [
              0.3333333333333333,
              "#9c179e"
             ],
             [
              0.4444444444444444,
              "#bd3786"
             ],
             [
              0.5555555555555556,
              "#d8576b"
             ],
             [
              0.6666666666666666,
              "#ed7953"
             ],
             [
              0.7777777777777778,
              "#fb9f3a"
             ],
             [
              0.8888888888888888,
              "#fdca26"
             ],
             [
              1,
              "#f0f921"
             ]
            ],
            "type": "histogram2dcontour"
           }
          ],
          "mesh3d": [
           {
            "colorbar": {
             "outlinewidth": 0,
             "ticks": ""
            },
            "type": "mesh3d"
           }
          ],
          "parcoords": [
           {
            "line": {
             "colorbar": {
              "outlinewidth": 0,
              "ticks": ""
             }
            },
            "type": "parcoords"
           }
          ],
          "pie": [
           {
            "automargin": true,
            "type": "pie"
           }
          ],
          "scatter": [
           {
            "marker": {
             "colorbar": {
              "outlinewidth": 0,
              "ticks": ""
             }
            },
            "type": "scatter"
           }
          ],
          "scatter3d": [
           {
            "line": {
             "colorbar": {
              "outlinewidth": 0,
              "ticks": ""
             }
            },
            "marker": {
             "colorbar": {
              "outlinewidth": 0,
              "ticks": ""
             }
            },
            "type": "scatter3d"
           }
          ],
          "scattercarpet": [
           {
            "marker": {
             "colorbar": {
              "outlinewidth": 0,
              "ticks": ""
             }
            },
            "type": "scattercarpet"
           }
          ],
          "scattergeo": [
           {
            "marker": {
             "colorbar": {
              "outlinewidth": 0,
              "ticks": ""
             }
            },
            "type": "scattergeo"
           }
          ],
          "scattergl": [
           {
            "marker": {
             "colorbar": {
              "outlinewidth": 0,
              "ticks": ""
             }
            },
            "type": "scattergl"
           }
          ],
          "scattermapbox": [
           {
            "marker": {
             "colorbar": {
              "outlinewidth": 0,
              "ticks": ""
             }
            },
            "type": "scattermapbox"
           }
          ],
          "scatterpolar": [
           {
            "marker": {
             "colorbar": {
              "outlinewidth": 0,
              "ticks": ""
             }
            },
            "type": "scatterpolar"
           }
          ],
          "scatterpolargl": [
           {
            "marker": {
             "colorbar": {
              "outlinewidth": 0,
              "ticks": ""
             }
            },
            "type": "scatterpolargl"
           }
          ],
          "scatterternary": [
           {
            "marker": {
             "colorbar": {
              "outlinewidth": 0,
              "ticks": ""
             }
            },
            "type": "scatterternary"
           }
          ],
          "surface": [
           {
            "colorbar": {
             "outlinewidth": 0,
             "ticks": ""
            },
            "colorscale": [
             [
              0,
              "#0d0887"
             ],
             [
              0.1111111111111111,
              "#46039f"
             ],
             [
              0.2222222222222222,
              "#7201a8"
             ],
             [
              0.3333333333333333,
              "#9c179e"
             ],
             [
              0.4444444444444444,
              "#bd3786"
             ],
             [
              0.5555555555555556,
              "#d8576b"
             ],
             [
              0.6666666666666666,
              "#ed7953"
             ],
             [
              0.7777777777777778,
              "#fb9f3a"
             ],
             [
              0.8888888888888888,
              "#fdca26"
             ],
             [
              1,
              "#f0f921"
             ]
            ],
            "type": "surface"
           }
          ],
          "table": [
           {
            "cells": {
             "fill": {
              "color": "#EBF0F8"
             },
             "line": {
              "color": "white"
             }
            },
            "header": {
             "fill": {
              "color": "#C8D4E3"
             },
             "line": {
              "color": "white"
             }
            },
            "type": "table"
           }
          ]
         },
         "layout": {
          "annotationdefaults": {
           "arrowcolor": "#2a3f5f",
           "arrowhead": 0,
           "arrowwidth": 1
          },
          "coloraxis": {
           "colorbar": {
            "outlinewidth": 0,
            "ticks": ""
           }
          },
          "colorscale": {
           "diverging": [
            [
             0,
             "#8e0152"
            ],
            [
             0.1,
             "#c51b7d"
            ],
            [
             0.2,
             "#de77ae"
            ],
            [
             0.3,
             "#f1b6da"
            ],
            [
             0.4,
             "#fde0ef"
            ],
            [
             0.5,
             "#f7f7f7"
            ],
            [
             0.6,
             "#e6f5d0"
            ],
            [
             0.7,
             "#b8e186"
            ],
            [
             0.8,
             "#7fbc41"
            ],
            [
             0.9,
             "#4d9221"
            ],
            [
             1,
             "#276419"
            ]
           ],
           "sequential": [
            [
             0,
             "#0d0887"
            ],
            [
             0.1111111111111111,
             "#46039f"
            ],
            [
             0.2222222222222222,
             "#7201a8"
            ],
            [
             0.3333333333333333,
             "#9c179e"
            ],
            [
             0.4444444444444444,
             "#bd3786"
            ],
            [
             0.5555555555555556,
             "#d8576b"
            ],
            [
             0.6666666666666666,
             "#ed7953"
            ],
            [
             0.7777777777777778,
             "#fb9f3a"
            ],
            [
             0.8888888888888888,
             "#fdca26"
            ],
            [
             1,
             "#f0f921"
            ]
           ],
           "sequentialminus": [
            [
             0,
             "#0d0887"
            ],
            [
             0.1111111111111111,
             "#46039f"
            ],
            [
             0.2222222222222222,
             "#7201a8"
            ],
            [
             0.3333333333333333,
             "#9c179e"
            ],
            [
             0.4444444444444444,
             "#bd3786"
            ],
            [
             0.5555555555555556,
             "#d8576b"
            ],
            [
             0.6666666666666666,
             "#ed7953"
            ],
            [
             0.7777777777777778,
             "#fb9f3a"
            ],
            [
             0.8888888888888888,
             "#fdca26"
            ],
            [
             1,
             "#f0f921"
            ]
           ]
          },
          "colorway": [
           "#636efa",
           "#EF553B",
           "#00cc96",
           "#ab63fa",
           "#FFA15A",
           "#19d3f3",
           "#FF6692",
           "#B6E880",
           "#FF97FF",
           "#FECB52"
          ],
          "font": {
           "color": "#2a3f5f"
          },
          "geo": {
           "bgcolor": "white",
           "lakecolor": "white",
           "landcolor": "#E5ECF6",
           "showlakes": true,
           "showland": true,
           "subunitcolor": "white"
          },
          "hoverlabel": {
           "align": "left"
          },
          "hovermode": "closest",
          "mapbox": {
           "style": "light"
          },
          "paper_bgcolor": "white",
          "plot_bgcolor": "#E5ECF6",
          "polar": {
           "angularaxis": {
            "gridcolor": "white",
            "linecolor": "white",
            "ticks": ""
           },
           "bgcolor": "#E5ECF6",
           "radialaxis": {
            "gridcolor": "white",
            "linecolor": "white",
            "ticks": ""
           }
          },
          "scene": {
           "xaxis": {
            "backgroundcolor": "#E5ECF6",
            "gridcolor": "white",
            "gridwidth": 2,
            "linecolor": "white",
            "showbackground": true,
            "ticks": "",
            "zerolinecolor": "white"
           },
           "yaxis": {
            "backgroundcolor": "#E5ECF6",
            "gridcolor": "white",
            "gridwidth": 2,
            "linecolor": "white",
            "showbackground": true,
            "ticks": "",
            "zerolinecolor": "white"
           },
           "zaxis": {
            "backgroundcolor": "#E5ECF6",
            "gridcolor": "white",
            "gridwidth": 2,
            "linecolor": "white",
            "showbackground": true,
            "ticks": "",
            "zerolinecolor": "white"
           }
          },
          "shapedefaults": {
           "line": {
            "color": "#2a3f5f"
           }
          },
          "ternary": {
           "aaxis": {
            "gridcolor": "white",
            "linecolor": "white",
            "ticks": ""
           },
           "baxis": {
            "gridcolor": "white",
            "linecolor": "white",
            "ticks": ""
           },
           "bgcolor": "#E5ECF6",
           "caxis": {
            "gridcolor": "white",
            "linecolor": "white",
            "ticks": ""
           }
          },
          "title": {
           "x": 0.05
          },
          "xaxis": {
           "automargin": true,
           "gridcolor": "white",
           "linecolor": "white",
           "ticks": "",
           "title": {
            "standoff": 15
           },
           "zerolinecolor": "white",
           "zerolinewidth": 2
          },
          "yaxis": {
           "automargin": true,
           "gridcolor": "white",
           "linecolor": "white",
           "ticks": "",
           "title": {
            "standoff": 15
           },
           "zerolinecolor": "white",
           "zerolinewidth": 2
          }
         }
        },
        "title": {
         "font": {
          "color": "#4D5663"
         }
        },
        "xaxis": {
         "gridcolor": "#E1E5ED",
         "showgrid": true,
         "tickfont": {
          "color": "#4D5663"
         },
         "title": {
          "font": {
           "color": "#4D5663"
          },
          "text": ""
         },
         "zerolinecolor": "#E1E5ED"
        },
        "yaxis": {
         "gridcolor": "#E1E5ED",
         "showgrid": true,
         "tickfont": {
          "color": "#4D5663"
         },
         "title": {
          "font": {
           "color": "#4D5663"
          },
          "text": ""
         },
         "zerolinecolor": "#E1E5ED"
        }
       }
      },
      "text/html": [
       "<div>\n",
       "        \n",
       "        \n",
       "            <div id=\"187be79a-5caa-4afd-9efb-03f8c71969fe\" class=\"plotly-graph-div\" style=\"height:525px; width:100%;\"></div>\n",
       "            <script type=\"text/javascript\">\n",
       "                require([\"plotly\"], function(Plotly) {\n",
       "                    window.PLOTLYENV=window.PLOTLYENV || {};\n",
       "                    window.PLOTLYENV.BASE_URL='https://plot.ly';\n",
       "                    \n",
       "                if (document.getElementById(\"187be79a-5caa-4afd-9efb-03f8c71969fe\")) {\n",
       "                    Plotly.newPlot(\n",
       "                        '187be79a-5caa-4afd-9efb-03f8c71969fe',\n",
       "                        [{\"colorscale\": [[0.0, \"rgb(165,0,38)\"], [0.1, \"rgb(215,48,39)\"], [0.2, \"rgb(244,109,67)\"], [0.3, \"rgb(253,174,97)\"], [0.4, \"rgb(254,224,144)\"], [0.5, \"rgb(255,255,191)\"], [0.6, \"rgb(224,243,248)\"], [0.7, \"rgb(171,217,233)\"], [0.8, \"rgb(116,173,209)\"], [0.9, \"rgb(69,117,180)\"], [1.0, \"rgb(49,54,149)\"]], \"type\": \"surface\", \"x\": [0, 1, 2, 3, 4], \"y\": [\"x\", \"y\", \"z\"], \"z\": [[1, 2, 3, 4, 5], [10, 20, 30, 20, 10], [5, 4, 3, 2, 1]]}],\n",
       "                        {\"legend\": {\"bgcolor\": \"#F5F6F9\", \"font\": {\"color\": \"#4D5663\"}}, \"paper_bgcolor\": \"#F5F6F9\", \"plot_bgcolor\": \"#F5F6F9\", \"template\": {\"data\": {\"bar\": [{\"error_x\": {\"color\": \"#2a3f5f\"}, \"error_y\": {\"color\": \"#2a3f5f\"}, \"marker\": {\"line\": {\"color\": \"#E5ECF6\", \"width\": 0.5}}, \"type\": \"bar\"}], \"barpolar\": [{\"marker\": {\"line\": {\"color\": \"#E5ECF6\", \"width\": 0.5}}, \"type\": \"barpolar\"}], \"carpet\": [{\"aaxis\": {\"endlinecolor\": \"#2a3f5f\", \"gridcolor\": \"white\", \"linecolor\": \"white\", \"minorgridcolor\": \"white\", \"startlinecolor\": \"#2a3f5f\"}, \"baxis\": {\"endlinecolor\": \"#2a3f5f\", \"gridcolor\": \"white\", \"linecolor\": \"white\", \"minorgridcolor\": \"white\", \"startlinecolor\": \"#2a3f5f\"}, \"type\": \"carpet\"}], \"choropleth\": [{\"colorbar\": {\"outlinewidth\": 0, \"ticks\": \"\"}, \"type\": \"choropleth\"}], \"contour\": [{\"colorbar\": {\"outlinewidth\": 0, \"ticks\": \"\"}, \"colorscale\": [[0.0, \"#0d0887\"], [0.1111111111111111, \"#46039f\"], [0.2222222222222222, \"#7201a8\"], [0.3333333333333333, \"#9c179e\"], [0.4444444444444444, \"#bd3786\"], [0.5555555555555556, \"#d8576b\"], [0.6666666666666666, \"#ed7953\"], [0.7777777777777778, \"#fb9f3a\"], [0.8888888888888888, \"#fdca26\"], [1.0, \"#f0f921\"]], \"type\": \"contour\"}], \"contourcarpet\": [{\"colorbar\": {\"outlinewidth\": 0, \"ticks\": \"\"}, \"type\": \"contourcarpet\"}], \"heatmap\": [{\"colorbar\": {\"outlinewidth\": 0, \"ticks\": \"\"}, \"colorscale\": [[0.0, \"#0d0887\"], [0.1111111111111111, \"#46039f\"], [0.2222222222222222, \"#7201a8\"], [0.3333333333333333, \"#9c179e\"], [0.4444444444444444, \"#bd3786\"], [0.5555555555555556, \"#d8576b\"], [0.6666666666666666, \"#ed7953\"], [0.7777777777777778, \"#fb9f3a\"], [0.8888888888888888, \"#fdca26\"], [1.0, \"#f0f921\"]], \"type\": \"heatmap\"}], \"heatmapgl\": [{\"colorbar\": {\"outlinewidth\": 0, \"ticks\": \"\"}, \"colorscale\": [[0.0, \"#0d0887\"], [0.1111111111111111, \"#46039f\"], [0.2222222222222222, \"#7201a8\"], [0.3333333333333333, \"#9c179e\"], [0.4444444444444444, \"#bd3786\"], [0.5555555555555556, \"#d8576b\"], [0.6666666666666666, \"#ed7953\"], [0.7777777777777778, \"#fb9f3a\"], [0.8888888888888888, \"#fdca26\"], [1.0, \"#f0f921\"]], \"type\": \"heatmapgl\"}], \"histogram\": [{\"marker\": {\"colorbar\": {\"outlinewidth\": 0, \"ticks\": \"\"}}, \"type\": \"histogram\"}], \"histogram2d\": [{\"colorbar\": {\"outlinewidth\": 0, \"ticks\": \"\"}, \"colorscale\": [[0.0, \"#0d0887\"], [0.1111111111111111, \"#46039f\"], [0.2222222222222222, \"#7201a8\"], [0.3333333333333333, \"#9c179e\"], [0.4444444444444444, \"#bd3786\"], [0.5555555555555556, \"#d8576b\"], [0.6666666666666666, \"#ed7953\"], [0.7777777777777778, \"#fb9f3a\"], [0.8888888888888888, \"#fdca26\"], [1.0, \"#f0f921\"]], \"type\": \"histogram2d\"}], \"histogram2dcontour\": [{\"colorbar\": {\"outlinewidth\": 0, \"ticks\": \"\"}, \"colorscale\": [[0.0, \"#0d0887\"], [0.1111111111111111, \"#46039f\"], [0.2222222222222222, \"#7201a8\"], [0.3333333333333333, \"#9c179e\"], [0.4444444444444444, \"#bd3786\"], [0.5555555555555556, \"#d8576b\"], [0.6666666666666666, \"#ed7953\"], [0.7777777777777778, \"#fb9f3a\"], [0.8888888888888888, \"#fdca26\"], [1.0, \"#f0f921\"]], \"type\": \"histogram2dcontour\"}], \"mesh3d\": [{\"colorbar\": {\"outlinewidth\": 0, \"ticks\": \"\"}, \"type\": \"mesh3d\"}], \"parcoords\": [{\"line\": {\"colorbar\": {\"outlinewidth\": 0, \"ticks\": \"\"}}, \"type\": \"parcoords\"}], \"pie\": [{\"automargin\": true, \"type\": \"pie\"}], \"scatter\": [{\"marker\": {\"colorbar\": {\"outlinewidth\": 0, \"ticks\": \"\"}}, \"type\": \"scatter\"}], \"scatter3d\": [{\"line\": {\"colorbar\": {\"outlinewidth\": 0, \"ticks\": \"\"}}, \"marker\": {\"colorbar\": {\"outlinewidth\": 0, \"ticks\": \"\"}}, \"type\": \"scatter3d\"}], \"scattercarpet\": [{\"marker\": {\"colorbar\": {\"outlinewidth\": 0, \"ticks\": \"\"}}, \"type\": \"scattercarpet\"}], \"scattergeo\": [{\"marker\": {\"colorbar\": {\"outlinewidth\": 0, \"ticks\": \"\"}}, \"type\": \"scattergeo\"}], \"scattergl\": [{\"marker\": {\"colorbar\": {\"outlinewidth\": 0, \"ticks\": \"\"}}, \"type\": \"scattergl\"}], \"scattermapbox\": [{\"marker\": {\"colorbar\": {\"outlinewidth\": 0, \"ticks\": \"\"}}, \"type\": \"scattermapbox\"}], \"scatterpolar\": [{\"marker\": {\"colorbar\": {\"outlinewidth\": 0, \"ticks\": \"\"}}, \"type\": \"scatterpolar\"}], \"scatterpolargl\": [{\"marker\": {\"colorbar\": {\"outlinewidth\": 0, \"ticks\": \"\"}}, \"type\": \"scatterpolargl\"}], \"scatterternary\": [{\"marker\": {\"colorbar\": {\"outlinewidth\": 0, \"ticks\": \"\"}}, \"type\": \"scatterternary\"}], \"surface\": [{\"colorbar\": {\"outlinewidth\": 0, \"ticks\": \"\"}, \"colorscale\": [[0.0, \"#0d0887\"], [0.1111111111111111, \"#46039f\"], [0.2222222222222222, \"#7201a8\"], [0.3333333333333333, \"#9c179e\"], [0.4444444444444444, \"#bd3786\"], [0.5555555555555556, \"#d8576b\"], [0.6666666666666666, \"#ed7953\"], [0.7777777777777778, \"#fb9f3a\"], [0.8888888888888888, \"#fdca26\"], [1.0, \"#f0f921\"]], \"type\": \"surface\"}], \"table\": [{\"cells\": {\"fill\": {\"color\": \"#EBF0F8\"}, \"line\": {\"color\": \"white\"}}, \"header\": {\"fill\": {\"color\": \"#C8D4E3\"}, \"line\": {\"color\": \"white\"}}, \"type\": \"table\"}]}, \"layout\": {\"annotationdefaults\": {\"arrowcolor\": \"#2a3f5f\", \"arrowhead\": 0, \"arrowwidth\": 1}, \"coloraxis\": {\"colorbar\": {\"outlinewidth\": 0, \"ticks\": \"\"}}, \"colorscale\": {\"diverging\": [[0, \"#8e0152\"], [0.1, \"#c51b7d\"], [0.2, \"#de77ae\"], [0.3, \"#f1b6da\"], [0.4, \"#fde0ef\"], [0.5, \"#f7f7f7\"], [0.6, \"#e6f5d0\"], [0.7, \"#b8e186\"], [0.8, \"#7fbc41\"], [0.9, \"#4d9221\"], [1, \"#276419\"]], \"sequential\": [[0.0, \"#0d0887\"], [0.1111111111111111, \"#46039f\"], [0.2222222222222222, \"#7201a8\"], [0.3333333333333333, \"#9c179e\"], [0.4444444444444444, \"#bd3786\"], [0.5555555555555556, \"#d8576b\"], [0.6666666666666666, \"#ed7953\"], [0.7777777777777778, \"#fb9f3a\"], [0.8888888888888888, \"#fdca26\"], [1.0, \"#f0f921\"]], \"sequentialminus\": [[0.0, \"#0d0887\"], [0.1111111111111111, \"#46039f\"], [0.2222222222222222, \"#7201a8\"], [0.3333333333333333, \"#9c179e\"], [0.4444444444444444, \"#bd3786\"], [0.5555555555555556, \"#d8576b\"], [0.6666666666666666, \"#ed7953\"], [0.7777777777777778, \"#fb9f3a\"], [0.8888888888888888, \"#fdca26\"], [1.0, \"#f0f921\"]]}, \"colorway\": [\"#636efa\", \"#EF553B\", \"#00cc96\", \"#ab63fa\", \"#FFA15A\", \"#19d3f3\", \"#FF6692\", \"#B6E880\", \"#FF97FF\", \"#FECB52\"], \"font\": {\"color\": \"#2a3f5f\"}, \"geo\": {\"bgcolor\": \"white\", \"lakecolor\": \"white\", \"landcolor\": \"#E5ECF6\", \"showlakes\": true, \"showland\": true, \"subunitcolor\": \"white\"}, \"hoverlabel\": {\"align\": \"left\"}, \"hovermode\": \"closest\", \"mapbox\": {\"style\": \"light\"}, \"paper_bgcolor\": \"white\", \"plot_bgcolor\": \"#E5ECF6\", \"polar\": {\"angularaxis\": {\"gridcolor\": \"white\", \"linecolor\": \"white\", \"ticks\": \"\"}, \"bgcolor\": \"#E5ECF6\", \"radialaxis\": {\"gridcolor\": \"white\", \"linecolor\": \"white\", \"ticks\": \"\"}}, \"scene\": {\"xaxis\": {\"backgroundcolor\": \"#E5ECF6\", \"gridcolor\": \"white\", \"gridwidth\": 2, \"linecolor\": \"white\", \"showbackground\": true, \"ticks\": \"\", \"zerolinecolor\": \"white\"}, \"yaxis\": {\"backgroundcolor\": \"#E5ECF6\", \"gridcolor\": \"white\", \"gridwidth\": 2, \"linecolor\": \"white\", \"showbackground\": true, \"ticks\": \"\", \"zerolinecolor\": \"white\"}, \"zaxis\": {\"backgroundcolor\": \"#E5ECF6\", \"gridcolor\": \"white\", \"gridwidth\": 2, \"linecolor\": \"white\", \"showbackground\": true, \"ticks\": \"\", \"zerolinecolor\": \"white\"}}, \"shapedefaults\": {\"line\": {\"color\": \"#2a3f5f\"}}, \"ternary\": {\"aaxis\": {\"gridcolor\": \"white\", \"linecolor\": \"white\", \"ticks\": \"\"}, \"baxis\": {\"gridcolor\": \"white\", \"linecolor\": \"white\", \"ticks\": \"\"}, \"bgcolor\": \"#E5ECF6\", \"caxis\": {\"gridcolor\": \"white\", \"linecolor\": \"white\", \"ticks\": \"\"}}, \"title\": {\"x\": 0.05}, \"xaxis\": {\"automargin\": true, \"gridcolor\": \"white\", \"linecolor\": \"white\", \"ticks\": \"\", \"title\": {\"standoff\": 15}, \"zerolinecolor\": \"white\", \"zerolinewidth\": 2}, \"yaxis\": {\"automargin\": true, \"gridcolor\": \"white\", \"linecolor\": \"white\", \"ticks\": \"\", \"title\": {\"standoff\": 15}, \"zerolinecolor\": \"white\", \"zerolinewidth\": 2}}}, \"title\": {\"font\": {\"color\": \"#4D5663\"}}, \"xaxis\": {\"gridcolor\": \"#E1E5ED\", \"showgrid\": true, \"tickfont\": {\"color\": \"#4D5663\"}, \"title\": {\"font\": {\"color\": \"#4D5663\"}, \"text\": \"\"}, \"zerolinecolor\": \"#E1E5ED\"}, \"yaxis\": {\"gridcolor\": \"#E1E5ED\", \"showgrid\": true, \"tickfont\": {\"color\": \"#4D5663\"}, \"title\": {\"font\": {\"color\": \"#4D5663\"}, \"text\": \"\"}, \"zerolinecolor\": \"#E1E5ED\"}},\n",
       "                        {\"showLink\": true, \"linkText\": \"Export to plot.ly\", \"plotlyServerURL\": \"https://plot.ly\", \"responsive\": true}\n",
       "                    ).then(function(){\n",
       "                            \n",
       "var gd = document.getElementById('187be79a-5caa-4afd-9efb-03f8c71969fe');\n",
       "var x = new MutationObserver(function (mutations, observer) {{\n",
       "        var display = window.getComputedStyle(gd).display;\n",
       "        if (!display || display === 'none') {{\n",
       "            console.log([gd, 'removed!']);\n",
       "            Plotly.purge(gd);\n",
       "            observer.disconnect();\n",
       "        }}\n",
       "}});\n",
       "\n",
       "// Listen for the removal of the full notebook cells\n",
       "var notebookContainer = gd.closest('#notebook-container');\n",
       "if (notebookContainer) {{\n",
       "    x.observe(notebookContainer, {childList: true});\n",
       "}}\n",
       "\n",
       "// Listen for the clearing of the current output cell\n",
       "var outputEl = gd.closest('.output');\n",
       "if (outputEl) {{\n",
       "    x.observe(outputEl, {childList: true});\n",
       "}}\n",
       "\n",
       "                        })\n",
       "                };\n",
       "                });\n",
       "            </script>\n",
       "        </div>"
      ]
     },
     "metadata": {},
     "output_type": "display_data"
    }
   ],
   "source": [
    "df3 = pd.DataFrame({'x':[1,2,3,4,5],'y':[10,20,30,20,10],'z':[5,4,3,2,1]})\n",
    "df3.iplot(kind='surface',colorscale='rdylbu')"
   ]
  },
  {
   "cell_type": "markdown",
   "metadata": {},
   "source": [
    "## Spread"
   ]
  },
  {
   "cell_type": "code",
   "execution_count": 15,
   "metadata": {},
   "outputs": [
    {
     "name": "stderr",
     "output_type": "stream",
     "text": [
      "/home/drishtant/anaconda3/lib/python3.8/site-packages/cufflinks/plotlytools.py:849: FutureWarning:\n",
      "\n",
      "The pandas.np module is deprecated and will be removed from pandas in a future version. Import numpy directly instead\n",
      "\n",
      "/home/drishtant/anaconda3/lib/python3.8/site-packages/cufflinks/plotlytools.py:850: FutureWarning:\n",
      "\n",
      "The pandas.np module is deprecated and will be removed from pandas in a future version. Import numpy directly instead\n",
      "\n"
     ]
    },
    {
     "data": {
      "application/vnd.plotly.v1+json": {
       "config": {
        "linkText": "Export to plot.ly",
        "plotlyServerURL": "https://plot.ly",
        "showLink": true
       },
       "data": [
        {
         "line": {
          "color": "rgba(255, 153, 51, 1.0)",
          "dash": "solid",
          "shape": "linear",
          "width": 1.3
         },
         "mode": "lines",
         "name": "A",
         "text": "",
         "type": "scatter",
         "x": [
          0,
          1,
          2,
          3,
          4,
          5,
          6,
          7,
          8,
          9,
          10,
          11,
          12,
          13,
          14,
          15,
          16,
          17,
          18,
          19,
          20,
          21,
          22,
          23,
          24,
          25,
          26,
          27,
          28,
          29,
          30,
          31,
          32,
          33,
          34,
          35,
          36,
          37,
          38,
          39,
          40,
          41,
          42,
          43,
          44,
          45,
          46,
          47,
          48,
          49,
          50,
          51,
          52,
          53,
          54,
          55,
          56,
          57,
          58,
          59,
          60,
          61,
          62,
          63,
          64,
          65,
          66,
          67,
          68,
          69,
          70,
          71,
          72,
          73,
          74,
          75,
          76,
          77,
          78,
          79,
          80,
          81,
          82,
          83,
          84,
          85,
          86,
          87,
          88,
          89,
          90,
          91,
          92,
          93,
          94,
          95,
          96,
          97,
          98,
          99
         ],
         "y": [
          -1.3739863479333019,
          -1.9624455010940727,
          0.7327750939620981,
          -0.2919572815622404,
          -0.9217098205202516,
          0.22744759905473583,
          1.9132185334214225,
          1.0655902636822598,
          -0.38928009078930315,
          -0.3452293933838182,
          0.09091648675429946,
          1.2073065192020882,
          -0.08500961714186184,
          -0.5055073853451985,
          0.4687032216385739,
          -1.5978997254543206,
          -0.7666102457951843,
          -0.39398286841197316,
          -1.049186557582861,
          -1.067187592678143,
          0.605592400516392,
          -0.11066233012795543,
          0.39669421943886507,
          -1.0026267178735169,
          -0.8799490270845547,
          -1.2091025025157014,
          0.8592587287529497,
          -1.3059621647376631,
          -0.49409588997722176,
          -0.8561085996940954,
          -0.09542823152230753,
          0.7745566868372872,
          -2.159376269631232,
          -0.6469062031484143,
          -1.30290706575803,
          0.34943224260271455,
          -0.7477458362035658,
          1.3528696394413993,
          -2.920920040636787,
          0.9278268638296904,
          0.5605370533615859,
          -1.3140083470584134,
          1.0275187862240902,
          0.9080776763871582,
          0.6662700296464388,
          -1.2137950590227322,
          1.918957894421482,
          -0.24599141709506822,
          0.4961882856255173,
          0.4168717709122591,
          -0.3085438402018306,
          0.5019814690468661,
          0.3414158925692907,
          -0.4979364024958135,
          0.08142353874951676,
          -1.0996710000315342,
          -1.0795816556751554,
          -0.8642669920964954,
          0.10857557863564289,
          0.46506328690511073,
          0.18367046160415235,
          2.6167268929959393,
          -0.5397623850278019,
          -0.5536167576692237,
          -1.0905694819253666,
          1.0310309500377988,
          2.501625720688344,
          -1.2021524648882707,
          -0.9988665672393777,
          0.978803568142746,
          -0.4633340031417136,
          -0.8957523468579796,
          2.8338315246665746,
          -0.8113723695934447,
          -1.2091331107832572,
          0.8878928228341988,
          -1.3469269674940716,
          0.40613418886213204,
          -0.11187966305446931,
          -1.2332976335109138,
          2.03411678344503,
          1.0654290462761313,
          1.243647276758777,
          0.1807108895321057,
          1.930569055018915,
          -0.8503370519960449,
          1.4729173906717832,
          -0.2620249792221265,
          -0.6941954714857629,
          -1.2676351294769936,
          0.48680861925768976,
          -0.22478898017258253,
          0.3634076839547694,
          0.2521744014414418,
          -0.09182355768504491,
          1.1635669193642673,
          0.33191855536558423,
          1.7942750323792322,
          0.24598050825633014,
          0.31914878297218924
         ]
        },
        {
         "line": {
          "color": "rgba(55, 128, 191, 1.0)",
          "dash": "solid",
          "shape": "linear",
          "width": 1.3
         },
         "mode": "lines",
         "name": "B",
         "text": "",
         "type": "scatter",
         "x": [
          0,
          1,
          2,
          3,
          4,
          5,
          6,
          7,
          8,
          9,
          10,
          11,
          12,
          13,
          14,
          15,
          16,
          17,
          18,
          19,
          20,
          21,
          22,
          23,
          24,
          25,
          26,
          27,
          28,
          29,
          30,
          31,
          32,
          33,
          34,
          35,
          36,
          37,
          38,
          39,
          40,
          41,
          42,
          43,
          44,
          45,
          46,
          47,
          48,
          49,
          50,
          51,
          52,
          53,
          54,
          55,
          56,
          57,
          58,
          59,
          60,
          61,
          62,
          63,
          64,
          65,
          66,
          67,
          68,
          69,
          70,
          71,
          72,
          73,
          74,
          75,
          76,
          77,
          78,
          79,
          80,
          81,
          82,
          83,
          84,
          85,
          86,
          87,
          88,
          89,
          90,
          91,
          92,
          93,
          94,
          95,
          96,
          97,
          98,
          99
         ],
         "y": [
          -0.8412203013466952,
          -1.4556405330733901,
          1.3995102914205535,
          -0.15224870922471553,
          0.5268294298500653,
          -1.2197859339292123,
          0.009582361726098606,
          0.561181640424792,
          1.0022719552298092,
          0.33531467168808216,
          -0.22980153143524878,
          1.4352720103751597,
          1.0473100007601404,
          0.45551917036101197,
          1.4396428109200372,
          -0.015734081864879224,
          1.052523315873753,
          -0.8211113533264749,
          -1.4797916161039029,
          -0.34685409701304637,
          0.17358881034546442,
          0.5532261070251974,
          -1.5744136598225333,
          1.426930955211073,
          0.6798043730217787,
          -0.9160625006402426,
          -1.032071873670647,
          -0.16932617762288818,
          -1.8629859480850752,
          -0.7176167617588177,
          -1.1642798789015683,
          -0.059885894398827216,
          0.6242492276644211,
          0.13943971879552275,
          -1.0917582640346943,
          1.2454479934476843,
          -0.9313443143979103,
          0.7306909003384003,
          1.0775976473970825,
          -1.3171228686283447,
          0.9308837784936753,
          0.16790069092734883,
          0.39023771995396866,
          -1.7127984009366335,
          -0.4959185062750779,
          0.9426697666768178,
          0.9640121729554312,
          1.3675050740156776,
          -0.6243582176660069,
          -0.105685016760253,
          0.06921731388890891,
          -0.9994001128726471,
          -0.16181921175049505,
          -1.1190026364806576,
          -0.8477201696417082,
          1.4874815839507454,
          1.0284057113622087,
          -0.4640318039069314,
          -0.10749989355395759,
          0.7697046059129748,
          -1.0158229695521284,
          -0.4163946741757112,
          -1.070480661558205,
          -0.3229686699162554,
          -1.6492929812138015,
          0.08543857762430547,
          -0.034751743869310424,
          1.4158954255936758,
          -0.03652253446823537,
          0.8367134058100361,
          1.0711489335208217,
          0.9895363649227079,
          -2.047414734568283,
          -0.19083294704200793,
          -0.38027944263450175,
          -0.7342768940328229,
          -1.4305665974365096,
          2.1275466735535624,
          -1.4045247656173208,
          -0.37816621778742326,
          0.5016845111373116,
          1.3080308562604426,
          0.09978118155517453,
          -0.7266434241839196,
          -0.3793724044571526,
          0.1674729114282793,
          -0.7967869942878729,
          1.6426527830130604,
          0.47546955155749715,
          0.7939767890300558,
          0.24659542512216345,
          -2.701302367636305,
          -0.6137358895332142,
          -0.2566583648373671,
          0.12933164941888436,
          0.45365308999813764,
          0.5485780672948903,
          -1.3704874518501422,
          0.33844212720458716,
          -0.5474695980051565
         ]
        },
        {
         "connectgaps": false,
         "fill": "tozeroy",
         "line": {
          "color": "green",
          "dash": "solid",
          "shape": "linear",
          "width": 0.5
         },
         "mode": "lines",
         "name": "Spread",
         "showlegend": false,
         "type": "scatter",
         "x": [
          0,
          1,
          2,
          3,
          4,
          5,
          6,
          7,
          8,
          9,
          10,
          11,
          12,
          13,
          14,
          15,
          16,
          17,
          18,
          19,
          20,
          21,
          22,
          23,
          24,
          25,
          26,
          27,
          28,
          29,
          30,
          31,
          32,
          33,
          34,
          35,
          36,
          37,
          38,
          39,
          40,
          41,
          42,
          43,
          44,
          45,
          46,
          47,
          48,
          49,
          50,
          51,
          52,
          53,
          54,
          55,
          56,
          57,
          58,
          59,
          60,
          61,
          62,
          63,
          64,
          65,
          66,
          67,
          68,
          69,
          70,
          71,
          72,
          73,
          74,
          75,
          76,
          77,
          78,
          79,
          80,
          81,
          82,
          83,
          84,
          85,
          86,
          87,
          88,
          89,
          90,
          91,
          92,
          93,
          94,
          95,
          96,
          97,
          98,
          99
         ],
         "xaxis": "x2",
         "y": [
          "",
          "",
          "",
          "",
          "",
          1.447233532983948,
          1.9036361716953238,
          0.5044086232574678,
          "",
          "",
          0.32071801818954826,
          "",
          "",
          "",
          "",
          "",
          "",
          0.4271284849145017,
          0.4306050585210419,
          "",
          0.43200359017092754,
          "",
          1.9711078792613983,
          "",
          "",
          "",
          1.8913306024235967,
          "",
          1.3688900581078536,
          "",
          1.0688516473792606,
          0.8344425812361144,
          "",
          "",
          "",
          "",
          0.1835984781943445,
          0.6221787391029989,
          "",
          2.244949732458035,
          "",
          "",
          0.6372810662701216,
          2.620876077323792,
          1.1621885359215167,
          "",
          0.9549457214660508,
          "",
          1.120546503291524,
          0.5225567876725121,
          "",
          1.5013815819195133,
          0.5032351043197858,
          0.6210662339848441,
          0.929143708391225,
          "",
          "",
          "",
          0.2160754721896005,
          "",
          1.1994934311562808,
          3.0331215671716505,
          0.530718276530403,
          "",
          0.5587234992884349,
          0.9455923724134933,
          2.5363774645576544,
          "",
          "",
          0.14209016233271,
          "",
          "",
          4.8812462592348576,
          "",
          "",
          1.6221697168670217,
          0.08363962994243801,
          "",
          1.2926451025628514,
          "",
          1.5324322723077186,
          "",
          1.1438660952036024,
          0.9073543137160253,
          2.3099414594760677,
          "",
          2.269704384959656,
          "",
          "",
          "",
          0.2402131941355263,
          2.4765133874637226,
          0.9771435734879836,
          0.5088327662788089,
          "",
          0.7099138293661296,
          "",
          3.1647624842293745,
          "",
          0.8666183809773458
         ],
         "yaxis": "y2"
        },
        {
         "connectgaps": false,
         "fill": "tozeroy",
         "line": {
          "color": "red",
          "dash": "solid",
          "shape": "linear",
          "width": 0.5
         },
         "mode": "lines",
         "name": "Spread",
         "showlegend": false,
         "type": "scatter",
         "x": [
          0,
          1,
          2,
          3,
          4,
          5,
          6,
          7,
          8,
          9,
          10,
          11,
          12,
          13,
          14,
          15,
          16,
          17,
          18,
          19,
          20,
          21,
          22,
          23,
          24,
          25,
          26,
          27,
          28,
          29,
          30,
          31,
          32,
          33,
          34,
          35,
          36,
          37,
          38,
          39,
          40,
          41,
          42,
          43,
          44,
          45,
          46,
          47,
          48,
          49,
          50,
          51,
          52,
          53,
          54,
          55,
          56,
          57,
          58,
          59,
          60,
          61,
          62,
          63,
          64,
          65,
          66,
          67,
          68,
          69,
          70,
          71,
          72,
          73,
          74,
          75,
          76,
          77,
          78,
          79,
          80,
          81,
          82,
          83,
          84,
          85,
          86,
          87,
          88,
          89,
          90,
          91,
          92,
          93,
          94,
          95,
          96,
          97,
          98,
          99
         ],
         "xaxis": "x2",
         "y": [
          -0.5327660465866066,
          -0.5068049680206825,
          -0.6667351974584554,
          -0.13970857233752484,
          -1.448539250370317,
          "",
          "",
          "",
          -1.3915520460191124,
          -0.6805440650719004,
          "",
          -0.22796549117307152,
          -1.1323196179020023,
          -0.9610265557062104,
          -0.9709395892814633,
          -1.5821656435894413,
          -1.8191335616689375,
          "",
          "",
          -0.7203334956650965,
          "",
          -0.6638884371531528,
          "",
          -2.42955767308459,
          -1.5597534001063333,
          -0.29304000187545876,
          "",
          -1.1366359871147749,
          "",
          -0.13849183793527764,
          "",
          "",
          -2.7836254972956533,
          -0.786345921943937,
          -0.2111488017233356,
          -0.8960157508449698,
          "",
          "",
          -3.9985176880338695,
          "",
          -0.37034672513208944,
          -1.4819090379857622,
          "",
          "",
          "",
          -2.1564648256995502,
          "",
          -1.613496491110746,
          "",
          "",
          -0.3777611540907395,
          "",
          "",
          "",
          "",
          -2.5871525839822795,
          -2.107987367037364,
          -0.400235188189564,
          "",
          -0.3046413190078641,
          "",
          "",
          "",
          -0.2306480877529683,
          "",
          "",
          "",
          -2.6180478904819466,
          -0.9623440327711423,
          "",
          -1.5344829366625352,
          -1.8852887117806874,
          "",
          -0.6205394225514368,
          -0.8288536681487555,
          "",
          "",
          -1.7214124846914305,
          "",
          -0.8551314157234906,
          "",
          -0.24260180998431125,
          "",
          "",
          "",
          -1.0178099634243243,
          "",
          -1.904677762235187,
          -1.16966502304326,
          -2.061611918507049,
          "",
          "",
          "",
          "",
          -0.22115520710392927,
          "",
          -0.2166595119293061,
          "",
          -0.09246161894825702,
          ""
         ],
         "yaxis": "y2"
        }
       ],
       "layout": {
        "hovermode": "x",
        "legend": {
         "bgcolor": "#F5F6F9",
         "font": {
          "color": "#4D5663"
         }
        },
        "paper_bgcolor": "#F5F6F9",
        "plot_bgcolor": "#F5F6F9",
        "template": {
         "data": {
          "bar": [
           {
            "error_x": {
             "color": "#2a3f5f"
            },
            "error_y": {
             "color": "#2a3f5f"
            },
            "marker": {
             "line": {
              "color": "#E5ECF6",
              "width": 0.5
             }
            },
            "type": "bar"
           }
          ],
          "barpolar": [
           {
            "marker": {
             "line": {
              "color": "#E5ECF6",
              "width": 0.5
             }
            },
            "type": "barpolar"
           }
          ],
          "carpet": [
           {
            "aaxis": {
             "endlinecolor": "#2a3f5f",
             "gridcolor": "white",
             "linecolor": "white",
             "minorgridcolor": "white",
             "startlinecolor": "#2a3f5f"
            },
            "baxis": {
             "endlinecolor": "#2a3f5f",
             "gridcolor": "white",
             "linecolor": "white",
             "minorgridcolor": "white",
             "startlinecolor": "#2a3f5f"
            },
            "type": "carpet"
           }
          ],
          "choropleth": [
           {
            "colorbar": {
             "outlinewidth": 0,
             "ticks": ""
            },
            "type": "choropleth"
           }
          ],
          "contour": [
           {
            "colorbar": {
             "outlinewidth": 0,
             "ticks": ""
            },
            "colorscale": [
             [
              0,
              "#0d0887"
             ],
             [
              0.1111111111111111,
              "#46039f"
             ],
             [
              0.2222222222222222,
              "#7201a8"
             ],
             [
              0.3333333333333333,
              "#9c179e"
             ],
             [
              0.4444444444444444,
              "#bd3786"
             ],
             [
              0.5555555555555556,
              "#d8576b"
             ],
             [
              0.6666666666666666,
              "#ed7953"
             ],
             [
              0.7777777777777778,
              "#fb9f3a"
             ],
             [
              0.8888888888888888,
              "#fdca26"
             ],
             [
              1,
              "#f0f921"
             ]
            ],
            "type": "contour"
           }
          ],
          "contourcarpet": [
           {
            "colorbar": {
             "outlinewidth": 0,
             "ticks": ""
            },
            "type": "contourcarpet"
           }
          ],
          "heatmap": [
           {
            "colorbar": {
             "outlinewidth": 0,
             "ticks": ""
            },
            "colorscale": [
             [
              0,
              "#0d0887"
             ],
             [
              0.1111111111111111,
              "#46039f"
             ],
             [
              0.2222222222222222,
              "#7201a8"
             ],
             [
              0.3333333333333333,
              "#9c179e"
             ],
             [
              0.4444444444444444,
              "#bd3786"
             ],
             [
              0.5555555555555556,
              "#d8576b"
             ],
             [
              0.6666666666666666,
              "#ed7953"
             ],
             [
              0.7777777777777778,
              "#fb9f3a"
             ],
             [
              0.8888888888888888,
              "#fdca26"
             ],
             [
              1,
              "#f0f921"
             ]
            ],
            "type": "heatmap"
           }
          ],
          "heatmapgl": [
           {
            "colorbar": {
             "outlinewidth": 0,
             "ticks": ""
            },
            "colorscale": [
             [
              0,
              "#0d0887"
             ],
             [
              0.1111111111111111,
              "#46039f"
             ],
             [
              0.2222222222222222,
              "#7201a8"
             ],
             [
              0.3333333333333333,
              "#9c179e"
             ],
             [
              0.4444444444444444,
              "#bd3786"
             ],
             [
              0.5555555555555556,
              "#d8576b"
             ],
             [
              0.6666666666666666,
              "#ed7953"
             ],
             [
              0.7777777777777778,
              "#fb9f3a"
             ],
             [
              0.8888888888888888,
              "#fdca26"
             ],
             [
              1,
              "#f0f921"
             ]
            ],
            "type": "heatmapgl"
           }
          ],
          "histogram": [
           {
            "marker": {
             "colorbar": {
              "outlinewidth": 0,
              "ticks": ""
             }
            },
            "type": "histogram"
           }
          ],
          "histogram2d": [
           {
            "colorbar": {
             "outlinewidth": 0,
             "ticks": ""
            },
            "colorscale": [
             [
              0,
              "#0d0887"
             ],
             [
              0.1111111111111111,
              "#46039f"
             ],
             [
              0.2222222222222222,
              "#7201a8"
             ],
             [
              0.3333333333333333,
              "#9c179e"
             ],
             [
              0.4444444444444444,
              "#bd3786"
             ],
             [
              0.5555555555555556,
              "#d8576b"
             ],
             [
              0.6666666666666666,
              "#ed7953"
             ],
             [
              0.7777777777777778,
              "#fb9f3a"
             ],
             [
              0.8888888888888888,
              "#fdca26"
             ],
             [
              1,
              "#f0f921"
             ]
            ],
            "type": "histogram2d"
           }
          ],
          "histogram2dcontour": [
           {
            "colorbar": {
             "outlinewidth": 0,
             "ticks": ""
            },
            "colorscale": [
             [
              0,
              "#0d0887"
             ],
             [
              0.1111111111111111,
              "#46039f"
             ],
             [
              0.2222222222222222,
              "#7201a8"
             ],
             [
              0.3333333333333333,
              "#9c179e"
             ],
             [
              0.4444444444444444,
              "#bd3786"
             ],
             [
              0.5555555555555556,
              "#d8576b"
             ],
             [
              0.6666666666666666,
              "#ed7953"
             ],
             [
              0.7777777777777778,
              "#fb9f3a"
             ],
             [
              0.8888888888888888,
              "#fdca26"
             ],
             [
              1,
              "#f0f921"
             ]
            ],
            "type": "histogram2dcontour"
           }
          ],
          "mesh3d": [
           {
            "colorbar": {
             "outlinewidth": 0,
             "ticks": ""
            },
            "type": "mesh3d"
           }
          ],
          "parcoords": [
           {
            "line": {
             "colorbar": {
              "outlinewidth": 0,
              "ticks": ""
             }
            },
            "type": "parcoords"
           }
          ],
          "pie": [
           {
            "automargin": true,
            "type": "pie"
           }
          ],
          "scatter": [
           {
            "marker": {
             "colorbar": {
              "outlinewidth": 0,
              "ticks": ""
             }
            },
            "type": "scatter"
           }
          ],
          "scatter3d": [
           {
            "line": {
             "colorbar": {
              "outlinewidth": 0,
              "ticks": ""
             }
            },
            "marker": {
             "colorbar": {
              "outlinewidth": 0,
              "ticks": ""
             }
            },
            "type": "scatter3d"
           }
          ],
          "scattercarpet": [
           {
            "marker": {
             "colorbar": {
              "outlinewidth": 0,
              "ticks": ""
             }
            },
            "type": "scattercarpet"
           }
          ],
          "scattergeo": [
           {
            "marker": {
             "colorbar": {
              "outlinewidth": 0,
              "ticks": ""
             }
            },
            "type": "scattergeo"
           }
          ],
          "scattergl": [
           {
            "marker": {
             "colorbar": {
              "outlinewidth": 0,
              "ticks": ""
             }
            },
            "type": "scattergl"
           }
          ],
          "scattermapbox": [
           {
            "marker": {
             "colorbar": {
              "outlinewidth": 0,
              "ticks": ""
             }
            },
            "type": "scattermapbox"
           }
          ],
          "scatterpolar": [
           {
            "marker": {
             "colorbar": {
              "outlinewidth": 0,
              "ticks": ""
             }
            },
            "type": "scatterpolar"
           }
          ],
          "scatterpolargl": [
           {
            "marker": {
             "colorbar": {
              "outlinewidth": 0,
              "ticks": ""
             }
            },
            "type": "scatterpolargl"
           }
          ],
          "scatterternary": [
           {
            "marker": {
             "colorbar": {
              "outlinewidth": 0,
              "ticks": ""
             }
            },
            "type": "scatterternary"
           }
          ],
          "surface": [
           {
            "colorbar": {
             "outlinewidth": 0,
             "ticks": ""
            },
            "colorscale": [
             [
              0,
              "#0d0887"
             ],
             [
              0.1111111111111111,
              "#46039f"
             ],
             [
              0.2222222222222222,
              "#7201a8"
             ],
             [
              0.3333333333333333,
              "#9c179e"
             ],
             [
              0.4444444444444444,
              "#bd3786"
             ],
             [
              0.5555555555555556,
              "#d8576b"
             ],
             [
              0.6666666666666666,
              "#ed7953"
             ],
             [
              0.7777777777777778,
              "#fb9f3a"
             ],
             [
              0.8888888888888888,
              "#fdca26"
             ],
             [
              1,
              "#f0f921"
             ]
            ],
            "type": "surface"
           }
          ],
          "table": [
           {
            "cells": {
             "fill": {
              "color": "#EBF0F8"
             },
             "line": {
              "color": "white"
             }
            },
            "header": {
             "fill": {
              "color": "#C8D4E3"
             },
             "line": {
              "color": "white"
             }
            },
            "type": "table"
           }
          ]
         },
         "layout": {
          "annotationdefaults": {
           "arrowcolor": "#2a3f5f",
           "arrowhead": 0,
           "arrowwidth": 1
          },
          "coloraxis": {
           "colorbar": {
            "outlinewidth": 0,
            "ticks": ""
           }
          },
          "colorscale": {
           "diverging": [
            [
             0,
             "#8e0152"
            ],
            [
             0.1,
             "#c51b7d"
            ],
            [
             0.2,
             "#de77ae"
            ],
            [
             0.3,
             "#f1b6da"
            ],
            [
             0.4,
             "#fde0ef"
            ],
            [
             0.5,
             "#f7f7f7"
            ],
            [
             0.6,
             "#e6f5d0"
            ],
            [
             0.7,
             "#b8e186"
            ],
            [
             0.8,
             "#7fbc41"
            ],
            [
             0.9,
             "#4d9221"
            ],
            [
             1,
             "#276419"
            ]
           ],
           "sequential": [
            [
             0,
             "#0d0887"
            ],
            [
             0.1111111111111111,
             "#46039f"
            ],
            [
             0.2222222222222222,
             "#7201a8"
            ],
            [
             0.3333333333333333,
             "#9c179e"
            ],
            [
             0.4444444444444444,
             "#bd3786"
            ],
            [
             0.5555555555555556,
             "#d8576b"
            ],
            [
             0.6666666666666666,
             "#ed7953"
            ],
            [
             0.7777777777777778,
             "#fb9f3a"
            ],
            [
             0.8888888888888888,
             "#fdca26"
            ],
            [
             1,
             "#f0f921"
            ]
           ],
           "sequentialminus": [
            [
             0,
             "#0d0887"
            ],
            [
             0.1111111111111111,
             "#46039f"
            ],
            [
             0.2222222222222222,
             "#7201a8"
            ],
            [
             0.3333333333333333,
             "#9c179e"
            ],
            [
             0.4444444444444444,
             "#bd3786"
            ],
            [
             0.5555555555555556,
             "#d8576b"
            ],
            [
             0.6666666666666666,
             "#ed7953"
            ],
            [
             0.7777777777777778,
             "#fb9f3a"
            ],
            [
             0.8888888888888888,
             "#fdca26"
            ],
            [
             1,
             "#f0f921"
            ]
           ]
          },
          "colorway": [
           "#636efa",
           "#EF553B",
           "#00cc96",
           "#ab63fa",
           "#FFA15A",
           "#19d3f3",
           "#FF6692",
           "#B6E880",
           "#FF97FF",
           "#FECB52"
          ],
          "font": {
           "color": "#2a3f5f"
          },
          "geo": {
           "bgcolor": "white",
           "lakecolor": "white",
           "landcolor": "#E5ECF6",
           "showlakes": true,
           "showland": true,
           "subunitcolor": "white"
          },
          "hoverlabel": {
           "align": "left"
          },
          "hovermode": "closest",
          "mapbox": {
           "style": "light"
          },
          "paper_bgcolor": "white",
          "plot_bgcolor": "#E5ECF6",
          "polar": {
           "angularaxis": {
            "gridcolor": "white",
            "linecolor": "white",
            "ticks": ""
           },
           "bgcolor": "#E5ECF6",
           "radialaxis": {
            "gridcolor": "white",
            "linecolor": "white",
            "ticks": ""
           }
          },
          "scene": {
           "xaxis": {
            "backgroundcolor": "#E5ECF6",
            "gridcolor": "white",
            "gridwidth": 2,
            "linecolor": "white",
            "showbackground": true,
            "ticks": "",
            "zerolinecolor": "white"
           },
           "yaxis": {
            "backgroundcolor": "#E5ECF6",
            "gridcolor": "white",
            "gridwidth": 2,
            "linecolor": "white",
            "showbackground": true,
            "ticks": "",
            "zerolinecolor": "white"
           },
           "zaxis": {
            "backgroundcolor": "#E5ECF6",
            "gridcolor": "white",
            "gridwidth": 2,
            "linecolor": "white",
            "showbackground": true,
            "ticks": "",
            "zerolinecolor": "white"
           }
          },
          "shapedefaults": {
           "line": {
            "color": "#2a3f5f"
           }
          },
          "ternary": {
           "aaxis": {
            "gridcolor": "white",
            "linecolor": "white",
            "ticks": ""
           },
           "baxis": {
            "gridcolor": "white",
            "linecolor": "white",
            "ticks": ""
           },
           "bgcolor": "#E5ECF6",
           "caxis": {
            "gridcolor": "white",
            "linecolor": "white",
            "ticks": ""
           }
          },
          "title": {
           "x": 0.05
          },
          "xaxis": {
           "automargin": true,
           "gridcolor": "white",
           "linecolor": "white",
           "ticks": "",
           "title": {
            "standoff": 15
           },
           "zerolinecolor": "white",
           "zerolinewidth": 2
          },
          "yaxis": {
           "automargin": true,
           "gridcolor": "white",
           "linecolor": "white",
           "ticks": "",
           "title": {
            "standoff": 15
           },
           "zerolinecolor": "white",
           "zerolinewidth": 2
          }
         }
        },
        "title": {
         "font": {
          "color": "#4D5663"
         }
        },
        "xaxis": {
         "gridcolor": "#E1E5ED",
         "showgrid": true,
         "tickfont": {
          "color": "#4D5663"
         },
         "title": {
          "font": {
           "color": "#4D5663"
          },
          "text": ""
         },
         "zerolinecolor": "#E1E5ED"
        },
        "xaxis2": {
         "anchor": "y2",
         "gridcolor": "#E1E5ED",
         "showgrid": true,
         "showticklabels": false,
         "tickfont": {
          "color": "#4D5663"
         },
         "title": {
          "font": {
           "color": "#4D5663"
          },
          "text": ""
         },
         "zerolinecolor": "#E1E5ED"
        },
        "yaxis": {
         "domain": [
          0.3,
          1
         ],
         "gridcolor": "#E1E5ED",
         "showgrid": true,
         "tickfont": {
          "color": "#4D5663"
         },
         "title": {
          "font": {
           "color": "#4D5663"
          },
          "text": ""
         },
         "zerolinecolor": "#E1E5ED"
        },
        "yaxis2": {
         "domain": [
          0,
          0.25
         ],
         "gridcolor": "#E1E5ED",
         "showgrid": true,
         "tickfont": {
          "color": "#4D5663"
         },
         "title": {
          "font": {
           "color": "#4D5663"
          },
          "text": "Spread"
         },
         "zerolinecolor": "#E1E5ED"
        }
       }
      },
      "text/html": [
       "<div>\n",
       "        \n",
       "        \n",
       "            <div id=\"db736c9e-bc91-4b7f-8174-6fd1d46df4d4\" class=\"plotly-graph-div\" style=\"height:525px; width:100%;\"></div>\n",
       "            <script type=\"text/javascript\">\n",
       "                require([\"plotly\"], function(Plotly) {\n",
       "                    window.PLOTLYENV=window.PLOTLYENV || {};\n",
       "                    window.PLOTLYENV.BASE_URL='https://plot.ly';\n",
       "                    \n",
       "                if (document.getElementById(\"db736c9e-bc91-4b7f-8174-6fd1d46df4d4\")) {\n",
       "                    Plotly.newPlot(\n",
       "                        'db736c9e-bc91-4b7f-8174-6fd1d46df4d4',\n",
       "                        [{\"line\": {\"color\": \"rgba(255, 153, 51, 1.0)\", \"dash\": \"solid\", \"shape\": \"linear\", \"width\": 1.3}, \"mode\": \"lines\", \"name\": \"A\", \"text\": \"\", \"type\": \"scatter\", \"x\": [0, 1, 2, 3, 4, 5, 6, 7, 8, 9, 10, 11, 12, 13, 14, 15, 16, 17, 18, 19, 20, 21, 22, 23, 24, 25, 26, 27, 28, 29, 30, 31, 32, 33, 34, 35, 36, 37, 38, 39, 40, 41, 42, 43, 44, 45, 46, 47, 48, 49, 50, 51, 52, 53, 54, 55, 56, 57, 58, 59, 60, 61, 62, 63, 64, 65, 66, 67, 68, 69, 70, 71, 72, 73, 74, 75, 76, 77, 78, 79, 80, 81, 82, 83, 84, 85, 86, 87, 88, 89, 90, 91, 92, 93, 94, 95, 96, 97, 98, 99], \"y\": [-1.3739863479333019, -1.9624455010940727, 0.7327750939620981, -0.2919572815622404, -0.9217098205202516, 0.22744759905473583, 1.9132185334214225, 1.0655902636822598, -0.38928009078930315, -0.3452293933838182, 0.09091648675429946, 1.2073065192020882, -0.08500961714186184, -0.5055073853451985, 0.4687032216385739, -1.5978997254543206, -0.7666102457951843, -0.39398286841197316, -1.049186557582861, -1.067187592678143, 0.605592400516392, -0.11066233012795543, 0.39669421943886507, -1.0026267178735169, -0.8799490270845547, -1.2091025025157014, 0.8592587287529497, -1.3059621647376631, -0.49409588997722176, -0.8561085996940954, -0.09542823152230753, 0.7745566868372872, -2.159376269631232, -0.6469062031484143, -1.30290706575803, 0.34943224260271455, -0.7477458362035658, 1.3528696394413993, -2.920920040636787, 0.9278268638296904, 0.5605370533615859, -1.3140083470584134, 1.0275187862240902, 0.9080776763871582, 0.6662700296464388, -1.2137950590227322, 1.918957894421482, -0.24599141709506822, 0.4961882856255173, 0.4168717709122591, -0.3085438402018306, 0.5019814690468661, 0.3414158925692907, -0.4979364024958135, 0.08142353874951676, -1.0996710000315342, -1.0795816556751554, -0.8642669920964954, 0.10857557863564289, 0.46506328690511073, 0.18367046160415235, 2.6167268929959393, -0.5397623850278019, -0.5536167576692237, -1.0905694819253666, 1.0310309500377988, 2.501625720688344, -1.2021524648882707, -0.9988665672393777, 0.978803568142746, -0.4633340031417136, -0.8957523468579796, 2.8338315246665746, -0.8113723695934447, -1.2091331107832572, 0.8878928228341988, -1.3469269674940716, 0.40613418886213204, -0.11187966305446931, -1.2332976335109138, 2.03411678344503, 1.0654290462761313, 1.243647276758777, 0.1807108895321057, 1.930569055018915, -0.8503370519960449, 1.4729173906717832, -0.2620249792221265, -0.6941954714857629, -1.2676351294769936, 0.48680861925768976, -0.22478898017258253, 0.3634076839547694, 0.2521744014414418, -0.09182355768504491, 1.1635669193642673, 0.33191855536558423, 1.7942750323792322, 0.24598050825633014, 0.31914878297218924]}, {\"line\": {\"color\": \"rgba(55, 128, 191, 1.0)\", \"dash\": \"solid\", \"shape\": \"linear\", \"width\": 1.3}, \"mode\": \"lines\", \"name\": \"B\", \"text\": \"\", \"type\": \"scatter\", \"x\": [0, 1, 2, 3, 4, 5, 6, 7, 8, 9, 10, 11, 12, 13, 14, 15, 16, 17, 18, 19, 20, 21, 22, 23, 24, 25, 26, 27, 28, 29, 30, 31, 32, 33, 34, 35, 36, 37, 38, 39, 40, 41, 42, 43, 44, 45, 46, 47, 48, 49, 50, 51, 52, 53, 54, 55, 56, 57, 58, 59, 60, 61, 62, 63, 64, 65, 66, 67, 68, 69, 70, 71, 72, 73, 74, 75, 76, 77, 78, 79, 80, 81, 82, 83, 84, 85, 86, 87, 88, 89, 90, 91, 92, 93, 94, 95, 96, 97, 98, 99], \"y\": [-0.8412203013466952, -1.4556405330733901, 1.3995102914205535, -0.15224870922471553, 0.5268294298500653, -1.2197859339292123, 0.009582361726098606, 0.561181640424792, 1.0022719552298092, 0.33531467168808216, -0.22980153143524878, 1.4352720103751597, 1.0473100007601404, 0.45551917036101197, 1.4396428109200372, -0.015734081864879224, 1.052523315873753, -0.8211113533264749, -1.4797916161039029, -0.34685409701304637, 0.17358881034546442, 0.5532261070251974, -1.5744136598225333, 1.426930955211073, 0.6798043730217787, -0.9160625006402426, -1.032071873670647, -0.16932617762288818, -1.8629859480850752, -0.7176167617588177, -1.1642798789015683, -0.059885894398827216, 0.6242492276644211, 0.13943971879552275, -1.0917582640346943, 1.2454479934476843, -0.9313443143979103, 0.7306909003384003, 1.0775976473970825, -1.3171228686283447, 0.9308837784936753, 0.16790069092734883, 0.39023771995396866, -1.7127984009366335, -0.4959185062750779, 0.9426697666768178, 0.9640121729554312, 1.3675050740156776, -0.6243582176660069, -0.105685016760253, 0.06921731388890891, -0.9994001128726471, -0.16181921175049505, -1.1190026364806576, -0.8477201696417082, 1.4874815839507454, 1.0284057113622087, -0.4640318039069314, -0.10749989355395759, 0.7697046059129748, -1.0158229695521284, -0.4163946741757112, -1.070480661558205, -0.3229686699162554, -1.6492929812138015, 0.08543857762430547, -0.034751743869310424, 1.4158954255936758, -0.03652253446823537, 0.8367134058100361, 1.0711489335208217, 0.9895363649227079, -2.047414734568283, -0.19083294704200793, -0.38027944263450175, -0.7342768940328229, -1.4305665974365096, 2.1275466735535624, -1.4045247656173208, -0.37816621778742326, 0.5016845111373116, 1.3080308562604426, 0.09978118155517453, -0.7266434241839196, -0.3793724044571526, 0.1674729114282793, -0.7967869942878729, 1.6426527830130604, 0.47546955155749715, 0.7939767890300558, 0.24659542512216345, -2.701302367636305, -0.6137358895332142, -0.2566583648373671, 0.12933164941888436, 0.45365308999813764, 0.5485780672948903, -1.3704874518501422, 0.33844212720458716, -0.5474695980051565]}, {\"connectgaps\": false, \"fill\": \"tozeroy\", \"line\": {\"color\": \"green\", \"dash\": \"solid\", \"shape\": \"linear\", \"width\": 0.5}, \"mode\": \"lines\", \"name\": \"Spread\", \"showlegend\": false, \"type\": \"scatter\", \"x\": [0, 1, 2, 3, 4, 5, 6, 7, 8, 9, 10, 11, 12, 13, 14, 15, 16, 17, 18, 19, 20, 21, 22, 23, 24, 25, 26, 27, 28, 29, 30, 31, 32, 33, 34, 35, 36, 37, 38, 39, 40, 41, 42, 43, 44, 45, 46, 47, 48, 49, 50, 51, 52, 53, 54, 55, 56, 57, 58, 59, 60, 61, 62, 63, 64, 65, 66, 67, 68, 69, 70, 71, 72, 73, 74, 75, 76, 77, 78, 79, 80, 81, 82, 83, 84, 85, 86, 87, 88, 89, 90, 91, 92, 93, 94, 95, 96, 97, 98, 99], \"xaxis\": \"x2\", \"y\": [\"\", \"\", \"\", \"\", \"\", 1.447233532983948, 1.9036361716953238, 0.5044086232574678, \"\", \"\", 0.32071801818954826, \"\", \"\", \"\", \"\", \"\", \"\", 0.4271284849145017, 0.4306050585210419, \"\", 0.43200359017092754, \"\", 1.9711078792613983, \"\", \"\", \"\", 1.8913306024235967, \"\", 1.3688900581078536, \"\", 1.0688516473792606, 0.8344425812361144, \"\", \"\", \"\", \"\", 0.1835984781943445, 0.6221787391029989, \"\", 2.244949732458035, \"\", \"\", 0.6372810662701216, 2.620876077323792, 1.1621885359215167, \"\", 0.9549457214660508, \"\", 1.120546503291524, 0.5225567876725121, \"\", 1.5013815819195133, 0.5032351043197858, 0.6210662339848441, 0.929143708391225, \"\", \"\", \"\", 0.2160754721896005, \"\", 1.1994934311562808, 3.0331215671716505, 0.530718276530403, \"\", 0.5587234992884349, 0.9455923724134933, 2.5363774645576544, \"\", \"\", 0.14209016233271, \"\", \"\", 4.8812462592348576, \"\", \"\", 1.6221697168670217, 0.08363962994243801, \"\", 1.2926451025628514, \"\", 1.5324322723077186, \"\", 1.1438660952036024, 0.9073543137160253, 2.3099414594760677, \"\", 2.269704384959656, \"\", \"\", \"\", 0.2402131941355263, 2.4765133874637226, 0.9771435734879836, 0.5088327662788089, \"\", 0.7099138293661296, \"\", 3.1647624842293745, \"\", 0.8666183809773458], \"yaxis\": \"y2\"}, {\"connectgaps\": false, \"fill\": \"tozeroy\", \"line\": {\"color\": \"red\", \"dash\": \"solid\", \"shape\": \"linear\", \"width\": 0.5}, \"mode\": \"lines\", \"name\": \"Spread\", \"showlegend\": false, \"type\": \"scatter\", \"x\": [0, 1, 2, 3, 4, 5, 6, 7, 8, 9, 10, 11, 12, 13, 14, 15, 16, 17, 18, 19, 20, 21, 22, 23, 24, 25, 26, 27, 28, 29, 30, 31, 32, 33, 34, 35, 36, 37, 38, 39, 40, 41, 42, 43, 44, 45, 46, 47, 48, 49, 50, 51, 52, 53, 54, 55, 56, 57, 58, 59, 60, 61, 62, 63, 64, 65, 66, 67, 68, 69, 70, 71, 72, 73, 74, 75, 76, 77, 78, 79, 80, 81, 82, 83, 84, 85, 86, 87, 88, 89, 90, 91, 92, 93, 94, 95, 96, 97, 98, 99], \"xaxis\": \"x2\", \"y\": [-0.5327660465866066, -0.5068049680206825, -0.6667351974584554, -0.13970857233752484, -1.448539250370317, \"\", \"\", \"\", -1.3915520460191124, -0.6805440650719004, \"\", -0.22796549117307152, -1.1323196179020023, -0.9610265557062104, -0.9709395892814633, -1.5821656435894413, -1.8191335616689375, \"\", \"\", -0.7203334956650965, \"\", -0.6638884371531528, \"\", -2.42955767308459, -1.5597534001063333, -0.29304000187545876, \"\", -1.1366359871147749, \"\", -0.13849183793527764, \"\", \"\", -2.7836254972956533, -0.786345921943937, -0.2111488017233356, -0.8960157508449698, \"\", \"\", -3.9985176880338695, \"\", -0.37034672513208944, -1.4819090379857622, \"\", \"\", \"\", -2.1564648256995502, \"\", -1.613496491110746, \"\", \"\", -0.3777611540907395, \"\", \"\", \"\", \"\", -2.5871525839822795, -2.107987367037364, -0.400235188189564, \"\", -0.3046413190078641, \"\", \"\", \"\", -0.2306480877529683, \"\", \"\", \"\", -2.6180478904819466, -0.9623440327711423, \"\", -1.5344829366625352, -1.8852887117806874, \"\", -0.6205394225514368, -0.8288536681487555, \"\", \"\", -1.7214124846914305, \"\", -0.8551314157234906, \"\", -0.24260180998431125, \"\", \"\", \"\", -1.0178099634243243, \"\", -1.904677762235187, -1.16966502304326, -2.061611918507049, \"\", \"\", \"\", \"\", -0.22115520710392927, \"\", -0.2166595119293061, \"\", -0.09246161894825702, \"\"], \"yaxis\": \"y2\"}],\n",
       "                        {\"hovermode\": \"x\", \"legend\": {\"bgcolor\": \"#F5F6F9\", \"font\": {\"color\": \"#4D5663\"}}, \"paper_bgcolor\": \"#F5F6F9\", \"plot_bgcolor\": \"#F5F6F9\", \"template\": {\"data\": {\"bar\": [{\"error_x\": {\"color\": \"#2a3f5f\"}, \"error_y\": {\"color\": \"#2a3f5f\"}, \"marker\": {\"line\": {\"color\": \"#E5ECF6\", \"width\": 0.5}}, \"type\": \"bar\"}], \"barpolar\": [{\"marker\": {\"line\": {\"color\": \"#E5ECF6\", \"width\": 0.5}}, \"type\": \"barpolar\"}], \"carpet\": [{\"aaxis\": {\"endlinecolor\": \"#2a3f5f\", \"gridcolor\": \"white\", \"linecolor\": \"white\", \"minorgridcolor\": \"white\", \"startlinecolor\": \"#2a3f5f\"}, \"baxis\": {\"endlinecolor\": \"#2a3f5f\", \"gridcolor\": \"white\", \"linecolor\": \"white\", \"minorgridcolor\": \"white\", \"startlinecolor\": \"#2a3f5f\"}, \"type\": \"carpet\"}], \"choropleth\": [{\"colorbar\": {\"outlinewidth\": 0, \"ticks\": \"\"}, \"type\": \"choropleth\"}], \"contour\": [{\"colorbar\": {\"outlinewidth\": 0, \"ticks\": \"\"}, \"colorscale\": [[0.0, \"#0d0887\"], [0.1111111111111111, \"#46039f\"], [0.2222222222222222, \"#7201a8\"], [0.3333333333333333, \"#9c179e\"], [0.4444444444444444, \"#bd3786\"], [0.5555555555555556, \"#d8576b\"], [0.6666666666666666, \"#ed7953\"], [0.7777777777777778, \"#fb9f3a\"], [0.8888888888888888, \"#fdca26\"], [1.0, \"#f0f921\"]], \"type\": \"contour\"}], \"contourcarpet\": [{\"colorbar\": {\"outlinewidth\": 0, \"ticks\": \"\"}, \"type\": \"contourcarpet\"}], \"heatmap\": [{\"colorbar\": {\"outlinewidth\": 0, \"ticks\": \"\"}, \"colorscale\": [[0.0, \"#0d0887\"], [0.1111111111111111, \"#46039f\"], [0.2222222222222222, \"#7201a8\"], [0.3333333333333333, \"#9c179e\"], [0.4444444444444444, \"#bd3786\"], [0.5555555555555556, \"#d8576b\"], [0.6666666666666666, \"#ed7953\"], [0.7777777777777778, \"#fb9f3a\"], [0.8888888888888888, \"#fdca26\"], [1.0, \"#f0f921\"]], \"type\": \"heatmap\"}], \"heatmapgl\": [{\"colorbar\": {\"outlinewidth\": 0, \"ticks\": \"\"}, \"colorscale\": [[0.0, \"#0d0887\"], [0.1111111111111111, \"#46039f\"], [0.2222222222222222, \"#7201a8\"], [0.3333333333333333, \"#9c179e\"], [0.4444444444444444, \"#bd3786\"], [0.5555555555555556, \"#d8576b\"], [0.6666666666666666, \"#ed7953\"], [0.7777777777777778, \"#fb9f3a\"], [0.8888888888888888, \"#fdca26\"], [1.0, \"#f0f921\"]], \"type\": \"heatmapgl\"}], \"histogram\": [{\"marker\": {\"colorbar\": {\"outlinewidth\": 0, \"ticks\": \"\"}}, \"type\": \"histogram\"}], \"histogram2d\": [{\"colorbar\": {\"outlinewidth\": 0, \"ticks\": \"\"}, \"colorscale\": [[0.0, \"#0d0887\"], [0.1111111111111111, \"#46039f\"], [0.2222222222222222, \"#7201a8\"], [0.3333333333333333, \"#9c179e\"], [0.4444444444444444, \"#bd3786\"], [0.5555555555555556, \"#d8576b\"], [0.6666666666666666, \"#ed7953\"], [0.7777777777777778, \"#fb9f3a\"], [0.8888888888888888, \"#fdca26\"], [1.0, \"#f0f921\"]], \"type\": \"histogram2d\"}], \"histogram2dcontour\": [{\"colorbar\": {\"outlinewidth\": 0, \"ticks\": \"\"}, \"colorscale\": [[0.0, \"#0d0887\"], [0.1111111111111111, \"#46039f\"], [0.2222222222222222, \"#7201a8\"], [0.3333333333333333, \"#9c179e\"], [0.4444444444444444, \"#bd3786\"], [0.5555555555555556, \"#d8576b\"], [0.6666666666666666, \"#ed7953\"], [0.7777777777777778, \"#fb9f3a\"], [0.8888888888888888, \"#fdca26\"], [1.0, \"#f0f921\"]], \"type\": \"histogram2dcontour\"}], \"mesh3d\": [{\"colorbar\": {\"outlinewidth\": 0, \"ticks\": \"\"}, \"type\": \"mesh3d\"}], \"parcoords\": [{\"line\": {\"colorbar\": {\"outlinewidth\": 0, \"ticks\": \"\"}}, \"type\": \"parcoords\"}], \"pie\": [{\"automargin\": true, \"type\": \"pie\"}], \"scatter\": [{\"marker\": {\"colorbar\": {\"outlinewidth\": 0, \"ticks\": \"\"}}, \"type\": \"scatter\"}], \"scatter3d\": [{\"line\": {\"colorbar\": {\"outlinewidth\": 0, \"ticks\": \"\"}}, \"marker\": {\"colorbar\": {\"outlinewidth\": 0, \"ticks\": \"\"}}, \"type\": \"scatter3d\"}], \"scattercarpet\": [{\"marker\": {\"colorbar\": {\"outlinewidth\": 0, \"ticks\": \"\"}}, \"type\": \"scattercarpet\"}], \"scattergeo\": [{\"marker\": {\"colorbar\": {\"outlinewidth\": 0, \"ticks\": \"\"}}, \"type\": \"scattergeo\"}], \"scattergl\": [{\"marker\": {\"colorbar\": {\"outlinewidth\": 0, \"ticks\": \"\"}}, \"type\": \"scattergl\"}], \"scattermapbox\": [{\"marker\": {\"colorbar\": {\"outlinewidth\": 0, \"ticks\": \"\"}}, \"type\": \"scattermapbox\"}], \"scatterpolar\": [{\"marker\": {\"colorbar\": {\"outlinewidth\": 0, \"ticks\": \"\"}}, \"type\": \"scatterpolar\"}], \"scatterpolargl\": [{\"marker\": {\"colorbar\": {\"outlinewidth\": 0, \"ticks\": \"\"}}, \"type\": \"scatterpolargl\"}], \"scatterternary\": [{\"marker\": {\"colorbar\": {\"outlinewidth\": 0, \"ticks\": \"\"}}, \"type\": \"scatterternary\"}], \"surface\": [{\"colorbar\": {\"outlinewidth\": 0, \"ticks\": \"\"}, \"colorscale\": [[0.0, \"#0d0887\"], [0.1111111111111111, \"#46039f\"], [0.2222222222222222, \"#7201a8\"], [0.3333333333333333, \"#9c179e\"], [0.4444444444444444, \"#bd3786\"], [0.5555555555555556, \"#d8576b\"], [0.6666666666666666, \"#ed7953\"], [0.7777777777777778, \"#fb9f3a\"], [0.8888888888888888, \"#fdca26\"], [1.0, \"#f0f921\"]], \"type\": \"surface\"}], \"table\": [{\"cells\": {\"fill\": {\"color\": \"#EBF0F8\"}, \"line\": {\"color\": \"white\"}}, \"header\": {\"fill\": {\"color\": \"#C8D4E3\"}, \"line\": {\"color\": \"white\"}}, \"type\": \"table\"}]}, \"layout\": {\"annotationdefaults\": {\"arrowcolor\": \"#2a3f5f\", \"arrowhead\": 0, \"arrowwidth\": 1}, \"coloraxis\": {\"colorbar\": {\"outlinewidth\": 0, \"ticks\": \"\"}}, \"colorscale\": {\"diverging\": [[0, \"#8e0152\"], [0.1, \"#c51b7d\"], [0.2, \"#de77ae\"], [0.3, \"#f1b6da\"], [0.4, \"#fde0ef\"], [0.5, \"#f7f7f7\"], [0.6, \"#e6f5d0\"], [0.7, \"#b8e186\"], [0.8, \"#7fbc41\"], [0.9, \"#4d9221\"], [1, \"#276419\"]], \"sequential\": [[0.0, \"#0d0887\"], [0.1111111111111111, \"#46039f\"], [0.2222222222222222, \"#7201a8\"], [0.3333333333333333, \"#9c179e\"], [0.4444444444444444, \"#bd3786\"], [0.5555555555555556, \"#d8576b\"], [0.6666666666666666, \"#ed7953\"], [0.7777777777777778, \"#fb9f3a\"], [0.8888888888888888, \"#fdca26\"], [1.0, \"#f0f921\"]], \"sequentialminus\": [[0.0, \"#0d0887\"], [0.1111111111111111, \"#46039f\"], [0.2222222222222222, \"#7201a8\"], [0.3333333333333333, \"#9c179e\"], [0.4444444444444444, \"#bd3786\"], [0.5555555555555556, \"#d8576b\"], [0.6666666666666666, \"#ed7953\"], [0.7777777777777778, \"#fb9f3a\"], [0.8888888888888888, \"#fdca26\"], [1.0, \"#f0f921\"]]}, \"colorway\": [\"#636efa\", \"#EF553B\", \"#00cc96\", \"#ab63fa\", \"#FFA15A\", \"#19d3f3\", \"#FF6692\", \"#B6E880\", \"#FF97FF\", \"#FECB52\"], \"font\": {\"color\": \"#2a3f5f\"}, \"geo\": {\"bgcolor\": \"white\", \"lakecolor\": \"white\", \"landcolor\": \"#E5ECF6\", \"showlakes\": true, \"showland\": true, \"subunitcolor\": \"white\"}, \"hoverlabel\": {\"align\": \"left\"}, \"hovermode\": \"closest\", \"mapbox\": {\"style\": \"light\"}, \"paper_bgcolor\": \"white\", \"plot_bgcolor\": \"#E5ECF6\", \"polar\": {\"angularaxis\": {\"gridcolor\": \"white\", \"linecolor\": \"white\", \"ticks\": \"\"}, \"bgcolor\": \"#E5ECF6\", \"radialaxis\": {\"gridcolor\": \"white\", \"linecolor\": \"white\", \"ticks\": \"\"}}, \"scene\": {\"xaxis\": {\"backgroundcolor\": \"#E5ECF6\", \"gridcolor\": \"white\", \"gridwidth\": 2, \"linecolor\": \"white\", \"showbackground\": true, \"ticks\": \"\", \"zerolinecolor\": \"white\"}, \"yaxis\": {\"backgroundcolor\": \"#E5ECF6\", \"gridcolor\": \"white\", \"gridwidth\": 2, \"linecolor\": \"white\", \"showbackground\": true, \"ticks\": \"\", \"zerolinecolor\": \"white\"}, \"zaxis\": {\"backgroundcolor\": \"#E5ECF6\", \"gridcolor\": \"white\", \"gridwidth\": 2, \"linecolor\": \"white\", \"showbackground\": true, \"ticks\": \"\", \"zerolinecolor\": \"white\"}}, \"shapedefaults\": {\"line\": {\"color\": \"#2a3f5f\"}}, \"ternary\": {\"aaxis\": {\"gridcolor\": \"white\", \"linecolor\": \"white\", \"ticks\": \"\"}, \"baxis\": {\"gridcolor\": \"white\", \"linecolor\": \"white\", \"ticks\": \"\"}, \"bgcolor\": \"#E5ECF6\", \"caxis\": {\"gridcolor\": \"white\", \"linecolor\": \"white\", \"ticks\": \"\"}}, \"title\": {\"x\": 0.05}, \"xaxis\": {\"automargin\": true, \"gridcolor\": \"white\", \"linecolor\": \"white\", \"ticks\": \"\", \"title\": {\"standoff\": 15}, \"zerolinecolor\": \"white\", \"zerolinewidth\": 2}, \"yaxis\": {\"automargin\": true, \"gridcolor\": \"white\", \"linecolor\": \"white\", \"ticks\": \"\", \"title\": {\"standoff\": 15}, \"zerolinecolor\": \"white\", \"zerolinewidth\": 2}}}, \"title\": {\"font\": {\"color\": \"#4D5663\"}}, \"xaxis\": {\"gridcolor\": \"#E1E5ED\", \"showgrid\": true, \"tickfont\": {\"color\": \"#4D5663\"}, \"title\": {\"font\": {\"color\": \"#4D5663\"}, \"text\": \"\"}, \"zerolinecolor\": \"#E1E5ED\"}, \"xaxis2\": {\"anchor\": \"y2\", \"gridcolor\": \"#E1E5ED\", \"showgrid\": true, \"showticklabels\": false, \"tickfont\": {\"color\": \"#4D5663\"}, \"title\": {\"font\": {\"color\": \"#4D5663\"}, \"text\": \"\"}, \"zerolinecolor\": \"#E1E5ED\"}, \"yaxis\": {\"domain\": [0.3, 1], \"gridcolor\": \"#E1E5ED\", \"showgrid\": true, \"tickfont\": {\"color\": \"#4D5663\"}, \"title\": {\"font\": {\"color\": \"#4D5663\"}, \"text\": \"\"}, \"zerolinecolor\": \"#E1E5ED\"}, \"yaxis2\": {\"domain\": [0, 0.25], \"gridcolor\": \"#E1E5ED\", \"showgrid\": true, \"tickfont\": {\"color\": \"#4D5663\"}, \"title\": {\"font\": {\"color\": \"#4D5663\"}, \"text\": \"Spread\"}, \"zerolinecolor\": \"#E1E5ED\"}},\n",
       "                        {\"showLink\": true, \"linkText\": \"Export to plot.ly\", \"plotlyServerURL\": \"https://plot.ly\", \"responsive\": true}\n",
       "                    ).then(function(){\n",
       "                            \n",
       "var gd = document.getElementById('db736c9e-bc91-4b7f-8174-6fd1d46df4d4');\n",
       "var x = new MutationObserver(function (mutations, observer) {{\n",
       "        var display = window.getComputedStyle(gd).display;\n",
       "        if (!display || display === 'none') {{\n",
       "            console.log([gd, 'removed!']);\n",
       "            Plotly.purge(gd);\n",
       "            observer.disconnect();\n",
       "        }}\n",
       "}});\n",
       "\n",
       "// Listen for the removal of the full notebook cells\n",
       "var notebookContainer = gd.closest('#notebook-container');\n",
       "if (notebookContainer) {{\n",
       "    x.observe(notebookContainer, {childList: true});\n",
       "}}\n",
       "\n",
       "// Listen for the clearing of the current output cell\n",
       "var outputEl = gd.closest('.output');\n",
       "if (outputEl) {{\n",
       "    x.observe(outputEl, {childList: true});\n",
       "}}\n",
       "\n",
       "                        })\n",
       "                };\n",
       "                });\n",
       "            </script>\n",
       "        </div>"
      ]
     },
     "metadata": {},
     "output_type": "display_data"
    }
   ],
   "source": [
    "df[['A','B']].iplot(kind='spread')"
   ]
  },
  {
   "cell_type": "markdown",
   "metadata": {},
   "source": [
    "## histogram"
   ]
  },
  {
   "cell_type": "code",
   "execution_count": 16,
   "metadata": {},
   "outputs": [
    {
     "data": {
      "application/vnd.plotly.v1+json": {
       "config": {
        "linkText": "Export to plot.ly",
        "plotlyServerURL": "https://plot.ly",
        "showLink": true
       },
       "data": [
        {
         "histfunc": "count",
         "histnorm": "",
         "marker": {
          "color": "rgba(255, 153, 51, 1.0)",
          "line": {
           "color": "#4D5663",
           "width": 1.3
          }
         },
         "name": "A",
         "nbinsx": 25,
         "opacity": 0.8,
         "orientation": "v",
         "type": "histogram",
         "x": [
          -1.3739863479333019,
          -1.9624455010940727,
          0.7327750939620981,
          -0.2919572815622404,
          -0.9217098205202516,
          0.22744759905473583,
          1.9132185334214225,
          1.0655902636822598,
          -0.38928009078930315,
          -0.3452293933838182,
          0.09091648675429946,
          1.2073065192020882,
          -0.08500961714186184,
          -0.5055073853451985,
          0.4687032216385739,
          -1.5978997254543206,
          -0.7666102457951843,
          -0.39398286841197316,
          -1.049186557582861,
          -1.067187592678143,
          0.605592400516392,
          -0.11066233012795543,
          0.39669421943886507,
          -1.0026267178735169,
          -0.8799490270845547,
          -1.2091025025157014,
          0.8592587287529497,
          -1.3059621647376631,
          -0.49409588997722176,
          -0.8561085996940954,
          -0.09542823152230753,
          0.7745566868372872,
          -2.159376269631232,
          -0.6469062031484143,
          -1.30290706575803,
          0.34943224260271455,
          -0.7477458362035658,
          1.3528696394413993,
          -2.920920040636787,
          0.9278268638296904,
          0.5605370533615859,
          -1.3140083470584134,
          1.0275187862240902,
          0.9080776763871582,
          0.6662700296464388,
          -1.2137950590227322,
          1.918957894421482,
          -0.24599141709506822,
          0.4961882856255173,
          0.4168717709122591,
          -0.3085438402018306,
          0.5019814690468661,
          0.3414158925692907,
          -0.4979364024958135,
          0.08142353874951676,
          -1.0996710000315342,
          -1.0795816556751554,
          -0.8642669920964954,
          0.10857557863564289,
          0.46506328690511073,
          0.18367046160415235,
          2.6167268929959393,
          -0.5397623850278019,
          -0.5536167576692237,
          -1.0905694819253666,
          1.0310309500377988,
          2.501625720688344,
          -1.2021524648882707,
          -0.9988665672393777,
          0.978803568142746,
          -0.4633340031417136,
          -0.8957523468579796,
          2.8338315246665746,
          -0.8113723695934447,
          -1.2091331107832572,
          0.8878928228341988,
          -1.3469269674940716,
          0.40613418886213204,
          -0.11187966305446931,
          -1.2332976335109138,
          2.03411678344503,
          1.0654290462761313,
          1.243647276758777,
          0.1807108895321057,
          1.930569055018915,
          -0.8503370519960449,
          1.4729173906717832,
          -0.2620249792221265,
          -0.6941954714857629,
          -1.2676351294769936,
          0.48680861925768976,
          -0.22478898017258253,
          0.3634076839547694,
          0.2521744014414418,
          -0.09182355768504491,
          1.1635669193642673,
          0.33191855536558423,
          1.7942750323792322,
          0.24598050825633014,
          0.31914878297218924
         ]
        }
       ],
       "layout": {
        "barmode": "overlay",
        "legend": {
         "bgcolor": "#F5F6F9",
         "font": {
          "color": "#4D5663"
         }
        },
        "paper_bgcolor": "#F5F6F9",
        "plot_bgcolor": "#F5F6F9",
        "template": {
         "data": {
          "bar": [
           {
            "error_x": {
             "color": "#2a3f5f"
            },
            "error_y": {
             "color": "#2a3f5f"
            },
            "marker": {
             "line": {
              "color": "#E5ECF6",
              "width": 0.5
             }
            },
            "type": "bar"
           }
          ],
          "barpolar": [
           {
            "marker": {
             "line": {
              "color": "#E5ECF6",
              "width": 0.5
             }
            },
            "type": "barpolar"
           }
          ],
          "carpet": [
           {
            "aaxis": {
             "endlinecolor": "#2a3f5f",
             "gridcolor": "white",
             "linecolor": "white",
             "minorgridcolor": "white",
             "startlinecolor": "#2a3f5f"
            },
            "baxis": {
             "endlinecolor": "#2a3f5f",
             "gridcolor": "white",
             "linecolor": "white",
             "minorgridcolor": "white",
             "startlinecolor": "#2a3f5f"
            },
            "type": "carpet"
           }
          ],
          "choropleth": [
           {
            "colorbar": {
             "outlinewidth": 0,
             "ticks": ""
            },
            "type": "choropleth"
           }
          ],
          "contour": [
           {
            "colorbar": {
             "outlinewidth": 0,
             "ticks": ""
            },
            "colorscale": [
             [
              0,
              "#0d0887"
             ],
             [
              0.1111111111111111,
              "#46039f"
             ],
             [
              0.2222222222222222,
              "#7201a8"
             ],
             [
              0.3333333333333333,
              "#9c179e"
             ],
             [
              0.4444444444444444,
              "#bd3786"
             ],
             [
              0.5555555555555556,
              "#d8576b"
             ],
             [
              0.6666666666666666,
              "#ed7953"
             ],
             [
              0.7777777777777778,
              "#fb9f3a"
             ],
             [
              0.8888888888888888,
              "#fdca26"
             ],
             [
              1,
              "#f0f921"
             ]
            ],
            "type": "contour"
           }
          ],
          "contourcarpet": [
           {
            "colorbar": {
             "outlinewidth": 0,
             "ticks": ""
            },
            "type": "contourcarpet"
           }
          ],
          "heatmap": [
           {
            "colorbar": {
             "outlinewidth": 0,
             "ticks": ""
            },
            "colorscale": [
             [
              0,
              "#0d0887"
             ],
             [
              0.1111111111111111,
              "#46039f"
             ],
             [
              0.2222222222222222,
              "#7201a8"
             ],
             [
              0.3333333333333333,
              "#9c179e"
             ],
             [
              0.4444444444444444,
              "#bd3786"
             ],
             [
              0.5555555555555556,
              "#d8576b"
             ],
             [
              0.6666666666666666,
              "#ed7953"
             ],
             [
              0.7777777777777778,
              "#fb9f3a"
             ],
             [
              0.8888888888888888,
              "#fdca26"
             ],
             [
              1,
              "#f0f921"
             ]
            ],
            "type": "heatmap"
           }
          ],
          "heatmapgl": [
           {
            "colorbar": {
             "outlinewidth": 0,
             "ticks": ""
            },
            "colorscale": [
             [
              0,
              "#0d0887"
             ],
             [
              0.1111111111111111,
              "#46039f"
             ],
             [
              0.2222222222222222,
              "#7201a8"
             ],
             [
              0.3333333333333333,
              "#9c179e"
             ],
             [
              0.4444444444444444,
              "#bd3786"
             ],
             [
              0.5555555555555556,
              "#d8576b"
             ],
             [
              0.6666666666666666,
              "#ed7953"
             ],
             [
              0.7777777777777778,
              "#fb9f3a"
             ],
             [
              0.8888888888888888,
              "#fdca26"
             ],
             [
              1,
              "#f0f921"
             ]
            ],
            "type": "heatmapgl"
           }
          ],
          "histogram": [
           {
            "marker": {
             "colorbar": {
              "outlinewidth": 0,
              "ticks": ""
             }
            },
            "type": "histogram"
           }
          ],
          "histogram2d": [
           {
            "colorbar": {
             "outlinewidth": 0,
             "ticks": ""
            },
            "colorscale": [
             [
              0,
              "#0d0887"
             ],
             [
              0.1111111111111111,
              "#46039f"
             ],
             [
              0.2222222222222222,
              "#7201a8"
             ],
             [
              0.3333333333333333,
              "#9c179e"
             ],
             [
              0.4444444444444444,
              "#bd3786"
             ],
             [
              0.5555555555555556,
              "#d8576b"
             ],
             [
              0.6666666666666666,
              "#ed7953"
             ],
             [
              0.7777777777777778,
              "#fb9f3a"
             ],
             [
              0.8888888888888888,
              "#fdca26"
             ],
             [
              1,
              "#f0f921"
             ]
            ],
            "type": "histogram2d"
           }
          ],
          "histogram2dcontour": [
           {
            "colorbar": {
             "outlinewidth": 0,
             "ticks": ""
            },
            "colorscale": [
             [
              0,
              "#0d0887"
             ],
             [
              0.1111111111111111,
              "#46039f"
             ],
             [
              0.2222222222222222,
              "#7201a8"
             ],
             [
              0.3333333333333333,
              "#9c179e"
             ],
             [
              0.4444444444444444,
              "#bd3786"
             ],
             [
              0.5555555555555556,
              "#d8576b"
             ],
             [
              0.6666666666666666,
              "#ed7953"
             ],
             [
              0.7777777777777778,
              "#fb9f3a"
             ],
             [
              0.8888888888888888,
              "#fdca26"
             ],
             [
              1,
              "#f0f921"
             ]
            ],
            "type": "histogram2dcontour"
           }
          ],
          "mesh3d": [
           {
            "colorbar": {
             "outlinewidth": 0,
             "ticks": ""
            },
            "type": "mesh3d"
           }
          ],
          "parcoords": [
           {
            "line": {
             "colorbar": {
              "outlinewidth": 0,
              "ticks": ""
             }
            },
            "type": "parcoords"
           }
          ],
          "pie": [
           {
            "automargin": true,
            "type": "pie"
           }
          ],
          "scatter": [
           {
            "marker": {
             "colorbar": {
              "outlinewidth": 0,
              "ticks": ""
             }
            },
            "type": "scatter"
           }
          ],
          "scatter3d": [
           {
            "line": {
             "colorbar": {
              "outlinewidth": 0,
              "ticks": ""
             }
            },
            "marker": {
             "colorbar": {
              "outlinewidth": 0,
              "ticks": ""
             }
            },
            "type": "scatter3d"
           }
          ],
          "scattercarpet": [
           {
            "marker": {
             "colorbar": {
              "outlinewidth": 0,
              "ticks": ""
             }
            },
            "type": "scattercarpet"
           }
          ],
          "scattergeo": [
           {
            "marker": {
             "colorbar": {
              "outlinewidth": 0,
              "ticks": ""
             }
            },
            "type": "scattergeo"
           }
          ],
          "scattergl": [
           {
            "marker": {
             "colorbar": {
              "outlinewidth": 0,
              "ticks": ""
             }
            },
            "type": "scattergl"
           }
          ],
          "scattermapbox": [
           {
            "marker": {
             "colorbar": {
              "outlinewidth": 0,
              "ticks": ""
             }
            },
            "type": "scattermapbox"
           }
          ],
          "scatterpolar": [
           {
            "marker": {
             "colorbar": {
              "outlinewidth": 0,
              "ticks": ""
             }
            },
            "type": "scatterpolar"
           }
          ],
          "scatterpolargl": [
           {
            "marker": {
             "colorbar": {
              "outlinewidth": 0,
              "ticks": ""
             }
            },
            "type": "scatterpolargl"
           }
          ],
          "scatterternary": [
           {
            "marker": {
             "colorbar": {
              "outlinewidth": 0,
              "ticks": ""
             }
            },
            "type": "scatterternary"
           }
          ],
          "surface": [
           {
            "colorbar": {
             "outlinewidth": 0,
             "ticks": ""
            },
            "colorscale": [
             [
              0,
              "#0d0887"
             ],
             [
              0.1111111111111111,
              "#46039f"
             ],
             [
              0.2222222222222222,
              "#7201a8"
             ],
             [
              0.3333333333333333,
              "#9c179e"
             ],
             [
              0.4444444444444444,
              "#bd3786"
             ],
             [
              0.5555555555555556,
              "#d8576b"
             ],
             [
              0.6666666666666666,
              "#ed7953"
             ],
             [
              0.7777777777777778,
              "#fb9f3a"
             ],
             [
              0.8888888888888888,
              "#fdca26"
             ],
             [
              1,
              "#f0f921"
             ]
            ],
            "type": "surface"
           }
          ],
          "table": [
           {
            "cells": {
             "fill": {
              "color": "#EBF0F8"
             },
             "line": {
              "color": "white"
             }
            },
            "header": {
             "fill": {
              "color": "#C8D4E3"
             },
             "line": {
              "color": "white"
             }
            },
            "type": "table"
           }
          ]
         },
         "layout": {
          "annotationdefaults": {
           "arrowcolor": "#2a3f5f",
           "arrowhead": 0,
           "arrowwidth": 1
          },
          "coloraxis": {
           "colorbar": {
            "outlinewidth": 0,
            "ticks": ""
           }
          },
          "colorscale": {
           "diverging": [
            [
             0,
             "#8e0152"
            ],
            [
             0.1,
             "#c51b7d"
            ],
            [
             0.2,
             "#de77ae"
            ],
            [
             0.3,
             "#f1b6da"
            ],
            [
             0.4,
             "#fde0ef"
            ],
            [
             0.5,
             "#f7f7f7"
            ],
            [
             0.6,
             "#e6f5d0"
            ],
            [
             0.7,
             "#b8e186"
            ],
            [
             0.8,
             "#7fbc41"
            ],
            [
             0.9,
             "#4d9221"
            ],
            [
             1,
             "#276419"
            ]
           ],
           "sequential": [
            [
             0,
             "#0d0887"
            ],
            [
             0.1111111111111111,
             "#46039f"
            ],
            [
             0.2222222222222222,
             "#7201a8"
            ],
            [
             0.3333333333333333,
             "#9c179e"
            ],
            [
             0.4444444444444444,
             "#bd3786"
            ],
            [
             0.5555555555555556,
             "#d8576b"
            ],
            [
             0.6666666666666666,
             "#ed7953"
            ],
            [
             0.7777777777777778,
             "#fb9f3a"
            ],
            [
             0.8888888888888888,
             "#fdca26"
            ],
            [
             1,
             "#f0f921"
            ]
           ],
           "sequentialminus": [
            [
             0,
             "#0d0887"
            ],
            [
             0.1111111111111111,
             "#46039f"
            ],
            [
             0.2222222222222222,
             "#7201a8"
            ],
            [
             0.3333333333333333,
             "#9c179e"
            ],
            [
             0.4444444444444444,
             "#bd3786"
            ],
            [
             0.5555555555555556,
             "#d8576b"
            ],
            [
             0.6666666666666666,
             "#ed7953"
            ],
            [
             0.7777777777777778,
             "#fb9f3a"
            ],
            [
             0.8888888888888888,
             "#fdca26"
            ],
            [
             1,
             "#f0f921"
            ]
           ]
          },
          "colorway": [
           "#636efa",
           "#EF553B",
           "#00cc96",
           "#ab63fa",
           "#FFA15A",
           "#19d3f3",
           "#FF6692",
           "#B6E880",
           "#FF97FF",
           "#FECB52"
          ],
          "font": {
           "color": "#2a3f5f"
          },
          "geo": {
           "bgcolor": "white",
           "lakecolor": "white",
           "landcolor": "#E5ECF6",
           "showlakes": true,
           "showland": true,
           "subunitcolor": "white"
          },
          "hoverlabel": {
           "align": "left"
          },
          "hovermode": "closest",
          "mapbox": {
           "style": "light"
          },
          "paper_bgcolor": "white",
          "plot_bgcolor": "#E5ECF6",
          "polar": {
           "angularaxis": {
            "gridcolor": "white",
            "linecolor": "white",
            "ticks": ""
           },
           "bgcolor": "#E5ECF6",
           "radialaxis": {
            "gridcolor": "white",
            "linecolor": "white",
            "ticks": ""
           }
          },
          "scene": {
           "xaxis": {
            "backgroundcolor": "#E5ECF6",
            "gridcolor": "white",
            "gridwidth": 2,
            "linecolor": "white",
            "showbackground": true,
            "ticks": "",
            "zerolinecolor": "white"
           },
           "yaxis": {
            "backgroundcolor": "#E5ECF6",
            "gridcolor": "white",
            "gridwidth": 2,
            "linecolor": "white",
            "showbackground": true,
            "ticks": "",
            "zerolinecolor": "white"
           },
           "zaxis": {
            "backgroundcolor": "#E5ECF6",
            "gridcolor": "white",
            "gridwidth": 2,
            "linecolor": "white",
            "showbackground": true,
            "ticks": "",
            "zerolinecolor": "white"
           }
          },
          "shapedefaults": {
           "line": {
            "color": "#2a3f5f"
           }
          },
          "ternary": {
           "aaxis": {
            "gridcolor": "white",
            "linecolor": "white",
            "ticks": ""
           },
           "baxis": {
            "gridcolor": "white",
            "linecolor": "white",
            "ticks": ""
           },
           "bgcolor": "#E5ECF6",
           "caxis": {
            "gridcolor": "white",
            "linecolor": "white",
            "ticks": ""
           }
          },
          "title": {
           "x": 0.05
          },
          "xaxis": {
           "automargin": true,
           "gridcolor": "white",
           "linecolor": "white",
           "ticks": "",
           "title": {
            "standoff": 15
           },
           "zerolinecolor": "white",
           "zerolinewidth": 2
          },
          "yaxis": {
           "automargin": true,
           "gridcolor": "white",
           "linecolor": "white",
           "ticks": "",
           "title": {
            "standoff": 15
           },
           "zerolinecolor": "white",
           "zerolinewidth": 2
          }
         }
        },
        "title": {
         "font": {
          "color": "#4D5663"
         }
        },
        "xaxis": {
         "gridcolor": "#E1E5ED",
         "showgrid": true,
         "tickfont": {
          "color": "#4D5663"
         },
         "title": {
          "font": {
           "color": "#4D5663"
          },
          "text": ""
         },
         "zerolinecolor": "#E1E5ED"
        },
        "yaxis": {
         "gridcolor": "#E1E5ED",
         "showgrid": true,
         "tickfont": {
          "color": "#4D5663"
         },
         "title": {
          "font": {
           "color": "#4D5663"
          },
          "text": ""
         },
         "zerolinecolor": "#E1E5ED"
        }
       }
      },
      "text/html": [
       "<div>\n",
       "        \n",
       "        \n",
       "            <div id=\"35ce4d36-d96e-4f6e-bd13-9b0192186570\" class=\"plotly-graph-div\" style=\"height:525px; width:100%;\"></div>\n",
       "            <script type=\"text/javascript\">\n",
       "                require([\"plotly\"], function(Plotly) {\n",
       "                    window.PLOTLYENV=window.PLOTLYENV || {};\n",
       "                    window.PLOTLYENV.BASE_URL='https://plot.ly';\n",
       "                    \n",
       "                if (document.getElementById(\"35ce4d36-d96e-4f6e-bd13-9b0192186570\")) {\n",
       "                    Plotly.newPlot(\n",
       "                        '35ce4d36-d96e-4f6e-bd13-9b0192186570',\n",
       "                        [{\"histfunc\": \"count\", \"histnorm\": \"\", \"marker\": {\"color\": \"rgba(255, 153, 51, 1.0)\", \"line\": {\"color\": \"#4D5663\", \"width\": 1.3}}, \"name\": \"A\", \"nbinsx\": 25, \"opacity\": 0.8, \"orientation\": \"v\", \"type\": \"histogram\", \"x\": [-1.3739863479333019, -1.9624455010940727, 0.7327750939620981, -0.2919572815622404, -0.9217098205202516, 0.22744759905473583, 1.9132185334214225, 1.0655902636822598, -0.38928009078930315, -0.3452293933838182, 0.09091648675429946, 1.2073065192020882, -0.08500961714186184, -0.5055073853451985, 0.4687032216385739, -1.5978997254543206, -0.7666102457951843, -0.39398286841197316, -1.049186557582861, -1.067187592678143, 0.605592400516392, -0.11066233012795543, 0.39669421943886507, -1.0026267178735169, -0.8799490270845547, -1.2091025025157014, 0.8592587287529497, -1.3059621647376631, -0.49409588997722176, -0.8561085996940954, -0.09542823152230753, 0.7745566868372872, -2.159376269631232, -0.6469062031484143, -1.30290706575803, 0.34943224260271455, -0.7477458362035658, 1.3528696394413993, -2.920920040636787, 0.9278268638296904, 0.5605370533615859, -1.3140083470584134, 1.0275187862240902, 0.9080776763871582, 0.6662700296464388, -1.2137950590227322, 1.918957894421482, -0.24599141709506822, 0.4961882856255173, 0.4168717709122591, -0.3085438402018306, 0.5019814690468661, 0.3414158925692907, -0.4979364024958135, 0.08142353874951676, -1.0996710000315342, -1.0795816556751554, -0.8642669920964954, 0.10857557863564289, 0.46506328690511073, 0.18367046160415235, 2.6167268929959393, -0.5397623850278019, -0.5536167576692237, -1.0905694819253666, 1.0310309500377988, 2.501625720688344, -1.2021524648882707, -0.9988665672393777, 0.978803568142746, -0.4633340031417136, -0.8957523468579796, 2.8338315246665746, -0.8113723695934447, -1.2091331107832572, 0.8878928228341988, -1.3469269674940716, 0.40613418886213204, -0.11187966305446931, -1.2332976335109138, 2.03411678344503, 1.0654290462761313, 1.243647276758777, 0.1807108895321057, 1.930569055018915, -0.8503370519960449, 1.4729173906717832, -0.2620249792221265, -0.6941954714857629, -1.2676351294769936, 0.48680861925768976, -0.22478898017258253, 0.3634076839547694, 0.2521744014414418, -0.09182355768504491, 1.1635669193642673, 0.33191855536558423, 1.7942750323792322, 0.24598050825633014, 0.31914878297218924]}],\n",
       "                        {\"barmode\": \"overlay\", \"legend\": {\"bgcolor\": \"#F5F6F9\", \"font\": {\"color\": \"#4D5663\"}}, \"paper_bgcolor\": \"#F5F6F9\", \"plot_bgcolor\": \"#F5F6F9\", \"template\": {\"data\": {\"bar\": [{\"error_x\": {\"color\": \"#2a3f5f\"}, \"error_y\": {\"color\": \"#2a3f5f\"}, \"marker\": {\"line\": {\"color\": \"#E5ECF6\", \"width\": 0.5}}, \"type\": \"bar\"}], \"barpolar\": [{\"marker\": {\"line\": {\"color\": \"#E5ECF6\", \"width\": 0.5}}, \"type\": \"barpolar\"}], \"carpet\": [{\"aaxis\": {\"endlinecolor\": \"#2a3f5f\", \"gridcolor\": \"white\", \"linecolor\": \"white\", \"minorgridcolor\": \"white\", \"startlinecolor\": \"#2a3f5f\"}, \"baxis\": {\"endlinecolor\": \"#2a3f5f\", \"gridcolor\": \"white\", \"linecolor\": \"white\", \"minorgridcolor\": \"white\", \"startlinecolor\": \"#2a3f5f\"}, \"type\": \"carpet\"}], \"choropleth\": [{\"colorbar\": {\"outlinewidth\": 0, \"ticks\": \"\"}, \"type\": \"choropleth\"}], \"contour\": [{\"colorbar\": {\"outlinewidth\": 0, \"ticks\": \"\"}, \"colorscale\": [[0.0, \"#0d0887\"], [0.1111111111111111, \"#46039f\"], [0.2222222222222222, \"#7201a8\"], [0.3333333333333333, \"#9c179e\"], [0.4444444444444444, \"#bd3786\"], [0.5555555555555556, \"#d8576b\"], [0.6666666666666666, \"#ed7953\"], [0.7777777777777778, \"#fb9f3a\"], [0.8888888888888888, \"#fdca26\"], [1.0, \"#f0f921\"]], \"type\": \"contour\"}], \"contourcarpet\": [{\"colorbar\": {\"outlinewidth\": 0, \"ticks\": \"\"}, \"type\": \"contourcarpet\"}], \"heatmap\": [{\"colorbar\": {\"outlinewidth\": 0, \"ticks\": \"\"}, \"colorscale\": [[0.0, \"#0d0887\"], [0.1111111111111111, \"#46039f\"], [0.2222222222222222, \"#7201a8\"], [0.3333333333333333, \"#9c179e\"], [0.4444444444444444, \"#bd3786\"], [0.5555555555555556, \"#d8576b\"], [0.6666666666666666, \"#ed7953\"], [0.7777777777777778, \"#fb9f3a\"], [0.8888888888888888, \"#fdca26\"], [1.0, \"#f0f921\"]], \"type\": \"heatmap\"}], \"heatmapgl\": [{\"colorbar\": {\"outlinewidth\": 0, \"ticks\": \"\"}, \"colorscale\": [[0.0, \"#0d0887\"], [0.1111111111111111, \"#46039f\"], [0.2222222222222222, \"#7201a8\"], [0.3333333333333333, \"#9c179e\"], [0.4444444444444444, \"#bd3786\"], [0.5555555555555556, \"#d8576b\"], [0.6666666666666666, \"#ed7953\"], [0.7777777777777778, \"#fb9f3a\"], [0.8888888888888888, \"#fdca26\"], [1.0, \"#f0f921\"]], \"type\": \"heatmapgl\"}], \"histogram\": [{\"marker\": {\"colorbar\": {\"outlinewidth\": 0, \"ticks\": \"\"}}, \"type\": \"histogram\"}], \"histogram2d\": [{\"colorbar\": {\"outlinewidth\": 0, \"ticks\": \"\"}, \"colorscale\": [[0.0, \"#0d0887\"], [0.1111111111111111, \"#46039f\"], [0.2222222222222222, \"#7201a8\"], [0.3333333333333333, \"#9c179e\"], [0.4444444444444444, \"#bd3786\"], [0.5555555555555556, \"#d8576b\"], [0.6666666666666666, \"#ed7953\"], [0.7777777777777778, \"#fb9f3a\"], [0.8888888888888888, \"#fdca26\"], [1.0, \"#f0f921\"]], \"type\": \"histogram2d\"}], \"histogram2dcontour\": [{\"colorbar\": {\"outlinewidth\": 0, \"ticks\": \"\"}, \"colorscale\": [[0.0, \"#0d0887\"], [0.1111111111111111, \"#46039f\"], [0.2222222222222222, \"#7201a8\"], [0.3333333333333333, \"#9c179e\"], [0.4444444444444444, \"#bd3786\"], [0.5555555555555556, \"#d8576b\"], [0.6666666666666666, \"#ed7953\"], [0.7777777777777778, \"#fb9f3a\"], [0.8888888888888888, \"#fdca26\"], [1.0, \"#f0f921\"]], \"type\": \"histogram2dcontour\"}], \"mesh3d\": [{\"colorbar\": {\"outlinewidth\": 0, \"ticks\": \"\"}, \"type\": \"mesh3d\"}], \"parcoords\": [{\"line\": {\"colorbar\": {\"outlinewidth\": 0, \"ticks\": \"\"}}, \"type\": \"parcoords\"}], \"pie\": [{\"automargin\": true, \"type\": \"pie\"}], \"scatter\": [{\"marker\": {\"colorbar\": {\"outlinewidth\": 0, \"ticks\": \"\"}}, \"type\": \"scatter\"}], \"scatter3d\": [{\"line\": {\"colorbar\": {\"outlinewidth\": 0, \"ticks\": \"\"}}, \"marker\": {\"colorbar\": {\"outlinewidth\": 0, \"ticks\": \"\"}}, \"type\": \"scatter3d\"}], \"scattercarpet\": [{\"marker\": {\"colorbar\": {\"outlinewidth\": 0, \"ticks\": \"\"}}, \"type\": \"scattercarpet\"}], \"scattergeo\": [{\"marker\": {\"colorbar\": {\"outlinewidth\": 0, \"ticks\": \"\"}}, \"type\": \"scattergeo\"}], \"scattergl\": [{\"marker\": {\"colorbar\": {\"outlinewidth\": 0, \"ticks\": \"\"}}, \"type\": \"scattergl\"}], \"scattermapbox\": [{\"marker\": {\"colorbar\": {\"outlinewidth\": 0, \"ticks\": \"\"}}, \"type\": \"scattermapbox\"}], \"scatterpolar\": [{\"marker\": {\"colorbar\": {\"outlinewidth\": 0, \"ticks\": \"\"}}, \"type\": \"scatterpolar\"}], \"scatterpolargl\": [{\"marker\": {\"colorbar\": {\"outlinewidth\": 0, \"ticks\": \"\"}}, \"type\": \"scatterpolargl\"}], \"scatterternary\": [{\"marker\": {\"colorbar\": {\"outlinewidth\": 0, \"ticks\": \"\"}}, \"type\": \"scatterternary\"}], \"surface\": [{\"colorbar\": {\"outlinewidth\": 0, \"ticks\": \"\"}, \"colorscale\": [[0.0, \"#0d0887\"], [0.1111111111111111, \"#46039f\"], [0.2222222222222222, \"#7201a8\"], [0.3333333333333333, \"#9c179e\"], [0.4444444444444444, \"#bd3786\"], [0.5555555555555556, \"#d8576b\"], [0.6666666666666666, \"#ed7953\"], [0.7777777777777778, \"#fb9f3a\"], [0.8888888888888888, \"#fdca26\"], [1.0, \"#f0f921\"]], \"type\": \"surface\"}], \"table\": [{\"cells\": {\"fill\": {\"color\": \"#EBF0F8\"}, \"line\": {\"color\": \"white\"}}, \"header\": {\"fill\": {\"color\": \"#C8D4E3\"}, \"line\": {\"color\": \"white\"}}, \"type\": \"table\"}]}, \"layout\": {\"annotationdefaults\": {\"arrowcolor\": \"#2a3f5f\", \"arrowhead\": 0, \"arrowwidth\": 1}, \"coloraxis\": {\"colorbar\": {\"outlinewidth\": 0, \"ticks\": \"\"}}, \"colorscale\": {\"diverging\": [[0, \"#8e0152\"], [0.1, \"#c51b7d\"], [0.2, \"#de77ae\"], [0.3, \"#f1b6da\"], [0.4, \"#fde0ef\"], [0.5, \"#f7f7f7\"], [0.6, \"#e6f5d0\"], [0.7, \"#b8e186\"], [0.8, \"#7fbc41\"], [0.9, \"#4d9221\"], [1, \"#276419\"]], \"sequential\": [[0.0, \"#0d0887\"], [0.1111111111111111, \"#46039f\"], [0.2222222222222222, \"#7201a8\"], [0.3333333333333333, \"#9c179e\"], [0.4444444444444444, \"#bd3786\"], [0.5555555555555556, \"#d8576b\"], [0.6666666666666666, \"#ed7953\"], [0.7777777777777778, \"#fb9f3a\"], [0.8888888888888888, \"#fdca26\"], [1.0, \"#f0f921\"]], \"sequentialminus\": [[0.0, \"#0d0887\"], [0.1111111111111111, \"#46039f\"], [0.2222222222222222, \"#7201a8\"], [0.3333333333333333, \"#9c179e\"], [0.4444444444444444, \"#bd3786\"], [0.5555555555555556, \"#d8576b\"], [0.6666666666666666, \"#ed7953\"], [0.7777777777777778, \"#fb9f3a\"], [0.8888888888888888, \"#fdca26\"], [1.0, \"#f0f921\"]]}, \"colorway\": [\"#636efa\", \"#EF553B\", \"#00cc96\", \"#ab63fa\", \"#FFA15A\", \"#19d3f3\", \"#FF6692\", \"#B6E880\", \"#FF97FF\", \"#FECB52\"], \"font\": {\"color\": \"#2a3f5f\"}, \"geo\": {\"bgcolor\": \"white\", \"lakecolor\": \"white\", \"landcolor\": \"#E5ECF6\", \"showlakes\": true, \"showland\": true, \"subunitcolor\": \"white\"}, \"hoverlabel\": {\"align\": \"left\"}, \"hovermode\": \"closest\", \"mapbox\": {\"style\": \"light\"}, \"paper_bgcolor\": \"white\", \"plot_bgcolor\": \"#E5ECF6\", \"polar\": {\"angularaxis\": {\"gridcolor\": \"white\", \"linecolor\": \"white\", \"ticks\": \"\"}, \"bgcolor\": \"#E5ECF6\", \"radialaxis\": {\"gridcolor\": \"white\", \"linecolor\": \"white\", \"ticks\": \"\"}}, \"scene\": {\"xaxis\": {\"backgroundcolor\": \"#E5ECF6\", \"gridcolor\": \"white\", \"gridwidth\": 2, \"linecolor\": \"white\", \"showbackground\": true, \"ticks\": \"\", \"zerolinecolor\": \"white\"}, \"yaxis\": {\"backgroundcolor\": \"#E5ECF6\", \"gridcolor\": \"white\", \"gridwidth\": 2, \"linecolor\": \"white\", \"showbackground\": true, \"ticks\": \"\", \"zerolinecolor\": \"white\"}, \"zaxis\": {\"backgroundcolor\": \"#E5ECF6\", \"gridcolor\": \"white\", \"gridwidth\": 2, \"linecolor\": \"white\", \"showbackground\": true, \"ticks\": \"\", \"zerolinecolor\": \"white\"}}, \"shapedefaults\": {\"line\": {\"color\": \"#2a3f5f\"}}, \"ternary\": {\"aaxis\": {\"gridcolor\": \"white\", \"linecolor\": \"white\", \"ticks\": \"\"}, \"baxis\": {\"gridcolor\": \"white\", \"linecolor\": \"white\", \"ticks\": \"\"}, \"bgcolor\": \"#E5ECF6\", \"caxis\": {\"gridcolor\": \"white\", \"linecolor\": \"white\", \"ticks\": \"\"}}, \"title\": {\"x\": 0.05}, \"xaxis\": {\"automargin\": true, \"gridcolor\": \"white\", \"linecolor\": \"white\", \"ticks\": \"\", \"title\": {\"standoff\": 15}, \"zerolinecolor\": \"white\", \"zerolinewidth\": 2}, \"yaxis\": {\"automargin\": true, \"gridcolor\": \"white\", \"linecolor\": \"white\", \"ticks\": \"\", \"title\": {\"standoff\": 15}, \"zerolinecolor\": \"white\", \"zerolinewidth\": 2}}}, \"title\": {\"font\": {\"color\": \"#4D5663\"}}, \"xaxis\": {\"gridcolor\": \"#E1E5ED\", \"showgrid\": true, \"tickfont\": {\"color\": \"#4D5663\"}, \"title\": {\"font\": {\"color\": \"#4D5663\"}, \"text\": \"\"}, \"zerolinecolor\": \"#E1E5ED\"}, \"yaxis\": {\"gridcolor\": \"#E1E5ED\", \"showgrid\": true, \"tickfont\": {\"color\": \"#4D5663\"}, \"title\": {\"font\": {\"color\": \"#4D5663\"}, \"text\": \"\"}, \"zerolinecolor\": \"#E1E5ED\"}},\n",
       "                        {\"showLink\": true, \"linkText\": \"Export to plot.ly\", \"plotlyServerURL\": \"https://plot.ly\", \"responsive\": true}\n",
       "                    ).then(function(){\n",
       "                            \n",
       "var gd = document.getElementById('35ce4d36-d96e-4f6e-bd13-9b0192186570');\n",
       "var x = new MutationObserver(function (mutations, observer) {{\n",
       "        var display = window.getComputedStyle(gd).display;\n",
       "        if (!display || display === 'none') {{\n",
       "            console.log([gd, 'removed!']);\n",
       "            Plotly.purge(gd);\n",
       "            observer.disconnect();\n",
       "        }}\n",
       "}});\n",
       "\n",
       "// Listen for the removal of the full notebook cells\n",
       "var notebookContainer = gd.closest('#notebook-container');\n",
       "if (notebookContainer) {{\n",
       "    x.observe(notebookContainer, {childList: true});\n",
       "}}\n",
       "\n",
       "// Listen for the clearing of the current output cell\n",
       "var outputEl = gd.closest('.output');\n",
       "if (outputEl) {{\n",
       "    x.observe(outputEl, {childList: true});\n",
       "}}\n",
       "\n",
       "                        })\n",
       "                };\n",
       "                });\n",
       "            </script>\n",
       "        </div>"
      ]
     },
     "metadata": {},
     "output_type": "display_data"
    }
   ],
   "source": [
    "df['A'].iplot(kind='hist',bins=25)"
   ]
  },
  {
   "cell_type": "code",
   "execution_count": 17,
   "metadata": {},
   "outputs": [
    {
     "data": {
      "application/vnd.plotly.v1+json": {
       "config": {
        "linkText": "Export to plot.ly",
        "plotlyServerURL": "https://plot.ly",
        "showLink": true
       },
       "data": [
        {
         "marker": {
          "color": [
           "rgb(255, 153, 51)",
           "rgb(55, 128, 191)",
           "rgb(50, 171, 96)",
           "rgb(128, 0, 128)",
           "rgb(219, 64, 82)",
           "rgb(0, 128, 128)",
           "rgb(255, 255, 51)",
           "rgb(128, 128, 0)",
           "rgb(251, 128, 114)",
           "rgb(128, 177, 211)"
          ],
          "line": {
           "width": 1.3
          },
          "size": [
           41,
           69,
           77,
           58,
           102,
           102,
           77,
           53,
           29,
           112,
           52,
           97,
           62,
           42,
           48,
           54,
           52,
           52,
           69,
           56,
           56,
           76,
           59,
           66,
           67,
           35,
           51,
           68,
           58,
           91,
           71,
           76,
           85,
           53,
           62,
           80,
           60,
           42,
           37,
           40,
           55,
           91,
           71,
           66,
           71,
           56,
           60,
           70,
           74,
           16,
           33,
           60,
           104,
           100,
           46,
           81,
           19,
           61,
           47,
           71,
           78,
           100,
           67,
           88,
           68,
           25,
           72,
           98,
           62,
           70,
           50,
           53,
           102,
           53,
           41,
           54,
           78,
           31,
           71,
           55,
           99,
           71,
           91,
           56,
           78,
           39,
           66,
           80,
           36,
           74,
           75,
           39,
           41,
           48,
           66,
           19,
           78,
           52,
           12,
           29
          ],
          "symbol": "circle"
         },
         "mode": "markers",
         "text": "",
         "type": "scatter",
         "x": [
          -1.3739863479333019,
          -1.9624455010940727,
          0.7327750939620981,
          -0.2919572815622404,
          -0.9217098205202516,
          0.22744759905473583,
          1.9132185334214225,
          1.0655902636822598,
          -0.38928009078930315,
          -0.3452293933838182,
          0.09091648675429946,
          1.2073065192020882,
          -0.08500961714186184,
          -0.5055073853451985,
          0.4687032216385739,
          -1.5978997254543206,
          -0.7666102457951843,
          -0.39398286841197316,
          -1.049186557582861,
          -1.067187592678143,
          0.605592400516392,
          -0.11066233012795543,
          0.39669421943886507,
          -1.0026267178735169,
          -0.8799490270845547,
          -1.2091025025157014,
          0.8592587287529497,
          -1.3059621647376631,
          -0.49409588997722176,
          -0.8561085996940954,
          -0.09542823152230753,
          0.7745566868372872,
          -2.159376269631232,
          -0.6469062031484143,
          -1.30290706575803,
          0.34943224260271455,
          -0.7477458362035658,
          1.3528696394413993,
          -2.920920040636787,
          0.9278268638296904,
          0.5605370533615859,
          -1.3140083470584134,
          1.0275187862240902,
          0.9080776763871582,
          0.6662700296464388,
          -1.2137950590227322,
          1.918957894421482,
          -0.24599141709506822,
          0.4961882856255173,
          0.4168717709122591,
          -0.3085438402018306,
          0.5019814690468661,
          0.3414158925692907,
          -0.4979364024958135,
          0.08142353874951676,
          -1.0996710000315342,
          -1.0795816556751554,
          -0.8642669920964954,
          0.10857557863564289,
          0.46506328690511073,
          0.18367046160415235,
          2.6167268929959393,
          -0.5397623850278019,
          -0.5536167576692237,
          -1.0905694819253666,
          1.0310309500377988,
          2.501625720688344,
          -1.2021524648882707,
          -0.9988665672393777,
          0.978803568142746,
          -0.4633340031417136,
          -0.8957523468579796,
          2.8338315246665746,
          -0.8113723695934447,
          -1.2091331107832572,
          0.8878928228341988,
          -1.3469269674940716,
          0.40613418886213204,
          -0.11187966305446931,
          -1.2332976335109138,
          2.03411678344503,
          1.0654290462761313,
          1.243647276758777,
          0.1807108895321057,
          1.930569055018915,
          -0.8503370519960449,
          1.4729173906717832,
          -0.2620249792221265,
          -0.6941954714857629,
          -1.2676351294769936,
          0.48680861925768976,
          -0.22478898017258253,
          0.3634076839547694,
          0.2521744014414418,
          -0.09182355768504491,
          1.1635669193642673,
          0.33191855536558423,
          1.7942750323792322,
          0.24598050825633014,
          0.31914878297218924
         ],
         "y": [
          -0.8412203013466952,
          -1.4556405330733901,
          1.3995102914205535,
          -0.15224870922471553,
          0.5268294298500653,
          -1.2197859339292123,
          0.009582361726098606,
          0.561181640424792,
          1.0022719552298092,
          0.33531467168808216,
          -0.22980153143524878,
          1.4352720103751597,
          1.0473100007601404,
          0.45551917036101197,
          1.4396428109200372,
          -0.015734081864879224,
          1.052523315873753,
          -0.8211113533264749,
          -1.4797916161039029,
          -0.34685409701304637,
          0.17358881034546442,
          0.5532261070251974,
          -1.5744136598225333,
          1.426930955211073,
          0.6798043730217787,
          -0.9160625006402426,
          -1.032071873670647,
          -0.16932617762288818,
          -1.8629859480850752,
          -0.7176167617588177,
          -1.1642798789015683,
          -0.059885894398827216,
          0.6242492276644211,
          0.13943971879552275,
          -1.0917582640346943,
          1.2454479934476843,
          -0.9313443143979103,
          0.7306909003384003,
          1.0775976473970825,
          -1.3171228686283447,
          0.9308837784936753,
          0.16790069092734883,
          0.39023771995396866,
          -1.7127984009366335,
          -0.4959185062750779,
          0.9426697666768178,
          0.9640121729554312,
          1.3675050740156776,
          -0.6243582176660069,
          -0.105685016760253,
          0.06921731388890891,
          -0.9994001128726471,
          -0.16181921175049505,
          -1.1190026364806576,
          -0.8477201696417082,
          1.4874815839507454,
          1.0284057113622087,
          -0.4640318039069314,
          -0.10749989355395759,
          0.7697046059129748,
          -1.0158229695521284,
          -0.4163946741757112,
          -1.070480661558205,
          -0.3229686699162554,
          -1.6492929812138015,
          0.08543857762430547,
          -0.034751743869310424,
          1.4158954255936758,
          -0.03652253446823537,
          0.8367134058100361,
          1.0711489335208217,
          0.9895363649227079,
          -2.047414734568283,
          -0.19083294704200793,
          -0.38027944263450175,
          -0.7342768940328229,
          -1.4305665974365096,
          2.1275466735535624,
          -1.4045247656173208,
          -0.37816621778742326,
          0.5016845111373116,
          1.3080308562604426,
          0.09978118155517453,
          -0.7266434241839196,
          -0.3793724044571526,
          0.1674729114282793,
          -0.7967869942878729,
          1.6426527830130604,
          0.47546955155749715,
          0.7939767890300558,
          0.24659542512216345,
          -2.701302367636305,
          -0.6137358895332142,
          -0.2566583648373671,
          0.12933164941888436,
          0.45365308999813764,
          0.5485780672948903,
          -1.3704874518501422,
          0.33844212720458716,
          -0.5474695980051565
         ]
        }
       ],
       "layout": {
        "legend": {
         "bgcolor": "#F5F6F9",
         "font": {
          "color": "#4D5663"
         }
        },
        "paper_bgcolor": "#F5F6F9",
        "plot_bgcolor": "#F5F6F9",
        "template": {
         "data": {
          "bar": [
           {
            "error_x": {
             "color": "#2a3f5f"
            },
            "error_y": {
             "color": "#2a3f5f"
            },
            "marker": {
             "line": {
              "color": "#E5ECF6",
              "width": 0.5
             }
            },
            "type": "bar"
           }
          ],
          "barpolar": [
           {
            "marker": {
             "line": {
              "color": "#E5ECF6",
              "width": 0.5
             }
            },
            "type": "barpolar"
           }
          ],
          "carpet": [
           {
            "aaxis": {
             "endlinecolor": "#2a3f5f",
             "gridcolor": "white",
             "linecolor": "white",
             "minorgridcolor": "white",
             "startlinecolor": "#2a3f5f"
            },
            "baxis": {
             "endlinecolor": "#2a3f5f",
             "gridcolor": "white",
             "linecolor": "white",
             "minorgridcolor": "white",
             "startlinecolor": "#2a3f5f"
            },
            "type": "carpet"
           }
          ],
          "choropleth": [
           {
            "colorbar": {
             "outlinewidth": 0,
             "ticks": ""
            },
            "type": "choropleth"
           }
          ],
          "contour": [
           {
            "colorbar": {
             "outlinewidth": 0,
             "ticks": ""
            },
            "colorscale": [
             [
              0,
              "#0d0887"
             ],
             [
              0.1111111111111111,
              "#46039f"
             ],
             [
              0.2222222222222222,
              "#7201a8"
             ],
             [
              0.3333333333333333,
              "#9c179e"
             ],
             [
              0.4444444444444444,
              "#bd3786"
             ],
             [
              0.5555555555555556,
              "#d8576b"
             ],
             [
              0.6666666666666666,
              "#ed7953"
             ],
             [
              0.7777777777777778,
              "#fb9f3a"
             ],
             [
              0.8888888888888888,
              "#fdca26"
             ],
             [
              1,
              "#f0f921"
             ]
            ],
            "type": "contour"
           }
          ],
          "contourcarpet": [
           {
            "colorbar": {
             "outlinewidth": 0,
             "ticks": ""
            },
            "type": "contourcarpet"
           }
          ],
          "heatmap": [
           {
            "colorbar": {
             "outlinewidth": 0,
             "ticks": ""
            },
            "colorscale": [
             [
              0,
              "#0d0887"
             ],
             [
              0.1111111111111111,
              "#46039f"
             ],
             [
              0.2222222222222222,
              "#7201a8"
             ],
             [
              0.3333333333333333,
              "#9c179e"
             ],
             [
              0.4444444444444444,
              "#bd3786"
             ],
             [
              0.5555555555555556,
              "#d8576b"
             ],
             [
              0.6666666666666666,
              "#ed7953"
             ],
             [
              0.7777777777777778,
              "#fb9f3a"
             ],
             [
              0.8888888888888888,
              "#fdca26"
             ],
             [
              1,
              "#f0f921"
             ]
            ],
            "type": "heatmap"
           }
          ],
          "heatmapgl": [
           {
            "colorbar": {
             "outlinewidth": 0,
             "ticks": ""
            },
            "colorscale": [
             [
              0,
              "#0d0887"
             ],
             [
              0.1111111111111111,
              "#46039f"
             ],
             [
              0.2222222222222222,
              "#7201a8"
             ],
             [
              0.3333333333333333,
              "#9c179e"
             ],
             [
              0.4444444444444444,
              "#bd3786"
             ],
             [
              0.5555555555555556,
              "#d8576b"
             ],
             [
              0.6666666666666666,
              "#ed7953"
             ],
             [
              0.7777777777777778,
              "#fb9f3a"
             ],
             [
              0.8888888888888888,
              "#fdca26"
             ],
             [
              1,
              "#f0f921"
             ]
            ],
            "type": "heatmapgl"
           }
          ],
          "histogram": [
           {
            "marker": {
             "colorbar": {
              "outlinewidth": 0,
              "ticks": ""
             }
            },
            "type": "histogram"
           }
          ],
          "histogram2d": [
           {
            "colorbar": {
             "outlinewidth": 0,
             "ticks": ""
            },
            "colorscale": [
             [
              0,
              "#0d0887"
             ],
             [
              0.1111111111111111,
              "#46039f"
             ],
             [
              0.2222222222222222,
              "#7201a8"
             ],
             [
              0.3333333333333333,
              "#9c179e"
             ],
             [
              0.4444444444444444,
              "#bd3786"
             ],
             [
              0.5555555555555556,
              "#d8576b"
             ],
             [
              0.6666666666666666,
              "#ed7953"
             ],
             [
              0.7777777777777778,
              "#fb9f3a"
             ],
             [
              0.8888888888888888,
              "#fdca26"
             ],
             [
              1,
              "#f0f921"
             ]
            ],
            "type": "histogram2d"
           }
          ],
          "histogram2dcontour": [
           {
            "colorbar": {
             "outlinewidth": 0,
             "ticks": ""
            },
            "colorscale": [
             [
              0,
              "#0d0887"
             ],
             [
              0.1111111111111111,
              "#46039f"
             ],
             [
              0.2222222222222222,
              "#7201a8"
             ],
             [
              0.3333333333333333,
              "#9c179e"
             ],
             [
              0.4444444444444444,
              "#bd3786"
             ],
             [
              0.5555555555555556,
              "#d8576b"
             ],
             [
              0.6666666666666666,
              "#ed7953"
             ],
             [
              0.7777777777777778,
              "#fb9f3a"
             ],
             [
              0.8888888888888888,
              "#fdca26"
             ],
             [
              1,
              "#f0f921"
             ]
            ],
            "type": "histogram2dcontour"
           }
          ],
          "mesh3d": [
           {
            "colorbar": {
             "outlinewidth": 0,
             "ticks": ""
            },
            "type": "mesh3d"
           }
          ],
          "parcoords": [
           {
            "line": {
             "colorbar": {
              "outlinewidth": 0,
              "ticks": ""
             }
            },
            "type": "parcoords"
           }
          ],
          "pie": [
           {
            "automargin": true,
            "type": "pie"
           }
          ],
          "scatter": [
           {
            "marker": {
             "colorbar": {
              "outlinewidth": 0,
              "ticks": ""
             }
            },
            "type": "scatter"
           }
          ],
          "scatter3d": [
           {
            "line": {
             "colorbar": {
              "outlinewidth": 0,
              "ticks": ""
             }
            },
            "marker": {
             "colorbar": {
              "outlinewidth": 0,
              "ticks": ""
             }
            },
            "type": "scatter3d"
           }
          ],
          "scattercarpet": [
           {
            "marker": {
             "colorbar": {
              "outlinewidth": 0,
              "ticks": ""
             }
            },
            "type": "scattercarpet"
           }
          ],
          "scattergeo": [
           {
            "marker": {
             "colorbar": {
              "outlinewidth": 0,
              "ticks": ""
             }
            },
            "type": "scattergeo"
           }
          ],
          "scattergl": [
           {
            "marker": {
             "colorbar": {
              "outlinewidth": 0,
              "ticks": ""
             }
            },
            "type": "scattergl"
           }
          ],
          "scattermapbox": [
           {
            "marker": {
             "colorbar": {
              "outlinewidth": 0,
              "ticks": ""
             }
            },
            "type": "scattermapbox"
           }
          ],
          "scatterpolar": [
           {
            "marker": {
             "colorbar": {
              "outlinewidth": 0,
              "ticks": ""
             }
            },
            "type": "scatterpolar"
           }
          ],
          "scatterpolargl": [
           {
            "marker": {
             "colorbar": {
              "outlinewidth": 0,
              "ticks": ""
             }
            },
            "type": "scatterpolargl"
           }
          ],
          "scatterternary": [
           {
            "marker": {
             "colorbar": {
              "outlinewidth": 0,
              "ticks": ""
             }
            },
            "type": "scatterternary"
           }
          ],
          "surface": [
           {
            "colorbar": {
             "outlinewidth": 0,
             "ticks": ""
            },
            "colorscale": [
             [
              0,
              "#0d0887"
             ],
             [
              0.1111111111111111,
              "#46039f"
             ],
             [
              0.2222222222222222,
              "#7201a8"
             ],
             [
              0.3333333333333333,
              "#9c179e"
             ],
             [
              0.4444444444444444,
              "#bd3786"
             ],
             [
              0.5555555555555556,
              "#d8576b"
             ],
             [
              0.6666666666666666,
              "#ed7953"
             ],
             [
              0.7777777777777778,
              "#fb9f3a"
             ],
             [
              0.8888888888888888,
              "#fdca26"
             ],
             [
              1,
              "#f0f921"
             ]
            ],
            "type": "surface"
           }
          ],
          "table": [
           {
            "cells": {
             "fill": {
              "color": "#EBF0F8"
             },
             "line": {
              "color": "white"
             }
            },
            "header": {
             "fill": {
              "color": "#C8D4E3"
             },
             "line": {
              "color": "white"
             }
            },
            "type": "table"
           }
          ]
         },
         "layout": {
          "annotationdefaults": {
           "arrowcolor": "#2a3f5f",
           "arrowhead": 0,
           "arrowwidth": 1
          },
          "coloraxis": {
           "colorbar": {
            "outlinewidth": 0,
            "ticks": ""
           }
          },
          "colorscale": {
           "diverging": [
            [
             0,
             "#8e0152"
            ],
            [
             0.1,
             "#c51b7d"
            ],
            [
             0.2,
             "#de77ae"
            ],
            [
             0.3,
             "#f1b6da"
            ],
            [
             0.4,
             "#fde0ef"
            ],
            [
             0.5,
             "#f7f7f7"
            ],
            [
             0.6,
             "#e6f5d0"
            ],
            [
             0.7,
             "#b8e186"
            ],
            [
             0.8,
             "#7fbc41"
            ],
            [
             0.9,
             "#4d9221"
            ],
            [
             1,
             "#276419"
            ]
           ],
           "sequential": [
            [
             0,
             "#0d0887"
            ],
            [
             0.1111111111111111,
             "#46039f"
            ],
            [
             0.2222222222222222,
             "#7201a8"
            ],
            [
             0.3333333333333333,
             "#9c179e"
            ],
            [
             0.4444444444444444,
             "#bd3786"
            ],
            [
             0.5555555555555556,
             "#d8576b"
            ],
            [
             0.6666666666666666,
             "#ed7953"
            ],
            [
             0.7777777777777778,
             "#fb9f3a"
            ],
            [
             0.8888888888888888,
             "#fdca26"
            ],
            [
             1,
             "#f0f921"
            ]
           ],
           "sequentialminus": [
            [
             0,
             "#0d0887"
            ],
            [
             0.1111111111111111,
             "#46039f"
            ],
            [
             0.2222222222222222,
             "#7201a8"
            ],
            [
             0.3333333333333333,
             "#9c179e"
            ],
            [
             0.4444444444444444,
             "#bd3786"
            ],
            [
             0.5555555555555556,
             "#d8576b"
            ],
            [
             0.6666666666666666,
             "#ed7953"
            ],
            [
             0.7777777777777778,
             "#fb9f3a"
            ],
            [
             0.8888888888888888,
             "#fdca26"
            ],
            [
             1,
             "#f0f921"
            ]
           ]
          },
          "colorway": [
           "#636efa",
           "#EF553B",
           "#00cc96",
           "#ab63fa",
           "#FFA15A",
           "#19d3f3",
           "#FF6692",
           "#B6E880",
           "#FF97FF",
           "#FECB52"
          ],
          "font": {
           "color": "#2a3f5f"
          },
          "geo": {
           "bgcolor": "white",
           "lakecolor": "white",
           "landcolor": "#E5ECF6",
           "showlakes": true,
           "showland": true,
           "subunitcolor": "white"
          },
          "hoverlabel": {
           "align": "left"
          },
          "hovermode": "closest",
          "mapbox": {
           "style": "light"
          },
          "paper_bgcolor": "white",
          "plot_bgcolor": "#E5ECF6",
          "polar": {
           "angularaxis": {
            "gridcolor": "white",
            "linecolor": "white",
            "ticks": ""
           },
           "bgcolor": "#E5ECF6",
           "radialaxis": {
            "gridcolor": "white",
            "linecolor": "white",
            "ticks": ""
           }
          },
          "scene": {
           "xaxis": {
            "backgroundcolor": "#E5ECF6",
            "gridcolor": "white",
            "gridwidth": 2,
            "linecolor": "white",
            "showbackground": true,
            "ticks": "",
            "zerolinecolor": "white"
           },
           "yaxis": {
            "backgroundcolor": "#E5ECF6",
            "gridcolor": "white",
            "gridwidth": 2,
            "linecolor": "white",
            "showbackground": true,
            "ticks": "",
            "zerolinecolor": "white"
           },
           "zaxis": {
            "backgroundcolor": "#E5ECF6",
            "gridcolor": "white",
            "gridwidth": 2,
            "linecolor": "white",
            "showbackground": true,
            "ticks": "",
            "zerolinecolor": "white"
           }
          },
          "shapedefaults": {
           "line": {
            "color": "#2a3f5f"
           }
          },
          "ternary": {
           "aaxis": {
            "gridcolor": "white",
            "linecolor": "white",
            "ticks": ""
           },
           "baxis": {
            "gridcolor": "white",
            "linecolor": "white",
            "ticks": ""
           },
           "bgcolor": "#E5ECF6",
           "caxis": {
            "gridcolor": "white",
            "linecolor": "white",
            "ticks": ""
           }
          },
          "title": {
           "x": 0.05
          },
          "xaxis": {
           "automargin": true,
           "gridcolor": "white",
           "linecolor": "white",
           "ticks": "",
           "title": {
            "standoff": 15
           },
           "zerolinecolor": "white",
           "zerolinewidth": 2
          },
          "yaxis": {
           "automargin": true,
           "gridcolor": "white",
           "linecolor": "white",
           "ticks": "",
           "title": {
            "standoff": 15
           },
           "zerolinecolor": "white",
           "zerolinewidth": 2
          }
         }
        },
        "title": {
         "font": {
          "color": "#4D5663"
         }
        },
        "xaxis": {
         "gridcolor": "#E1E5ED",
         "showgrid": true,
         "tickfont": {
          "color": "#4D5663"
         },
         "title": {
          "font": {
           "color": "#4D5663"
          },
          "text": ""
         },
         "zerolinecolor": "#E1E5ED"
        },
        "yaxis": {
         "gridcolor": "#E1E5ED",
         "showgrid": true,
         "tickfont": {
          "color": "#4D5663"
         },
         "title": {
          "font": {
           "color": "#4D5663"
          },
          "text": ""
         },
         "zerolinecolor": "#E1E5ED"
        }
       }
      },
      "text/html": [
       "<div>\n",
       "        \n",
       "        \n",
       "            <div id=\"be81b639-d4f7-41b1-8d4a-111764f7e9fd\" class=\"plotly-graph-div\" style=\"height:525px; width:100%;\"></div>\n",
       "            <script type=\"text/javascript\">\n",
       "                require([\"plotly\"], function(Plotly) {\n",
       "                    window.PLOTLYENV=window.PLOTLYENV || {};\n",
       "                    window.PLOTLYENV.BASE_URL='https://plot.ly';\n",
       "                    \n",
       "                if (document.getElementById(\"be81b639-d4f7-41b1-8d4a-111764f7e9fd\")) {\n",
       "                    Plotly.newPlot(\n",
       "                        'be81b639-d4f7-41b1-8d4a-111764f7e9fd',\n",
       "                        [{\"marker\": {\"color\": [\"rgb(255, 153, 51)\", \"rgb(55, 128, 191)\", \"rgb(50, 171, 96)\", \"rgb(128, 0, 128)\", \"rgb(219, 64, 82)\", \"rgb(0, 128, 128)\", \"rgb(255, 255, 51)\", \"rgb(128, 128, 0)\", \"rgb(251, 128, 114)\", \"rgb(128, 177, 211)\"], \"line\": {\"width\": 1.3}, \"size\": [41, 69, 77, 58, 102, 102, 77, 53, 29, 112, 52, 97, 62, 42, 48, 54, 52, 52, 69, 56, 56, 76, 59, 66, 67, 35, 51, 68, 58, 91, 71, 76, 85, 53, 62, 80, 60, 42, 37, 40, 55, 91, 71, 66, 71, 56, 60, 70, 74, 16, 33, 60, 104, 100, 46, 81, 19, 61, 47, 71, 78, 100, 67, 88, 68, 25, 72, 98, 62, 70, 50, 53, 102, 53, 41, 54, 78, 31, 71, 55, 99, 71, 91, 56, 78, 39, 66, 80, 36, 74, 75, 39, 41, 48, 66, 19, 78, 52, 12, 29], \"symbol\": \"circle\"}, \"mode\": \"markers\", \"text\": \"\", \"type\": \"scatter\", \"x\": [-1.3739863479333019, -1.9624455010940727, 0.7327750939620981, -0.2919572815622404, -0.9217098205202516, 0.22744759905473583, 1.9132185334214225, 1.0655902636822598, -0.38928009078930315, -0.3452293933838182, 0.09091648675429946, 1.2073065192020882, -0.08500961714186184, -0.5055073853451985, 0.4687032216385739, -1.5978997254543206, -0.7666102457951843, -0.39398286841197316, -1.049186557582861, -1.067187592678143, 0.605592400516392, -0.11066233012795543, 0.39669421943886507, -1.0026267178735169, -0.8799490270845547, -1.2091025025157014, 0.8592587287529497, -1.3059621647376631, -0.49409588997722176, -0.8561085996940954, -0.09542823152230753, 0.7745566868372872, -2.159376269631232, -0.6469062031484143, -1.30290706575803, 0.34943224260271455, -0.7477458362035658, 1.3528696394413993, -2.920920040636787, 0.9278268638296904, 0.5605370533615859, -1.3140083470584134, 1.0275187862240902, 0.9080776763871582, 0.6662700296464388, -1.2137950590227322, 1.918957894421482, -0.24599141709506822, 0.4961882856255173, 0.4168717709122591, -0.3085438402018306, 0.5019814690468661, 0.3414158925692907, -0.4979364024958135, 0.08142353874951676, -1.0996710000315342, -1.0795816556751554, -0.8642669920964954, 0.10857557863564289, 0.46506328690511073, 0.18367046160415235, 2.6167268929959393, -0.5397623850278019, -0.5536167576692237, -1.0905694819253666, 1.0310309500377988, 2.501625720688344, -1.2021524648882707, -0.9988665672393777, 0.978803568142746, -0.4633340031417136, -0.8957523468579796, 2.8338315246665746, -0.8113723695934447, -1.2091331107832572, 0.8878928228341988, -1.3469269674940716, 0.40613418886213204, -0.11187966305446931, -1.2332976335109138, 2.03411678344503, 1.0654290462761313, 1.243647276758777, 0.1807108895321057, 1.930569055018915, -0.8503370519960449, 1.4729173906717832, -0.2620249792221265, -0.6941954714857629, -1.2676351294769936, 0.48680861925768976, -0.22478898017258253, 0.3634076839547694, 0.2521744014414418, -0.09182355768504491, 1.1635669193642673, 0.33191855536558423, 1.7942750323792322, 0.24598050825633014, 0.31914878297218924], \"y\": [-0.8412203013466952, -1.4556405330733901, 1.3995102914205535, -0.15224870922471553, 0.5268294298500653, -1.2197859339292123, 0.009582361726098606, 0.561181640424792, 1.0022719552298092, 0.33531467168808216, -0.22980153143524878, 1.4352720103751597, 1.0473100007601404, 0.45551917036101197, 1.4396428109200372, -0.015734081864879224, 1.052523315873753, -0.8211113533264749, -1.4797916161039029, -0.34685409701304637, 0.17358881034546442, 0.5532261070251974, -1.5744136598225333, 1.426930955211073, 0.6798043730217787, -0.9160625006402426, -1.032071873670647, -0.16932617762288818, -1.8629859480850752, -0.7176167617588177, -1.1642798789015683, -0.059885894398827216, 0.6242492276644211, 0.13943971879552275, -1.0917582640346943, 1.2454479934476843, -0.9313443143979103, 0.7306909003384003, 1.0775976473970825, -1.3171228686283447, 0.9308837784936753, 0.16790069092734883, 0.39023771995396866, -1.7127984009366335, -0.4959185062750779, 0.9426697666768178, 0.9640121729554312, 1.3675050740156776, -0.6243582176660069, -0.105685016760253, 0.06921731388890891, -0.9994001128726471, -0.16181921175049505, -1.1190026364806576, -0.8477201696417082, 1.4874815839507454, 1.0284057113622087, -0.4640318039069314, -0.10749989355395759, 0.7697046059129748, -1.0158229695521284, -0.4163946741757112, -1.070480661558205, -0.3229686699162554, -1.6492929812138015, 0.08543857762430547, -0.034751743869310424, 1.4158954255936758, -0.03652253446823537, 0.8367134058100361, 1.0711489335208217, 0.9895363649227079, -2.047414734568283, -0.19083294704200793, -0.38027944263450175, -0.7342768940328229, -1.4305665974365096, 2.1275466735535624, -1.4045247656173208, -0.37816621778742326, 0.5016845111373116, 1.3080308562604426, 0.09978118155517453, -0.7266434241839196, -0.3793724044571526, 0.1674729114282793, -0.7967869942878729, 1.6426527830130604, 0.47546955155749715, 0.7939767890300558, 0.24659542512216345, -2.701302367636305, -0.6137358895332142, -0.2566583648373671, 0.12933164941888436, 0.45365308999813764, 0.5485780672948903, -1.3704874518501422, 0.33844212720458716, -0.5474695980051565]}],\n",
       "                        {\"legend\": {\"bgcolor\": \"#F5F6F9\", \"font\": {\"color\": \"#4D5663\"}}, \"paper_bgcolor\": \"#F5F6F9\", \"plot_bgcolor\": \"#F5F6F9\", \"template\": {\"data\": {\"bar\": [{\"error_x\": {\"color\": \"#2a3f5f\"}, \"error_y\": {\"color\": \"#2a3f5f\"}, \"marker\": {\"line\": {\"color\": \"#E5ECF6\", \"width\": 0.5}}, \"type\": \"bar\"}], \"barpolar\": [{\"marker\": {\"line\": {\"color\": \"#E5ECF6\", \"width\": 0.5}}, \"type\": \"barpolar\"}], \"carpet\": [{\"aaxis\": {\"endlinecolor\": \"#2a3f5f\", \"gridcolor\": \"white\", \"linecolor\": \"white\", \"minorgridcolor\": \"white\", \"startlinecolor\": \"#2a3f5f\"}, \"baxis\": {\"endlinecolor\": \"#2a3f5f\", \"gridcolor\": \"white\", \"linecolor\": \"white\", \"minorgridcolor\": \"white\", \"startlinecolor\": \"#2a3f5f\"}, \"type\": \"carpet\"}], \"choropleth\": [{\"colorbar\": {\"outlinewidth\": 0, \"ticks\": \"\"}, \"type\": \"choropleth\"}], \"contour\": [{\"colorbar\": {\"outlinewidth\": 0, \"ticks\": \"\"}, \"colorscale\": [[0.0, \"#0d0887\"], [0.1111111111111111, \"#46039f\"], [0.2222222222222222, \"#7201a8\"], [0.3333333333333333, \"#9c179e\"], [0.4444444444444444, \"#bd3786\"], [0.5555555555555556, \"#d8576b\"], [0.6666666666666666, \"#ed7953\"], [0.7777777777777778, \"#fb9f3a\"], [0.8888888888888888, \"#fdca26\"], [1.0, \"#f0f921\"]], \"type\": \"contour\"}], \"contourcarpet\": [{\"colorbar\": {\"outlinewidth\": 0, \"ticks\": \"\"}, \"type\": \"contourcarpet\"}], \"heatmap\": [{\"colorbar\": {\"outlinewidth\": 0, \"ticks\": \"\"}, \"colorscale\": [[0.0, \"#0d0887\"], [0.1111111111111111, \"#46039f\"], [0.2222222222222222, \"#7201a8\"], [0.3333333333333333, \"#9c179e\"], [0.4444444444444444, \"#bd3786\"], [0.5555555555555556, \"#d8576b\"], [0.6666666666666666, \"#ed7953\"], [0.7777777777777778, \"#fb9f3a\"], [0.8888888888888888, \"#fdca26\"], [1.0, \"#f0f921\"]], \"type\": \"heatmap\"}], \"heatmapgl\": [{\"colorbar\": {\"outlinewidth\": 0, \"ticks\": \"\"}, \"colorscale\": [[0.0, \"#0d0887\"], [0.1111111111111111, \"#46039f\"], [0.2222222222222222, \"#7201a8\"], [0.3333333333333333, \"#9c179e\"], [0.4444444444444444, \"#bd3786\"], [0.5555555555555556, \"#d8576b\"], [0.6666666666666666, \"#ed7953\"], [0.7777777777777778, \"#fb9f3a\"], [0.8888888888888888, \"#fdca26\"], [1.0, \"#f0f921\"]], \"type\": \"heatmapgl\"}], \"histogram\": [{\"marker\": {\"colorbar\": {\"outlinewidth\": 0, \"ticks\": \"\"}}, \"type\": \"histogram\"}], \"histogram2d\": [{\"colorbar\": {\"outlinewidth\": 0, \"ticks\": \"\"}, \"colorscale\": [[0.0, \"#0d0887\"], [0.1111111111111111, \"#46039f\"], [0.2222222222222222, \"#7201a8\"], [0.3333333333333333, \"#9c179e\"], [0.4444444444444444, \"#bd3786\"], [0.5555555555555556, \"#d8576b\"], [0.6666666666666666, \"#ed7953\"], [0.7777777777777778, \"#fb9f3a\"], [0.8888888888888888, \"#fdca26\"], [1.0, \"#f0f921\"]], \"type\": \"histogram2d\"}], \"histogram2dcontour\": [{\"colorbar\": {\"outlinewidth\": 0, \"ticks\": \"\"}, \"colorscale\": [[0.0, \"#0d0887\"], [0.1111111111111111, \"#46039f\"], [0.2222222222222222, \"#7201a8\"], [0.3333333333333333, \"#9c179e\"], [0.4444444444444444, \"#bd3786\"], [0.5555555555555556, \"#d8576b\"], [0.6666666666666666, \"#ed7953\"], [0.7777777777777778, \"#fb9f3a\"], [0.8888888888888888, \"#fdca26\"], [1.0, \"#f0f921\"]], \"type\": \"histogram2dcontour\"}], \"mesh3d\": [{\"colorbar\": {\"outlinewidth\": 0, \"ticks\": \"\"}, \"type\": \"mesh3d\"}], \"parcoords\": [{\"line\": {\"colorbar\": {\"outlinewidth\": 0, \"ticks\": \"\"}}, \"type\": \"parcoords\"}], \"pie\": [{\"automargin\": true, \"type\": \"pie\"}], \"scatter\": [{\"marker\": {\"colorbar\": {\"outlinewidth\": 0, \"ticks\": \"\"}}, \"type\": \"scatter\"}], \"scatter3d\": [{\"line\": {\"colorbar\": {\"outlinewidth\": 0, \"ticks\": \"\"}}, \"marker\": {\"colorbar\": {\"outlinewidth\": 0, \"ticks\": \"\"}}, \"type\": \"scatter3d\"}], \"scattercarpet\": [{\"marker\": {\"colorbar\": {\"outlinewidth\": 0, \"ticks\": \"\"}}, \"type\": \"scattercarpet\"}], \"scattergeo\": [{\"marker\": {\"colorbar\": {\"outlinewidth\": 0, \"ticks\": \"\"}}, \"type\": \"scattergeo\"}], \"scattergl\": [{\"marker\": {\"colorbar\": {\"outlinewidth\": 0, \"ticks\": \"\"}}, \"type\": \"scattergl\"}], \"scattermapbox\": [{\"marker\": {\"colorbar\": {\"outlinewidth\": 0, \"ticks\": \"\"}}, \"type\": \"scattermapbox\"}], \"scatterpolar\": [{\"marker\": {\"colorbar\": {\"outlinewidth\": 0, \"ticks\": \"\"}}, \"type\": \"scatterpolar\"}], \"scatterpolargl\": [{\"marker\": {\"colorbar\": {\"outlinewidth\": 0, \"ticks\": \"\"}}, \"type\": \"scatterpolargl\"}], \"scatterternary\": [{\"marker\": {\"colorbar\": {\"outlinewidth\": 0, \"ticks\": \"\"}}, \"type\": \"scatterternary\"}], \"surface\": [{\"colorbar\": {\"outlinewidth\": 0, \"ticks\": \"\"}, \"colorscale\": [[0.0, \"#0d0887\"], [0.1111111111111111, \"#46039f\"], [0.2222222222222222, \"#7201a8\"], [0.3333333333333333, \"#9c179e\"], [0.4444444444444444, \"#bd3786\"], [0.5555555555555556, \"#d8576b\"], [0.6666666666666666, \"#ed7953\"], [0.7777777777777778, \"#fb9f3a\"], [0.8888888888888888, \"#fdca26\"], [1.0, \"#f0f921\"]], \"type\": \"surface\"}], \"table\": [{\"cells\": {\"fill\": {\"color\": \"#EBF0F8\"}, \"line\": {\"color\": \"white\"}}, \"header\": {\"fill\": {\"color\": \"#C8D4E3\"}, \"line\": {\"color\": \"white\"}}, \"type\": \"table\"}]}, \"layout\": {\"annotationdefaults\": {\"arrowcolor\": \"#2a3f5f\", \"arrowhead\": 0, \"arrowwidth\": 1}, \"coloraxis\": {\"colorbar\": {\"outlinewidth\": 0, \"ticks\": \"\"}}, \"colorscale\": {\"diverging\": [[0, \"#8e0152\"], [0.1, \"#c51b7d\"], [0.2, \"#de77ae\"], [0.3, \"#f1b6da\"], [0.4, \"#fde0ef\"], [0.5, \"#f7f7f7\"], [0.6, \"#e6f5d0\"], [0.7, \"#b8e186\"], [0.8, \"#7fbc41\"], [0.9, \"#4d9221\"], [1, \"#276419\"]], \"sequential\": [[0.0, \"#0d0887\"], [0.1111111111111111, \"#46039f\"], [0.2222222222222222, \"#7201a8\"], [0.3333333333333333, \"#9c179e\"], [0.4444444444444444, \"#bd3786\"], [0.5555555555555556, \"#d8576b\"], [0.6666666666666666, \"#ed7953\"], [0.7777777777777778, \"#fb9f3a\"], [0.8888888888888888, \"#fdca26\"], [1.0, \"#f0f921\"]], \"sequentialminus\": [[0.0, \"#0d0887\"], [0.1111111111111111, \"#46039f\"], [0.2222222222222222, \"#7201a8\"], [0.3333333333333333, \"#9c179e\"], [0.4444444444444444, \"#bd3786\"], [0.5555555555555556, \"#d8576b\"], [0.6666666666666666, \"#ed7953\"], [0.7777777777777778, \"#fb9f3a\"], [0.8888888888888888, \"#fdca26\"], [1.0, \"#f0f921\"]]}, \"colorway\": [\"#636efa\", \"#EF553B\", \"#00cc96\", \"#ab63fa\", \"#FFA15A\", \"#19d3f3\", \"#FF6692\", \"#B6E880\", \"#FF97FF\", \"#FECB52\"], \"font\": {\"color\": \"#2a3f5f\"}, \"geo\": {\"bgcolor\": \"white\", \"lakecolor\": \"white\", \"landcolor\": \"#E5ECF6\", \"showlakes\": true, \"showland\": true, \"subunitcolor\": \"white\"}, \"hoverlabel\": {\"align\": \"left\"}, \"hovermode\": \"closest\", \"mapbox\": {\"style\": \"light\"}, \"paper_bgcolor\": \"white\", \"plot_bgcolor\": \"#E5ECF6\", \"polar\": {\"angularaxis\": {\"gridcolor\": \"white\", \"linecolor\": \"white\", \"ticks\": \"\"}, \"bgcolor\": \"#E5ECF6\", \"radialaxis\": {\"gridcolor\": \"white\", \"linecolor\": \"white\", \"ticks\": \"\"}}, \"scene\": {\"xaxis\": {\"backgroundcolor\": \"#E5ECF6\", \"gridcolor\": \"white\", \"gridwidth\": 2, \"linecolor\": \"white\", \"showbackground\": true, \"ticks\": \"\", \"zerolinecolor\": \"white\"}, \"yaxis\": {\"backgroundcolor\": \"#E5ECF6\", \"gridcolor\": \"white\", \"gridwidth\": 2, \"linecolor\": \"white\", \"showbackground\": true, \"ticks\": \"\", \"zerolinecolor\": \"white\"}, \"zaxis\": {\"backgroundcolor\": \"#E5ECF6\", \"gridcolor\": \"white\", \"gridwidth\": 2, \"linecolor\": \"white\", \"showbackground\": true, \"ticks\": \"\", \"zerolinecolor\": \"white\"}}, \"shapedefaults\": {\"line\": {\"color\": \"#2a3f5f\"}}, \"ternary\": {\"aaxis\": {\"gridcolor\": \"white\", \"linecolor\": \"white\", \"ticks\": \"\"}, \"baxis\": {\"gridcolor\": \"white\", \"linecolor\": \"white\", \"ticks\": \"\"}, \"bgcolor\": \"#E5ECF6\", \"caxis\": {\"gridcolor\": \"white\", \"linecolor\": \"white\", \"ticks\": \"\"}}, \"title\": {\"x\": 0.05}, \"xaxis\": {\"automargin\": true, \"gridcolor\": \"white\", \"linecolor\": \"white\", \"ticks\": \"\", \"title\": {\"standoff\": 15}, \"zerolinecolor\": \"white\", \"zerolinewidth\": 2}, \"yaxis\": {\"automargin\": true, \"gridcolor\": \"white\", \"linecolor\": \"white\", \"ticks\": \"\", \"title\": {\"standoff\": 15}, \"zerolinecolor\": \"white\", \"zerolinewidth\": 2}}}, \"title\": {\"font\": {\"color\": \"#4D5663\"}}, \"xaxis\": {\"gridcolor\": \"#E1E5ED\", \"showgrid\": true, \"tickfont\": {\"color\": \"#4D5663\"}, \"title\": {\"font\": {\"color\": \"#4D5663\"}, \"text\": \"\"}, \"zerolinecolor\": \"#E1E5ED\"}, \"yaxis\": {\"gridcolor\": \"#E1E5ED\", \"showgrid\": true, \"tickfont\": {\"color\": \"#4D5663\"}, \"title\": {\"font\": {\"color\": \"#4D5663\"}, \"text\": \"\"}, \"zerolinecolor\": \"#E1E5ED\"}},\n",
       "                        {\"showLink\": true, \"linkText\": \"Export to plot.ly\", \"plotlyServerURL\": \"https://plot.ly\", \"responsive\": true}\n",
       "                    ).then(function(){\n",
       "                            \n",
       "var gd = document.getElementById('be81b639-d4f7-41b1-8d4a-111764f7e9fd');\n",
       "var x = new MutationObserver(function (mutations, observer) {{\n",
       "        var display = window.getComputedStyle(gd).display;\n",
       "        if (!display || display === 'none') {{\n",
       "            console.log([gd, 'removed!']);\n",
       "            Plotly.purge(gd);\n",
       "            observer.disconnect();\n",
       "        }}\n",
       "}});\n",
       "\n",
       "// Listen for the removal of the full notebook cells\n",
       "var notebookContainer = gd.closest('#notebook-container');\n",
       "if (notebookContainer) {{\n",
       "    x.observe(notebookContainer, {childList: true});\n",
       "}}\n",
       "\n",
       "// Listen for the clearing of the current output cell\n",
       "var outputEl = gd.closest('.output');\n",
       "if (outputEl) {{\n",
       "    x.observe(outputEl, {childList: true});\n",
       "}}\n",
       "\n",
       "                        })\n",
       "                };\n",
       "                });\n",
       "            </script>\n",
       "        </div>"
      ]
     },
     "metadata": {},
     "output_type": "display_data"
    }
   ],
   "source": [
    "df.iplot(kind='bubble',x='A',y='B',size='C')"
   ]
  },
  {
   "cell_type": "markdown",
   "metadata": {},
   "source": [
    "## scatter_matrix()\n",
    "\n",
    "Similar to sns.pairplot()"
   ]
  },
  {
   "cell_type": "code",
   "execution_count": 18,
   "metadata": {},
   "outputs": [
    {
     "data": {
      "application/vnd.plotly.v1+json": {
       "config": {
        "linkText": "Export to plot.ly",
        "plotlyServerURL": "https://plot.ly",
        "showLink": true
       },
       "data": [
        {
         "histfunc": "count",
         "histnorm": "",
         "marker": {
          "color": "rgba(255, 153, 51, 1.0)",
          "line": {
           "color": "#4D5663",
           "width": 1.3
          }
         },
         "name": "A",
         "nbinsx": 10,
         "opacity": 0.8,
         "orientation": "v",
         "type": "histogram",
         "x": [
          -1.3739863479333019,
          -1.9624455010940727,
          0.7327750939620981,
          -0.2919572815622404,
          -0.9217098205202516,
          0.22744759905473583,
          1.9132185334214225,
          1.0655902636822598,
          -0.38928009078930315,
          -0.3452293933838182,
          0.09091648675429946,
          1.2073065192020882,
          -0.08500961714186184,
          -0.5055073853451985,
          0.4687032216385739,
          -1.5978997254543206,
          -0.7666102457951843,
          -0.39398286841197316,
          -1.049186557582861,
          -1.067187592678143,
          0.605592400516392,
          -0.11066233012795543,
          0.39669421943886507,
          -1.0026267178735169,
          -0.8799490270845547,
          -1.2091025025157014,
          0.8592587287529497,
          -1.3059621647376631,
          -0.49409588997722176,
          -0.8561085996940954,
          -0.09542823152230753,
          0.7745566868372872,
          -2.159376269631232,
          -0.6469062031484143,
          -1.30290706575803,
          0.34943224260271455,
          -0.7477458362035658,
          1.3528696394413993,
          -2.920920040636787,
          0.9278268638296904,
          0.5605370533615859,
          -1.3140083470584134,
          1.0275187862240902,
          0.9080776763871582,
          0.6662700296464388,
          -1.2137950590227322,
          1.918957894421482,
          -0.24599141709506822,
          0.4961882856255173,
          0.4168717709122591,
          -0.3085438402018306,
          0.5019814690468661,
          0.3414158925692907,
          -0.4979364024958135,
          0.08142353874951676,
          -1.0996710000315342,
          -1.0795816556751554,
          -0.8642669920964954,
          0.10857557863564289,
          0.46506328690511073,
          0.18367046160415235,
          2.6167268929959393,
          -0.5397623850278019,
          -0.5536167576692237,
          -1.0905694819253666,
          1.0310309500377988,
          2.501625720688344,
          -1.2021524648882707,
          -0.9988665672393777,
          0.978803568142746,
          -0.4633340031417136,
          -0.8957523468579796,
          2.8338315246665746,
          -0.8113723695934447,
          -1.2091331107832572,
          0.8878928228341988,
          -1.3469269674940716,
          0.40613418886213204,
          -0.11187966305446931,
          -1.2332976335109138,
          2.03411678344503,
          1.0654290462761313,
          1.243647276758777,
          0.1807108895321057,
          1.930569055018915,
          -0.8503370519960449,
          1.4729173906717832,
          -0.2620249792221265,
          -0.6941954714857629,
          -1.2676351294769936,
          0.48680861925768976,
          -0.22478898017258253,
          0.3634076839547694,
          0.2521744014414418,
          -0.09182355768504491,
          1.1635669193642673,
          0.33191855536558423,
          1.7942750323792322,
          0.24598050825633014,
          0.31914878297218924
         ],
         "xaxis": "x",
         "yaxis": "y"
        },
        {
         "line": {
          "color": "rgba(128, 128, 128, 1.0)",
          "dash": "solid",
          "shape": "linear",
          "width": 1.3
         },
         "marker": {
          "size": 2,
          "symbol": "circle"
         },
         "mode": "markers",
         "name": "A",
         "text": "",
         "type": "scatter",
         "x": [
          -0.8412203013466952,
          -1.4556405330733901,
          1.3995102914205535,
          -0.15224870922471553,
          0.5268294298500653,
          -1.2197859339292123,
          0.009582361726098606,
          0.561181640424792,
          1.0022719552298092,
          0.33531467168808216,
          -0.22980153143524878,
          1.4352720103751597,
          1.0473100007601404,
          0.45551917036101197,
          1.4396428109200372,
          -0.015734081864879224,
          1.052523315873753,
          -0.8211113533264749,
          -1.4797916161039029,
          -0.34685409701304637,
          0.17358881034546442,
          0.5532261070251974,
          -1.5744136598225333,
          1.426930955211073,
          0.6798043730217787,
          -0.9160625006402426,
          -1.032071873670647,
          -0.16932617762288818,
          -1.8629859480850752,
          -0.7176167617588177,
          -1.1642798789015683,
          -0.059885894398827216,
          0.6242492276644211,
          0.13943971879552275,
          -1.0917582640346943,
          1.2454479934476843,
          -0.9313443143979103,
          0.7306909003384003,
          1.0775976473970825,
          -1.3171228686283447,
          0.9308837784936753,
          0.16790069092734883,
          0.39023771995396866,
          -1.7127984009366335,
          -0.4959185062750779,
          0.9426697666768178,
          0.9640121729554312,
          1.3675050740156776,
          -0.6243582176660069,
          -0.105685016760253,
          0.06921731388890891,
          -0.9994001128726471,
          -0.16181921175049505,
          -1.1190026364806576,
          -0.8477201696417082,
          1.4874815839507454,
          1.0284057113622087,
          -0.4640318039069314,
          -0.10749989355395759,
          0.7697046059129748,
          -1.0158229695521284,
          -0.4163946741757112,
          -1.070480661558205,
          -0.3229686699162554,
          -1.6492929812138015,
          0.08543857762430547,
          -0.034751743869310424,
          1.4158954255936758,
          -0.03652253446823537,
          0.8367134058100361,
          1.0711489335208217,
          0.9895363649227079,
          -2.047414734568283,
          -0.19083294704200793,
          -0.38027944263450175,
          -0.7342768940328229,
          -1.4305665974365096,
          2.1275466735535624,
          -1.4045247656173208,
          -0.37816621778742326,
          0.5016845111373116,
          1.3080308562604426,
          0.09978118155517453,
          -0.7266434241839196,
          -0.3793724044571526,
          0.1674729114282793,
          -0.7967869942878729,
          1.6426527830130604,
          0.47546955155749715,
          0.7939767890300558,
          0.24659542512216345,
          -2.701302367636305,
          -0.6137358895332142,
          -0.2566583648373671,
          0.12933164941888436,
          0.45365308999813764,
          0.5485780672948903,
          -1.3704874518501422,
          0.33844212720458716,
          -0.5474695980051565
         ],
         "xaxis": "x2",
         "y": [
          -1.3739863479333019,
          -1.9624455010940727,
          0.7327750939620981,
          -0.2919572815622404,
          -0.9217098205202516,
          0.22744759905473583,
          1.9132185334214225,
          1.0655902636822598,
          -0.38928009078930315,
          -0.3452293933838182,
          0.09091648675429946,
          1.2073065192020882,
          -0.08500961714186184,
          -0.5055073853451985,
          0.4687032216385739,
          -1.5978997254543206,
          -0.7666102457951843,
          -0.39398286841197316,
          -1.049186557582861,
          -1.067187592678143,
          0.605592400516392,
          -0.11066233012795543,
          0.39669421943886507,
          -1.0026267178735169,
          -0.8799490270845547,
          -1.2091025025157014,
          0.8592587287529497,
          -1.3059621647376631,
          -0.49409588997722176,
          -0.8561085996940954,
          -0.09542823152230753,
          0.7745566868372872,
          -2.159376269631232,
          -0.6469062031484143,
          -1.30290706575803,
          0.34943224260271455,
          -0.7477458362035658,
          1.3528696394413993,
          -2.920920040636787,
          0.9278268638296904,
          0.5605370533615859,
          -1.3140083470584134,
          1.0275187862240902,
          0.9080776763871582,
          0.6662700296464388,
          -1.2137950590227322,
          1.918957894421482,
          -0.24599141709506822,
          0.4961882856255173,
          0.4168717709122591,
          -0.3085438402018306,
          0.5019814690468661,
          0.3414158925692907,
          -0.4979364024958135,
          0.08142353874951676,
          -1.0996710000315342,
          -1.0795816556751554,
          -0.8642669920964954,
          0.10857557863564289,
          0.46506328690511073,
          0.18367046160415235,
          2.6167268929959393,
          -0.5397623850278019,
          -0.5536167576692237,
          -1.0905694819253666,
          1.0310309500377988,
          2.501625720688344,
          -1.2021524648882707,
          -0.9988665672393777,
          0.978803568142746,
          -0.4633340031417136,
          -0.8957523468579796,
          2.8338315246665746,
          -0.8113723695934447,
          -1.2091331107832572,
          0.8878928228341988,
          -1.3469269674940716,
          0.40613418886213204,
          -0.11187966305446931,
          -1.2332976335109138,
          2.03411678344503,
          1.0654290462761313,
          1.243647276758777,
          0.1807108895321057,
          1.930569055018915,
          -0.8503370519960449,
          1.4729173906717832,
          -0.2620249792221265,
          -0.6941954714857629,
          -1.2676351294769936,
          0.48680861925768976,
          -0.22478898017258253,
          0.3634076839547694,
          0.2521744014414418,
          -0.09182355768504491,
          1.1635669193642673,
          0.33191855536558423,
          1.7942750323792322,
          0.24598050825633014,
          0.31914878297218924
         ],
         "yaxis": "y2"
        },
        {
         "line": {
          "color": "rgba(128, 128, 128, 1.0)",
          "dash": "solid",
          "shape": "linear",
          "width": 1.3
         },
         "marker": {
          "size": 2,
          "symbol": "circle"
         },
         "mode": "markers",
         "name": "A",
         "text": "",
         "type": "scatter",
         "x": [
          -0.88779839208149,
          0.44269727406680953,
          0.8032921394151222,
          -0.06550560818461346,
          1.9770648053689104,
          1.9771419986445877,
          0.8184485222101127,
          -0.33490656181945094,
          -1.4634989412653792,
          2.4201422517817415,
          -0.38002372968692,
          1.7559259767496518,
          0.1150118306218919,
          -0.8381302615965344,
          -0.5453002844924816,
          -0.2790830822025973,
          -0.37603002708343664,
          -0.3837741053912723,
          0.4298795727025505,
          -0.17041498157261456,
          -0.1847827028861891,
          0.756793613167367,
          -0.036126278819638674,
          0.307044858885912,
          0.3569493475414374,
          -1.1686378538454998,
          -0.41615568526570645,
          0.3658397568198887,
          -0.09792825142901164,
          1.47853611726422,
          0.5397946383405509,
          0.7737316722718195,
          1.1864388304641107,
          -0.311097543323669,
          0.11291741482160102,
          0.9273084322175332,
          0.018691606522851702,
          -0.8213125096348348,
          -1.0718378920453435,
          -0.9479733788052108,
          -0.20755503298956074,
          1.4448364656198451,
          0.5315779775644139,
          0.30372081653078203,
          0.5371827894205107,
          -0.1955712931854566,
          0.0056277898485943695,
          0.4607086600853507,
          0.6490799347113932,
          -2.049748929608746,
          -1.2572140402419405,
          0.006094559928603997,
          2.064088313673123,
          1.8733608387849092,
          -0.6475668356011,
          1.0107721991639098,
          -1.9151055406678532,
          0.07581887532325861,
          -0.6147849525562099,
          0.500206960406309,
          0.833767752607716,
          1.8637848857178432,
          0.35464432993557077,
          1.3178422949322368,
          0.38121309654929314,
          -1.6153070092602555,
          0.5540038242074874,
          1.7841794989652877,
          0.0899140017465534,
          0.46966765187525045,
          -0.4482526127826353,
          -0.32391520382466554,
          1.9670623067755566,
          -0.3221095148492655,
          -0.8770636218208196,
          -0.2629046239565219,
          0.8382824150937563,
          -1.3379691465399735,
          0.5032689901193407,
          -0.2403433632423958,
          1.8473629736154062,
          0.525943443045498,
          1.4649076665660863,
          -0.18170178702912745,
          0.8521374610273675,
          -0.9667686007509567,
          0.2805411071524622,
          0.9441476402891524,
          -1.1246799847241986,
          0.6592849998382959,
          0.6866353543911546,
          -0.9929750772906635,
          -0.9038407848948752,
          -0.5585853704373671,
          0.2879624242189056,
          -1.895429765313769,
          0.8438594162338735,
          -0.37676054226759575,
          -2.2672827651409757,
          -1.444893239611375
         ],
         "xaxis": "x3",
         "y": [
          -1.3739863479333019,
          -1.9624455010940727,
          0.7327750939620981,
          -0.2919572815622404,
          -0.9217098205202516,
          0.22744759905473583,
          1.9132185334214225,
          1.0655902636822598,
          -0.38928009078930315,
          -0.3452293933838182,
          0.09091648675429946,
          1.2073065192020882,
          -0.08500961714186184,
          -0.5055073853451985,
          0.4687032216385739,
          -1.5978997254543206,
          -0.7666102457951843,
          -0.39398286841197316,
          -1.049186557582861,
          -1.067187592678143,
          0.605592400516392,
          -0.11066233012795543,
          0.39669421943886507,
          -1.0026267178735169,
          -0.8799490270845547,
          -1.2091025025157014,
          0.8592587287529497,
          -1.3059621647376631,
          -0.49409588997722176,
          -0.8561085996940954,
          -0.09542823152230753,
          0.7745566868372872,
          -2.159376269631232,
          -0.6469062031484143,
          -1.30290706575803,
          0.34943224260271455,
          -0.7477458362035658,
          1.3528696394413993,
          -2.920920040636787,
          0.9278268638296904,
          0.5605370533615859,
          -1.3140083470584134,
          1.0275187862240902,
          0.9080776763871582,
          0.6662700296464388,
          -1.2137950590227322,
          1.918957894421482,
          -0.24599141709506822,
          0.4961882856255173,
          0.4168717709122591,
          -0.3085438402018306,
          0.5019814690468661,
          0.3414158925692907,
          -0.4979364024958135,
          0.08142353874951676,
          -1.0996710000315342,
          -1.0795816556751554,
          -0.8642669920964954,
          0.10857557863564289,
          0.46506328690511073,
          0.18367046160415235,
          2.6167268929959393,
          -0.5397623850278019,
          -0.5536167576692237,
          -1.0905694819253666,
          1.0310309500377988,
          2.501625720688344,
          -1.2021524648882707,
          -0.9988665672393777,
          0.978803568142746,
          -0.4633340031417136,
          -0.8957523468579796,
          2.8338315246665746,
          -0.8113723695934447,
          -1.2091331107832572,
          0.8878928228341988,
          -1.3469269674940716,
          0.40613418886213204,
          -0.11187966305446931,
          -1.2332976335109138,
          2.03411678344503,
          1.0654290462761313,
          1.243647276758777,
          0.1807108895321057,
          1.930569055018915,
          -0.8503370519960449,
          1.4729173906717832,
          -0.2620249792221265,
          -0.6941954714857629,
          -1.2676351294769936,
          0.48680861925768976,
          -0.22478898017258253,
          0.3634076839547694,
          0.2521744014414418,
          -0.09182355768504491,
          1.1635669193642673,
          0.33191855536558423,
          1.7942750323792322,
          0.24598050825633014,
          0.31914878297218924
         ],
         "yaxis": "y3"
        },
        {
         "line": {
          "color": "rgba(128, 128, 128, 1.0)",
          "dash": "solid",
          "shape": "linear",
          "width": 1.3
         },
         "marker": {
          "size": 2,
          "symbol": "circle"
         },
         "mode": "markers",
         "name": "A",
         "text": "",
         "type": "scatter",
         "x": [
          -0.5184772891148443,
          -0.45195871605680127,
          0.9805014564267058,
          0.3257691280908592,
          -0.7826627675841871,
          0.6770781792121421,
          -1.1052651148200576,
          0.21717951761384113,
          0.36681676202669283,
          -0.4732525545369161,
          1.4035729057512265,
          -2.402811267417673,
          0.15494173626051394,
          0.474044086898922,
          -0.612226809529411,
          -0.210886109402751,
          0.8358311863444511,
          -1.174522794025081,
          -0.7293489670376238,
          -0.324180559531859,
          -0.11451713610976523,
          -0.14756715292827366,
          0.044054079614501016,
          2.362105278524613,
          -0.32427069909587436,
          -1.11182186381714,
          0.35028652338641336,
          0.5429196668579732,
          -0.2030410443499303,
          0.7702705537198106,
          0.17048833246444065,
          -0.4161581927877217,
          -0.24818510750683487,
          -1.6239191333393042,
          -0.06650680894358926,
          -0.6629018444870151,
          -0.1604716942138816,
          1.6418254508132357,
          0.6613234659900061,
          0.36555267581830403,
          0.8041475124638096,
          0.7885434236162336,
          1.7182604333671245,
          0.48329937602980266,
          -0.11348695973840284,
          0.5470469549347585,
          0.021812290172518806,
          0.4190406878572417,
          -0.6466730258023208,
          1.902185007811656,
          -0.6946122310414046,
          0.43184430242982025,
          -0.14769244356710606,
          -0.26218478202372275,
          0.24150424033867932,
          1.600858750259185,
          1.236902244890655,
          1.571790161093822,
          0.9963374055009198,
          0.5863242318888595,
          -0.8834692933076573,
          -0.012570112051435057,
          2.0702543415045698,
          -1.3251325105404554,
          0.7985942131433866,
          0.5535777147696139,
          0.41779318155548606,
          -0.18958036005379458,
          0.8020599242343023,
          -1.5551301472784032,
          0.35823842936158595,
          1.0594507659436405,
          0.44032733100620586,
          0.9181795120620478,
          1.6517031975303245,
          1.3566155447945645,
          -0.10161074284651812,
          0.037371410372500476,
          0.40518465030519873,
          -0.5590304204155774,
          0.885802599695302,
          1.4424180239720863,
          0.6894927478334444,
          0.5039884662226771,
          0.8165293917873581,
          -0.21237114103132876,
          -0.102952045294696,
          -0.7105656679105171,
          0.132375960885404,
          -1.4794112218880235,
          1.5251025468544546,
          -0.568948858223419,
          -2.318186077001681,
          -1.392794799423355,
          -1.274059313850665,
          -1.740159635138325,
          -1.0349779850946192,
          1.1512063979261347,
          1.2308723115207083,
          -1.1909266284416384
         ],
         "xaxis": "x4",
         "y": [
          -1.3739863479333019,
          -1.9624455010940727,
          0.7327750939620981,
          -0.2919572815622404,
          -0.9217098205202516,
          0.22744759905473583,
          1.9132185334214225,
          1.0655902636822598,
          -0.38928009078930315,
          -0.3452293933838182,
          0.09091648675429946,
          1.2073065192020882,
          -0.08500961714186184,
          -0.5055073853451985,
          0.4687032216385739,
          -1.5978997254543206,
          -0.7666102457951843,
          -0.39398286841197316,
          -1.049186557582861,
          -1.067187592678143,
          0.605592400516392,
          -0.11066233012795543,
          0.39669421943886507,
          -1.0026267178735169,
          -0.8799490270845547,
          -1.2091025025157014,
          0.8592587287529497,
          -1.3059621647376631,
          -0.49409588997722176,
          -0.8561085996940954,
          -0.09542823152230753,
          0.7745566868372872,
          -2.159376269631232,
          -0.6469062031484143,
          -1.30290706575803,
          0.34943224260271455,
          -0.7477458362035658,
          1.3528696394413993,
          -2.920920040636787,
          0.9278268638296904,
          0.5605370533615859,
          -1.3140083470584134,
          1.0275187862240902,
          0.9080776763871582,
          0.6662700296464388,
          -1.2137950590227322,
          1.918957894421482,
          -0.24599141709506822,
          0.4961882856255173,
          0.4168717709122591,
          -0.3085438402018306,
          0.5019814690468661,
          0.3414158925692907,
          -0.4979364024958135,
          0.08142353874951676,
          -1.0996710000315342,
          -1.0795816556751554,
          -0.8642669920964954,
          0.10857557863564289,
          0.46506328690511073,
          0.18367046160415235,
          2.6167268929959393,
          -0.5397623850278019,
          -0.5536167576692237,
          -1.0905694819253666,
          1.0310309500377988,
          2.501625720688344,
          -1.2021524648882707,
          -0.9988665672393777,
          0.978803568142746,
          -0.4633340031417136,
          -0.8957523468579796,
          2.8338315246665746,
          -0.8113723695934447,
          -1.2091331107832572,
          0.8878928228341988,
          -1.3469269674940716,
          0.40613418886213204,
          -0.11187966305446931,
          -1.2332976335109138,
          2.03411678344503,
          1.0654290462761313,
          1.243647276758777,
          0.1807108895321057,
          1.930569055018915,
          -0.8503370519960449,
          1.4729173906717832,
          -0.2620249792221265,
          -0.6941954714857629,
          -1.2676351294769936,
          0.48680861925768976,
          -0.22478898017258253,
          0.3634076839547694,
          0.2521744014414418,
          -0.09182355768504491,
          1.1635669193642673,
          0.33191855536558423,
          1.7942750323792322,
          0.24598050825633014,
          0.31914878297218924
         ],
         "yaxis": "y4"
        },
        {
         "line": {
          "color": "rgba(128, 128, 128, 1.0)",
          "dash": "solid",
          "shape": "linear",
          "width": 1.3
         },
         "marker": {
          "size": 2,
          "symbol": "circle"
         },
         "mode": "markers",
         "name": "B",
         "text": "",
         "type": "scatter",
         "x": [
          -1.3739863479333019,
          -1.9624455010940727,
          0.7327750939620981,
          -0.2919572815622404,
          -0.9217098205202516,
          0.22744759905473583,
          1.9132185334214225,
          1.0655902636822598,
          -0.38928009078930315,
          -0.3452293933838182,
          0.09091648675429946,
          1.2073065192020882,
          -0.08500961714186184,
          -0.5055073853451985,
          0.4687032216385739,
          -1.5978997254543206,
          -0.7666102457951843,
          -0.39398286841197316,
          -1.049186557582861,
          -1.067187592678143,
          0.605592400516392,
          -0.11066233012795543,
          0.39669421943886507,
          -1.0026267178735169,
          -0.8799490270845547,
          -1.2091025025157014,
          0.8592587287529497,
          -1.3059621647376631,
          -0.49409588997722176,
          -0.8561085996940954,
          -0.09542823152230753,
          0.7745566868372872,
          -2.159376269631232,
          -0.6469062031484143,
          -1.30290706575803,
          0.34943224260271455,
          -0.7477458362035658,
          1.3528696394413993,
          -2.920920040636787,
          0.9278268638296904,
          0.5605370533615859,
          -1.3140083470584134,
          1.0275187862240902,
          0.9080776763871582,
          0.6662700296464388,
          -1.2137950590227322,
          1.918957894421482,
          -0.24599141709506822,
          0.4961882856255173,
          0.4168717709122591,
          -0.3085438402018306,
          0.5019814690468661,
          0.3414158925692907,
          -0.4979364024958135,
          0.08142353874951676,
          -1.0996710000315342,
          -1.0795816556751554,
          -0.8642669920964954,
          0.10857557863564289,
          0.46506328690511073,
          0.18367046160415235,
          2.6167268929959393,
          -0.5397623850278019,
          -0.5536167576692237,
          -1.0905694819253666,
          1.0310309500377988,
          2.501625720688344,
          -1.2021524648882707,
          -0.9988665672393777,
          0.978803568142746,
          -0.4633340031417136,
          -0.8957523468579796,
          2.8338315246665746,
          -0.8113723695934447,
          -1.2091331107832572,
          0.8878928228341988,
          -1.3469269674940716,
          0.40613418886213204,
          -0.11187966305446931,
          -1.2332976335109138,
          2.03411678344503,
          1.0654290462761313,
          1.243647276758777,
          0.1807108895321057,
          1.930569055018915,
          -0.8503370519960449,
          1.4729173906717832,
          -0.2620249792221265,
          -0.6941954714857629,
          -1.2676351294769936,
          0.48680861925768976,
          -0.22478898017258253,
          0.3634076839547694,
          0.2521744014414418,
          -0.09182355768504491,
          1.1635669193642673,
          0.33191855536558423,
          1.7942750323792322,
          0.24598050825633014,
          0.31914878297218924
         ],
         "xaxis": "x5",
         "y": [
          -0.8412203013466952,
          -1.4556405330733901,
          1.3995102914205535,
          -0.15224870922471553,
          0.5268294298500653,
          -1.2197859339292123,
          0.009582361726098606,
          0.561181640424792,
          1.0022719552298092,
          0.33531467168808216,
          -0.22980153143524878,
          1.4352720103751597,
          1.0473100007601404,
          0.45551917036101197,
          1.4396428109200372,
          -0.015734081864879224,
          1.052523315873753,
          -0.8211113533264749,
          -1.4797916161039029,
          -0.34685409701304637,
          0.17358881034546442,
          0.5532261070251974,
          -1.5744136598225333,
          1.426930955211073,
          0.6798043730217787,
          -0.9160625006402426,
          -1.032071873670647,
          -0.16932617762288818,
          -1.8629859480850752,
          -0.7176167617588177,
          -1.1642798789015683,
          -0.059885894398827216,
          0.6242492276644211,
          0.13943971879552275,
          -1.0917582640346943,
          1.2454479934476843,
          -0.9313443143979103,
          0.7306909003384003,
          1.0775976473970825,
          -1.3171228686283447,
          0.9308837784936753,
          0.16790069092734883,
          0.39023771995396866,
          -1.7127984009366335,
          -0.4959185062750779,
          0.9426697666768178,
          0.9640121729554312,
          1.3675050740156776,
          -0.6243582176660069,
          -0.105685016760253,
          0.06921731388890891,
          -0.9994001128726471,
          -0.16181921175049505,
          -1.1190026364806576,
          -0.8477201696417082,
          1.4874815839507454,
          1.0284057113622087,
          -0.4640318039069314,
          -0.10749989355395759,
          0.7697046059129748,
          -1.0158229695521284,
          -0.4163946741757112,
          -1.070480661558205,
          -0.3229686699162554,
          -1.6492929812138015,
          0.08543857762430547,
          -0.034751743869310424,
          1.4158954255936758,
          -0.03652253446823537,
          0.8367134058100361,
          1.0711489335208217,
          0.9895363649227079,
          -2.047414734568283,
          -0.19083294704200793,
          -0.38027944263450175,
          -0.7342768940328229,
          -1.4305665974365096,
          2.1275466735535624,
          -1.4045247656173208,
          -0.37816621778742326,
          0.5016845111373116,
          1.3080308562604426,
          0.09978118155517453,
          -0.7266434241839196,
          -0.3793724044571526,
          0.1674729114282793,
          -0.7967869942878729,
          1.6426527830130604,
          0.47546955155749715,
          0.7939767890300558,
          0.24659542512216345,
          -2.701302367636305,
          -0.6137358895332142,
          -0.2566583648373671,
          0.12933164941888436,
          0.45365308999813764,
          0.5485780672948903,
          -1.3704874518501422,
          0.33844212720458716,
          -0.5474695980051565
         ],
         "yaxis": "y5"
        },
        {
         "histfunc": "count",
         "histnorm": "",
         "marker": {
          "color": "rgba(55, 128, 191, 1.0)",
          "line": {
           "color": "#4D5663",
           "width": 1.3
          }
         },
         "name": "B",
         "nbinsx": 10,
         "opacity": 0.8,
         "orientation": "v",
         "type": "histogram",
         "x": [
          -0.8412203013466952,
          -1.4556405330733901,
          1.3995102914205535,
          -0.15224870922471553,
          0.5268294298500653,
          -1.2197859339292123,
          0.009582361726098606,
          0.561181640424792,
          1.0022719552298092,
          0.33531467168808216,
          -0.22980153143524878,
          1.4352720103751597,
          1.0473100007601404,
          0.45551917036101197,
          1.4396428109200372,
          -0.015734081864879224,
          1.052523315873753,
          -0.8211113533264749,
          -1.4797916161039029,
          -0.34685409701304637,
          0.17358881034546442,
          0.5532261070251974,
          -1.5744136598225333,
          1.426930955211073,
          0.6798043730217787,
          -0.9160625006402426,
          -1.032071873670647,
          -0.16932617762288818,
          -1.8629859480850752,
          -0.7176167617588177,
          -1.1642798789015683,
          -0.059885894398827216,
          0.6242492276644211,
          0.13943971879552275,
          -1.0917582640346943,
          1.2454479934476843,
          -0.9313443143979103,
          0.7306909003384003,
          1.0775976473970825,
          -1.3171228686283447,
          0.9308837784936753,
          0.16790069092734883,
          0.39023771995396866,
          -1.7127984009366335,
          -0.4959185062750779,
          0.9426697666768178,
          0.9640121729554312,
          1.3675050740156776,
          -0.6243582176660069,
          -0.105685016760253,
          0.06921731388890891,
          -0.9994001128726471,
          -0.16181921175049505,
          -1.1190026364806576,
          -0.8477201696417082,
          1.4874815839507454,
          1.0284057113622087,
          -0.4640318039069314,
          -0.10749989355395759,
          0.7697046059129748,
          -1.0158229695521284,
          -0.4163946741757112,
          -1.070480661558205,
          -0.3229686699162554,
          -1.6492929812138015,
          0.08543857762430547,
          -0.034751743869310424,
          1.4158954255936758,
          -0.03652253446823537,
          0.8367134058100361,
          1.0711489335208217,
          0.9895363649227079,
          -2.047414734568283,
          -0.19083294704200793,
          -0.38027944263450175,
          -0.7342768940328229,
          -1.4305665974365096,
          2.1275466735535624,
          -1.4045247656173208,
          -0.37816621778742326,
          0.5016845111373116,
          1.3080308562604426,
          0.09978118155517453,
          -0.7266434241839196,
          -0.3793724044571526,
          0.1674729114282793,
          -0.7967869942878729,
          1.6426527830130604,
          0.47546955155749715,
          0.7939767890300558,
          0.24659542512216345,
          -2.701302367636305,
          -0.6137358895332142,
          -0.2566583648373671,
          0.12933164941888436,
          0.45365308999813764,
          0.5485780672948903,
          -1.3704874518501422,
          0.33844212720458716,
          -0.5474695980051565
         ],
         "xaxis": "x6",
         "yaxis": "y6"
        },
        {
         "line": {
          "color": "rgba(128, 128, 128, 1.0)",
          "dash": "solid",
          "shape": "linear",
          "width": 1.3
         },
         "marker": {
          "size": 2,
          "symbol": "circle"
         },
         "mode": "markers",
         "name": "B",
         "text": "",
         "type": "scatter",
         "x": [
          -0.88779839208149,
          0.44269727406680953,
          0.8032921394151222,
          -0.06550560818461346,
          1.9770648053689104,
          1.9771419986445877,
          0.8184485222101127,
          -0.33490656181945094,
          -1.4634989412653792,
          2.4201422517817415,
          -0.38002372968692,
          1.7559259767496518,
          0.1150118306218919,
          -0.8381302615965344,
          -0.5453002844924816,
          -0.2790830822025973,
          -0.37603002708343664,
          -0.3837741053912723,
          0.4298795727025505,
          -0.17041498157261456,
          -0.1847827028861891,
          0.756793613167367,
          -0.036126278819638674,
          0.307044858885912,
          0.3569493475414374,
          -1.1686378538454998,
          -0.41615568526570645,
          0.3658397568198887,
          -0.09792825142901164,
          1.47853611726422,
          0.5397946383405509,
          0.7737316722718195,
          1.1864388304641107,
          -0.311097543323669,
          0.11291741482160102,
          0.9273084322175332,
          0.018691606522851702,
          -0.8213125096348348,
          -1.0718378920453435,
          -0.9479733788052108,
          -0.20755503298956074,
          1.4448364656198451,
          0.5315779775644139,
          0.30372081653078203,
          0.5371827894205107,
          -0.1955712931854566,
          0.0056277898485943695,
          0.4607086600853507,
          0.6490799347113932,
          -2.049748929608746,
          -1.2572140402419405,
          0.006094559928603997,
          2.064088313673123,
          1.8733608387849092,
          -0.6475668356011,
          1.0107721991639098,
          -1.9151055406678532,
          0.07581887532325861,
          -0.6147849525562099,
          0.500206960406309,
          0.833767752607716,
          1.8637848857178432,
          0.35464432993557077,
          1.3178422949322368,
          0.38121309654929314,
          -1.6153070092602555,
          0.5540038242074874,
          1.7841794989652877,
          0.0899140017465534,
          0.46966765187525045,
          -0.4482526127826353,
          -0.32391520382466554,
          1.9670623067755566,
          -0.3221095148492655,
          -0.8770636218208196,
          -0.2629046239565219,
          0.8382824150937563,
          -1.3379691465399735,
          0.5032689901193407,
          -0.2403433632423958,
          1.8473629736154062,
          0.525943443045498,
          1.4649076665660863,
          -0.18170178702912745,
          0.8521374610273675,
          -0.9667686007509567,
          0.2805411071524622,
          0.9441476402891524,
          -1.1246799847241986,
          0.6592849998382959,
          0.6866353543911546,
          -0.9929750772906635,
          -0.9038407848948752,
          -0.5585853704373671,
          0.2879624242189056,
          -1.895429765313769,
          0.8438594162338735,
          -0.37676054226759575,
          -2.2672827651409757,
          -1.444893239611375
         ],
         "xaxis": "x7",
         "y": [
          -0.8412203013466952,
          -1.4556405330733901,
          1.3995102914205535,
          -0.15224870922471553,
          0.5268294298500653,
          -1.2197859339292123,
          0.009582361726098606,
          0.561181640424792,
          1.0022719552298092,
          0.33531467168808216,
          -0.22980153143524878,
          1.4352720103751597,
          1.0473100007601404,
          0.45551917036101197,
          1.4396428109200372,
          -0.015734081864879224,
          1.052523315873753,
          -0.8211113533264749,
          -1.4797916161039029,
          -0.34685409701304637,
          0.17358881034546442,
          0.5532261070251974,
          -1.5744136598225333,
          1.426930955211073,
          0.6798043730217787,
          -0.9160625006402426,
          -1.032071873670647,
          -0.16932617762288818,
          -1.8629859480850752,
          -0.7176167617588177,
          -1.1642798789015683,
          -0.059885894398827216,
          0.6242492276644211,
          0.13943971879552275,
          -1.0917582640346943,
          1.2454479934476843,
          -0.9313443143979103,
          0.7306909003384003,
          1.0775976473970825,
          -1.3171228686283447,
          0.9308837784936753,
          0.16790069092734883,
          0.39023771995396866,
          -1.7127984009366335,
          -0.4959185062750779,
          0.9426697666768178,
          0.9640121729554312,
          1.3675050740156776,
          -0.6243582176660069,
          -0.105685016760253,
          0.06921731388890891,
          -0.9994001128726471,
          -0.16181921175049505,
          -1.1190026364806576,
          -0.8477201696417082,
          1.4874815839507454,
          1.0284057113622087,
          -0.4640318039069314,
          -0.10749989355395759,
          0.7697046059129748,
          -1.0158229695521284,
          -0.4163946741757112,
          -1.070480661558205,
          -0.3229686699162554,
          -1.6492929812138015,
          0.08543857762430547,
          -0.034751743869310424,
          1.4158954255936758,
          -0.03652253446823537,
          0.8367134058100361,
          1.0711489335208217,
          0.9895363649227079,
          -2.047414734568283,
          -0.19083294704200793,
          -0.38027944263450175,
          -0.7342768940328229,
          -1.4305665974365096,
          2.1275466735535624,
          -1.4045247656173208,
          -0.37816621778742326,
          0.5016845111373116,
          1.3080308562604426,
          0.09978118155517453,
          -0.7266434241839196,
          -0.3793724044571526,
          0.1674729114282793,
          -0.7967869942878729,
          1.6426527830130604,
          0.47546955155749715,
          0.7939767890300558,
          0.24659542512216345,
          -2.701302367636305,
          -0.6137358895332142,
          -0.2566583648373671,
          0.12933164941888436,
          0.45365308999813764,
          0.5485780672948903,
          -1.3704874518501422,
          0.33844212720458716,
          -0.5474695980051565
         ],
         "yaxis": "y7"
        },
        {
         "line": {
          "color": "rgba(128, 128, 128, 1.0)",
          "dash": "solid",
          "shape": "linear",
          "width": 1.3
         },
         "marker": {
          "size": 2,
          "symbol": "circle"
         },
         "mode": "markers",
         "name": "B",
         "text": "",
         "type": "scatter",
         "x": [
          -0.5184772891148443,
          -0.45195871605680127,
          0.9805014564267058,
          0.3257691280908592,
          -0.7826627675841871,
          0.6770781792121421,
          -1.1052651148200576,
          0.21717951761384113,
          0.36681676202669283,
          -0.4732525545369161,
          1.4035729057512265,
          -2.402811267417673,
          0.15494173626051394,
          0.474044086898922,
          -0.612226809529411,
          -0.210886109402751,
          0.8358311863444511,
          -1.174522794025081,
          -0.7293489670376238,
          -0.324180559531859,
          -0.11451713610976523,
          -0.14756715292827366,
          0.044054079614501016,
          2.362105278524613,
          -0.32427069909587436,
          -1.11182186381714,
          0.35028652338641336,
          0.5429196668579732,
          -0.2030410443499303,
          0.7702705537198106,
          0.17048833246444065,
          -0.4161581927877217,
          -0.24818510750683487,
          -1.6239191333393042,
          -0.06650680894358926,
          -0.6629018444870151,
          -0.1604716942138816,
          1.6418254508132357,
          0.6613234659900061,
          0.36555267581830403,
          0.8041475124638096,
          0.7885434236162336,
          1.7182604333671245,
          0.48329937602980266,
          -0.11348695973840284,
          0.5470469549347585,
          0.021812290172518806,
          0.4190406878572417,
          -0.6466730258023208,
          1.902185007811656,
          -0.6946122310414046,
          0.43184430242982025,
          -0.14769244356710606,
          -0.26218478202372275,
          0.24150424033867932,
          1.600858750259185,
          1.236902244890655,
          1.571790161093822,
          0.9963374055009198,
          0.5863242318888595,
          -0.8834692933076573,
          -0.012570112051435057,
          2.0702543415045698,
          -1.3251325105404554,
          0.7985942131433866,
          0.5535777147696139,
          0.41779318155548606,
          -0.18958036005379458,
          0.8020599242343023,
          -1.5551301472784032,
          0.35823842936158595,
          1.0594507659436405,
          0.44032733100620586,
          0.9181795120620478,
          1.6517031975303245,
          1.3566155447945645,
          -0.10161074284651812,
          0.037371410372500476,
          0.40518465030519873,
          -0.5590304204155774,
          0.885802599695302,
          1.4424180239720863,
          0.6894927478334444,
          0.5039884662226771,
          0.8165293917873581,
          -0.21237114103132876,
          -0.102952045294696,
          -0.7105656679105171,
          0.132375960885404,
          -1.4794112218880235,
          1.5251025468544546,
          -0.568948858223419,
          -2.318186077001681,
          -1.392794799423355,
          -1.274059313850665,
          -1.740159635138325,
          -1.0349779850946192,
          1.1512063979261347,
          1.2308723115207083,
          -1.1909266284416384
         ],
         "xaxis": "x8",
         "y": [
          -0.8412203013466952,
          -1.4556405330733901,
          1.3995102914205535,
          -0.15224870922471553,
          0.5268294298500653,
          -1.2197859339292123,
          0.009582361726098606,
          0.561181640424792,
          1.0022719552298092,
          0.33531467168808216,
          -0.22980153143524878,
          1.4352720103751597,
          1.0473100007601404,
          0.45551917036101197,
          1.4396428109200372,
          -0.015734081864879224,
          1.052523315873753,
          -0.8211113533264749,
          -1.4797916161039029,
          -0.34685409701304637,
          0.17358881034546442,
          0.5532261070251974,
          -1.5744136598225333,
          1.426930955211073,
          0.6798043730217787,
          -0.9160625006402426,
          -1.032071873670647,
          -0.16932617762288818,
          -1.8629859480850752,
          -0.7176167617588177,
          -1.1642798789015683,
          -0.059885894398827216,
          0.6242492276644211,
          0.13943971879552275,
          -1.0917582640346943,
          1.2454479934476843,
          -0.9313443143979103,
          0.7306909003384003,
          1.0775976473970825,
          -1.3171228686283447,
          0.9308837784936753,
          0.16790069092734883,
          0.39023771995396866,
          -1.7127984009366335,
          -0.4959185062750779,
          0.9426697666768178,
          0.9640121729554312,
          1.3675050740156776,
          -0.6243582176660069,
          -0.105685016760253,
          0.06921731388890891,
          -0.9994001128726471,
          -0.16181921175049505,
          -1.1190026364806576,
          -0.8477201696417082,
          1.4874815839507454,
          1.0284057113622087,
          -0.4640318039069314,
          -0.10749989355395759,
          0.7697046059129748,
          -1.0158229695521284,
          -0.4163946741757112,
          -1.070480661558205,
          -0.3229686699162554,
          -1.6492929812138015,
          0.08543857762430547,
          -0.034751743869310424,
          1.4158954255936758,
          -0.03652253446823537,
          0.8367134058100361,
          1.0711489335208217,
          0.9895363649227079,
          -2.047414734568283,
          -0.19083294704200793,
          -0.38027944263450175,
          -0.7342768940328229,
          -1.4305665974365096,
          2.1275466735535624,
          -1.4045247656173208,
          -0.37816621778742326,
          0.5016845111373116,
          1.3080308562604426,
          0.09978118155517453,
          -0.7266434241839196,
          -0.3793724044571526,
          0.1674729114282793,
          -0.7967869942878729,
          1.6426527830130604,
          0.47546955155749715,
          0.7939767890300558,
          0.24659542512216345,
          -2.701302367636305,
          -0.6137358895332142,
          -0.2566583648373671,
          0.12933164941888436,
          0.45365308999813764,
          0.5485780672948903,
          -1.3704874518501422,
          0.33844212720458716,
          -0.5474695980051565
         ],
         "yaxis": "y8"
        },
        {
         "line": {
          "color": "rgba(128, 128, 128, 1.0)",
          "dash": "solid",
          "shape": "linear",
          "width": 1.3
         },
         "marker": {
          "size": 2,
          "symbol": "circle"
         },
         "mode": "markers",
         "name": "C",
         "text": "",
         "type": "scatter",
         "x": [
          -1.3739863479333019,
          -1.9624455010940727,
          0.7327750939620981,
          -0.2919572815622404,
          -0.9217098205202516,
          0.22744759905473583,
          1.9132185334214225,
          1.0655902636822598,
          -0.38928009078930315,
          -0.3452293933838182,
          0.09091648675429946,
          1.2073065192020882,
          -0.08500961714186184,
          -0.5055073853451985,
          0.4687032216385739,
          -1.5978997254543206,
          -0.7666102457951843,
          -0.39398286841197316,
          -1.049186557582861,
          -1.067187592678143,
          0.605592400516392,
          -0.11066233012795543,
          0.39669421943886507,
          -1.0026267178735169,
          -0.8799490270845547,
          -1.2091025025157014,
          0.8592587287529497,
          -1.3059621647376631,
          -0.49409588997722176,
          -0.8561085996940954,
          -0.09542823152230753,
          0.7745566868372872,
          -2.159376269631232,
          -0.6469062031484143,
          -1.30290706575803,
          0.34943224260271455,
          -0.7477458362035658,
          1.3528696394413993,
          -2.920920040636787,
          0.9278268638296904,
          0.5605370533615859,
          -1.3140083470584134,
          1.0275187862240902,
          0.9080776763871582,
          0.6662700296464388,
          -1.2137950590227322,
          1.918957894421482,
          -0.24599141709506822,
          0.4961882856255173,
          0.4168717709122591,
          -0.3085438402018306,
          0.5019814690468661,
          0.3414158925692907,
          -0.4979364024958135,
          0.08142353874951676,
          -1.0996710000315342,
          -1.0795816556751554,
          -0.8642669920964954,
          0.10857557863564289,
          0.46506328690511073,
          0.18367046160415235,
          2.6167268929959393,
          -0.5397623850278019,
          -0.5536167576692237,
          -1.0905694819253666,
          1.0310309500377988,
          2.501625720688344,
          -1.2021524648882707,
          -0.9988665672393777,
          0.978803568142746,
          -0.4633340031417136,
          -0.8957523468579796,
          2.8338315246665746,
          -0.8113723695934447,
          -1.2091331107832572,
          0.8878928228341988,
          -1.3469269674940716,
          0.40613418886213204,
          -0.11187966305446931,
          -1.2332976335109138,
          2.03411678344503,
          1.0654290462761313,
          1.243647276758777,
          0.1807108895321057,
          1.930569055018915,
          -0.8503370519960449,
          1.4729173906717832,
          -0.2620249792221265,
          -0.6941954714857629,
          -1.2676351294769936,
          0.48680861925768976,
          -0.22478898017258253,
          0.3634076839547694,
          0.2521744014414418,
          -0.09182355768504491,
          1.1635669193642673,
          0.33191855536558423,
          1.7942750323792322,
          0.24598050825633014,
          0.31914878297218924
         ],
         "xaxis": "x9",
         "y": [
          -0.88779839208149,
          0.44269727406680953,
          0.8032921394151222,
          -0.06550560818461346,
          1.9770648053689104,
          1.9771419986445877,
          0.8184485222101127,
          -0.33490656181945094,
          -1.4634989412653792,
          2.4201422517817415,
          -0.38002372968692,
          1.7559259767496518,
          0.1150118306218919,
          -0.8381302615965344,
          -0.5453002844924816,
          -0.2790830822025973,
          -0.37603002708343664,
          -0.3837741053912723,
          0.4298795727025505,
          -0.17041498157261456,
          -0.1847827028861891,
          0.756793613167367,
          -0.036126278819638674,
          0.307044858885912,
          0.3569493475414374,
          -1.1686378538454998,
          -0.41615568526570645,
          0.3658397568198887,
          -0.09792825142901164,
          1.47853611726422,
          0.5397946383405509,
          0.7737316722718195,
          1.1864388304641107,
          -0.311097543323669,
          0.11291741482160102,
          0.9273084322175332,
          0.018691606522851702,
          -0.8213125096348348,
          -1.0718378920453435,
          -0.9479733788052108,
          -0.20755503298956074,
          1.4448364656198451,
          0.5315779775644139,
          0.30372081653078203,
          0.5371827894205107,
          -0.1955712931854566,
          0.0056277898485943695,
          0.4607086600853507,
          0.6490799347113932,
          -2.049748929608746,
          -1.2572140402419405,
          0.006094559928603997,
          2.064088313673123,
          1.8733608387849092,
          -0.6475668356011,
          1.0107721991639098,
          -1.9151055406678532,
          0.07581887532325861,
          -0.6147849525562099,
          0.500206960406309,
          0.833767752607716,
          1.8637848857178432,
          0.35464432993557077,
          1.3178422949322368,
          0.38121309654929314,
          -1.6153070092602555,
          0.5540038242074874,
          1.7841794989652877,
          0.0899140017465534,
          0.46966765187525045,
          -0.4482526127826353,
          -0.32391520382466554,
          1.9670623067755566,
          -0.3221095148492655,
          -0.8770636218208196,
          -0.2629046239565219,
          0.8382824150937563,
          -1.3379691465399735,
          0.5032689901193407,
          -0.2403433632423958,
          1.8473629736154062,
          0.525943443045498,
          1.4649076665660863,
          -0.18170178702912745,
          0.8521374610273675,
          -0.9667686007509567,
          0.2805411071524622,
          0.9441476402891524,
          -1.1246799847241986,
          0.6592849998382959,
          0.6866353543911546,
          -0.9929750772906635,
          -0.9038407848948752,
          -0.5585853704373671,
          0.2879624242189056,
          -1.895429765313769,
          0.8438594162338735,
          -0.37676054226759575,
          -2.2672827651409757,
          -1.444893239611375
         ],
         "yaxis": "y9"
        },
        {
         "line": {
          "color": "rgba(128, 128, 128, 1.0)",
          "dash": "solid",
          "shape": "linear",
          "width": 1.3
         },
         "marker": {
          "size": 2,
          "symbol": "circle"
         },
         "mode": "markers",
         "name": "C",
         "text": "",
         "type": "scatter",
         "x": [
          -0.8412203013466952,
          -1.4556405330733901,
          1.3995102914205535,
          -0.15224870922471553,
          0.5268294298500653,
          -1.2197859339292123,
          0.009582361726098606,
          0.561181640424792,
          1.0022719552298092,
          0.33531467168808216,
          -0.22980153143524878,
          1.4352720103751597,
          1.0473100007601404,
          0.45551917036101197,
          1.4396428109200372,
          -0.015734081864879224,
          1.052523315873753,
          -0.8211113533264749,
          -1.4797916161039029,
          -0.34685409701304637,
          0.17358881034546442,
          0.5532261070251974,
          -1.5744136598225333,
          1.426930955211073,
          0.6798043730217787,
          -0.9160625006402426,
          -1.032071873670647,
          -0.16932617762288818,
          -1.8629859480850752,
          -0.7176167617588177,
          -1.1642798789015683,
          -0.059885894398827216,
          0.6242492276644211,
          0.13943971879552275,
          -1.0917582640346943,
          1.2454479934476843,
          -0.9313443143979103,
          0.7306909003384003,
          1.0775976473970825,
          -1.3171228686283447,
          0.9308837784936753,
          0.16790069092734883,
          0.39023771995396866,
          -1.7127984009366335,
          -0.4959185062750779,
          0.9426697666768178,
          0.9640121729554312,
          1.3675050740156776,
          -0.6243582176660069,
          -0.105685016760253,
          0.06921731388890891,
          -0.9994001128726471,
          -0.16181921175049505,
          -1.1190026364806576,
          -0.8477201696417082,
          1.4874815839507454,
          1.0284057113622087,
          -0.4640318039069314,
          -0.10749989355395759,
          0.7697046059129748,
          -1.0158229695521284,
          -0.4163946741757112,
          -1.070480661558205,
          -0.3229686699162554,
          -1.6492929812138015,
          0.08543857762430547,
          -0.034751743869310424,
          1.4158954255936758,
          -0.03652253446823537,
          0.8367134058100361,
          1.0711489335208217,
          0.9895363649227079,
          -2.047414734568283,
          -0.19083294704200793,
          -0.38027944263450175,
          -0.7342768940328229,
          -1.4305665974365096,
          2.1275466735535624,
          -1.4045247656173208,
          -0.37816621778742326,
          0.5016845111373116,
          1.3080308562604426,
          0.09978118155517453,
          -0.7266434241839196,
          -0.3793724044571526,
          0.1674729114282793,
          -0.7967869942878729,
          1.6426527830130604,
          0.47546955155749715,
          0.7939767890300558,
          0.24659542512216345,
          -2.701302367636305,
          -0.6137358895332142,
          -0.2566583648373671,
          0.12933164941888436,
          0.45365308999813764,
          0.5485780672948903,
          -1.3704874518501422,
          0.33844212720458716,
          -0.5474695980051565
         ],
         "xaxis": "x10",
         "y": [
          -0.88779839208149,
          0.44269727406680953,
          0.8032921394151222,
          -0.06550560818461346,
          1.9770648053689104,
          1.9771419986445877,
          0.8184485222101127,
          -0.33490656181945094,
          -1.4634989412653792,
          2.4201422517817415,
          -0.38002372968692,
          1.7559259767496518,
          0.1150118306218919,
          -0.8381302615965344,
          -0.5453002844924816,
          -0.2790830822025973,
          -0.37603002708343664,
          -0.3837741053912723,
          0.4298795727025505,
          -0.17041498157261456,
          -0.1847827028861891,
          0.756793613167367,
          -0.036126278819638674,
          0.307044858885912,
          0.3569493475414374,
          -1.1686378538454998,
          -0.41615568526570645,
          0.3658397568198887,
          -0.09792825142901164,
          1.47853611726422,
          0.5397946383405509,
          0.7737316722718195,
          1.1864388304641107,
          -0.311097543323669,
          0.11291741482160102,
          0.9273084322175332,
          0.018691606522851702,
          -0.8213125096348348,
          -1.0718378920453435,
          -0.9479733788052108,
          -0.20755503298956074,
          1.4448364656198451,
          0.5315779775644139,
          0.30372081653078203,
          0.5371827894205107,
          -0.1955712931854566,
          0.0056277898485943695,
          0.4607086600853507,
          0.6490799347113932,
          -2.049748929608746,
          -1.2572140402419405,
          0.006094559928603997,
          2.064088313673123,
          1.8733608387849092,
          -0.6475668356011,
          1.0107721991639098,
          -1.9151055406678532,
          0.07581887532325861,
          -0.6147849525562099,
          0.500206960406309,
          0.833767752607716,
          1.8637848857178432,
          0.35464432993557077,
          1.3178422949322368,
          0.38121309654929314,
          -1.6153070092602555,
          0.5540038242074874,
          1.7841794989652877,
          0.0899140017465534,
          0.46966765187525045,
          -0.4482526127826353,
          -0.32391520382466554,
          1.9670623067755566,
          -0.3221095148492655,
          -0.8770636218208196,
          -0.2629046239565219,
          0.8382824150937563,
          -1.3379691465399735,
          0.5032689901193407,
          -0.2403433632423958,
          1.8473629736154062,
          0.525943443045498,
          1.4649076665660863,
          -0.18170178702912745,
          0.8521374610273675,
          -0.9667686007509567,
          0.2805411071524622,
          0.9441476402891524,
          -1.1246799847241986,
          0.6592849998382959,
          0.6866353543911546,
          -0.9929750772906635,
          -0.9038407848948752,
          -0.5585853704373671,
          0.2879624242189056,
          -1.895429765313769,
          0.8438594162338735,
          -0.37676054226759575,
          -2.2672827651409757,
          -1.444893239611375
         ],
         "yaxis": "y10"
        },
        {
         "histfunc": "count",
         "histnorm": "",
         "marker": {
          "color": "rgba(50, 171, 96, 1.0)",
          "line": {
           "color": "#4D5663",
           "width": 1.3
          }
         },
         "name": "C",
         "nbinsx": 10,
         "opacity": 0.8,
         "orientation": "v",
         "type": "histogram",
         "x": [
          -0.88779839208149,
          0.44269727406680953,
          0.8032921394151222,
          -0.06550560818461346,
          1.9770648053689104,
          1.9771419986445877,
          0.8184485222101127,
          -0.33490656181945094,
          -1.4634989412653792,
          2.4201422517817415,
          -0.38002372968692,
          1.7559259767496518,
          0.1150118306218919,
          -0.8381302615965344,
          -0.5453002844924816,
          -0.2790830822025973,
          -0.37603002708343664,
          -0.3837741053912723,
          0.4298795727025505,
          -0.17041498157261456,
          -0.1847827028861891,
          0.756793613167367,
          -0.036126278819638674,
          0.307044858885912,
          0.3569493475414374,
          -1.1686378538454998,
          -0.41615568526570645,
          0.3658397568198887,
          -0.09792825142901164,
          1.47853611726422,
          0.5397946383405509,
          0.7737316722718195,
          1.1864388304641107,
          -0.311097543323669,
          0.11291741482160102,
          0.9273084322175332,
          0.018691606522851702,
          -0.8213125096348348,
          -1.0718378920453435,
          -0.9479733788052108,
          -0.20755503298956074,
          1.4448364656198451,
          0.5315779775644139,
          0.30372081653078203,
          0.5371827894205107,
          -0.1955712931854566,
          0.0056277898485943695,
          0.4607086600853507,
          0.6490799347113932,
          -2.049748929608746,
          -1.2572140402419405,
          0.006094559928603997,
          2.064088313673123,
          1.8733608387849092,
          -0.6475668356011,
          1.0107721991639098,
          -1.9151055406678532,
          0.07581887532325861,
          -0.6147849525562099,
          0.500206960406309,
          0.833767752607716,
          1.8637848857178432,
          0.35464432993557077,
          1.3178422949322368,
          0.38121309654929314,
          -1.6153070092602555,
          0.5540038242074874,
          1.7841794989652877,
          0.0899140017465534,
          0.46966765187525045,
          -0.4482526127826353,
          -0.32391520382466554,
          1.9670623067755566,
          -0.3221095148492655,
          -0.8770636218208196,
          -0.2629046239565219,
          0.8382824150937563,
          -1.3379691465399735,
          0.5032689901193407,
          -0.2403433632423958,
          1.8473629736154062,
          0.525943443045498,
          1.4649076665660863,
          -0.18170178702912745,
          0.8521374610273675,
          -0.9667686007509567,
          0.2805411071524622,
          0.9441476402891524,
          -1.1246799847241986,
          0.6592849998382959,
          0.6866353543911546,
          -0.9929750772906635,
          -0.9038407848948752,
          -0.5585853704373671,
          0.2879624242189056,
          -1.895429765313769,
          0.8438594162338735,
          -0.37676054226759575,
          -2.2672827651409757,
          -1.444893239611375
         ],
         "xaxis": "x11",
         "yaxis": "y11"
        },
        {
         "line": {
          "color": "rgba(128, 128, 128, 1.0)",
          "dash": "solid",
          "shape": "linear",
          "width": 1.3
         },
         "marker": {
          "size": 2,
          "symbol": "circle"
         },
         "mode": "markers",
         "name": "C",
         "text": "",
         "type": "scatter",
         "x": [
          -0.5184772891148443,
          -0.45195871605680127,
          0.9805014564267058,
          0.3257691280908592,
          -0.7826627675841871,
          0.6770781792121421,
          -1.1052651148200576,
          0.21717951761384113,
          0.36681676202669283,
          -0.4732525545369161,
          1.4035729057512265,
          -2.402811267417673,
          0.15494173626051394,
          0.474044086898922,
          -0.612226809529411,
          -0.210886109402751,
          0.8358311863444511,
          -1.174522794025081,
          -0.7293489670376238,
          -0.324180559531859,
          -0.11451713610976523,
          -0.14756715292827366,
          0.044054079614501016,
          2.362105278524613,
          -0.32427069909587436,
          -1.11182186381714,
          0.35028652338641336,
          0.5429196668579732,
          -0.2030410443499303,
          0.7702705537198106,
          0.17048833246444065,
          -0.4161581927877217,
          -0.24818510750683487,
          -1.6239191333393042,
          -0.06650680894358926,
          -0.6629018444870151,
          -0.1604716942138816,
          1.6418254508132357,
          0.6613234659900061,
          0.36555267581830403,
          0.8041475124638096,
          0.7885434236162336,
          1.7182604333671245,
          0.48329937602980266,
          -0.11348695973840284,
          0.5470469549347585,
          0.021812290172518806,
          0.4190406878572417,
          -0.6466730258023208,
          1.902185007811656,
          -0.6946122310414046,
          0.43184430242982025,
          -0.14769244356710606,
          -0.26218478202372275,
          0.24150424033867932,
          1.600858750259185,
          1.236902244890655,
          1.571790161093822,
          0.9963374055009198,
          0.5863242318888595,
          -0.8834692933076573,
          -0.012570112051435057,
          2.0702543415045698,
          -1.3251325105404554,
          0.7985942131433866,
          0.5535777147696139,
          0.41779318155548606,
          -0.18958036005379458,
          0.8020599242343023,
          -1.5551301472784032,
          0.35823842936158595,
          1.0594507659436405,
          0.44032733100620586,
          0.9181795120620478,
          1.6517031975303245,
          1.3566155447945645,
          -0.10161074284651812,
          0.037371410372500476,
          0.40518465030519873,
          -0.5590304204155774,
          0.885802599695302,
          1.4424180239720863,
          0.6894927478334444,
          0.5039884662226771,
          0.8165293917873581,
          -0.21237114103132876,
          -0.102952045294696,
          -0.7105656679105171,
          0.132375960885404,
          -1.4794112218880235,
          1.5251025468544546,
          -0.568948858223419,
          -2.318186077001681,
          -1.392794799423355,
          -1.274059313850665,
          -1.740159635138325,
          -1.0349779850946192,
          1.1512063979261347,
          1.2308723115207083,
          -1.1909266284416384
         ],
         "xaxis": "x12",
         "y": [
          -0.88779839208149,
          0.44269727406680953,
          0.8032921394151222,
          -0.06550560818461346,
          1.9770648053689104,
          1.9771419986445877,
          0.8184485222101127,
          -0.33490656181945094,
          -1.4634989412653792,
          2.4201422517817415,
          -0.38002372968692,
          1.7559259767496518,
          0.1150118306218919,
          -0.8381302615965344,
          -0.5453002844924816,
          -0.2790830822025973,
          -0.37603002708343664,
          -0.3837741053912723,
          0.4298795727025505,
          -0.17041498157261456,
          -0.1847827028861891,
          0.756793613167367,
          -0.036126278819638674,
          0.307044858885912,
          0.3569493475414374,
          -1.1686378538454998,
          -0.41615568526570645,
          0.3658397568198887,
          -0.09792825142901164,
          1.47853611726422,
          0.5397946383405509,
          0.7737316722718195,
          1.1864388304641107,
          -0.311097543323669,
          0.11291741482160102,
          0.9273084322175332,
          0.018691606522851702,
          -0.8213125096348348,
          -1.0718378920453435,
          -0.9479733788052108,
          -0.20755503298956074,
          1.4448364656198451,
          0.5315779775644139,
          0.30372081653078203,
          0.5371827894205107,
          -0.1955712931854566,
          0.0056277898485943695,
          0.4607086600853507,
          0.6490799347113932,
          -2.049748929608746,
          -1.2572140402419405,
          0.006094559928603997,
          2.064088313673123,
          1.8733608387849092,
          -0.6475668356011,
          1.0107721991639098,
          -1.9151055406678532,
          0.07581887532325861,
          -0.6147849525562099,
          0.500206960406309,
          0.833767752607716,
          1.8637848857178432,
          0.35464432993557077,
          1.3178422949322368,
          0.38121309654929314,
          -1.6153070092602555,
          0.5540038242074874,
          1.7841794989652877,
          0.0899140017465534,
          0.46966765187525045,
          -0.4482526127826353,
          -0.32391520382466554,
          1.9670623067755566,
          -0.3221095148492655,
          -0.8770636218208196,
          -0.2629046239565219,
          0.8382824150937563,
          -1.3379691465399735,
          0.5032689901193407,
          -0.2403433632423958,
          1.8473629736154062,
          0.525943443045498,
          1.4649076665660863,
          -0.18170178702912745,
          0.8521374610273675,
          -0.9667686007509567,
          0.2805411071524622,
          0.9441476402891524,
          -1.1246799847241986,
          0.6592849998382959,
          0.6866353543911546,
          -0.9929750772906635,
          -0.9038407848948752,
          -0.5585853704373671,
          0.2879624242189056,
          -1.895429765313769,
          0.8438594162338735,
          -0.37676054226759575,
          -2.2672827651409757,
          -1.444893239611375
         ],
         "yaxis": "y12"
        },
        {
         "line": {
          "color": "rgba(128, 128, 128, 1.0)",
          "dash": "solid",
          "shape": "linear",
          "width": 1.3
         },
         "marker": {
          "size": 2,
          "symbol": "circle"
         },
         "mode": "markers",
         "name": "D",
         "text": "",
         "type": "scatter",
         "x": [
          -1.3739863479333019,
          -1.9624455010940727,
          0.7327750939620981,
          -0.2919572815622404,
          -0.9217098205202516,
          0.22744759905473583,
          1.9132185334214225,
          1.0655902636822598,
          -0.38928009078930315,
          -0.3452293933838182,
          0.09091648675429946,
          1.2073065192020882,
          -0.08500961714186184,
          -0.5055073853451985,
          0.4687032216385739,
          -1.5978997254543206,
          -0.7666102457951843,
          -0.39398286841197316,
          -1.049186557582861,
          -1.067187592678143,
          0.605592400516392,
          -0.11066233012795543,
          0.39669421943886507,
          -1.0026267178735169,
          -0.8799490270845547,
          -1.2091025025157014,
          0.8592587287529497,
          -1.3059621647376631,
          -0.49409588997722176,
          -0.8561085996940954,
          -0.09542823152230753,
          0.7745566868372872,
          -2.159376269631232,
          -0.6469062031484143,
          -1.30290706575803,
          0.34943224260271455,
          -0.7477458362035658,
          1.3528696394413993,
          -2.920920040636787,
          0.9278268638296904,
          0.5605370533615859,
          -1.3140083470584134,
          1.0275187862240902,
          0.9080776763871582,
          0.6662700296464388,
          -1.2137950590227322,
          1.918957894421482,
          -0.24599141709506822,
          0.4961882856255173,
          0.4168717709122591,
          -0.3085438402018306,
          0.5019814690468661,
          0.3414158925692907,
          -0.4979364024958135,
          0.08142353874951676,
          -1.0996710000315342,
          -1.0795816556751554,
          -0.8642669920964954,
          0.10857557863564289,
          0.46506328690511073,
          0.18367046160415235,
          2.6167268929959393,
          -0.5397623850278019,
          -0.5536167576692237,
          -1.0905694819253666,
          1.0310309500377988,
          2.501625720688344,
          -1.2021524648882707,
          -0.9988665672393777,
          0.978803568142746,
          -0.4633340031417136,
          -0.8957523468579796,
          2.8338315246665746,
          -0.8113723695934447,
          -1.2091331107832572,
          0.8878928228341988,
          -1.3469269674940716,
          0.40613418886213204,
          -0.11187966305446931,
          -1.2332976335109138,
          2.03411678344503,
          1.0654290462761313,
          1.243647276758777,
          0.1807108895321057,
          1.930569055018915,
          -0.8503370519960449,
          1.4729173906717832,
          -0.2620249792221265,
          -0.6941954714857629,
          -1.2676351294769936,
          0.48680861925768976,
          -0.22478898017258253,
          0.3634076839547694,
          0.2521744014414418,
          -0.09182355768504491,
          1.1635669193642673,
          0.33191855536558423,
          1.7942750323792322,
          0.24598050825633014,
          0.31914878297218924
         ],
         "xaxis": "x13",
         "y": [
          -0.5184772891148443,
          -0.45195871605680127,
          0.9805014564267058,
          0.3257691280908592,
          -0.7826627675841871,
          0.6770781792121421,
          -1.1052651148200576,
          0.21717951761384113,
          0.36681676202669283,
          -0.4732525545369161,
          1.4035729057512265,
          -2.402811267417673,
          0.15494173626051394,
          0.474044086898922,
          -0.612226809529411,
          -0.210886109402751,
          0.8358311863444511,
          -1.174522794025081,
          -0.7293489670376238,
          -0.324180559531859,
          -0.11451713610976523,
          -0.14756715292827366,
          0.044054079614501016,
          2.362105278524613,
          -0.32427069909587436,
          -1.11182186381714,
          0.35028652338641336,
          0.5429196668579732,
          -0.2030410443499303,
          0.7702705537198106,
          0.17048833246444065,
          -0.4161581927877217,
          -0.24818510750683487,
          -1.6239191333393042,
          -0.06650680894358926,
          -0.6629018444870151,
          -0.1604716942138816,
          1.6418254508132357,
          0.6613234659900061,
          0.36555267581830403,
          0.8041475124638096,
          0.7885434236162336,
          1.7182604333671245,
          0.48329937602980266,
          -0.11348695973840284,
          0.5470469549347585,
          0.021812290172518806,
          0.4190406878572417,
          -0.6466730258023208,
          1.902185007811656,
          -0.6946122310414046,
          0.43184430242982025,
          -0.14769244356710606,
          -0.26218478202372275,
          0.24150424033867932,
          1.600858750259185,
          1.236902244890655,
          1.571790161093822,
          0.9963374055009198,
          0.5863242318888595,
          -0.8834692933076573,
          -0.012570112051435057,
          2.0702543415045698,
          -1.3251325105404554,
          0.7985942131433866,
          0.5535777147696139,
          0.41779318155548606,
          -0.18958036005379458,
          0.8020599242343023,
          -1.5551301472784032,
          0.35823842936158595,
          1.0594507659436405,
          0.44032733100620586,
          0.9181795120620478,
          1.6517031975303245,
          1.3566155447945645,
          -0.10161074284651812,
          0.037371410372500476,
          0.40518465030519873,
          -0.5590304204155774,
          0.885802599695302,
          1.4424180239720863,
          0.6894927478334444,
          0.5039884662226771,
          0.8165293917873581,
          -0.21237114103132876,
          -0.102952045294696,
          -0.7105656679105171,
          0.132375960885404,
          -1.4794112218880235,
          1.5251025468544546,
          -0.568948858223419,
          -2.318186077001681,
          -1.392794799423355,
          -1.274059313850665,
          -1.740159635138325,
          -1.0349779850946192,
          1.1512063979261347,
          1.2308723115207083,
          -1.1909266284416384
         ],
         "yaxis": "y13"
        },
        {
         "line": {
          "color": "rgba(128, 128, 128, 1.0)",
          "dash": "solid",
          "shape": "linear",
          "width": 1.3
         },
         "marker": {
          "size": 2,
          "symbol": "circle"
         },
         "mode": "markers",
         "name": "D",
         "text": "",
         "type": "scatter",
         "x": [
          -0.8412203013466952,
          -1.4556405330733901,
          1.3995102914205535,
          -0.15224870922471553,
          0.5268294298500653,
          -1.2197859339292123,
          0.009582361726098606,
          0.561181640424792,
          1.0022719552298092,
          0.33531467168808216,
          -0.22980153143524878,
          1.4352720103751597,
          1.0473100007601404,
          0.45551917036101197,
          1.4396428109200372,
          -0.015734081864879224,
          1.052523315873753,
          -0.8211113533264749,
          -1.4797916161039029,
          -0.34685409701304637,
          0.17358881034546442,
          0.5532261070251974,
          -1.5744136598225333,
          1.426930955211073,
          0.6798043730217787,
          -0.9160625006402426,
          -1.032071873670647,
          -0.16932617762288818,
          -1.8629859480850752,
          -0.7176167617588177,
          -1.1642798789015683,
          -0.059885894398827216,
          0.6242492276644211,
          0.13943971879552275,
          -1.0917582640346943,
          1.2454479934476843,
          -0.9313443143979103,
          0.7306909003384003,
          1.0775976473970825,
          -1.3171228686283447,
          0.9308837784936753,
          0.16790069092734883,
          0.39023771995396866,
          -1.7127984009366335,
          -0.4959185062750779,
          0.9426697666768178,
          0.9640121729554312,
          1.3675050740156776,
          -0.6243582176660069,
          -0.105685016760253,
          0.06921731388890891,
          -0.9994001128726471,
          -0.16181921175049505,
          -1.1190026364806576,
          -0.8477201696417082,
          1.4874815839507454,
          1.0284057113622087,
          -0.4640318039069314,
          -0.10749989355395759,
          0.7697046059129748,
          -1.0158229695521284,
          -0.4163946741757112,
          -1.070480661558205,
          -0.3229686699162554,
          -1.6492929812138015,
          0.08543857762430547,
          -0.034751743869310424,
          1.4158954255936758,
          -0.03652253446823537,
          0.8367134058100361,
          1.0711489335208217,
          0.9895363649227079,
          -2.047414734568283,
          -0.19083294704200793,
          -0.38027944263450175,
          -0.7342768940328229,
          -1.4305665974365096,
          2.1275466735535624,
          -1.4045247656173208,
          -0.37816621778742326,
          0.5016845111373116,
          1.3080308562604426,
          0.09978118155517453,
          -0.7266434241839196,
          -0.3793724044571526,
          0.1674729114282793,
          -0.7967869942878729,
          1.6426527830130604,
          0.47546955155749715,
          0.7939767890300558,
          0.24659542512216345,
          -2.701302367636305,
          -0.6137358895332142,
          -0.2566583648373671,
          0.12933164941888436,
          0.45365308999813764,
          0.5485780672948903,
          -1.3704874518501422,
          0.33844212720458716,
          -0.5474695980051565
         ],
         "xaxis": "x14",
         "y": [
          -0.5184772891148443,
          -0.45195871605680127,
          0.9805014564267058,
          0.3257691280908592,
          -0.7826627675841871,
          0.6770781792121421,
          -1.1052651148200576,
          0.21717951761384113,
          0.36681676202669283,
          -0.4732525545369161,
          1.4035729057512265,
          -2.402811267417673,
          0.15494173626051394,
          0.474044086898922,
          -0.612226809529411,
          -0.210886109402751,
          0.8358311863444511,
          -1.174522794025081,
          -0.7293489670376238,
          -0.324180559531859,
          -0.11451713610976523,
          -0.14756715292827366,
          0.044054079614501016,
          2.362105278524613,
          -0.32427069909587436,
          -1.11182186381714,
          0.35028652338641336,
          0.5429196668579732,
          -0.2030410443499303,
          0.7702705537198106,
          0.17048833246444065,
          -0.4161581927877217,
          -0.24818510750683487,
          -1.6239191333393042,
          -0.06650680894358926,
          -0.6629018444870151,
          -0.1604716942138816,
          1.6418254508132357,
          0.6613234659900061,
          0.36555267581830403,
          0.8041475124638096,
          0.7885434236162336,
          1.7182604333671245,
          0.48329937602980266,
          -0.11348695973840284,
          0.5470469549347585,
          0.021812290172518806,
          0.4190406878572417,
          -0.6466730258023208,
          1.902185007811656,
          -0.6946122310414046,
          0.43184430242982025,
          -0.14769244356710606,
          -0.26218478202372275,
          0.24150424033867932,
          1.600858750259185,
          1.236902244890655,
          1.571790161093822,
          0.9963374055009198,
          0.5863242318888595,
          -0.8834692933076573,
          -0.012570112051435057,
          2.0702543415045698,
          -1.3251325105404554,
          0.7985942131433866,
          0.5535777147696139,
          0.41779318155548606,
          -0.18958036005379458,
          0.8020599242343023,
          -1.5551301472784032,
          0.35823842936158595,
          1.0594507659436405,
          0.44032733100620586,
          0.9181795120620478,
          1.6517031975303245,
          1.3566155447945645,
          -0.10161074284651812,
          0.037371410372500476,
          0.40518465030519873,
          -0.5590304204155774,
          0.885802599695302,
          1.4424180239720863,
          0.6894927478334444,
          0.5039884662226771,
          0.8165293917873581,
          -0.21237114103132876,
          -0.102952045294696,
          -0.7105656679105171,
          0.132375960885404,
          -1.4794112218880235,
          1.5251025468544546,
          -0.568948858223419,
          -2.318186077001681,
          -1.392794799423355,
          -1.274059313850665,
          -1.740159635138325,
          -1.0349779850946192,
          1.1512063979261347,
          1.2308723115207083,
          -1.1909266284416384
         ],
         "yaxis": "y14"
        },
        {
         "line": {
          "color": "rgba(128, 128, 128, 1.0)",
          "dash": "solid",
          "shape": "linear",
          "width": 1.3
         },
         "marker": {
          "size": 2,
          "symbol": "circle"
         },
         "mode": "markers",
         "name": "D",
         "text": "",
         "type": "scatter",
         "x": [
          -0.88779839208149,
          0.44269727406680953,
          0.8032921394151222,
          -0.06550560818461346,
          1.9770648053689104,
          1.9771419986445877,
          0.8184485222101127,
          -0.33490656181945094,
          -1.4634989412653792,
          2.4201422517817415,
          -0.38002372968692,
          1.7559259767496518,
          0.1150118306218919,
          -0.8381302615965344,
          -0.5453002844924816,
          -0.2790830822025973,
          -0.37603002708343664,
          -0.3837741053912723,
          0.4298795727025505,
          -0.17041498157261456,
          -0.1847827028861891,
          0.756793613167367,
          -0.036126278819638674,
          0.307044858885912,
          0.3569493475414374,
          -1.1686378538454998,
          -0.41615568526570645,
          0.3658397568198887,
          -0.09792825142901164,
          1.47853611726422,
          0.5397946383405509,
          0.7737316722718195,
          1.1864388304641107,
          -0.311097543323669,
          0.11291741482160102,
          0.9273084322175332,
          0.018691606522851702,
          -0.8213125096348348,
          -1.0718378920453435,
          -0.9479733788052108,
          -0.20755503298956074,
          1.4448364656198451,
          0.5315779775644139,
          0.30372081653078203,
          0.5371827894205107,
          -0.1955712931854566,
          0.0056277898485943695,
          0.4607086600853507,
          0.6490799347113932,
          -2.049748929608746,
          -1.2572140402419405,
          0.006094559928603997,
          2.064088313673123,
          1.8733608387849092,
          -0.6475668356011,
          1.0107721991639098,
          -1.9151055406678532,
          0.07581887532325861,
          -0.6147849525562099,
          0.500206960406309,
          0.833767752607716,
          1.8637848857178432,
          0.35464432993557077,
          1.3178422949322368,
          0.38121309654929314,
          -1.6153070092602555,
          0.5540038242074874,
          1.7841794989652877,
          0.0899140017465534,
          0.46966765187525045,
          -0.4482526127826353,
          -0.32391520382466554,
          1.9670623067755566,
          -0.3221095148492655,
          -0.8770636218208196,
          -0.2629046239565219,
          0.8382824150937563,
          -1.3379691465399735,
          0.5032689901193407,
          -0.2403433632423958,
          1.8473629736154062,
          0.525943443045498,
          1.4649076665660863,
          -0.18170178702912745,
          0.8521374610273675,
          -0.9667686007509567,
          0.2805411071524622,
          0.9441476402891524,
          -1.1246799847241986,
          0.6592849998382959,
          0.6866353543911546,
          -0.9929750772906635,
          -0.9038407848948752,
          -0.5585853704373671,
          0.2879624242189056,
          -1.895429765313769,
          0.8438594162338735,
          -0.37676054226759575,
          -2.2672827651409757,
          -1.444893239611375
         ],
         "xaxis": "x15",
         "y": [
          -0.5184772891148443,
          -0.45195871605680127,
          0.9805014564267058,
          0.3257691280908592,
          -0.7826627675841871,
          0.6770781792121421,
          -1.1052651148200576,
          0.21717951761384113,
          0.36681676202669283,
          -0.4732525545369161,
          1.4035729057512265,
          -2.402811267417673,
          0.15494173626051394,
          0.474044086898922,
          -0.612226809529411,
          -0.210886109402751,
          0.8358311863444511,
          -1.174522794025081,
          -0.7293489670376238,
          -0.324180559531859,
          -0.11451713610976523,
          -0.14756715292827366,
          0.044054079614501016,
          2.362105278524613,
          -0.32427069909587436,
          -1.11182186381714,
          0.35028652338641336,
          0.5429196668579732,
          -0.2030410443499303,
          0.7702705537198106,
          0.17048833246444065,
          -0.4161581927877217,
          -0.24818510750683487,
          -1.6239191333393042,
          -0.06650680894358926,
          -0.6629018444870151,
          -0.1604716942138816,
          1.6418254508132357,
          0.6613234659900061,
          0.36555267581830403,
          0.8041475124638096,
          0.7885434236162336,
          1.7182604333671245,
          0.48329937602980266,
          -0.11348695973840284,
          0.5470469549347585,
          0.021812290172518806,
          0.4190406878572417,
          -0.6466730258023208,
          1.902185007811656,
          -0.6946122310414046,
          0.43184430242982025,
          -0.14769244356710606,
          -0.26218478202372275,
          0.24150424033867932,
          1.600858750259185,
          1.236902244890655,
          1.571790161093822,
          0.9963374055009198,
          0.5863242318888595,
          -0.8834692933076573,
          -0.012570112051435057,
          2.0702543415045698,
          -1.3251325105404554,
          0.7985942131433866,
          0.5535777147696139,
          0.41779318155548606,
          -0.18958036005379458,
          0.8020599242343023,
          -1.5551301472784032,
          0.35823842936158595,
          1.0594507659436405,
          0.44032733100620586,
          0.9181795120620478,
          1.6517031975303245,
          1.3566155447945645,
          -0.10161074284651812,
          0.037371410372500476,
          0.40518465030519873,
          -0.5590304204155774,
          0.885802599695302,
          1.4424180239720863,
          0.6894927478334444,
          0.5039884662226771,
          0.8165293917873581,
          -0.21237114103132876,
          -0.102952045294696,
          -0.7105656679105171,
          0.132375960885404,
          -1.4794112218880235,
          1.5251025468544546,
          -0.568948858223419,
          -2.318186077001681,
          -1.392794799423355,
          -1.274059313850665,
          -1.740159635138325,
          -1.0349779850946192,
          1.1512063979261347,
          1.2308723115207083,
          -1.1909266284416384
         ],
         "yaxis": "y15"
        },
        {
         "histfunc": "count",
         "histnorm": "",
         "marker": {
          "color": "rgba(128, 0, 128, 1.0)",
          "line": {
           "color": "#4D5663",
           "width": 1.3
          }
         },
         "name": "D",
         "nbinsx": 10,
         "opacity": 0.8,
         "orientation": "v",
         "type": "histogram",
         "x": [
          -0.5184772891148443,
          -0.45195871605680127,
          0.9805014564267058,
          0.3257691280908592,
          -0.7826627675841871,
          0.6770781792121421,
          -1.1052651148200576,
          0.21717951761384113,
          0.36681676202669283,
          -0.4732525545369161,
          1.4035729057512265,
          -2.402811267417673,
          0.15494173626051394,
          0.474044086898922,
          -0.612226809529411,
          -0.210886109402751,
          0.8358311863444511,
          -1.174522794025081,
          -0.7293489670376238,
          -0.324180559531859,
          -0.11451713610976523,
          -0.14756715292827366,
          0.044054079614501016,
          2.362105278524613,
          -0.32427069909587436,
          -1.11182186381714,
          0.35028652338641336,
          0.5429196668579732,
          -0.2030410443499303,
          0.7702705537198106,
          0.17048833246444065,
          -0.4161581927877217,
          -0.24818510750683487,
          -1.6239191333393042,
          -0.06650680894358926,
          -0.6629018444870151,
          -0.1604716942138816,
          1.6418254508132357,
          0.6613234659900061,
          0.36555267581830403,
          0.8041475124638096,
          0.7885434236162336,
          1.7182604333671245,
          0.48329937602980266,
          -0.11348695973840284,
          0.5470469549347585,
          0.021812290172518806,
          0.4190406878572417,
          -0.6466730258023208,
          1.902185007811656,
          -0.6946122310414046,
          0.43184430242982025,
          -0.14769244356710606,
          -0.26218478202372275,
          0.24150424033867932,
          1.600858750259185,
          1.236902244890655,
          1.571790161093822,
          0.9963374055009198,
          0.5863242318888595,
          -0.8834692933076573,
          -0.012570112051435057,
          2.0702543415045698,
          -1.3251325105404554,
          0.7985942131433866,
          0.5535777147696139,
          0.41779318155548606,
          -0.18958036005379458,
          0.8020599242343023,
          -1.5551301472784032,
          0.35823842936158595,
          1.0594507659436405,
          0.44032733100620586,
          0.9181795120620478,
          1.6517031975303245,
          1.3566155447945645,
          -0.10161074284651812,
          0.037371410372500476,
          0.40518465030519873,
          -0.5590304204155774,
          0.885802599695302,
          1.4424180239720863,
          0.6894927478334444,
          0.5039884662226771,
          0.8165293917873581,
          -0.21237114103132876,
          -0.102952045294696,
          -0.7105656679105171,
          0.132375960885404,
          -1.4794112218880235,
          1.5251025468544546,
          -0.568948858223419,
          -2.318186077001681,
          -1.392794799423355,
          -1.274059313850665,
          -1.740159635138325,
          -1.0349779850946192,
          1.1512063979261347,
          1.2308723115207083,
          -1.1909266284416384
         ],
         "xaxis": "x16",
         "yaxis": "y16"
        }
       ],
       "layout": {
        "bargap": 0.02,
        "legend": {
         "bgcolor": "#F5F6F9",
         "font": {
          "color": "#4D5663"
         }
        },
        "paper_bgcolor": "#F5F6F9",
        "plot_bgcolor": "#F5F6F9",
        "showlegend": false,
        "template": {
         "data": {
          "bar": [
           {
            "error_x": {
             "color": "#2a3f5f"
            },
            "error_y": {
             "color": "#2a3f5f"
            },
            "marker": {
             "line": {
              "color": "#E5ECF6",
              "width": 0.5
             }
            },
            "type": "bar"
           }
          ],
          "barpolar": [
           {
            "marker": {
             "line": {
              "color": "#E5ECF6",
              "width": 0.5
             }
            },
            "type": "barpolar"
           }
          ],
          "carpet": [
           {
            "aaxis": {
             "endlinecolor": "#2a3f5f",
             "gridcolor": "white",
             "linecolor": "white",
             "minorgridcolor": "white",
             "startlinecolor": "#2a3f5f"
            },
            "baxis": {
             "endlinecolor": "#2a3f5f",
             "gridcolor": "white",
             "linecolor": "white",
             "minorgridcolor": "white",
             "startlinecolor": "#2a3f5f"
            },
            "type": "carpet"
           }
          ],
          "choropleth": [
           {
            "colorbar": {
             "outlinewidth": 0,
             "ticks": ""
            },
            "type": "choropleth"
           }
          ],
          "contour": [
           {
            "colorbar": {
             "outlinewidth": 0,
             "ticks": ""
            },
            "colorscale": [
             [
              0,
              "#0d0887"
             ],
             [
              0.1111111111111111,
              "#46039f"
             ],
             [
              0.2222222222222222,
              "#7201a8"
             ],
             [
              0.3333333333333333,
              "#9c179e"
             ],
             [
              0.4444444444444444,
              "#bd3786"
             ],
             [
              0.5555555555555556,
              "#d8576b"
             ],
             [
              0.6666666666666666,
              "#ed7953"
             ],
             [
              0.7777777777777778,
              "#fb9f3a"
             ],
             [
              0.8888888888888888,
              "#fdca26"
             ],
             [
              1,
              "#f0f921"
             ]
            ],
            "type": "contour"
           }
          ],
          "contourcarpet": [
           {
            "colorbar": {
             "outlinewidth": 0,
             "ticks": ""
            },
            "type": "contourcarpet"
           }
          ],
          "heatmap": [
           {
            "colorbar": {
             "outlinewidth": 0,
             "ticks": ""
            },
            "colorscale": [
             [
              0,
              "#0d0887"
             ],
             [
              0.1111111111111111,
              "#46039f"
             ],
             [
              0.2222222222222222,
              "#7201a8"
             ],
             [
              0.3333333333333333,
              "#9c179e"
             ],
             [
              0.4444444444444444,
              "#bd3786"
             ],
             [
              0.5555555555555556,
              "#d8576b"
             ],
             [
              0.6666666666666666,
              "#ed7953"
             ],
             [
              0.7777777777777778,
              "#fb9f3a"
             ],
             [
              0.8888888888888888,
              "#fdca26"
             ],
             [
              1,
              "#f0f921"
             ]
            ],
            "type": "heatmap"
           }
          ],
          "heatmapgl": [
           {
            "colorbar": {
             "outlinewidth": 0,
             "ticks": ""
            },
            "colorscale": [
             [
              0,
              "#0d0887"
             ],
             [
              0.1111111111111111,
              "#46039f"
             ],
             [
              0.2222222222222222,
              "#7201a8"
             ],
             [
              0.3333333333333333,
              "#9c179e"
             ],
             [
              0.4444444444444444,
              "#bd3786"
             ],
             [
              0.5555555555555556,
              "#d8576b"
             ],
             [
              0.6666666666666666,
              "#ed7953"
             ],
             [
              0.7777777777777778,
              "#fb9f3a"
             ],
             [
              0.8888888888888888,
              "#fdca26"
             ],
             [
              1,
              "#f0f921"
             ]
            ],
            "type": "heatmapgl"
           }
          ],
          "histogram": [
           {
            "marker": {
             "colorbar": {
              "outlinewidth": 0,
              "ticks": ""
             }
            },
            "type": "histogram"
           }
          ],
          "histogram2d": [
           {
            "colorbar": {
             "outlinewidth": 0,
             "ticks": ""
            },
            "colorscale": [
             [
              0,
              "#0d0887"
             ],
             [
              0.1111111111111111,
              "#46039f"
             ],
             [
              0.2222222222222222,
              "#7201a8"
             ],
             [
              0.3333333333333333,
              "#9c179e"
             ],
             [
              0.4444444444444444,
              "#bd3786"
             ],
             [
              0.5555555555555556,
              "#d8576b"
             ],
             [
              0.6666666666666666,
              "#ed7953"
             ],
             [
              0.7777777777777778,
              "#fb9f3a"
             ],
             [
              0.8888888888888888,
              "#fdca26"
             ],
             [
              1,
              "#f0f921"
             ]
            ],
            "type": "histogram2d"
           }
          ],
          "histogram2dcontour": [
           {
            "colorbar": {
             "outlinewidth": 0,
             "ticks": ""
            },
            "colorscale": [
             [
              0,
              "#0d0887"
             ],
             [
              0.1111111111111111,
              "#46039f"
             ],
             [
              0.2222222222222222,
              "#7201a8"
             ],
             [
              0.3333333333333333,
              "#9c179e"
             ],
             [
              0.4444444444444444,
              "#bd3786"
             ],
             [
              0.5555555555555556,
              "#d8576b"
             ],
             [
              0.6666666666666666,
              "#ed7953"
             ],
             [
              0.7777777777777778,
              "#fb9f3a"
             ],
             [
              0.8888888888888888,
              "#fdca26"
             ],
             [
              1,
              "#f0f921"
             ]
            ],
            "type": "histogram2dcontour"
           }
          ],
          "mesh3d": [
           {
            "colorbar": {
             "outlinewidth": 0,
             "ticks": ""
            },
            "type": "mesh3d"
           }
          ],
          "parcoords": [
           {
            "line": {
             "colorbar": {
              "outlinewidth": 0,
              "ticks": ""
             }
            },
            "type": "parcoords"
           }
          ],
          "pie": [
           {
            "automargin": true,
            "type": "pie"
           }
          ],
          "scatter": [
           {
            "marker": {
             "colorbar": {
              "outlinewidth": 0,
              "ticks": ""
             }
            },
            "type": "scatter"
           }
          ],
          "scatter3d": [
           {
            "line": {
             "colorbar": {
              "outlinewidth": 0,
              "ticks": ""
             }
            },
            "marker": {
             "colorbar": {
              "outlinewidth": 0,
              "ticks": ""
             }
            },
            "type": "scatter3d"
           }
          ],
          "scattercarpet": [
           {
            "marker": {
             "colorbar": {
              "outlinewidth": 0,
              "ticks": ""
             }
            },
            "type": "scattercarpet"
           }
          ],
          "scattergeo": [
           {
            "marker": {
             "colorbar": {
              "outlinewidth": 0,
              "ticks": ""
             }
            },
            "type": "scattergeo"
           }
          ],
          "scattergl": [
           {
            "marker": {
             "colorbar": {
              "outlinewidth": 0,
              "ticks": ""
             }
            },
            "type": "scattergl"
           }
          ],
          "scattermapbox": [
           {
            "marker": {
             "colorbar": {
              "outlinewidth": 0,
              "ticks": ""
             }
            },
            "type": "scattermapbox"
           }
          ],
          "scatterpolar": [
           {
            "marker": {
             "colorbar": {
              "outlinewidth": 0,
              "ticks": ""
             }
            },
            "type": "scatterpolar"
           }
          ],
          "scatterpolargl": [
           {
            "marker": {
             "colorbar": {
              "outlinewidth": 0,
              "ticks": ""
             }
            },
            "type": "scatterpolargl"
           }
          ],
          "scatterternary": [
           {
            "marker": {
             "colorbar": {
              "outlinewidth": 0,
              "ticks": ""
             }
            },
            "type": "scatterternary"
           }
          ],
          "surface": [
           {
            "colorbar": {
             "outlinewidth": 0,
             "ticks": ""
            },
            "colorscale": [
             [
              0,
              "#0d0887"
             ],
             [
              0.1111111111111111,
              "#46039f"
             ],
             [
              0.2222222222222222,
              "#7201a8"
             ],
             [
              0.3333333333333333,
              "#9c179e"
             ],
             [
              0.4444444444444444,
              "#bd3786"
             ],
             [
              0.5555555555555556,
              "#d8576b"
             ],
             [
              0.6666666666666666,
              "#ed7953"
             ],
             [
              0.7777777777777778,
              "#fb9f3a"
             ],
             [
              0.8888888888888888,
              "#fdca26"
             ],
             [
              1,
              "#f0f921"
             ]
            ],
            "type": "surface"
           }
          ],
          "table": [
           {
            "cells": {
             "fill": {
              "color": "#EBF0F8"
             },
             "line": {
              "color": "white"
             }
            },
            "header": {
             "fill": {
              "color": "#C8D4E3"
             },
             "line": {
              "color": "white"
             }
            },
            "type": "table"
           }
          ]
         },
         "layout": {
          "annotationdefaults": {
           "arrowcolor": "#2a3f5f",
           "arrowhead": 0,
           "arrowwidth": 1
          },
          "coloraxis": {
           "colorbar": {
            "outlinewidth": 0,
            "ticks": ""
           }
          },
          "colorscale": {
           "diverging": [
            [
             0,
             "#8e0152"
            ],
            [
             0.1,
             "#c51b7d"
            ],
            [
             0.2,
             "#de77ae"
            ],
            [
             0.3,
             "#f1b6da"
            ],
            [
             0.4,
             "#fde0ef"
            ],
            [
             0.5,
             "#f7f7f7"
            ],
            [
             0.6,
             "#e6f5d0"
            ],
            [
             0.7,
             "#b8e186"
            ],
            [
             0.8,
             "#7fbc41"
            ],
            [
             0.9,
             "#4d9221"
            ],
            [
             1,
             "#276419"
            ]
           ],
           "sequential": [
            [
             0,
             "#0d0887"
            ],
            [
             0.1111111111111111,
             "#46039f"
            ],
            [
             0.2222222222222222,
             "#7201a8"
            ],
            [
             0.3333333333333333,
             "#9c179e"
            ],
            [
             0.4444444444444444,
             "#bd3786"
            ],
            [
             0.5555555555555556,
             "#d8576b"
            ],
            [
             0.6666666666666666,
             "#ed7953"
            ],
            [
             0.7777777777777778,
             "#fb9f3a"
            ],
            [
             0.8888888888888888,
             "#fdca26"
            ],
            [
             1,
             "#f0f921"
            ]
           ],
           "sequentialminus": [
            [
             0,
             "#0d0887"
            ],
            [
             0.1111111111111111,
             "#46039f"
            ],
            [
             0.2222222222222222,
             "#7201a8"
            ],
            [
             0.3333333333333333,
             "#9c179e"
            ],
            [
             0.4444444444444444,
             "#bd3786"
            ],
            [
             0.5555555555555556,
             "#d8576b"
            ],
            [
             0.6666666666666666,
             "#ed7953"
            ],
            [
             0.7777777777777778,
             "#fb9f3a"
            ],
            [
             0.8888888888888888,
             "#fdca26"
            ],
            [
             1,
             "#f0f921"
            ]
           ]
          },
          "colorway": [
           "#636efa",
           "#EF553B",
           "#00cc96",
           "#ab63fa",
           "#FFA15A",
           "#19d3f3",
           "#FF6692",
           "#B6E880",
           "#FF97FF",
           "#FECB52"
          ],
          "font": {
           "color": "#2a3f5f"
          },
          "geo": {
           "bgcolor": "white",
           "lakecolor": "white",
           "landcolor": "#E5ECF6",
           "showlakes": true,
           "showland": true,
           "subunitcolor": "white"
          },
          "hoverlabel": {
           "align": "left"
          },
          "hovermode": "closest",
          "mapbox": {
           "style": "light"
          },
          "paper_bgcolor": "white",
          "plot_bgcolor": "#E5ECF6",
          "polar": {
           "angularaxis": {
            "gridcolor": "white",
            "linecolor": "white",
            "ticks": ""
           },
           "bgcolor": "#E5ECF6",
           "radialaxis": {
            "gridcolor": "white",
            "linecolor": "white",
            "ticks": ""
           }
          },
          "scene": {
           "xaxis": {
            "backgroundcolor": "#E5ECF6",
            "gridcolor": "white",
            "gridwidth": 2,
            "linecolor": "white",
            "showbackground": true,
            "ticks": "",
            "zerolinecolor": "white"
           },
           "yaxis": {
            "backgroundcolor": "#E5ECF6",
            "gridcolor": "white",
            "gridwidth": 2,
            "linecolor": "white",
            "showbackground": true,
            "ticks": "",
            "zerolinecolor": "white"
           },
           "zaxis": {
            "backgroundcolor": "#E5ECF6",
            "gridcolor": "white",
            "gridwidth": 2,
            "linecolor": "white",
            "showbackground": true,
            "ticks": "",
            "zerolinecolor": "white"
           }
          },
          "shapedefaults": {
           "line": {
            "color": "#2a3f5f"
           }
          },
          "ternary": {
           "aaxis": {
            "gridcolor": "white",
            "linecolor": "white",
            "ticks": ""
           },
           "baxis": {
            "gridcolor": "white",
            "linecolor": "white",
            "ticks": ""
           },
           "bgcolor": "#E5ECF6",
           "caxis": {
            "gridcolor": "white",
            "linecolor": "white",
            "ticks": ""
           }
          },
          "title": {
           "x": 0.05
          },
          "xaxis": {
           "automargin": true,
           "gridcolor": "white",
           "linecolor": "white",
           "ticks": "",
           "title": {
            "standoff": 15
           },
           "zerolinecolor": "white",
           "zerolinewidth": 2
          },
          "yaxis": {
           "automargin": true,
           "gridcolor": "white",
           "linecolor": "white",
           "ticks": "",
           "title": {
            "standoff": 15
           },
           "zerolinecolor": "white",
           "zerolinewidth": 2
          }
         }
        },
        "title": {
         "font": {
          "color": "#4D5663"
         }
        },
        "xaxis": {
         "anchor": "y",
         "domain": [
          0,
          0.2125
         ],
         "gridcolor": "#E1E5ED",
         "showgrid": false,
         "tickfont": {
          "color": "#4D5663"
         },
         "title": {
          "font": {
           "color": "#4D5663"
          },
          "text": ""
         },
         "zerolinecolor": "#E1E5ED"
        },
        "xaxis10": {
         "anchor": "y10",
         "domain": [
          0.2625,
          0.475
         ],
         "gridcolor": "#E1E5ED",
         "showgrid": false,
         "tickfont": {
          "color": "#4D5663"
         },
         "title": {
          "font": {
           "color": "#4D5663"
          },
          "text": ""
         },
         "zerolinecolor": "#E1E5ED"
        },
        "xaxis11": {
         "anchor": "y11",
         "domain": [
          0.525,
          0.7375
         ],
         "gridcolor": "#E1E5ED",
         "showgrid": false,
         "tickfont": {
          "color": "#4D5663"
         },
         "title": {
          "font": {
           "color": "#4D5663"
          },
          "text": ""
         },
         "zerolinecolor": "#E1E5ED"
        },
        "xaxis12": {
         "anchor": "y12",
         "domain": [
          0.7875,
          1
         ],
         "gridcolor": "#E1E5ED",
         "showgrid": false,
         "tickfont": {
          "color": "#4D5663"
         },
         "title": {
          "font": {
           "color": "#4D5663"
          },
          "text": ""
         },
         "zerolinecolor": "#E1E5ED"
        },
        "xaxis13": {
         "anchor": "y13",
         "domain": [
          0,
          0.2125
         ],
         "gridcolor": "#E1E5ED",
         "showgrid": false,
         "tickfont": {
          "color": "#4D5663"
         },
         "title": {
          "font": {
           "color": "#4D5663"
          },
          "text": ""
         },
         "zerolinecolor": "#E1E5ED"
        },
        "xaxis14": {
         "anchor": "y14",
         "domain": [
          0.2625,
          0.475
         ],
         "gridcolor": "#E1E5ED",
         "showgrid": false,
         "tickfont": {
          "color": "#4D5663"
         },
         "title": {
          "font": {
           "color": "#4D5663"
          },
          "text": ""
         },
         "zerolinecolor": "#E1E5ED"
        },
        "xaxis15": {
         "anchor": "y15",
         "domain": [
          0.525,
          0.7375
         ],
         "gridcolor": "#E1E5ED",
         "showgrid": false,
         "tickfont": {
          "color": "#4D5663"
         },
         "title": {
          "font": {
           "color": "#4D5663"
          },
          "text": ""
         },
         "zerolinecolor": "#E1E5ED"
        },
        "xaxis16": {
         "anchor": "y16",
         "domain": [
          0.7875,
          1
         ],
         "gridcolor": "#E1E5ED",
         "showgrid": false,
         "tickfont": {
          "color": "#4D5663"
         },
         "title": {
          "font": {
           "color": "#4D5663"
          },
          "text": ""
         },
         "zerolinecolor": "#E1E5ED"
        },
        "xaxis2": {
         "anchor": "y2",
         "domain": [
          0.2625,
          0.475
         ],
         "gridcolor": "#E1E5ED",
         "showgrid": false,
         "tickfont": {
          "color": "#4D5663"
         },
         "title": {
          "font": {
           "color": "#4D5663"
          },
          "text": ""
         },
         "zerolinecolor": "#E1E5ED"
        },
        "xaxis3": {
         "anchor": "y3",
         "domain": [
          0.525,
          0.7375
         ],
         "gridcolor": "#E1E5ED",
         "showgrid": false,
         "tickfont": {
          "color": "#4D5663"
         },
         "title": {
          "font": {
           "color": "#4D5663"
          },
          "text": ""
         },
         "zerolinecolor": "#E1E5ED"
        },
        "xaxis4": {
         "anchor": "y4",
         "domain": [
          0.7875,
          1
         ],
         "gridcolor": "#E1E5ED",
         "showgrid": false,
         "tickfont": {
          "color": "#4D5663"
         },
         "title": {
          "font": {
           "color": "#4D5663"
          },
          "text": ""
         },
         "zerolinecolor": "#E1E5ED"
        },
        "xaxis5": {
         "anchor": "y5",
         "domain": [
          0,
          0.2125
         ],
         "gridcolor": "#E1E5ED",
         "showgrid": false,
         "tickfont": {
          "color": "#4D5663"
         },
         "title": {
          "font": {
           "color": "#4D5663"
          },
          "text": ""
         },
         "zerolinecolor": "#E1E5ED"
        },
        "xaxis6": {
         "anchor": "y6",
         "domain": [
          0.2625,
          0.475
         ],
         "gridcolor": "#E1E5ED",
         "showgrid": false,
         "tickfont": {
          "color": "#4D5663"
         },
         "title": {
          "font": {
           "color": "#4D5663"
          },
          "text": ""
         },
         "zerolinecolor": "#E1E5ED"
        },
        "xaxis7": {
         "anchor": "y7",
         "domain": [
          0.525,
          0.7375
         ],
         "gridcolor": "#E1E5ED",
         "showgrid": false,
         "tickfont": {
          "color": "#4D5663"
         },
         "title": {
          "font": {
           "color": "#4D5663"
          },
          "text": ""
         },
         "zerolinecolor": "#E1E5ED"
        },
        "xaxis8": {
         "anchor": "y8",
         "domain": [
          0.7875,
          1
         ],
         "gridcolor": "#E1E5ED",
         "showgrid": false,
         "tickfont": {
          "color": "#4D5663"
         },
         "title": {
          "font": {
           "color": "#4D5663"
          },
          "text": ""
         },
         "zerolinecolor": "#E1E5ED"
        },
        "xaxis9": {
         "anchor": "y9",
         "domain": [
          0,
          0.2125
         ],
         "gridcolor": "#E1E5ED",
         "showgrid": false,
         "tickfont": {
          "color": "#4D5663"
         },
         "title": {
          "font": {
           "color": "#4D5663"
          },
          "text": ""
         },
         "zerolinecolor": "#E1E5ED"
        },
        "yaxis": {
         "anchor": "x",
         "domain": [
          0.8025,
          1
         ],
         "gridcolor": "#E1E5ED",
         "showgrid": false,
         "tickfont": {
          "color": "#4D5663"
         },
         "title": {
          "font": {
           "color": "#4D5663"
          },
          "text": ""
         },
         "zerolinecolor": "#E1E5ED"
        },
        "yaxis10": {
         "anchor": "x10",
         "domain": [
          0.2675,
          0.465
         ],
         "gridcolor": "#E1E5ED",
         "showgrid": false,
         "tickfont": {
          "color": "#4D5663"
         },
         "title": {
          "font": {
           "color": "#4D5663"
          },
          "text": ""
         },
         "zerolinecolor": "#E1E5ED"
        },
        "yaxis11": {
         "anchor": "x11",
         "domain": [
          0.2675,
          0.465
         ],
         "gridcolor": "#E1E5ED",
         "showgrid": false,
         "tickfont": {
          "color": "#4D5663"
         },
         "title": {
          "font": {
           "color": "#4D5663"
          },
          "text": ""
         },
         "zerolinecolor": "#E1E5ED"
        },
        "yaxis12": {
         "anchor": "x12",
         "domain": [
          0.2675,
          0.465
         ],
         "gridcolor": "#E1E5ED",
         "showgrid": false,
         "tickfont": {
          "color": "#4D5663"
         },
         "title": {
          "font": {
           "color": "#4D5663"
          },
          "text": ""
         },
         "zerolinecolor": "#E1E5ED"
        },
        "yaxis13": {
         "anchor": "x13",
         "domain": [
          0,
          0.1975
         ],
         "gridcolor": "#E1E5ED",
         "showgrid": false,
         "tickfont": {
          "color": "#4D5663"
         },
         "title": {
          "font": {
           "color": "#4D5663"
          },
          "text": ""
         },
         "zerolinecolor": "#E1E5ED"
        },
        "yaxis14": {
         "anchor": "x14",
         "domain": [
          0,
          0.1975
         ],
         "gridcolor": "#E1E5ED",
         "showgrid": false,
         "tickfont": {
          "color": "#4D5663"
         },
         "title": {
          "font": {
           "color": "#4D5663"
          },
          "text": ""
         },
         "zerolinecolor": "#E1E5ED"
        },
        "yaxis15": {
         "anchor": "x15",
         "domain": [
          0,
          0.1975
         ],
         "gridcolor": "#E1E5ED",
         "showgrid": false,
         "tickfont": {
          "color": "#4D5663"
         },
         "title": {
          "font": {
           "color": "#4D5663"
          },
          "text": ""
         },
         "zerolinecolor": "#E1E5ED"
        },
        "yaxis16": {
         "anchor": "x16",
         "domain": [
          0,
          0.1975
         ],
         "gridcolor": "#E1E5ED",
         "showgrid": false,
         "tickfont": {
          "color": "#4D5663"
         },
         "title": {
          "font": {
           "color": "#4D5663"
          },
          "text": ""
         },
         "zerolinecolor": "#E1E5ED"
        },
        "yaxis2": {
         "anchor": "x2",
         "domain": [
          0.8025,
          1
         ],
         "gridcolor": "#E1E5ED",
         "showgrid": false,
         "tickfont": {
          "color": "#4D5663"
         },
         "title": {
          "font": {
           "color": "#4D5663"
          },
          "text": ""
         },
         "zerolinecolor": "#E1E5ED"
        },
        "yaxis3": {
         "anchor": "x3",
         "domain": [
          0.8025,
          1
         ],
         "gridcolor": "#E1E5ED",
         "showgrid": false,
         "tickfont": {
          "color": "#4D5663"
         },
         "title": {
          "font": {
           "color": "#4D5663"
          },
          "text": ""
         },
         "zerolinecolor": "#E1E5ED"
        },
        "yaxis4": {
         "anchor": "x4",
         "domain": [
          0.8025,
          1
         ],
         "gridcolor": "#E1E5ED",
         "showgrid": false,
         "tickfont": {
          "color": "#4D5663"
         },
         "title": {
          "font": {
           "color": "#4D5663"
          },
          "text": ""
         },
         "zerolinecolor": "#E1E5ED"
        },
        "yaxis5": {
         "anchor": "x5",
         "domain": [
          0.535,
          0.7325
         ],
         "gridcolor": "#E1E5ED",
         "showgrid": false,
         "tickfont": {
          "color": "#4D5663"
         },
         "title": {
          "font": {
           "color": "#4D5663"
          },
          "text": ""
         },
         "zerolinecolor": "#E1E5ED"
        },
        "yaxis6": {
         "anchor": "x6",
         "domain": [
          0.535,
          0.7325
         ],
         "gridcolor": "#E1E5ED",
         "showgrid": false,
         "tickfont": {
          "color": "#4D5663"
         },
         "title": {
          "font": {
           "color": "#4D5663"
          },
          "text": ""
         },
         "zerolinecolor": "#E1E5ED"
        },
        "yaxis7": {
         "anchor": "x7",
         "domain": [
          0.535,
          0.7325
         ],
         "gridcolor": "#E1E5ED",
         "showgrid": false,
         "tickfont": {
          "color": "#4D5663"
         },
         "title": {
          "font": {
           "color": "#4D5663"
          },
          "text": ""
         },
         "zerolinecolor": "#E1E5ED"
        },
        "yaxis8": {
         "anchor": "x8",
         "domain": [
          0.535,
          0.7325
         ],
         "gridcolor": "#E1E5ED",
         "showgrid": false,
         "tickfont": {
          "color": "#4D5663"
         },
         "title": {
          "font": {
           "color": "#4D5663"
          },
          "text": ""
         },
         "zerolinecolor": "#E1E5ED"
        },
        "yaxis9": {
         "anchor": "x9",
         "domain": [
          0.2675,
          0.465
         ],
         "gridcolor": "#E1E5ED",
         "showgrid": false,
         "tickfont": {
          "color": "#4D5663"
         },
         "title": {
          "font": {
           "color": "#4D5663"
          },
          "text": ""
         },
         "zerolinecolor": "#E1E5ED"
        }
       }
      },
      "text/html": [
       "<div>\n",
       "        \n",
       "        \n",
       "            <div id=\"c12fcfdb-adce-47d5-9c36-0e271c59d103\" class=\"plotly-graph-div\" style=\"height:525px; width:100%;\"></div>\n",
       "            <script type=\"text/javascript\">\n",
       "                require([\"plotly\"], function(Plotly) {\n",
       "                    window.PLOTLYENV=window.PLOTLYENV || {};\n",
       "                    window.PLOTLYENV.BASE_URL='https://plot.ly';\n",
       "                    \n",
       "                if (document.getElementById(\"c12fcfdb-adce-47d5-9c36-0e271c59d103\")) {\n",
       "                    Plotly.newPlot(\n",
       "                        'c12fcfdb-adce-47d5-9c36-0e271c59d103',\n",
       "                        [{\"histfunc\": \"count\", \"histnorm\": \"\", \"marker\": {\"color\": \"rgba(255, 153, 51, 1.0)\", \"line\": {\"color\": \"#4D5663\", \"width\": 1.3}}, \"name\": \"A\", \"nbinsx\": 10, \"opacity\": 0.8, \"orientation\": \"v\", \"type\": \"histogram\", \"x\": [-1.3739863479333019, -1.9624455010940727, 0.7327750939620981, -0.2919572815622404, -0.9217098205202516, 0.22744759905473583, 1.9132185334214225, 1.0655902636822598, -0.38928009078930315, -0.3452293933838182, 0.09091648675429946, 1.2073065192020882, -0.08500961714186184, -0.5055073853451985, 0.4687032216385739, -1.5978997254543206, -0.7666102457951843, -0.39398286841197316, -1.049186557582861, -1.067187592678143, 0.605592400516392, -0.11066233012795543, 0.39669421943886507, -1.0026267178735169, -0.8799490270845547, -1.2091025025157014, 0.8592587287529497, -1.3059621647376631, -0.49409588997722176, -0.8561085996940954, -0.09542823152230753, 0.7745566868372872, -2.159376269631232, -0.6469062031484143, -1.30290706575803, 0.34943224260271455, -0.7477458362035658, 1.3528696394413993, -2.920920040636787, 0.9278268638296904, 0.5605370533615859, -1.3140083470584134, 1.0275187862240902, 0.9080776763871582, 0.6662700296464388, -1.2137950590227322, 1.918957894421482, -0.24599141709506822, 0.4961882856255173, 0.4168717709122591, -0.3085438402018306, 0.5019814690468661, 0.3414158925692907, -0.4979364024958135, 0.08142353874951676, -1.0996710000315342, -1.0795816556751554, -0.8642669920964954, 0.10857557863564289, 0.46506328690511073, 0.18367046160415235, 2.6167268929959393, -0.5397623850278019, -0.5536167576692237, -1.0905694819253666, 1.0310309500377988, 2.501625720688344, -1.2021524648882707, -0.9988665672393777, 0.978803568142746, -0.4633340031417136, -0.8957523468579796, 2.8338315246665746, -0.8113723695934447, -1.2091331107832572, 0.8878928228341988, -1.3469269674940716, 0.40613418886213204, -0.11187966305446931, -1.2332976335109138, 2.03411678344503, 1.0654290462761313, 1.243647276758777, 0.1807108895321057, 1.930569055018915, -0.8503370519960449, 1.4729173906717832, -0.2620249792221265, -0.6941954714857629, -1.2676351294769936, 0.48680861925768976, -0.22478898017258253, 0.3634076839547694, 0.2521744014414418, -0.09182355768504491, 1.1635669193642673, 0.33191855536558423, 1.7942750323792322, 0.24598050825633014, 0.31914878297218924], \"xaxis\": \"x\", \"yaxis\": \"y\"}, {\"line\": {\"color\": \"rgba(128, 128, 128, 1.0)\", \"dash\": \"solid\", \"shape\": \"linear\", \"width\": 1.3}, \"marker\": {\"size\": 2, \"symbol\": \"circle\"}, \"mode\": \"markers\", \"name\": \"A\", \"text\": \"\", \"type\": \"scatter\", \"x\": [-0.8412203013466952, -1.4556405330733901, 1.3995102914205535, -0.15224870922471553, 0.5268294298500653, -1.2197859339292123, 0.009582361726098606, 0.561181640424792, 1.0022719552298092, 0.33531467168808216, -0.22980153143524878, 1.4352720103751597, 1.0473100007601404, 0.45551917036101197, 1.4396428109200372, -0.015734081864879224, 1.052523315873753, -0.8211113533264749, -1.4797916161039029, -0.34685409701304637, 0.17358881034546442, 0.5532261070251974, -1.5744136598225333, 1.426930955211073, 0.6798043730217787, -0.9160625006402426, -1.032071873670647, -0.16932617762288818, -1.8629859480850752, -0.7176167617588177, -1.1642798789015683, -0.059885894398827216, 0.6242492276644211, 0.13943971879552275, -1.0917582640346943, 1.2454479934476843, -0.9313443143979103, 0.7306909003384003, 1.0775976473970825, -1.3171228686283447, 0.9308837784936753, 0.16790069092734883, 0.39023771995396866, -1.7127984009366335, -0.4959185062750779, 0.9426697666768178, 0.9640121729554312, 1.3675050740156776, -0.6243582176660069, -0.105685016760253, 0.06921731388890891, -0.9994001128726471, -0.16181921175049505, -1.1190026364806576, -0.8477201696417082, 1.4874815839507454, 1.0284057113622087, -0.4640318039069314, -0.10749989355395759, 0.7697046059129748, -1.0158229695521284, -0.4163946741757112, -1.070480661558205, -0.3229686699162554, -1.6492929812138015, 0.08543857762430547, -0.034751743869310424, 1.4158954255936758, -0.03652253446823537, 0.8367134058100361, 1.0711489335208217, 0.9895363649227079, -2.047414734568283, -0.19083294704200793, -0.38027944263450175, -0.7342768940328229, -1.4305665974365096, 2.1275466735535624, -1.4045247656173208, -0.37816621778742326, 0.5016845111373116, 1.3080308562604426, 0.09978118155517453, -0.7266434241839196, -0.3793724044571526, 0.1674729114282793, -0.7967869942878729, 1.6426527830130604, 0.47546955155749715, 0.7939767890300558, 0.24659542512216345, -2.701302367636305, -0.6137358895332142, -0.2566583648373671, 0.12933164941888436, 0.45365308999813764, 0.5485780672948903, -1.3704874518501422, 0.33844212720458716, -0.5474695980051565], \"xaxis\": \"x2\", \"y\": [-1.3739863479333019, -1.9624455010940727, 0.7327750939620981, -0.2919572815622404, -0.9217098205202516, 0.22744759905473583, 1.9132185334214225, 1.0655902636822598, -0.38928009078930315, -0.3452293933838182, 0.09091648675429946, 1.2073065192020882, -0.08500961714186184, -0.5055073853451985, 0.4687032216385739, -1.5978997254543206, -0.7666102457951843, -0.39398286841197316, -1.049186557582861, -1.067187592678143, 0.605592400516392, -0.11066233012795543, 0.39669421943886507, -1.0026267178735169, -0.8799490270845547, -1.2091025025157014, 0.8592587287529497, -1.3059621647376631, -0.49409588997722176, -0.8561085996940954, -0.09542823152230753, 0.7745566868372872, -2.159376269631232, -0.6469062031484143, -1.30290706575803, 0.34943224260271455, -0.7477458362035658, 1.3528696394413993, -2.920920040636787, 0.9278268638296904, 0.5605370533615859, -1.3140083470584134, 1.0275187862240902, 0.9080776763871582, 0.6662700296464388, -1.2137950590227322, 1.918957894421482, -0.24599141709506822, 0.4961882856255173, 0.4168717709122591, -0.3085438402018306, 0.5019814690468661, 0.3414158925692907, -0.4979364024958135, 0.08142353874951676, -1.0996710000315342, -1.0795816556751554, -0.8642669920964954, 0.10857557863564289, 0.46506328690511073, 0.18367046160415235, 2.6167268929959393, -0.5397623850278019, -0.5536167576692237, -1.0905694819253666, 1.0310309500377988, 2.501625720688344, -1.2021524648882707, -0.9988665672393777, 0.978803568142746, -0.4633340031417136, -0.8957523468579796, 2.8338315246665746, -0.8113723695934447, -1.2091331107832572, 0.8878928228341988, -1.3469269674940716, 0.40613418886213204, -0.11187966305446931, -1.2332976335109138, 2.03411678344503, 1.0654290462761313, 1.243647276758777, 0.1807108895321057, 1.930569055018915, -0.8503370519960449, 1.4729173906717832, -0.2620249792221265, -0.6941954714857629, -1.2676351294769936, 0.48680861925768976, -0.22478898017258253, 0.3634076839547694, 0.2521744014414418, -0.09182355768504491, 1.1635669193642673, 0.33191855536558423, 1.7942750323792322, 0.24598050825633014, 0.31914878297218924], \"yaxis\": \"y2\"}, {\"line\": {\"color\": \"rgba(128, 128, 128, 1.0)\", \"dash\": \"solid\", \"shape\": \"linear\", \"width\": 1.3}, \"marker\": {\"size\": 2, \"symbol\": \"circle\"}, \"mode\": \"markers\", \"name\": \"A\", \"text\": \"\", \"type\": \"scatter\", \"x\": [-0.88779839208149, 0.44269727406680953, 0.8032921394151222, -0.06550560818461346, 1.9770648053689104, 1.9771419986445877, 0.8184485222101127, -0.33490656181945094, -1.4634989412653792, 2.4201422517817415, -0.38002372968692, 1.7559259767496518, 0.1150118306218919, -0.8381302615965344, -0.5453002844924816, -0.2790830822025973, -0.37603002708343664, -0.3837741053912723, 0.4298795727025505, -0.17041498157261456, -0.1847827028861891, 0.756793613167367, -0.036126278819638674, 0.307044858885912, 0.3569493475414374, -1.1686378538454998, -0.41615568526570645, 0.3658397568198887, -0.09792825142901164, 1.47853611726422, 0.5397946383405509, 0.7737316722718195, 1.1864388304641107, -0.311097543323669, 0.11291741482160102, 0.9273084322175332, 0.018691606522851702, -0.8213125096348348, -1.0718378920453435, -0.9479733788052108, -0.20755503298956074, 1.4448364656198451, 0.5315779775644139, 0.30372081653078203, 0.5371827894205107, -0.1955712931854566, 0.0056277898485943695, 0.4607086600853507, 0.6490799347113932, -2.049748929608746, -1.2572140402419405, 0.006094559928603997, 2.064088313673123, 1.8733608387849092, -0.6475668356011, 1.0107721991639098, -1.9151055406678532, 0.07581887532325861, -0.6147849525562099, 0.500206960406309, 0.833767752607716, 1.8637848857178432, 0.35464432993557077, 1.3178422949322368, 0.38121309654929314, -1.6153070092602555, 0.5540038242074874, 1.7841794989652877, 0.0899140017465534, 0.46966765187525045, -0.4482526127826353, -0.32391520382466554, 1.9670623067755566, -0.3221095148492655, -0.8770636218208196, -0.2629046239565219, 0.8382824150937563, -1.3379691465399735, 0.5032689901193407, -0.2403433632423958, 1.8473629736154062, 0.525943443045498, 1.4649076665660863, -0.18170178702912745, 0.8521374610273675, -0.9667686007509567, 0.2805411071524622, 0.9441476402891524, -1.1246799847241986, 0.6592849998382959, 0.6866353543911546, -0.9929750772906635, -0.9038407848948752, -0.5585853704373671, 0.2879624242189056, -1.895429765313769, 0.8438594162338735, -0.37676054226759575, -2.2672827651409757, -1.444893239611375], \"xaxis\": \"x3\", \"y\": [-1.3739863479333019, -1.9624455010940727, 0.7327750939620981, -0.2919572815622404, -0.9217098205202516, 0.22744759905473583, 1.9132185334214225, 1.0655902636822598, -0.38928009078930315, -0.3452293933838182, 0.09091648675429946, 1.2073065192020882, -0.08500961714186184, -0.5055073853451985, 0.4687032216385739, -1.5978997254543206, -0.7666102457951843, -0.39398286841197316, -1.049186557582861, -1.067187592678143, 0.605592400516392, -0.11066233012795543, 0.39669421943886507, -1.0026267178735169, -0.8799490270845547, -1.2091025025157014, 0.8592587287529497, -1.3059621647376631, -0.49409588997722176, -0.8561085996940954, -0.09542823152230753, 0.7745566868372872, -2.159376269631232, -0.6469062031484143, -1.30290706575803, 0.34943224260271455, -0.7477458362035658, 1.3528696394413993, -2.920920040636787, 0.9278268638296904, 0.5605370533615859, -1.3140083470584134, 1.0275187862240902, 0.9080776763871582, 0.6662700296464388, -1.2137950590227322, 1.918957894421482, -0.24599141709506822, 0.4961882856255173, 0.4168717709122591, -0.3085438402018306, 0.5019814690468661, 0.3414158925692907, -0.4979364024958135, 0.08142353874951676, -1.0996710000315342, -1.0795816556751554, -0.8642669920964954, 0.10857557863564289, 0.46506328690511073, 0.18367046160415235, 2.6167268929959393, -0.5397623850278019, -0.5536167576692237, -1.0905694819253666, 1.0310309500377988, 2.501625720688344, -1.2021524648882707, -0.9988665672393777, 0.978803568142746, -0.4633340031417136, -0.8957523468579796, 2.8338315246665746, -0.8113723695934447, -1.2091331107832572, 0.8878928228341988, -1.3469269674940716, 0.40613418886213204, -0.11187966305446931, -1.2332976335109138, 2.03411678344503, 1.0654290462761313, 1.243647276758777, 0.1807108895321057, 1.930569055018915, -0.8503370519960449, 1.4729173906717832, -0.2620249792221265, -0.6941954714857629, -1.2676351294769936, 0.48680861925768976, -0.22478898017258253, 0.3634076839547694, 0.2521744014414418, -0.09182355768504491, 1.1635669193642673, 0.33191855536558423, 1.7942750323792322, 0.24598050825633014, 0.31914878297218924], \"yaxis\": \"y3\"}, {\"line\": {\"color\": \"rgba(128, 128, 128, 1.0)\", \"dash\": \"solid\", \"shape\": \"linear\", \"width\": 1.3}, \"marker\": {\"size\": 2, \"symbol\": \"circle\"}, \"mode\": \"markers\", \"name\": \"A\", \"text\": \"\", \"type\": \"scatter\", \"x\": [-0.5184772891148443, -0.45195871605680127, 0.9805014564267058, 0.3257691280908592, -0.7826627675841871, 0.6770781792121421, -1.1052651148200576, 0.21717951761384113, 0.36681676202669283, -0.4732525545369161, 1.4035729057512265, -2.402811267417673, 0.15494173626051394, 0.474044086898922, -0.612226809529411, -0.210886109402751, 0.8358311863444511, -1.174522794025081, -0.7293489670376238, -0.324180559531859, -0.11451713610976523, -0.14756715292827366, 0.044054079614501016, 2.362105278524613, -0.32427069909587436, -1.11182186381714, 0.35028652338641336, 0.5429196668579732, -0.2030410443499303, 0.7702705537198106, 0.17048833246444065, -0.4161581927877217, -0.24818510750683487, -1.6239191333393042, -0.06650680894358926, -0.6629018444870151, -0.1604716942138816, 1.6418254508132357, 0.6613234659900061, 0.36555267581830403, 0.8041475124638096, 0.7885434236162336, 1.7182604333671245, 0.48329937602980266, -0.11348695973840284, 0.5470469549347585, 0.021812290172518806, 0.4190406878572417, -0.6466730258023208, 1.902185007811656, -0.6946122310414046, 0.43184430242982025, -0.14769244356710606, -0.26218478202372275, 0.24150424033867932, 1.600858750259185, 1.236902244890655, 1.571790161093822, 0.9963374055009198, 0.5863242318888595, -0.8834692933076573, -0.012570112051435057, 2.0702543415045698, -1.3251325105404554, 0.7985942131433866, 0.5535777147696139, 0.41779318155548606, -0.18958036005379458, 0.8020599242343023, -1.5551301472784032, 0.35823842936158595, 1.0594507659436405, 0.44032733100620586, 0.9181795120620478, 1.6517031975303245, 1.3566155447945645, -0.10161074284651812, 0.037371410372500476, 0.40518465030519873, -0.5590304204155774, 0.885802599695302, 1.4424180239720863, 0.6894927478334444, 0.5039884662226771, 0.8165293917873581, -0.21237114103132876, -0.102952045294696, -0.7105656679105171, 0.132375960885404, -1.4794112218880235, 1.5251025468544546, -0.568948858223419, -2.318186077001681, -1.392794799423355, -1.274059313850665, -1.740159635138325, -1.0349779850946192, 1.1512063979261347, 1.2308723115207083, -1.1909266284416384], \"xaxis\": \"x4\", \"y\": [-1.3739863479333019, -1.9624455010940727, 0.7327750939620981, -0.2919572815622404, -0.9217098205202516, 0.22744759905473583, 1.9132185334214225, 1.0655902636822598, -0.38928009078930315, -0.3452293933838182, 0.09091648675429946, 1.2073065192020882, -0.08500961714186184, -0.5055073853451985, 0.4687032216385739, -1.5978997254543206, -0.7666102457951843, -0.39398286841197316, -1.049186557582861, -1.067187592678143, 0.605592400516392, -0.11066233012795543, 0.39669421943886507, -1.0026267178735169, -0.8799490270845547, -1.2091025025157014, 0.8592587287529497, -1.3059621647376631, -0.49409588997722176, -0.8561085996940954, -0.09542823152230753, 0.7745566868372872, -2.159376269631232, -0.6469062031484143, -1.30290706575803, 0.34943224260271455, -0.7477458362035658, 1.3528696394413993, -2.920920040636787, 0.9278268638296904, 0.5605370533615859, -1.3140083470584134, 1.0275187862240902, 0.9080776763871582, 0.6662700296464388, -1.2137950590227322, 1.918957894421482, -0.24599141709506822, 0.4961882856255173, 0.4168717709122591, -0.3085438402018306, 0.5019814690468661, 0.3414158925692907, -0.4979364024958135, 0.08142353874951676, -1.0996710000315342, -1.0795816556751554, -0.8642669920964954, 0.10857557863564289, 0.46506328690511073, 0.18367046160415235, 2.6167268929959393, -0.5397623850278019, -0.5536167576692237, -1.0905694819253666, 1.0310309500377988, 2.501625720688344, -1.2021524648882707, -0.9988665672393777, 0.978803568142746, -0.4633340031417136, -0.8957523468579796, 2.8338315246665746, -0.8113723695934447, -1.2091331107832572, 0.8878928228341988, -1.3469269674940716, 0.40613418886213204, -0.11187966305446931, -1.2332976335109138, 2.03411678344503, 1.0654290462761313, 1.243647276758777, 0.1807108895321057, 1.930569055018915, -0.8503370519960449, 1.4729173906717832, -0.2620249792221265, -0.6941954714857629, -1.2676351294769936, 0.48680861925768976, -0.22478898017258253, 0.3634076839547694, 0.2521744014414418, -0.09182355768504491, 1.1635669193642673, 0.33191855536558423, 1.7942750323792322, 0.24598050825633014, 0.31914878297218924], \"yaxis\": \"y4\"}, {\"line\": {\"color\": \"rgba(128, 128, 128, 1.0)\", \"dash\": \"solid\", \"shape\": \"linear\", \"width\": 1.3}, \"marker\": {\"size\": 2, \"symbol\": \"circle\"}, \"mode\": \"markers\", \"name\": \"B\", \"text\": \"\", \"type\": \"scatter\", \"x\": [-1.3739863479333019, -1.9624455010940727, 0.7327750939620981, -0.2919572815622404, -0.9217098205202516, 0.22744759905473583, 1.9132185334214225, 1.0655902636822598, -0.38928009078930315, -0.3452293933838182, 0.09091648675429946, 1.2073065192020882, -0.08500961714186184, -0.5055073853451985, 0.4687032216385739, -1.5978997254543206, -0.7666102457951843, -0.39398286841197316, -1.049186557582861, -1.067187592678143, 0.605592400516392, -0.11066233012795543, 0.39669421943886507, -1.0026267178735169, -0.8799490270845547, -1.2091025025157014, 0.8592587287529497, -1.3059621647376631, -0.49409588997722176, -0.8561085996940954, -0.09542823152230753, 0.7745566868372872, -2.159376269631232, -0.6469062031484143, -1.30290706575803, 0.34943224260271455, -0.7477458362035658, 1.3528696394413993, -2.920920040636787, 0.9278268638296904, 0.5605370533615859, -1.3140083470584134, 1.0275187862240902, 0.9080776763871582, 0.6662700296464388, -1.2137950590227322, 1.918957894421482, -0.24599141709506822, 0.4961882856255173, 0.4168717709122591, -0.3085438402018306, 0.5019814690468661, 0.3414158925692907, -0.4979364024958135, 0.08142353874951676, -1.0996710000315342, -1.0795816556751554, -0.8642669920964954, 0.10857557863564289, 0.46506328690511073, 0.18367046160415235, 2.6167268929959393, -0.5397623850278019, -0.5536167576692237, -1.0905694819253666, 1.0310309500377988, 2.501625720688344, -1.2021524648882707, -0.9988665672393777, 0.978803568142746, -0.4633340031417136, -0.8957523468579796, 2.8338315246665746, -0.8113723695934447, -1.2091331107832572, 0.8878928228341988, -1.3469269674940716, 0.40613418886213204, -0.11187966305446931, -1.2332976335109138, 2.03411678344503, 1.0654290462761313, 1.243647276758777, 0.1807108895321057, 1.930569055018915, -0.8503370519960449, 1.4729173906717832, -0.2620249792221265, -0.6941954714857629, -1.2676351294769936, 0.48680861925768976, -0.22478898017258253, 0.3634076839547694, 0.2521744014414418, -0.09182355768504491, 1.1635669193642673, 0.33191855536558423, 1.7942750323792322, 0.24598050825633014, 0.31914878297218924], \"xaxis\": \"x5\", \"y\": [-0.8412203013466952, -1.4556405330733901, 1.3995102914205535, -0.15224870922471553, 0.5268294298500653, -1.2197859339292123, 0.009582361726098606, 0.561181640424792, 1.0022719552298092, 0.33531467168808216, -0.22980153143524878, 1.4352720103751597, 1.0473100007601404, 0.45551917036101197, 1.4396428109200372, -0.015734081864879224, 1.052523315873753, -0.8211113533264749, -1.4797916161039029, -0.34685409701304637, 0.17358881034546442, 0.5532261070251974, -1.5744136598225333, 1.426930955211073, 0.6798043730217787, -0.9160625006402426, -1.032071873670647, -0.16932617762288818, -1.8629859480850752, -0.7176167617588177, -1.1642798789015683, -0.059885894398827216, 0.6242492276644211, 0.13943971879552275, -1.0917582640346943, 1.2454479934476843, -0.9313443143979103, 0.7306909003384003, 1.0775976473970825, -1.3171228686283447, 0.9308837784936753, 0.16790069092734883, 0.39023771995396866, -1.7127984009366335, -0.4959185062750779, 0.9426697666768178, 0.9640121729554312, 1.3675050740156776, -0.6243582176660069, -0.105685016760253, 0.06921731388890891, -0.9994001128726471, -0.16181921175049505, -1.1190026364806576, -0.8477201696417082, 1.4874815839507454, 1.0284057113622087, -0.4640318039069314, -0.10749989355395759, 0.7697046059129748, -1.0158229695521284, -0.4163946741757112, -1.070480661558205, -0.3229686699162554, -1.6492929812138015, 0.08543857762430547, -0.034751743869310424, 1.4158954255936758, -0.03652253446823537, 0.8367134058100361, 1.0711489335208217, 0.9895363649227079, -2.047414734568283, -0.19083294704200793, -0.38027944263450175, -0.7342768940328229, -1.4305665974365096, 2.1275466735535624, -1.4045247656173208, -0.37816621778742326, 0.5016845111373116, 1.3080308562604426, 0.09978118155517453, -0.7266434241839196, -0.3793724044571526, 0.1674729114282793, -0.7967869942878729, 1.6426527830130604, 0.47546955155749715, 0.7939767890300558, 0.24659542512216345, -2.701302367636305, -0.6137358895332142, -0.2566583648373671, 0.12933164941888436, 0.45365308999813764, 0.5485780672948903, -1.3704874518501422, 0.33844212720458716, -0.5474695980051565], \"yaxis\": \"y5\"}, {\"histfunc\": \"count\", \"histnorm\": \"\", \"marker\": {\"color\": \"rgba(55, 128, 191, 1.0)\", \"line\": {\"color\": \"#4D5663\", \"width\": 1.3}}, \"name\": \"B\", \"nbinsx\": 10, \"opacity\": 0.8, \"orientation\": \"v\", \"type\": \"histogram\", \"x\": [-0.8412203013466952, -1.4556405330733901, 1.3995102914205535, -0.15224870922471553, 0.5268294298500653, -1.2197859339292123, 0.009582361726098606, 0.561181640424792, 1.0022719552298092, 0.33531467168808216, -0.22980153143524878, 1.4352720103751597, 1.0473100007601404, 0.45551917036101197, 1.4396428109200372, -0.015734081864879224, 1.052523315873753, -0.8211113533264749, -1.4797916161039029, -0.34685409701304637, 0.17358881034546442, 0.5532261070251974, -1.5744136598225333, 1.426930955211073, 0.6798043730217787, -0.9160625006402426, -1.032071873670647, -0.16932617762288818, -1.8629859480850752, -0.7176167617588177, -1.1642798789015683, -0.059885894398827216, 0.6242492276644211, 0.13943971879552275, -1.0917582640346943, 1.2454479934476843, -0.9313443143979103, 0.7306909003384003, 1.0775976473970825, -1.3171228686283447, 0.9308837784936753, 0.16790069092734883, 0.39023771995396866, -1.7127984009366335, -0.4959185062750779, 0.9426697666768178, 0.9640121729554312, 1.3675050740156776, -0.6243582176660069, -0.105685016760253, 0.06921731388890891, -0.9994001128726471, -0.16181921175049505, -1.1190026364806576, -0.8477201696417082, 1.4874815839507454, 1.0284057113622087, -0.4640318039069314, -0.10749989355395759, 0.7697046059129748, -1.0158229695521284, -0.4163946741757112, -1.070480661558205, -0.3229686699162554, -1.6492929812138015, 0.08543857762430547, -0.034751743869310424, 1.4158954255936758, -0.03652253446823537, 0.8367134058100361, 1.0711489335208217, 0.9895363649227079, -2.047414734568283, -0.19083294704200793, -0.38027944263450175, -0.7342768940328229, -1.4305665974365096, 2.1275466735535624, -1.4045247656173208, -0.37816621778742326, 0.5016845111373116, 1.3080308562604426, 0.09978118155517453, -0.7266434241839196, -0.3793724044571526, 0.1674729114282793, -0.7967869942878729, 1.6426527830130604, 0.47546955155749715, 0.7939767890300558, 0.24659542512216345, -2.701302367636305, -0.6137358895332142, -0.2566583648373671, 0.12933164941888436, 0.45365308999813764, 0.5485780672948903, -1.3704874518501422, 0.33844212720458716, -0.5474695980051565], \"xaxis\": \"x6\", \"yaxis\": \"y6\"}, {\"line\": {\"color\": \"rgba(128, 128, 128, 1.0)\", \"dash\": \"solid\", \"shape\": \"linear\", \"width\": 1.3}, \"marker\": {\"size\": 2, \"symbol\": \"circle\"}, \"mode\": \"markers\", \"name\": \"B\", \"text\": \"\", \"type\": \"scatter\", \"x\": [-0.88779839208149, 0.44269727406680953, 0.8032921394151222, -0.06550560818461346, 1.9770648053689104, 1.9771419986445877, 0.8184485222101127, -0.33490656181945094, -1.4634989412653792, 2.4201422517817415, -0.38002372968692, 1.7559259767496518, 0.1150118306218919, -0.8381302615965344, -0.5453002844924816, -0.2790830822025973, -0.37603002708343664, -0.3837741053912723, 0.4298795727025505, -0.17041498157261456, -0.1847827028861891, 0.756793613167367, -0.036126278819638674, 0.307044858885912, 0.3569493475414374, -1.1686378538454998, -0.41615568526570645, 0.3658397568198887, -0.09792825142901164, 1.47853611726422, 0.5397946383405509, 0.7737316722718195, 1.1864388304641107, -0.311097543323669, 0.11291741482160102, 0.9273084322175332, 0.018691606522851702, -0.8213125096348348, -1.0718378920453435, -0.9479733788052108, -0.20755503298956074, 1.4448364656198451, 0.5315779775644139, 0.30372081653078203, 0.5371827894205107, -0.1955712931854566, 0.0056277898485943695, 0.4607086600853507, 0.6490799347113932, -2.049748929608746, -1.2572140402419405, 0.006094559928603997, 2.064088313673123, 1.8733608387849092, -0.6475668356011, 1.0107721991639098, -1.9151055406678532, 0.07581887532325861, -0.6147849525562099, 0.500206960406309, 0.833767752607716, 1.8637848857178432, 0.35464432993557077, 1.3178422949322368, 0.38121309654929314, -1.6153070092602555, 0.5540038242074874, 1.7841794989652877, 0.0899140017465534, 0.46966765187525045, -0.4482526127826353, -0.32391520382466554, 1.9670623067755566, -0.3221095148492655, -0.8770636218208196, -0.2629046239565219, 0.8382824150937563, -1.3379691465399735, 0.5032689901193407, -0.2403433632423958, 1.8473629736154062, 0.525943443045498, 1.4649076665660863, -0.18170178702912745, 0.8521374610273675, -0.9667686007509567, 0.2805411071524622, 0.9441476402891524, -1.1246799847241986, 0.6592849998382959, 0.6866353543911546, -0.9929750772906635, -0.9038407848948752, -0.5585853704373671, 0.2879624242189056, -1.895429765313769, 0.8438594162338735, -0.37676054226759575, -2.2672827651409757, -1.444893239611375], \"xaxis\": \"x7\", \"y\": [-0.8412203013466952, -1.4556405330733901, 1.3995102914205535, -0.15224870922471553, 0.5268294298500653, -1.2197859339292123, 0.009582361726098606, 0.561181640424792, 1.0022719552298092, 0.33531467168808216, -0.22980153143524878, 1.4352720103751597, 1.0473100007601404, 0.45551917036101197, 1.4396428109200372, -0.015734081864879224, 1.052523315873753, -0.8211113533264749, -1.4797916161039029, -0.34685409701304637, 0.17358881034546442, 0.5532261070251974, -1.5744136598225333, 1.426930955211073, 0.6798043730217787, -0.9160625006402426, -1.032071873670647, -0.16932617762288818, -1.8629859480850752, -0.7176167617588177, -1.1642798789015683, -0.059885894398827216, 0.6242492276644211, 0.13943971879552275, -1.0917582640346943, 1.2454479934476843, -0.9313443143979103, 0.7306909003384003, 1.0775976473970825, -1.3171228686283447, 0.9308837784936753, 0.16790069092734883, 0.39023771995396866, -1.7127984009366335, -0.4959185062750779, 0.9426697666768178, 0.9640121729554312, 1.3675050740156776, -0.6243582176660069, -0.105685016760253, 0.06921731388890891, -0.9994001128726471, -0.16181921175049505, -1.1190026364806576, -0.8477201696417082, 1.4874815839507454, 1.0284057113622087, -0.4640318039069314, -0.10749989355395759, 0.7697046059129748, -1.0158229695521284, -0.4163946741757112, -1.070480661558205, -0.3229686699162554, -1.6492929812138015, 0.08543857762430547, -0.034751743869310424, 1.4158954255936758, -0.03652253446823537, 0.8367134058100361, 1.0711489335208217, 0.9895363649227079, -2.047414734568283, -0.19083294704200793, -0.38027944263450175, -0.7342768940328229, -1.4305665974365096, 2.1275466735535624, -1.4045247656173208, -0.37816621778742326, 0.5016845111373116, 1.3080308562604426, 0.09978118155517453, -0.7266434241839196, -0.3793724044571526, 0.1674729114282793, -0.7967869942878729, 1.6426527830130604, 0.47546955155749715, 0.7939767890300558, 0.24659542512216345, -2.701302367636305, -0.6137358895332142, -0.2566583648373671, 0.12933164941888436, 0.45365308999813764, 0.5485780672948903, -1.3704874518501422, 0.33844212720458716, -0.5474695980051565], \"yaxis\": \"y7\"}, {\"line\": {\"color\": \"rgba(128, 128, 128, 1.0)\", \"dash\": \"solid\", \"shape\": \"linear\", \"width\": 1.3}, \"marker\": {\"size\": 2, \"symbol\": \"circle\"}, \"mode\": \"markers\", \"name\": \"B\", \"text\": \"\", \"type\": \"scatter\", \"x\": [-0.5184772891148443, -0.45195871605680127, 0.9805014564267058, 0.3257691280908592, -0.7826627675841871, 0.6770781792121421, -1.1052651148200576, 0.21717951761384113, 0.36681676202669283, -0.4732525545369161, 1.4035729057512265, -2.402811267417673, 0.15494173626051394, 0.474044086898922, -0.612226809529411, -0.210886109402751, 0.8358311863444511, -1.174522794025081, -0.7293489670376238, -0.324180559531859, -0.11451713610976523, -0.14756715292827366, 0.044054079614501016, 2.362105278524613, -0.32427069909587436, -1.11182186381714, 0.35028652338641336, 0.5429196668579732, -0.2030410443499303, 0.7702705537198106, 0.17048833246444065, -0.4161581927877217, -0.24818510750683487, -1.6239191333393042, -0.06650680894358926, -0.6629018444870151, -0.1604716942138816, 1.6418254508132357, 0.6613234659900061, 0.36555267581830403, 0.8041475124638096, 0.7885434236162336, 1.7182604333671245, 0.48329937602980266, -0.11348695973840284, 0.5470469549347585, 0.021812290172518806, 0.4190406878572417, -0.6466730258023208, 1.902185007811656, -0.6946122310414046, 0.43184430242982025, -0.14769244356710606, -0.26218478202372275, 0.24150424033867932, 1.600858750259185, 1.236902244890655, 1.571790161093822, 0.9963374055009198, 0.5863242318888595, -0.8834692933076573, -0.012570112051435057, 2.0702543415045698, -1.3251325105404554, 0.7985942131433866, 0.5535777147696139, 0.41779318155548606, -0.18958036005379458, 0.8020599242343023, -1.5551301472784032, 0.35823842936158595, 1.0594507659436405, 0.44032733100620586, 0.9181795120620478, 1.6517031975303245, 1.3566155447945645, -0.10161074284651812, 0.037371410372500476, 0.40518465030519873, -0.5590304204155774, 0.885802599695302, 1.4424180239720863, 0.6894927478334444, 0.5039884662226771, 0.8165293917873581, -0.21237114103132876, -0.102952045294696, -0.7105656679105171, 0.132375960885404, -1.4794112218880235, 1.5251025468544546, -0.568948858223419, -2.318186077001681, -1.392794799423355, -1.274059313850665, -1.740159635138325, -1.0349779850946192, 1.1512063979261347, 1.2308723115207083, -1.1909266284416384], \"xaxis\": \"x8\", \"y\": [-0.8412203013466952, -1.4556405330733901, 1.3995102914205535, -0.15224870922471553, 0.5268294298500653, -1.2197859339292123, 0.009582361726098606, 0.561181640424792, 1.0022719552298092, 0.33531467168808216, -0.22980153143524878, 1.4352720103751597, 1.0473100007601404, 0.45551917036101197, 1.4396428109200372, -0.015734081864879224, 1.052523315873753, -0.8211113533264749, -1.4797916161039029, -0.34685409701304637, 0.17358881034546442, 0.5532261070251974, -1.5744136598225333, 1.426930955211073, 0.6798043730217787, -0.9160625006402426, -1.032071873670647, -0.16932617762288818, -1.8629859480850752, -0.7176167617588177, -1.1642798789015683, -0.059885894398827216, 0.6242492276644211, 0.13943971879552275, -1.0917582640346943, 1.2454479934476843, -0.9313443143979103, 0.7306909003384003, 1.0775976473970825, -1.3171228686283447, 0.9308837784936753, 0.16790069092734883, 0.39023771995396866, -1.7127984009366335, -0.4959185062750779, 0.9426697666768178, 0.9640121729554312, 1.3675050740156776, -0.6243582176660069, -0.105685016760253, 0.06921731388890891, -0.9994001128726471, -0.16181921175049505, -1.1190026364806576, -0.8477201696417082, 1.4874815839507454, 1.0284057113622087, -0.4640318039069314, -0.10749989355395759, 0.7697046059129748, -1.0158229695521284, -0.4163946741757112, -1.070480661558205, -0.3229686699162554, -1.6492929812138015, 0.08543857762430547, -0.034751743869310424, 1.4158954255936758, -0.03652253446823537, 0.8367134058100361, 1.0711489335208217, 0.9895363649227079, -2.047414734568283, -0.19083294704200793, -0.38027944263450175, -0.7342768940328229, -1.4305665974365096, 2.1275466735535624, -1.4045247656173208, -0.37816621778742326, 0.5016845111373116, 1.3080308562604426, 0.09978118155517453, -0.7266434241839196, -0.3793724044571526, 0.1674729114282793, -0.7967869942878729, 1.6426527830130604, 0.47546955155749715, 0.7939767890300558, 0.24659542512216345, -2.701302367636305, -0.6137358895332142, -0.2566583648373671, 0.12933164941888436, 0.45365308999813764, 0.5485780672948903, -1.3704874518501422, 0.33844212720458716, -0.5474695980051565], \"yaxis\": \"y8\"}, {\"line\": {\"color\": \"rgba(128, 128, 128, 1.0)\", \"dash\": \"solid\", \"shape\": \"linear\", \"width\": 1.3}, \"marker\": {\"size\": 2, \"symbol\": \"circle\"}, \"mode\": \"markers\", \"name\": \"C\", \"text\": \"\", \"type\": \"scatter\", \"x\": [-1.3739863479333019, -1.9624455010940727, 0.7327750939620981, -0.2919572815622404, -0.9217098205202516, 0.22744759905473583, 1.9132185334214225, 1.0655902636822598, -0.38928009078930315, -0.3452293933838182, 0.09091648675429946, 1.2073065192020882, -0.08500961714186184, -0.5055073853451985, 0.4687032216385739, -1.5978997254543206, -0.7666102457951843, -0.39398286841197316, -1.049186557582861, -1.067187592678143, 0.605592400516392, -0.11066233012795543, 0.39669421943886507, -1.0026267178735169, -0.8799490270845547, -1.2091025025157014, 0.8592587287529497, -1.3059621647376631, -0.49409588997722176, -0.8561085996940954, -0.09542823152230753, 0.7745566868372872, -2.159376269631232, -0.6469062031484143, -1.30290706575803, 0.34943224260271455, -0.7477458362035658, 1.3528696394413993, -2.920920040636787, 0.9278268638296904, 0.5605370533615859, -1.3140083470584134, 1.0275187862240902, 0.9080776763871582, 0.6662700296464388, -1.2137950590227322, 1.918957894421482, -0.24599141709506822, 0.4961882856255173, 0.4168717709122591, -0.3085438402018306, 0.5019814690468661, 0.3414158925692907, -0.4979364024958135, 0.08142353874951676, -1.0996710000315342, -1.0795816556751554, -0.8642669920964954, 0.10857557863564289, 0.46506328690511073, 0.18367046160415235, 2.6167268929959393, -0.5397623850278019, -0.5536167576692237, -1.0905694819253666, 1.0310309500377988, 2.501625720688344, -1.2021524648882707, -0.9988665672393777, 0.978803568142746, -0.4633340031417136, -0.8957523468579796, 2.8338315246665746, -0.8113723695934447, -1.2091331107832572, 0.8878928228341988, -1.3469269674940716, 0.40613418886213204, -0.11187966305446931, -1.2332976335109138, 2.03411678344503, 1.0654290462761313, 1.243647276758777, 0.1807108895321057, 1.930569055018915, -0.8503370519960449, 1.4729173906717832, -0.2620249792221265, -0.6941954714857629, -1.2676351294769936, 0.48680861925768976, -0.22478898017258253, 0.3634076839547694, 0.2521744014414418, -0.09182355768504491, 1.1635669193642673, 0.33191855536558423, 1.7942750323792322, 0.24598050825633014, 0.31914878297218924], \"xaxis\": \"x9\", \"y\": [-0.88779839208149, 0.44269727406680953, 0.8032921394151222, -0.06550560818461346, 1.9770648053689104, 1.9771419986445877, 0.8184485222101127, -0.33490656181945094, -1.4634989412653792, 2.4201422517817415, -0.38002372968692, 1.7559259767496518, 0.1150118306218919, -0.8381302615965344, -0.5453002844924816, -0.2790830822025973, -0.37603002708343664, -0.3837741053912723, 0.4298795727025505, -0.17041498157261456, -0.1847827028861891, 0.756793613167367, -0.036126278819638674, 0.307044858885912, 0.3569493475414374, -1.1686378538454998, -0.41615568526570645, 0.3658397568198887, -0.09792825142901164, 1.47853611726422, 0.5397946383405509, 0.7737316722718195, 1.1864388304641107, -0.311097543323669, 0.11291741482160102, 0.9273084322175332, 0.018691606522851702, -0.8213125096348348, -1.0718378920453435, -0.9479733788052108, -0.20755503298956074, 1.4448364656198451, 0.5315779775644139, 0.30372081653078203, 0.5371827894205107, -0.1955712931854566, 0.0056277898485943695, 0.4607086600853507, 0.6490799347113932, -2.049748929608746, -1.2572140402419405, 0.006094559928603997, 2.064088313673123, 1.8733608387849092, -0.6475668356011, 1.0107721991639098, -1.9151055406678532, 0.07581887532325861, -0.6147849525562099, 0.500206960406309, 0.833767752607716, 1.8637848857178432, 0.35464432993557077, 1.3178422949322368, 0.38121309654929314, -1.6153070092602555, 0.5540038242074874, 1.7841794989652877, 0.0899140017465534, 0.46966765187525045, -0.4482526127826353, -0.32391520382466554, 1.9670623067755566, -0.3221095148492655, -0.8770636218208196, -0.2629046239565219, 0.8382824150937563, -1.3379691465399735, 0.5032689901193407, -0.2403433632423958, 1.8473629736154062, 0.525943443045498, 1.4649076665660863, -0.18170178702912745, 0.8521374610273675, -0.9667686007509567, 0.2805411071524622, 0.9441476402891524, -1.1246799847241986, 0.6592849998382959, 0.6866353543911546, -0.9929750772906635, -0.9038407848948752, -0.5585853704373671, 0.2879624242189056, -1.895429765313769, 0.8438594162338735, -0.37676054226759575, -2.2672827651409757, -1.444893239611375], \"yaxis\": \"y9\"}, {\"line\": {\"color\": \"rgba(128, 128, 128, 1.0)\", \"dash\": \"solid\", \"shape\": \"linear\", \"width\": 1.3}, \"marker\": {\"size\": 2, \"symbol\": \"circle\"}, \"mode\": \"markers\", \"name\": \"C\", \"text\": \"\", \"type\": \"scatter\", \"x\": [-0.8412203013466952, -1.4556405330733901, 1.3995102914205535, -0.15224870922471553, 0.5268294298500653, -1.2197859339292123, 0.009582361726098606, 0.561181640424792, 1.0022719552298092, 0.33531467168808216, -0.22980153143524878, 1.4352720103751597, 1.0473100007601404, 0.45551917036101197, 1.4396428109200372, -0.015734081864879224, 1.052523315873753, -0.8211113533264749, -1.4797916161039029, -0.34685409701304637, 0.17358881034546442, 0.5532261070251974, -1.5744136598225333, 1.426930955211073, 0.6798043730217787, -0.9160625006402426, -1.032071873670647, -0.16932617762288818, -1.8629859480850752, -0.7176167617588177, -1.1642798789015683, -0.059885894398827216, 0.6242492276644211, 0.13943971879552275, -1.0917582640346943, 1.2454479934476843, -0.9313443143979103, 0.7306909003384003, 1.0775976473970825, -1.3171228686283447, 0.9308837784936753, 0.16790069092734883, 0.39023771995396866, -1.7127984009366335, -0.4959185062750779, 0.9426697666768178, 0.9640121729554312, 1.3675050740156776, -0.6243582176660069, -0.105685016760253, 0.06921731388890891, -0.9994001128726471, -0.16181921175049505, -1.1190026364806576, -0.8477201696417082, 1.4874815839507454, 1.0284057113622087, -0.4640318039069314, -0.10749989355395759, 0.7697046059129748, -1.0158229695521284, -0.4163946741757112, -1.070480661558205, -0.3229686699162554, -1.6492929812138015, 0.08543857762430547, -0.034751743869310424, 1.4158954255936758, -0.03652253446823537, 0.8367134058100361, 1.0711489335208217, 0.9895363649227079, -2.047414734568283, -0.19083294704200793, -0.38027944263450175, -0.7342768940328229, -1.4305665974365096, 2.1275466735535624, -1.4045247656173208, -0.37816621778742326, 0.5016845111373116, 1.3080308562604426, 0.09978118155517453, -0.7266434241839196, -0.3793724044571526, 0.1674729114282793, -0.7967869942878729, 1.6426527830130604, 0.47546955155749715, 0.7939767890300558, 0.24659542512216345, -2.701302367636305, -0.6137358895332142, -0.2566583648373671, 0.12933164941888436, 0.45365308999813764, 0.5485780672948903, -1.3704874518501422, 0.33844212720458716, -0.5474695980051565], \"xaxis\": \"x10\", \"y\": [-0.88779839208149, 0.44269727406680953, 0.8032921394151222, -0.06550560818461346, 1.9770648053689104, 1.9771419986445877, 0.8184485222101127, -0.33490656181945094, -1.4634989412653792, 2.4201422517817415, -0.38002372968692, 1.7559259767496518, 0.1150118306218919, -0.8381302615965344, -0.5453002844924816, -0.2790830822025973, -0.37603002708343664, -0.3837741053912723, 0.4298795727025505, -0.17041498157261456, -0.1847827028861891, 0.756793613167367, -0.036126278819638674, 0.307044858885912, 0.3569493475414374, -1.1686378538454998, -0.41615568526570645, 0.3658397568198887, -0.09792825142901164, 1.47853611726422, 0.5397946383405509, 0.7737316722718195, 1.1864388304641107, -0.311097543323669, 0.11291741482160102, 0.9273084322175332, 0.018691606522851702, -0.8213125096348348, -1.0718378920453435, -0.9479733788052108, -0.20755503298956074, 1.4448364656198451, 0.5315779775644139, 0.30372081653078203, 0.5371827894205107, -0.1955712931854566, 0.0056277898485943695, 0.4607086600853507, 0.6490799347113932, -2.049748929608746, -1.2572140402419405, 0.006094559928603997, 2.064088313673123, 1.8733608387849092, -0.6475668356011, 1.0107721991639098, -1.9151055406678532, 0.07581887532325861, -0.6147849525562099, 0.500206960406309, 0.833767752607716, 1.8637848857178432, 0.35464432993557077, 1.3178422949322368, 0.38121309654929314, -1.6153070092602555, 0.5540038242074874, 1.7841794989652877, 0.0899140017465534, 0.46966765187525045, -0.4482526127826353, -0.32391520382466554, 1.9670623067755566, -0.3221095148492655, -0.8770636218208196, -0.2629046239565219, 0.8382824150937563, -1.3379691465399735, 0.5032689901193407, -0.2403433632423958, 1.8473629736154062, 0.525943443045498, 1.4649076665660863, -0.18170178702912745, 0.8521374610273675, -0.9667686007509567, 0.2805411071524622, 0.9441476402891524, -1.1246799847241986, 0.6592849998382959, 0.6866353543911546, -0.9929750772906635, -0.9038407848948752, -0.5585853704373671, 0.2879624242189056, -1.895429765313769, 0.8438594162338735, -0.37676054226759575, -2.2672827651409757, -1.444893239611375], \"yaxis\": \"y10\"}, {\"histfunc\": \"count\", \"histnorm\": \"\", \"marker\": {\"color\": \"rgba(50, 171, 96, 1.0)\", \"line\": {\"color\": \"#4D5663\", \"width\": 1.3}}, \"name\": \"C\", \"nbinsx\": 10, \"opacity\": 0.8, \"orientation\": \"v\", \"type\": \"histogram\", \"x\": [-0.88779839208149, 0.44269727406680953, 0.8032921394151222, -0.06550560818461346, 1.9770648053689104, 1.9771419986445877, 0.8184485222101127, -0.33490656181945094, -1.4634989412653792, 2.4201422517817415, -0.38002372968692, 1.7559259767496518, 0.1150118306218919, -0.8381302615965344, -0.5453002844924816, -0.2790830822025973, -0.37603002708343664, -0.3837741053912723, 0.4298795727025505, -0.17041498157261456, -0.1847827028861891, 0.756793613167367, -0.036126278819638674, 0.307044858885912, 0.3569493475414374, -1.1686378538454998, -0.41615568526570645, 0.3658397568198887, -0.09792825142901164, 1.47853611726422, 0.5397946383405509, 0.7737316722718195, 1.1864388304641107, -0.311097543323669, 0.11291741482160102, 0.9273084322175332, 0.018691606522851702, -0.8213125096348348, -1.0718378920453435, -0.9479733788052108, -0.20755503298956074, 1.4448364656198451, 0.5315779775644139, 0.30372081653078203, 0.5371827894205107, -0.1955712931854566, 0.0056277898485943695, 0.4607086600853507, 0.6490799347113932, -2.049748929608746, -1.2572140402419405, 0.006094559928603997, 2.064088313673123, 1.8733608387849092, -0.6475668356011, 1.0107721991639098, -1.9151055406678532, 0.07581887532325861, -0.6147849525562099, 0.500206960406309, 0.833767752607716, 1.8637848857178432, 0.35464432993557077, 1.3178422949322368, 0.38121309654929314, -1.6153070092602555, 0.5540038242074874, 1.7841794989652877, 0.0899140017465534, 0.46966765187525045, -0.4482526127826353, -0.32391520382466554, 1.9670623067755566, -0.3221095148492655, -0.8770636218208196, -0.2629046239565219, 0.8382824150937563, -1.3379691465399735, 0.5032689901193407, -0.2403433632423958, 1.8473629736154062, 0.525943443045498, 1.4649076665660863, -0.18170178702912745, 0.8521374610273675, -0.9667686007509567, 0.2805411071524622, 0.9441476402891524, -1.1246799847241986, 0.6592849998382959, 0.6866353543911546, -0.9929750772906635, -0.9038407848948752, -0.5585853704373671, 0.2879624242189056, -1.895429765313769, 0.8438594162338735, -0.37676054226759575, -2.2672827651409757, -1.444893239611375], \"xaxis\": \"x11\", \"yaxis\": \"y11\"}, {\"line\": {\"color\": \"rgba(128, 128, 128, 1.0)\", \"dash\": \"solid\", \"shape\": \"linear\", \"width\": 1.3}, \"marker\": {\"size\": 2, \"symbol\": \"circle\"}, \"mode\": \"markers\", \"name\": \"C\", \"text\": \"\", \"type\": \"scatter\", \"x\": [-0.5184772891148443, -0.45195871605680127, 0.9805014564267058, 0.3257691280908592, -0.7826627675841871, 0.6770781792121421, -1.1052651148200576, 0.21717951761384113, 0.36681676202669283, -0.4732525545369161, 1.4035729057512265, -2.402811267417673, 0.15494173626051394, 0.474044086898922, -0.612226809529411, -0.210886109402751, 0.8358311863444511, -1.174522794025081, -0.7293489670376238, -0.324180559531859, -0.11451713610976523, -0.14756715292827366, 0.044054079614501016, 2.362105278524613, -0.32427069909587436, -1.11182186381714, 0.35028652338641336, 0.5429196668579732, -0.2030410443499303, 0.7702705537198106, 0.17048833246444065, -0.4161581927877217, -0.24818510750683487, -1.6239191333393042, -0.06650680894358926, -0.6629018444870151, -0.1604716942138816, 1.6418254508132357, 0.6613234659900061, 0.36555267581830403, 0.8041475124638096, 0.7885434236162336, 1.7182604333671245, 0.48329937602980266, -0.11348695973840284, 0.5470469549347585, 0.021812290172518806, 0.4190406878572417, -0.6466730258023208, 1.902185007811656, -0.6946122310414046, 0.43184430242982025, -0.14769244356710606, -0.26218478202372275, 0.24150424033867932, 1.600858750259185, 1.236902244890655, 1.571790161093822, 0.9963374055009198, 0.5863242318888595, -0.8834692933076573, -0.012570112051435057, 2.0702543415045698, -1.3251325105404554, 0.7985942131433866, 0.5535777147696139, 0.41779318155548606, -0.18958036005379458, 0.8020599242343023, -1.5551301472784032, 0.35823842936158595, 1.0594507659436405, 0.44032733100620586, 0.9181795120620478, 1.6517031975303245, 1.3566155447945645, -0.10161074284651812, 0.037371410372500476, 0.40518465030519873, -0.5590304204155774, 0.885802599695302, 1.4424180239720863, 0.6894927478334444, 0.5039884662226771, 0.8165293917873581, -0.21237114103132876, -0.102952045294696, -0.7105656679105171, 0.132375960885404, -1.4794112218880235, 1.5251025468544546, -0.568948858223419, -2.318186077001681, -1.392794799423355, -1.274059313850665, -1.740159635138325, -1.0349779850946192, 1.1512063979261347, 1.2308723115207083, -1.1909266284416384], \"xaxis\": \"x12\", \"y\": [-0.88779839208149, 0.44269727406680953, 0.8032921394151222, -0.06550560818461346, 1.9770648053689104, 1.9771419986445877, 0.8184485222101127, -0.33490656181945094, -1.4634989412653792, 2.4201422517817415, -0.38002372968692, 1.7559259767496518, 0.1150118306218919, -0.8381302615965344, -0.5453002844924816, -0.2790830822025973, -0.37603002708343664, -0.3837741053912723, 0.4298795727025505, -0.17041498157261456, -0.1847827028861891, 0.756793613167367, -0.036126278819638674, 0.307044858885912, 0.3569493475414374, -1.1686378538454998, -0.41615568526570645, 0.3658397568198887, -0.09792825142901164, 1.47853611726422, 0.5397946383405509, 0.7737316722718195, 1.1864388304641107, -0.311097543323669, 0.11291741482160102, 0.9273084322175332, 0.018691606522851702, -0.8213125096348348, -1.0718378920453435, -0.9479733788052108, -0.20755503298956074, 1.4448364656198451, 0.5315779775644139, 0.30372081653078203, 0.5371827894205107, -0.1955712931854566, 0.0056277898485943695, 0.4607086600853507, 0.6490799347113932, -2.049748929608746, -1.2572140402419405, 0.006094559928603997, 2.064088313673123, 1.8733608387849092, -0.6475668356011, 1.0107721991639098, -1.9151055406678532, 0.07581887532325861, -0.6147849525562099, 0.500206960406309, 0.833767752607716, 1.8637848857178432, 0.35464432993557077, 1.3178422949322368, 0.38121309654929314, -1.6153070092602555, 0.5540038242074874, 1.7841794989652877, 0.0899140017465534, 0.46966765187525045, -0.4482526127826353, -0.32391520382466554, 1.9670623067755566, -0.3221095148492655, -0.8770636218208196, -0.2629046239565219, 0.8382824150937563, -1.3379691465399735, 0.5032689901193407, -0.2403433632423958, 1.8473629736154062, 0.525943443045498, 1.4649076665660863, -0.18170178702912745, 0.8521374610273675, -0.9667686007509567, 0.2805411071524622, 0.9441476402891524, -1.1246799847241986, 0.6592849998382959, 0.6866353543911546, -0.9929750772906635, -0.9038407848948752, -0.5585853704373671, 0.2879624242189056, -1.895429765313769, 0.8438594162338735, -0.37676054226759575, -2.2672827651409757, -1.444893239611375], \"yaxis\": \"y12\"}, {\"line\": {\"color\": \"rgba(128, 128, 128, 1.0)\", \"dash\": \"solid\", \"shape\": \"linear\", \"width\": 1.3}, \"marker\": {\"size\": 2, \"symbol\": \"circle\"}, \"mode\": \"markers\", \"name\": \"D\", \"text\": \"\", \"type\": \"scatter\", \"x\": [-1.3739863479333019, -1.9624455010940727, 0.7327750939620981, -0.2919572815622404, -0.9217098205202516, 0.22744759905473583, 1.9132185334214225, 1.0655902636822598, -0.38928009078930315, -0.3452293933838182, 0.09091648675429946, 1.2073065192020882, -0.08500961714186184, -0.5055073853451985, 0.4687032216385739, -1.5978997254543206, -0.7666102457951843, -0.39398286841197316, -1.049186557582861, -1.067187592678143, 0.605592400516392, -0.11066233012795543, 0.39669421943886507, -1.0026267178735169, -0.8799490270845547, -1.2091025025157014, 0.8592587287529497, -1.3059621647376631, -0.49409588997722176, -0.8561085996940954, -0.09542823152230753, 0.7745566868372872, -2.159376269631232, -0.6469062031484143, -1.30290706575803, 0.34943224260271455, -0.7477458362035658, 1.3528696394413993, -2.920920040636787, 0.9278268638296904, 0.5605370533615859, -1.3140083470584134, 1.0275187862240902, 0.9080776763871582, 0.6662700296464388, -1.2137950590227322, 1.918957894421482, -0.24599141709506822, 0.4961882856255173, 0.4168717709122591, -0.3085438402018306, 0.5019814690468661, 0.3414158925692907, -0.4979364024958135, 0.08142353874951676, -1.0996710000315342, -1.0795816556751554, -0.8642669920964954, 0.10857557863564289, 0.46506328690511073, 0.18367046160415235, 2.6167268929959393, -0.5397623850278019, -0.5536167576692237, -1.0905694819253666, 1.0310309500377988, 2.501625720688344, -1.2021524648882707, -0.9988665672393777, 0.978803568142746, -0.4633340031417136, -0.8957523468579796, 2.8338315246665746, -0.8113723695934447, -1.2091331107832572, 0.8878928228341988, -1.3469269674940716, 0.40613418886213204, -0.11187966305446931, -1.2332976335109138, 2.03411678344503, 1.0654290462761313, 1.243647276758777, 0.1807108895321057, 1.930569055018915, -0.8503370519960449, 1.4729173906717832, -0.2620249792221265, -0.6941954714857629, -1.2676351294769936, 0.48680861925768976, -0.22478898017258253, 0.3634076839547694, 0.2521744014414418, -0.09182355768504491, 1.1635669193642673, 0.33191855536558423, 1.7942750323792322, 0.24598050825633014, 0.31914878297218924], \"xaxis\": \"x13\", \"y\": [-0.5184772891148443, -0.45195871605680127, 0.9805014564267058, 0.3257691280908592, -0.7826627675841871, 0.6770781792121421, -1.1052651148200576, 0.21717951761384113, 0.36681676202669283, -0.4732525545369161, 1.4035729057512265, -2.402811267417673, 0.15494173626051394, 0.474044086898922, -0.612226809529411, -0.210886109402751, 0.8358311863444511, -1.174522794025081, -0.7293489670376238, -0.324180559531859, -0.11451713610976523, -0.14756715292827366, 0.044054079614501016, 2.362105278524613, -0.32427069909587436, -1.11182186381714, 0.35028652338641336, 0.5429196668579732, -0.2030410443499303, 0.7702705537198106, 0.17048833246444065, -0.4161581927877217, -0.24818510750683487, -1.6239191333393042, -0.06650680894358926, -0.6629018444870151, -0.1604716942138816, 1.6418254508132357, 0.6613234659900061, 0.36555267581830403, 0.8041475124638096, 0.7885434236162336, 1.7182604333671245, 0.48329937602980266, -0.11348695973840284, 0.5470469549347585, 0.021812290172518806, 0.4190406878572417, -0.6466730258023208, 1.902185007811656, -0.6946122310414046, 0.43184430242982025, -0.14769244356710606, -0.26218478202372275, 0.24150424033867932, 1.600858750259185, 1.236902244890655, 1.571790161093822, 0.9963374055009198, 0.5863242318888595, -0.8834692933076573, -0.012570112051435057, 2.0702543415045698, -1.3251325105404554, 0.7985942131433866, 0.5535777147696139, 0.41779318155548606, -0.18958036005379458, 0.8020599242343023, -1.5551301472784032, 0.35823842936158595, 1.0594507659436405, 0.44032733100620586, 0.9181795120620478, 1.6517031975303245, 1.3566155447945645, -0.10161074284651812, 0.037371410372500476, 0.40518465030519873, -0.5590304204155774, 0.885802599695302, 1.4424180239720863, 0.6894927478334444, 0.5039884662226771, 0.8165293917873581, -0.21237114103132876, -0.102952045294696, -0.7105656679105171, 0.132375960885404, -1.4794112218880235, 1.5251025468544546, -0.568948858223419, -2.318186077001681, -1.392794799423355, -1.274059313850665, -1.740159635138325, -1.0349779850946192, 1.1512063979261347, 1.2308723115207083, -1.1909266284416384], \"yaxis\": \"y13\"}, {\"line\": {\"color\": \"rgba(128, 128, 128, 1.0)\", \"dash\": \"solid\", \"shape\": \"linear\", \"width\": 1.3}, \"marker\": {\"size\": 2, \"symbol\": \"circle\"}, \"mode\": \"markers\", \"name\": \"D\", \"text\": \"\", \"type\": \"scatter\", \"x\": [-0.8412203013466952, -1.4556405330733901, 1.3995102914205535, -0.15224870922471553, 0.5268294298500653, -1.2197859339292123, 0.009582361726098606, 0.561181640424792, 1.0022719552298092, 0.33531467168808216, -0.22980153143524878, 1.4352720103751597, 1.0473100007601404, 0.45551917036101197, 1.4396428109200372, -0.015734081864879224, 1.052523315873753, -0.8211113533264749, -1.4797916161039029, -0.34685409701304637, 0.17358881034546442, 0.5532261070251974, -1.5744136598225333, 1.426930955211073, 0.6798043730217787, -0.9160625006402426, -1.032071873670647, -0.16932617762288818, -1.8629859480850752, -0.7176167617588177, -1.1642798789015683, -0.059885894398827216, 0.6242492276644211, 0.13943971879552275, -1.0917582640346943, 1.2454479934476843, -0.9313443143979103, 0.7306909003384003, 1.0775976473970825, -1.3171228686283447, 0.9308837784936753, 0.16790069092734883, 0.39023771995396866, -1.7127984009366335, -0.4959185062750779, 0.9426697666768178, 0.9640121729554312, 1.3675050740156776, -0.6243582176660069, -0.105685016760253, 0.06921731388890891, -0.9994001128726471, -0.16181921175049505, -1.1190026364806576, -0.8477201696417082, 1.4874815839507454, 1.0284057113622087, -0.4640318039069314, -0.10749989355395759, 0.7697046059129748, -1.0158229695521284, -0.4163946741757112, -1.070480661558205, -0.3229686699162554, -1.6492929812138015, 0.08543857762430547, -0.034751743869310424, 1.4158954255936758, -0.03652253446823537, 0.8367134058100361, 1.0711489335208217, 0.9895363649227079, -2.047414734568283, -0.19083294704200793, -0.38027944263450175, -0.7342768940328229, -1.4305665974365096, 2.1275466735535624, -1.4045247656173208, -0.37816621778742326, 0.5016845111373116, 1.3080308562604426, 0.09978118155517453, -0.7266434241839196, -0.3793724044571526, 0.1674729114282793, -0.7967869942878729, 1.6426527830130604, 0.47546955155749715, 0.7939767890300558, 0.24659542512216345, -2.701302367636305, -0.6137358895332142, -0.2566583648373671, 0.12933164941888436, 0.45365308999813764, 0.5485780672948903, -1.3704874518501422, 0.33844212720458716, -0.5474695980051565], \"xaxis\": \"x14\", \"y\": [-0.5184772891148443, -0.45195871605680127, 0.9805014564267058, 0.3257691280908592, -0.7826627675841871, 0.6770781792121421, -1.1052651148200576, 0.21717951761384113, 0.36681676202669283, -0.4732525545369161, 1.4035729057512265, -2.402811267417673, 0.15494173626051394, 0.474044086898922, -0.612226809529411, -0.210886109402751, 0.8358311863444511, -1.174522794025081, -0.7293489670376238, -0.324180559531859, -0.11451713610976523, -0.14756715292827366, 0.044054079614501016, 2.362105278524613, -0.32427069909587436, -1.11182186381714, 0.35028652338641336, 0.5429196668579732, -0.2030410443499303, 0.7702705537198106, 0.17048833246444065, -0.4161581927877217, -0.24818510750683487, -1.6239191333393042, -0.06650680894358926, -0.6629018444870151, -0.1604716942138816, 1.6418254508132357, 0.6613234659900061, 0.36555267581830403, 0.8041475124638096, 0.7885434236162336, 1.7182604333671245, 0.48329937602980266, -0.11348695973840284, 0.5470469549347585, 0.021812290172518806, 0.4190406878572417, -0.6466730258023208, 1.902185007811656, -0.6946122310414046, 0.43184430242982025, -0.14769244356710606, -0.26218478202372275, 0.24150424033867932, 1.600858750259185, 1.236902244890655, 1.571790161093822, 0.9963374055009198, 0.5863242318888595, -0.8834692933076573, -0.012570112051435057, 2.0702543415045698, -1.3251325105404554, 0.7985942131433866, 0.5535777147696139, 0.41779318155548606, -0.18958036005379458, 0.8020599242343023, -1.5551301472784032, 0.35823842936158595, 1.0594507659436405, 0.44032733100620586, 0.9181795120620478, 1.6517031975303245, 1.3566155447945645, -0.10161074284651812, 0.037371410372500476, 0.40518465030519873, -0.5590304204155774, 0.885802599695302, 1.4424180239720863, 0.6894927478334444, 0.5039884662226771, 0.8165293917873581, -0.21237114103132876, -0.102952045294696, -0.7105656679105171, 0.132375960885404, -1.4794112218880235, 1.5251025468544546, -0.568948858223419, -2.318186077001681, -1.392794799423355, -1.274059313850665, -1.740159635138325, -1.0349779850946192, 1.1512063979261347, 1.2308723115207083, -1.1909266284416384], \"yaxis\": \"y14\"}, {\"line\": {\"color\": \"rgba(128, 128, 128, 1.0)\", \"dash\": \"solid\", \"shape\": \"linear\", \"width\": 1.3}, \"marker\": {\"size\": 2, \"symbol\": \"circle\"}, \"mode\": \"markers\", \"name\": \"D\", \"text\": \"\", \"type\": \"scatter\", \"x\": [-0.88779839208149, 0.44269727406680953, 0.8032921394151222, -0.06550560818461346, 1.9770648053689104, 1.9771419986445877, 0.8184485222101127, -0.33490656181945094, -1.4634989412653792, 2.4201422517817415, -0.38002372968692, 1.7559259767496518, 0.1150118306218919, -0.8381302615965344, -0.5453002844924816, -0.2790830822025973, -0.37603002708343664, -0.3837741053912723, 0.4298795727025505, -0.17041498157261456, -0.1847827028861891, 0.756793613167367, -0.036126278819638674, 0.307044858885912, 0.3569493475414374, -1.1686378538454998, -0.41615568526570645, 0.3658397568198887, -0.09792825142901164, 1.47853611726422, 0.5397946383405509, 0.7737316722718195, 1.1864388304641107, -0.311097543323669, 0.11291741482160102, 0.9273084322175332, 0.018691606522851702, -0.8213125096348348, -1.0718378920453435, -0.9479733788052108, -0.20755503298956074, 1.4448364656198451, 0.5315779775644139, 0.30372081653078203, 0.5371827894205107, -0.1955712931854566, 0.0056277898485943695, 0.4607086600853507, 0.6490799347113932, -2.049748929608746, -1.2572140402419405, 0.006094559928603997, 2.064088313673123, 1.8733608387849092, -0.6475668356011, 1.0107721991639098, -1.9151055406678532, 0.07581887532325861, -0.6147849525562099, 0.500206960406309, 0.833767752607716, 1.8637848857178432, 0.35464432993557077, 1.3178422949322368, 0.38121309654929314, -1.6153070092602555, 0.5540038242074874, 1.7841794989652877, 0.0899140017465534, 0.46966765187525045, -0.4482526127826353, -0.32391520382466554, 1.9670623067755566, -0.3221095148492655, -0.8770636218208196, -0.2629046239565219, 0.8382824150937563, -1.3379691465399735, 0.5032689901193407, -0.2403433632423958, 1.8473629736154062, 0.525943443045498, 1.4649076665660863, -0.18170178702912745, 0.8521374610273675, -0.9667686007509567, 0.2805411071524622, 0.9441476402891524, -1.1246799847241986, 0.6592849998382959, 0.6866353543911546, -0.9929750772906635, -0.9038407848948752, -0.5585853704373671, 0.2879624242189056, -1.895429765313769, 0.8438594162338735, -0.37676054226759575, -2.2672827651409757, -1.444893239611375], \"xaxis\": \"x15\", \"y\": [-0.5184772891148443, -0.45195871605680127, 0.9805014564267058, 0.3257691280908592, -0.7826627675841871, 0.6770781792121421, -1.1052651148200576, 0.21717951761384113, 0.36681676202669283, -0.4732525545369161, 1.4035729057512265, -2.402811267417673, 0.15494173626051394, 0.474044086898922, -0.612226809529411, -0.210886109402751, 0.8358311863444511, -1.174522794025081, -0.7293489670376238, -0.324180559531859, -0.11451713610976523, -0.14756715292827366, 0.044054079614501016, 2.362105278524613, -0.32427069909587436, -1.11182186381714, 0.35028652338641336, 0.5429196668579732, -0.2030410443499303, 0.7702705537198106, 0.17048833246444065, -0.4161581927877217, -0.24818510750683487, -1.6239191333393042, -0.06650680894358926, -0.6629018444870151, -0.1604716942138816, 1.6418254508132357, 0.6613234659900061, 0.36555267581830403, 0.8041475124638096, 0.7885434236162336, 1.7182604333671245, 0.48329937602980266, -0.11348695973840284, 0.5470469549347585, 0.021812290172518806, 0.4190406878572417, -0.6466730258023208, 1.902185007811656, -0.6946122310414046, 0.43184430242982025, -0.14769244356710606, -0.26218478202372275, 0.24150424033867932, 1.600858750259185, 1.236902244890655, 1.571790161093822, 0.9963374055009198, 0.5863242318888595, -0.8834692933076573, -0.012570112051435057, 2.0702543415045698, -1.3251325105404554, 0.7985942131433866, 0.5535777147696139, 0.41779318155548606, -0.18958036005379458, 0.8020599242343023, -1.5551301472784032, 0.35823842936158595, 1.0594507659436405, 0.44032733100620586, 0.9181795120620478, 1.6517031975303245, 1.3566155447945645, -0.10161074284651812, 0.037371410372500476, 0.40518465030519873, -0.5590304204155774, 0.885802599695302, 1.4424180239720863, 0.6894927478334444, 0.5039884662226771, 0.8165293917873581, -0.21237114103132876, -0.102952045294696, -0.7105656679105171, 0.132375960885404, -1.4794112218880235, 1.5251025468544546, -0.568948858223419, -2.318186077001681, -1.392794799423355, -1.274059313850665, -1.740159635138325, -1.0349779850946192, 1.1512063979261347, 1.2308723115207083, -1.1909266284416384], \"yaxis\": \"y15\"}, {\"histfunc\": \"count\", \"histnorm\": \"\", \"marker\": {\"color\": \"rgba(128, 0, 128, 1.0)\", \"line\": {\"color\": \"#4D5663\", \"width\": 1.3}}, \"name\": \"D\", \"nbinsx\": 10, \"opacity\": 0.8, \"orientation\": \"v\", \"type\": \"histogram\", \"x\": [-0.5184772891148443, -0.45195871605680127, 0.9805014564267058, 0.3257691280908592, -0.7826627675841871, 0.6770781792121421, -1.1052651148200576, 0.21717951761384113, 0.36681676202669283, -0.4732525545369161, 1.4035729057512265, -2.402811267417673, 0.15494173626051394, 0.474044086898922, -0.612226809529411, -0.210886109402751, 0.8358311863444511, -1.174522794025081, -0.7293489670376238, -0.324180559531859, -0.11451713610976523, -0.14756715292827366, 0.044054079614501016, 2.362105278524613, -0.32427069909587436, -1.11182186381714, 0.35028652338641336, 0.5429196668579732, -0.2030410443499303, 0.7702705537198106, 0.17048833246444065, -0.4161581927877217, -0.24818510750683487, -1.6239191333393042, -0.06650680894358926, -0.6629018444870151, -0.1604716942138816, 1.6418254508132357, 0.6613234659900061, 0.36555267581830403, 0.8041475124638096, 0.7885434236162336, 1.7182604333671245, 0.48329937602980266, -0.11348695973840284, 0.5470469549347585, 0.021812290172518806, 0.4190406878572417, -0.6466730258023208, 1.902185007811656, -0.6946122310414046, 0.43184430242982025, -0.14769244356710606, -0.26218478202372275, 0.24150424033867932, 1.600858750259185, 1.236902244890655, 1.571790161093822, 0.9963374055009198, 0.5863242318888595, -0.8834692933076573, -0.012570112051435057, 2.0702543415045698, -1.3251325105404554, 0.7985942131433866, 0.5535777147696139, 0.41779318155548606, -0.18958036005379458, 0.8020599242343023, -1.5551301472784032, 0.35823842936158595, 1.0594507659436405, 0.44032733100620586, 0.9181795120620478, 1.6517031975303245, 1.3566155447945645, -0.10161074284651812, 0.037371410372500476, 0.40518465030519873, -0.5590304204155774, 0.885802599695302, 1.4424180239720863, 0.6894927478334444, 0.5039884662226771, 0.8165293917873581, -0.21237114103132876, -0.102952045294696, -0.7105656679105171, 0.132375960885404, -1.4794112218880235, 1.5251025468544546, -0.568948858223419, -2.318186077001681, -1.392794799423355, -1.274059313850665, -1.740159635138325, -1.0349779850946192, 1.1512063979261347, 1.2308723115207083, -1.1909266284416384], \"xaxis\": \"x16\", \"yaxis\": \"y16\"}],\n",
       "                        {\"bargap\": 0.02, \"legend\": {\"bgcolor\": \"#F5F6F9\", \"font\": {\"color\": \"#4D5663\"}}, \"paper_bgcolor\": \"#F5F6F9\", \"plot_bgcolor\": \"#F5F6F9\", \"showlegend\": false, \"template\": {\"data\": {\"bar\": [{\"error_x\": {\"color\": \"#2a3f5f\"}, \"error_y\": {\"color\": \"#2a3f5f\"}, \"marker\": {\"line\": {\"color\": \"#E5ECF6\", \"width\": 0.5}}, \"type\": \"bar\"}], \"barpolar\": [{\"marker\": {\"line\": {\"color\": \"#E5ECF6\", \"width\": 0.5}}, \"type\": \"barpolar\"}], \"carpet\": [{\"aaxis\": {\"endlinecolor\": \"#2a3f5f\", \"gridcolor\": \"white\", \"linecolor\": \"white\", \"minorgridcolor\": \"white\", \"startlinecolor\": \"#2a3f5f\"}, \"baxis\": {\"endlinecolor\": \"#2a3f5f\", \"gridcolor\": \"white\", \"linecolor\": \"white\", \"minorgridcolor\": \"white\", \"startlinecolor\": \"#2a3f5f\"}, \"type\": \"carpet\"}], \"choropleth\": [{\"colorbar\": {\"outlinewidth\": 0, \"ticks\": \"\"}, \"type\": \"choropleth\"}], \"contour\": [{\"colorbar\": {\"outlinewidth\": 0, \"ticks\": \"\"}, \"colorscale\": [[0.0, \"#0d0887\"], [0.1111111111111111, \"#46039f\"], [0.2222222222222222, \"#7201a8\"], [0.3333333333333333, \"#9c179e\"], [0.4444444444444444, \"#bd3786\"], [0.5555555555555556, \"#d8576b\"], [0.6666666666666666, \"#ed7953\"], [0.7777777777777778, \"#fb9f3a\"], [0.8888888888888888, \"#fdca26\"], [1.0, \"#f0f921\"]], \"type\": \"contour\"}], \"contourcarpet\": [{\"colorbar\": {\"outlinewidth\": 0, \"ticks\": \"\"}, \"type\": \"contourcarpet\"}], \"heatmap\": [{\"colorbar\": {\"outlinewidth\": 0, \"ticks\": \"\"}, \"colorscale\": [[0.0, \"#0d0887\"], [0.1111111111111111, \"#46039f\"], [0.2222222222222222, \"#7201a8\"], [0.3333333333333333, \"#9c179e\"], [0.4444444444444444, \"#bd3786\"], [0.5555555555555556, \"#d8576b\"], [0.6666666666666666, \"#ed7953\"], [0.7777777777777778, \"#fb9f3a\"], [0.8888888888888888, \"#fdca26\"], [1.0, \"#f0f921\"]], \"type\": \"heatmap\"}], \"heatmapgl\": [{\"colorbar\": {\"outlinewidth\": 0, \"ticks\": \"\"}, \"colorscale\": [[0.0, \"#0d0887\"], [0.1111111111111111, \"#46039f\"], [0.2222222222222222, \"#7201a8\"], [0.3333333333333333, \"#9c179e\"], [0.4444444444444444, \"#bd3786\"], [0.5555555555555556, \"#d8576b\"], [0.6666666666666666, \"#ed7953\"], [0.7777777777777778, \"#fb9f3a\"], [0.8888888888888888, \"#fdca26\"], [1.0, \"#f0f921\"]], \"type\": \"heatmapgl\"}], \"histogram\": [{\"marker\": {\"colorbar\": {\"outlinewidth\": 0, \"ticks\": \"\"}}, \"type\": \"histogram\"}], \"histogram2d\": [{\"colorbar\": {\"outlinewidth\": 0, \"ticks\": \"\"}, \"colorscale\": [[0.0, \"#0d0887\"], [0.1111111111111111, \"#46039f\"], [0.2222222222222222, \"#7201a8\"], [0.3333333333333333, \"#9c179e\"], [0.4444444444444444, \"#bd3786\"], [0.5555555555555556, \"#d8576b\"], [0.6666666666666666, \"#ed7953\"], [0.7777777777777778, \"#fb9f3a\"], [0.8888888888888888, \"#fdca26\"], [1.0, \"#f0f921\"]], \"type\": \"histogram2d\"}], \"histogram2dcontour\": [{\"colorbar\": {\"outlinewidth\": 0, \"ticks\": \"\"}, \"colorscale\": [[0.0, \"#0d0887\"], [0.1111111111111111, \"#46039f\"], [0.2222222222222222, \"#7201a8\"], [0.3333333333333333, \"#9c179e\"], [0.4444444444444444, \"#bd3786\"], [0.5555555555555556, \"#d8576b\"], [0.6666666666666666, \"#ed7953\"], [0.7777777777777778, \"#fb9f3a\"], [0.8888888888888888, \"#fdca26\"], [1.0, \"#f0f921\"]], \"type\": \"histogram2dcontour\"}], \"mesh3d\": [{\"colorbar\": {\"outlinewidth\": 0, \"ticks\": \"\"}, \"type\": \"mesh3d\"}], \"parcoords\": [{\"line\": {\"colorbar\": {\"outlinewidth\": 0, \"ticks\": \"\"}}, \"type\": \"parcoords\"}], \"pie\": [{\"automargin\": true, \"type\": \"pie\"}], \"scatter\": [{\"marker\": {\"colorbar\": {\"outlinewidth\": 0, \"ticks\": \"\"}}, \"type\": \"scatter\"}], \"scatter3d\": [{\"line\": {\"colorbar\": {\"outlinewidth\": 0, \"ticks\": \"\"}}, \"marker\": {\"colorbar\": {\"outlinewidth\": 0, \"ticks\": \"\"}}, \"type\": \"scatter3d\"}], \"scattercarpet\": [{\"marker\": {\"colorbar\": {\"outlinewidth\": 0, \"ticks\": \"\"}}, \"type\": \"scattercarpet\"}], \"scattergeo\": [{\"marker\": {\"colorbar\": {\"outlinewidth\": 0, \"ticks\": \"\"}}, \"type\": \"scattergeo\"}], \"scattergl\": [{\"marker\": {\"colorbar\": {\"outlinewidth\": 0, \"ticks\": \"\"}}, \"type\": \"scattergl\"}], \"scattermapbox\": [{\"marker\": {\"colorbar\": {\"outlinewidth\": 0, \"ticks\": \"\"}}, \"type\": \"scattermapbox\"}], \"scatterpolar\": [{\"marker\": {\"colorbar\": {\"outlinewidth\": 0, \"ticks\": \"\"}}, \"type\": \"scatterpolar\"}], \"scatterpolargl\": [{\"marker\": {\"colorbar\": {\"outlinewidth\": 0, \"ticks\": \"\"}}, \"type\": \"scatterpolargl\"}], \"scatterternary\": [{\"marker\": {\"colorbar\": {\"outlinewidth\": 0, \"ticks\": \"\"}}, \"type\": \"scatterternary\"}], \"surface\": [{\"colorbar\": {\"outlinewidth\": 0, \"ticks\": \"\"}, \"colorscale\": [[0.0, \"#0d0887\"], [0.1111111111111111, \"#46039f\"], [0.2222222222222222, \"#7201a8\"], [0.3333333333333333, \"#9c179e\"], [0.4444444444444444, \"#bd3786\"], [0.5555555555555556, \"#d8576b\"], [0.6666666666666666, \"#ed7953\"], [0.7777777777777778, \"#fb9f3a\"], [0.8888888888888888, \"#fdca26\"], [1.0, \"#f0f921\"]], \"type\": \"surface\"}], \"table\": [{\"cells\": {\"fill\": {\"color\": \"#EBF0F8\"}, \"line\": {\"color\": \"white\"}}, \"header\": {\"fill\": {\"color\": \"#C8D4E3\"}, \"line\": {\"color\": \"white\"}}, \"type\": \"table\"}]}, \"layout\": {\"annotationdefaults\": {\"arrowcolor\": \"#2a3f5f\", \"arrowhead\": 0, \"arrowwidth\": 1}, \"coloraxis\": {\"colorbar\": {\"outlinewidth\": 0, \"ticks\": \"\"}}, \"colorscale\": {\"diverging\": [[0, \"#8e0152\"], [0.1, \"#c51b7d\"], [0.2, \"#de77ae\"], [0.3, \"#f1b6da\"], [0.4, \"#fde0ef\"], [0.5, \"#f7f7f7\"], [0.6, \"#e6f5d0\"], [0.7, \"#b8e186\"], [0.8, \"#7fbc41\"], [0.9, \"#4d9221\"], [1, \"#276419\"]], \"sequential\": [[0.0, \"#0d0887\"], [0.1111111111111111, \"#46039f\"], [0.2222222222222222, \"#7201a8\"], [0.3333333333333333, \"#9c179e\"], [0.4444444444444444, \"#bd3786\"], [0.5555555555555556, \"#d8576b\"], [0.6666666666666666, \"#ed7953\"], [0.7777777777777778, \"#fb9f3a\"], [0.8888888888888888, \"#fdca26\"], [1.0, \"#f0f921\"]], \"sequentialminus\": [[0.0, \"#0d0887\"], [0.1111111111111111, \"#46039f\"], [0.2222222222222222, \"#7201a8\"], [0.3333333333333333, \"#9c179e\"], [0.4444444444444444, \"#bd3786\"], [0.5555555555555556, \"#d8576b\"], [0.6666666666666666, \"#ed7953\"], [0.7777777777777778, \"#fb9f3a\"], [0.8888888888888888, \"#fdca26\"], [1.0, \"#f0f921\"]]}, \"colorway\": [\"#636efa\", \"#EF553B\", \"#00cc96\", \"#ab63fa\", \"#FFA15A\", \"#19d3f3\", \"#FF6692\", \"#B6E880\", \"#FF97FF\", \"#FECB52\"], \"font\": {\"color\": \"#2a3f5f\"}, \"geo\": {\"bgcolor\": \"white\", \"lakecolor\": \"white\", \"landcolor\": \"#E5ECF6\", \"showlakes\": true, \"showland\": true, \"subunitcolor\": \"white\"}, \"hoverlabel\": {\"align\": \"left\"}, \"hovermode\": \"closest\", \"mapbox\": {\"style\": \"light\"}, \"paper_bgcolor\": \"white\", \"plot_bgcolor\": \"#E5ECF6\", \"polar\": {\"angularaxis\": {\"gridcolor\": \"white\", \"linecolor\": \"white\", \"ticks\": \"\"}, \"bgcolor\": \"#E5ECF6\", \"radialaxis\": {\"gridcolor\": \"white\", \"linecolor\": \"white\", \"ticks\": \"\"}}, \"scene\": {\"xaxis\": {\"backgroundcolor\": \"#E5ECF6\", \"gridcolor\": \"white\", \"gridwidth\": 2, \"linecolor\": \"white\", \"showbackground\": true, \"ticks\": \"\", \"zerolinecolor\": \"white\"}, \"yaxis\": {\"backgroundcolor\": \"#E5ECF6\", \"gridcolor\": \"white\", \"gridwidth\": 2, \"linecolor\": \"white\", \"showbackground\": true, \"ticks\": \"\", \"zerolinecolor\": \"white\"}, \"zaxis\": {\"backgroundcolor\": \"#E5ECF6\", \"gridcolor\": \"white\", \"gridwidth\": 2, \"linecolor\": \"white\", \"showbackground\": true, \"ticks\": \"\", \"zerolinecolor\": \"white\"}}, \"shapedefaults\": {\"line\": {\"color\": \"#2a3f5f\"}}, \"ternary\": {\"aaxis\": {\"gridcolor\": \"white\", \"linecolor\": \"white\", \"ticks\": \"\"}, \"baxis\": {\"gridcolor\": \"white\", \"linecolor\": \"white\", \"ticks\": \"\"}, \"bgcolor\": \"#E5ECF6\", \"caxis\": {\"gridcolor\": \"white\", \"linecolor\": \"white\", \"ticks\": \"\"}}, \"title\": {\"x\": 0.05}, \"xaxis\": {\"automargin\": true, \"gridcolor\": \"white\", \"linecolor\": \"white\", \"ticks\": \"\", \"title\": {\"standoff\": 15}, \"zerolinecolor\": \"white\", \"zerolinewidth\": 2}, \"yaxis\": {\"automargin\": true, \"gridcolor\": \"white\", \"linecolor\": \"white\", \"ticks\": \"\", \"title\": {\"standoff\": 15}, \"zerolinecolor\": \"white\", \"zerolinewidth\": 2}}}, \"title\": {\"font\": {\"color\": \"#4D5663\"}}, \"xaxis\": {\"anchor\": \"y\", \"domain\": [0.0, 0.2125], \"gridcolor\": \"#E1E5ED\", \"showgrid\": false, \"tickfont\": {\"color\": \"#4D5663\"}, \"title\": {\"font\": {\"color\": \"#4D5663\"}, \"text\": \"\"}, \"zerolinecolor\": \"#E1E5ED\"}, \"xaxis10\": {\"anchor\": \"y10\", \"domain\": [0.2625, 0.475], \"gridcolor\": \"#E1E5ED\", \"showgrid\": false, \"tickfont\": {\"color\": \"#4D5663\"}, \"title\": {\"font\": {\"color\": \"#4D5663\"}, \"text\": \"\"}, \"zerolinecolor\": \"#E1E5ED\"}, \"xaxis11\": {\"anchor\": \"y11\", \"domain\": [0.525, 0.7375], \"gridcolor\": \"#E1E5ED\", \"showgrid\": false, \"tickfont\": {\"color\": \"#4D5663\"}, \"title\": {\"font\": {\"color\": \"#4D5663\"}, \"text\": \"\"}, \"zerolinecolor\": \"#E1E5ED\"}, \"xaxis12\": {\"anchor\": \"y12\", \"domain\": [0.7875, 1.0], \"gridcolor\": \"#E1E5ED\", \"showgrid\": false, \"tickfont\": {\"color\": \"#4D5663\"}, \"title\": {\"font\": {\"color\": \"#4D5663\"}, \"text\": \"\"}, \"zerolinecolor\": \"#E1E5ED\"}, \"xaxis13\": {\"anchor\": \"y13\", \"domain\": [0.0, 0.2125], \"gridcolor\": \"#E1E5ED\", \"showgrid\": false, \"tickfont\": {\"color\": \"#4D5663\"}, \"title\": {\"font\": {\"color\": \"#4D5663\"}, \"text\": \"\"}, \"zerolinecolor\": \"#E1E5ED\"}, \"xaxis14\": {\"anchor\": \"y14\", \"domain\": [0.2625, 0.475], \"gridcolor\": \"#E1E5ED\", \"showgrid\": false, \"tickfont\": {\"color\": \"#4D5663\"}, \"title\": {\"font\": {\"color\": \"#4D5663\"}, \"text\": \"\"}, \"zerolinecolor\": \"#E1E5ED\"}, \"xaxis15\": {\"anchor\": \"y15\", \"domain\": [0.525, 0.7375], \"gridcolor\": \"#E1E5ED\", \"showgrid\": false, \"tickfont\": {\"color\": \"#4D5663\"}, \"title\": {\"font\": {\"color\": \"#4D5663\"}, \"text\": \"\"}, \"zerolinecolor\": \"#E1E5ED\"}, \"xaxis16\": {\"anchor\": \"y16\", \"domain\": [0.7875, 1.0], \"gridcolor\": \"#E1E5ED\", \"showgrid\": false, \"tickfont\": {\"color\": \"#4D5663\"}, \"title\": {\"font\": {\"color\": \"#4D5663\"}, \"text\": \"\"}, \"zerolinecolor\": \"#E1E5ED\"}, \"xaxis2\": {\"anchor\": \"y2\", \"domain\": [0.2625, 0.475], \"gridcolor\": \"#E1E5ED\", \"showgrid\": false, \"tickfont\": {\"color\": \"#4D5663\"}, \"title\": {\"font\": {\"color\": \"#4D5663\"}, \"text\": \"\"}, \"zerolinecolor\": \"#E1E5ED\"}, \"xaxis3\": {\"anchor\": \"y3\", \"domain\": [0.525, 0.7375], \"gridcolor\": \"#E1E5ED\", \"showgrid\": false, \"tickfont\": {\"color\": \"#4D5663\"}, \"title\": {\"font\": {\"color\": \"#4D5663\"}, \"text\": \"\"}, \"zerolinecolor\": \"#E1E5ED\"}, \"xaxis4\": {\"anchor\": \"y4\", \"domain\": [0.7875, 1.0], \"gridcolor\": \"#E1E5ED\", \"showgrid\": false, \"tickfont\": {\"color\": \"#4D5663\"}, \"title\": {\"font\": {\"color\": \"#4D5663\"}, \"text\": \"\"}, \"zerolinecolor\": \"#E1E5ED\"}, \"xaxis5\": {\"anchor\": \"y5\", \"domain\": [0.0, 0.2125], \"gridcolor\": \"#E1E5ED\", \"showgrid\": false, \"tickfont\": {\"color\": \"#4D5663\"}, \"title\": {\"font\": {\"color\": \"#4D5663\"}, \"text\": \"\"}, \"zerolinecolor\": \"#E1E5ED\"}, \"xaxis6\": {\"anchor\": \"y6\", \"domain\": [0.2625, 0.475], \"gridcolor\": \"#E1E5ED\", \"showgrid\": false, \"tickfont\": {\"color\": \"#4D5663\"}, \"title\": {\"font\": {\"color\": \"#4D5663\"}, \"text\": \"\"}, \"zerolinecolor\": \"#E1E5ED\"}, \"xaxis7\": {\"anchor\": \"y7\", \"domain\": [0.525, 0.7375], \"gridcolor\": \"#E1E5ED\", \"showgrid\": false, \"tickfont\": {\"color\": \"#4D5663\"}, \"title\": {\"font\": {\"color\": \"#4D5663\"}, \"text\": \"\"}, \"zerolinecolor\": \"#E1E5ED\"}, \"xaxis8\": {\"anchor\": \"y8\", \"domain\": [0.7875, 1.0], \"gridcolor\": \"#E1E5ED\", \"showgrid\": false, \"tickfont\": {\"color\": \"#4D5663\"}, \"title\": {\"font\": {\"color\": \"#4D5663\"}, \"text\": \"\"}, \"zerolinecolor\": \"#E1E5ED\"}, \"xaxis9\": {\"anchor\": \"y9\", \"domain\": [0.0, 0.2125], \"gridcolor\": \"#E1E5ED\", \"showgrid\": false, \"tickfont\": {\"color\": \"#4D5663\"}, \"title\": {\"font\": {\"color\": \"#4D5663\"}, \"text\": \"\"}, \"zerolinecolor\": \"#E1E5ED\"}, \"yaxis\": {\"anchor\": \"x\", \"domain\": [0.8025, 1.0], \"gridcolor\": \"#E1E5ED\", \"showgrid\": false, \"tickfont\": {\"color\": \"#4D5663\"}, \"title\": {\"font\": {\"color\": \"#4D5663\"}, \"text\": \"\"}, \"zerolinecolor\": \"#E1E5ED\"}, \"yaxis10\": {\"anchor\": \"x10\", \"domain\": [0.2675, 0.465], \"gridcolor\": \"#E1E5ED\", \"showgrid\": false, \"tickfont\": {\"color\": \"#4D5663\"}, \"title\": {\"font\": {\"color\": \"#4D5663\"}, \"text\": \"\"}, \"zerolinecolor\": \"#E1E5ED\"}, \"yaxis11\": {\"anchor\": \"x11\", \"domain\": [0.2675, 0.465], \"gridcolor\": \"#E1E5ED\", \"showgrid\": false, \"tickfont\": {\"color\": \"#4D5663\"}, \"title\": {\"font\": {\"color\": \"#4D5663\"}, \"text\": \"\"}, \"zerolinecolor\": \"#E1E5ED\"}, \"yaxis12\": {\"anchor\": \"x12\", \"domain\": [0.2675, 0.465], \"gridcolor\": \"#E1E5ED\", \"showgrid\": false, \"tickfont\": {\"color\": \"#4D5663\"}, \"title\": {\"font\": {\"color\": \"#4D5663\"}, \"text\": \"\"}, \"zerolinecolor\": \"#E1E5ED\"}, \"yaxis13\": {\"anchor\": \"x13\", \"domain\": [0.0, 0.1975], \"gridcolor\": \"#E1E5ED\", \"showgrid\": false, \"tickfont\": {\"color\": \"#4D5663\"}, \"title\": {\"font\": {\"color\": \"#4D5663\"}, \"text\": \"\"}, \"zerolinecolor\": \"#E1E5ED\"}, \"yaxis14\": {\"anchor\": \"x14\", \"domain\": [0.0, 0.1975], \"gridcolor\": \"#E1E5ED\", \"showgrid\": false, \"tickfont\": {\"color\": \"#4D5663\"}, \"title\": {\"font\": {\"color\": \"#4D5663\"}, \"text\": \"\"}, \"zerolinecolor\": \"#E1E5ED\"}, \"yaxis15\": {\"anchor\": \"x15\", \"domain\": [0.0, 0.1975], \"gridcolor\": \"#E1E5ED\", \"showgrid\": false, \"tickfont\": {\"color\": \"#4D5663\"}, \"title\": {\"font\": {\"color\": \"#4D5663\"}, \"text\": \"\"}, \"zerolinecolor\": \"#E1E5ED\"}, \"yaxis16\": {\"anchor\": \"x16\", \"domain\": [0.0, 0.1975], \"gridcolor\": \"#E1E5ED\", \"showgrid\": false, \"tickfont\": {\"color\": \"#4D5663\"}, \"title\": {\"font\": {\"color\": \"#4D5663\"}, \"text\": \"\"}, \"zerolinecolor\": \"#E1E5ED\"}, \"yaxis2\": {\"anchor\": \"x2\", \"domain\": [0.8025, 1.0], \"gridcolor\": \"#E1E5ED\", \"showgrid\": false, \"tickfont\": {\"color\": \"#4D5663\"}, \"title\": {\"font\": {\"color\": \"#4D5663\"}, \"text\": \"\"}, \"zerolinecolor\": \"#E1E5ED\"}, \"yaxis3\": {\"anchor\": \"x3\", \"domain\": [0.8025, 1.0], \"gridcolor\": \"#E1E5ED\", \"showgrid\": false, \"tickfont\": {\"color\": \"#4D5663\"}, \"title\": {\"font\": {\"color\": \"#4D5663\"}, \"text\": \"\"}, \"zerolinecolor\": \"#E1E5ED\"}, \"yaxis4\": {\"anchor\": \"x4\", \"domain\": [0.8025, 1.0], \"gridcolor\": \"#E1E5ED\", \"showgrid\": false, \"tickfont\": {\"color\": \"#4D5663\"}, \"title\": {\"font\": {\"color\": \"#4D5663\"}, \"text\": \"\"}, \"zerolinecolor\": \"#E1E5ED\"}, \"yaxis5\": {\"anchor\": \"x5\", \"domain\": [0.535, 0.7325], \"gridcolor\": \"#E1E5ED\", \"showgrid\": false, \"tickfont\": {\"color\": \"#4D5663\"}, \"title\": {\"font\": {\"color\": \"#4D5663\"}, \"text\": \"\"}, \"zerolinecolor\": \"#E1E5ED\"}, \"yaxis6\": {\"anchor\": \"x6\", \"domain\": [0.535, 0.7325], \"gridcolor\": \"#E1E5ED\", \"showgrid\": false, \"tickfont\": {\"color\": \"#4D5663\"}, \"title\": {\"font\": {\"color\": \"#4D5663\"}, \"text\": \"\"}, \"zerolinecolor\": \"#E1E5ED\"}, \"yaxis7\": {\"anchor\": \"x7\", \"domain\": [0.535, 0.7325], \"gridcolor\": \"#E1E5ED\", \"showgrid\": false, \"tickfont\": {\"color\": \"#4D5663\"}, \"title\": {\"font\": {\"color\": \"#4D5663\"}, \"text\": \"\"}, \"zerolinecolor\": \"#E1E5ED\"}, \"yaxis8\": {\"anchor\": \"x8\", \"domain\": [0.535, 0.7325], \"gridcolor\": \"#E1E5ED\", \"showgrid\": false, \"tickfont\": {\"color\": \"#4D5663\"}, \"title\": {\"font\": {\"color\": \"#4D5663\"}, \"text\": \"\"}, \"zerolinecolor\": \"#E1E5ED\"}, \"yaxis9\": {\"anchor\": \"x9\", \"domain\": [0.2675, 0.465], \"gridcolor\": \"#E1E5ED\", \"showgrid\": false, \"tickfont\": {\"color\": \"#4D5663\"}, \"title\": {\"font\": {\"color\": \"#4D5663\"}, \"text\": \"\"}, \"zerolinecolor\": \"#E1E5ED\"}},\n",
       "                        {\"showLink\": true, \"linkText\": \"Export to plot.ly\", \"plotlyServerURL\": \"https://plot.ly\", \"responsive\": true}\n",
       "                    ).then(function(){\n",
       "                            \n",
       "var gd = document.getElementById('c12fcfdb-adce-47d5-9c36-0e271c59d103');\n",
       "var x = new MutationObserver(function (mutations, observer) {{\n",
       "        var display = window.getComputedStyle(gd).display;\n",
       "        if (!display || display === 'none') {{\n",
       "            console.log([gd, 'removed!']);\n",
       "            Plotly.purge(gd);\n",
       "            observer.disconnect();\n",
       "        }}\n",
       "}});\n",
       "\n",
       "// Listen for the removal of the full notebook cells\n",
       "var notebookContainer = gd.closest('#notebook-container');\n",
       "if (notebookContainer) {{\n",
       "    x.observe(notebookContainer, {childList: true});\n",
       "}}\n",
       "\n",
       "// Listen for the clearing of the current output cell\n",
       "var outputEl = gd.closest('.output');\n",
       "if (outputEl) {{\n",
       "    x.observe(outputEl, {childList: true});\n",
       "}}\n",
       "\n",
       "                        })\n",
       "                };\n",
       "                });\n",
       "            </script>\n",
       "        </div>"
      ]
     },
     "metadata": {},
     "output_type": "display_data"
    }
   ],
   "source": [
    "df.scatter_matrix()"
   ]
  },
  {
   "cell_type": "markdown",
   "metadata": {
    "collapsed": true
   },
   "source": [
    "# Great Job!"
   ]
  }
 ],
 "metadata": {
  "kernelspec": {
   "display_name": "Python 3",
   "language": "python",
   "name": "python3"
  },
  "language_info": {
   "codemirror_mode": {
    "name": "ipython",
    "version": 3
   },
   "file_extension": ".py",
   "mimetype": "text/x-python",
   "name": "python",
   "nbconvert_exporter": "python",
   "pygments_lexer": "ipython3",
   "version": "3.8.3"
  }
 },
 "nbformat": 4,
 "nbformat_minor": 1
}
